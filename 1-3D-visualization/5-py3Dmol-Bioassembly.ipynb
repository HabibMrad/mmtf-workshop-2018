{
 "cells": [
  {
   "cell_type": "markdown",
   "metadata": {},
   "source": [
    "# Displaying Biological Assemblies\n",
    "By default, py3Dmol loads the content of a PDB entry, which represents the asymmetric unit for structures determined by crystographic methods or 3D electron microscopy. The asymmetric unit contains the unique part of a structure, but may not represent the biologically active form of a structures. For details see:\n",
    "https://pdb101.rcsb.org/learn/guide-to-understanding-pdb-data/biological-assemblies\n",
    "\n",
    "An asymmetric unit may contain:\n",
    "* one biological assembly\n",
    "* a portion of a biological assembly\n",
    "* multiple biological assemblies"
   ]
  },
  {
   "cell_type": "code",
   "execution_count": 16,
   "metadata": {
    "collapsed": true
   },
   "outputs": [],
   "source": [
    "import py3Dmol"
   ]
  },
  {
   "cell_type": "markdown",
   "metadata": {},
   "source": [
    "## Display the asymmetric unit \n",
    "In this example below (3DEM structure of Zika virus) we load the content of the asymmetric unit. In this case, the asymmetric unit represents a portion of the biological assembly."
   ]
  },
  {
   "cell_type": "code",
   "execution_count": 17,
   "metadata": {},
   "outputs": [
    {
     "data": {
      "text/html": [
       "<div id=\"3dmolviewer_1524604424019825\"  style=\"position: relative; width: 640px; height: 480px\">\n",
       "<script>\n",
       "if(typeof $3Dmolpromise === 'undefined') $3Dmolpromise = $.when($.getScript('https://3dmol.csb.pitt.edu/build/3Dmol.js'))\n",
       "var viewer_1524604424019825 = null;\n",
       "$3Dmolpromise.done(function() {\n",
       "viewer_1524604424019825 = $3Dmol.createViewer($(\"#3dmolviewer_1524604424019825\"),{backgroundColor:\"white\"});\n",
       "$3Dmol.download(\"pdb:5ire\", viewer_1524604424019825, {}, function() {\n",
       "\tviewer_1524604424019825.setStyle({\"cartoon\": {\"color\": \"spectrum\"}});\n",
       "viewer_1524604424019825.render();\n",
       "})\n",
       "});\n",
       "</script>"
      ],
      "text/plain": [
       "<IPython.core.display.HTML object>"
      ]
     },
     "execution_count": 17,
     "metadata": {},
     "output_type": "execute_result"
    }
   ],
   "source": [
    "view = py3Dmol.view(query='pdb:5ire')\n",
    "view.setStyle({'cartoon':{'color':'spectrum'}})\n",
    "view.show()"
   ]
  },
  {
   "cell_type": "markdown",
   "metadata": {},
   "source": [
    "## Display the biological assembly\n",
    "Using the 'doAssembly' option, the biological assembly will be created using symmetry operations in the PDB entry."
   ]
  },
  {
   "cell_type": "code",
   "execution_count": 11,
   "metadata": {},
   "outputs": [
    {
     "data": {
      "text/html": [
       "<div id=\"3dmolviewer_1524603496063827\"  style=\"position: relative; width: 640px; height: 480px\">\n",
       "<script>\n",
       "if(typeof $3Dmolpromise === 'undefined') $3Dmolpromise = $.when($.getScript('https://3dmol.csb.pitt.edu/build/3Dmol.js'))\n",
       "var viewer_1524603496063827 = null;\n",
       "$3Dmolpromise.done(function() {\n",
       "viewer_1524603496063827 = $3Dmol.createViewer($(\"#3dmolviewer_1524603496063827\"),{backgroundColor:\"white\"});\n",
       "$3Dmol.download(\"pdb:5ire\", viewer_1524603496063827, {\"doAssembly\": true}, function() {\n",
       "\tviewer_1524603496063827.setStyle({\"cartoon\": {\"color\": \"spectrum\"}});\n",
       "viewer_1524603496063827.render();\n",
       "})\n",
       "});\n",
       "</script>"
      ],
      "text/plain": [
       "<IPython.core.display.HTML object>"
      ]
     },
     "execution_count": 11,
     "metadata": {},
     "output_type": "execute_result"
    }
   ],
   "source": [
    "view = py3Dmol.view(query='pdb:5ire',options={'doAssembly':True})\n",
    "view.setStyle({'cartoon':{'color':'spectrum'}})\n",
    "view.show()"
   ]
  }
 ],
 "metadata": {
  "kernelspec": {
   "display_name": "Python 3",
   "language": "python",
   "name": "python3"
  },
  "language_info": {
   "codemirror_mode": {
    "name": "ipython",
    "version": 3
   },
   "file_extension": ".py",
   "mimetype": "text/x-python",
   "name": "python",
   "nbconvert_exporter": "python",
   "pygments_lexer": "ipython3",
   "version": "3.6.3"
  }
 },
 "nbformat": 4,
 "nbformat_minor": 2
}
