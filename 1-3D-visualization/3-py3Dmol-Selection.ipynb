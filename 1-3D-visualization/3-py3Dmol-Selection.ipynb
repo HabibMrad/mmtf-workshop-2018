{
 "cells": [
  {
   "cell_type": "markdown",
   "metadata": {},
   "source": [
    "# Selecting chains, residues, and atoms\n",
    "This tutorial shows how to select parts of a structure and apply different styles. It also shows how to add labels and howt to zoom in on a selection."
   ]
  },
  {
   "cell_type": "code",
   "execution_count": 1,
   "metadata": {
    "collapsed": true
   },
   "outputs": [],
   "source": [
    "import py3Dmol"
   ]
  },
  {
   "cell_type": "markdown",
   "metadata": {},
   "source": [
    "## Instantiate viewer with a Hemoglobin structure\n",
    "This example also shows how to set the size of the viewer."
   ]
  },
  {
   "cell_type": "code",
   "execution_count": 2,
   "metadata": {
    "collapsed": true
   },
   "outputs": [],
   "source": [
    "viewer = py3Dmol.view(query='pdb:5WOG', width=400, height=400)"
   ]
  },
  {
   "cell_type": "markdown",
   "metadata": {
    "collapsed": true
   },
   "source": [
    "## Apply a style to a chain"
   ]
  },
  {
   "cell_type": "code",
   "execution_count": 3,
   "metadata": {},
   "outputs": [
    {
     "data": {
      "text/html": [
       "<div id=\"3dmolviewer_1524536444110093\"  style=\"position: relative; width: 400px; height: 400px\">\n",
       "<script>\n",
       "if(typeof $3Dmolpromise === 'undefined') $3Dmolpromise = $.when($.getScript('https://3dmol.csb.pitt.edu/build/3Dmol.js'))\n",
       "var viewer_1524536444110093 = null;\n",
       "$3Dmolpromise.done(function() {\n",
       "viewer_1524536444110093 = $3Dmol.createViewer($(\"#3dmolviewer_1524536444110093\"),{backgroundColor:\"white\"});\n",
       "$3Dmol.download(\"pdb:5WOG\", viewer_1524536444110093, {}, function() {\n",
       "\tviewer_1524536444110093.setStyle({\"chain\": \"A\"},{\"cartoon\": {\"color\": \"orange\"}});\n",
       "viewer_1524536444110093.render();\n",
       "})\n",
       "});\n",
       "</script>"
      ],
      "text/plain": [
       "<IPython.core.display.HTML object>"
      ]
     },
     "execution_count": 3,
     "metadata": {},
     "output_type": "execute_result"
    }
   ],
   "source": [
    "viewer.setStyle({'chain':'A'},{'cartoon': {'color': 'orange'}})\n",
    "viewer.show()"
   ]
  },
  {
   "cell_type": "markdown",
   "metadata": {},
   "source": [
    "## Apply a style to a list of  chains and add labels\n",
    "Use a list to select to multiple chains."
   ]
  },
  {
   "cell_type": "code",
   "execution_count": 4,
   "metadata": {},
   "outputs": [
    {
     "data": {
      "text/html": [
       "<div id=\"3dmolviewer_15245364768568692\"  style=\"position: relative; width: 400px; height: 400px\">\n",
       "<script>\n",
       "if(typeof $3Dmolpromise === 'undefined') $3Dmolpromise = $.when($.getScript('https://3dmol.csb.pitt.edu/build/3Dmol.js'))\n",
       "var viewer_15245364768568692 = null;\n",
       "$3Dmolpromise.done(function() {\n",
       "viewer_15245364768568692 = $3Dmol.createViewer($(\"#3dmolviewer_15245364768568692\"),{backgroundColor:\"white\"});\n",
       "$3Dmol.download(\"pdb:5WOG\", viewer_15245364768568692, {}, function() {\n",
       "\tviewer_15245364768568692.setStyle({\"chain\": \"A\"},{\"cartoon\": {\"color\": \"orange\"}});\n",
       "\tviewer_15245364768568692.setStyle({\"chain\": [\"A\", \"B\"]},{\"cartoon\": {\"color\": \"orange\"}});\n",
       "\tviewer_15245364768568692.addLabel(\"alpha subunits\",{\"fontColor\": \"orange\", \"backgroundColor\": \"lightgray\"},{\"chain\": [\"A\", \"B\"]});\n",
       "\tviewer_15245364768568692.setStyle({\"chain\": [\"C\", \"D\"]},{\"cartoon\": {\"color\": \"blue\"}});\n",
       "\tviewer_15245364768568692.addLabel(\"beta subunits\",{\"fontColor\": \"blue\", \"backgroundColor\": \"lightgray\"},{\"chain\": [\"C\", \"D\"]});\n",
       "viewer_15245364768568692.render();\n",
       "})\n",
       "});\n",
       "</script>"
      ],
      "text/plain": [
       "<py3Dmol.view at 0x1054b56a0>"
      ]
     },
     "execution_count": 4,
     "metadata": {},
     "output_type": "execute_result"
    }
   ],
   "source": [
    "viewer.setStyle({'chain':['A','B']},{'cartoon': {'color': 'orange'}}) # alpha subunits of hemoglobin\n",
    "viewer.addLabel('alpha subunits', {'fontColor':'orange', 'backgroundColor':'lightgray'},{'chain': ['A','B']})\n",
    "viewer.setStyle({'chain':['C','D']},{'cartoon': {'color': 'blue'}}) # beta subunits of hemoglobin\n",
    "viewer.addLabel('beta subunits', {'fontColor':'blue', 'backgroundColor':'lightgray'},{'chain': ['C','D']})"
   ]
  },
  {
   "cell_type": "markdown",
   "metadata": {},
   "source": [
    "# Apply style to specific residues by residue name (resn)\n",
    "Here we display all water molecules as spheres."
   ]
  },
  {
   "cell_type": "code",
   "execution_count": 5,
   "metadata": {},
   "outputs": [
    {
     "data": {
      "text/html": [
       "<div id=\"3dmolviewer_1524536479826745\"  style=\"position: relative; width: 400px; height: 400px\">\n",
       "<script>\n",
       "if(typeof $3Dmolpromise === 'undefined') $3Dmolpromise = $.when($.getScript('https://3dmol.csb.pitt.edu/build/3Dmol.js'))\n",
       "var viewer_1524536479826745 = null;\n",
       "$3Dmolpromise.done(function() {\n",
       "viewer_1524536479826745 = $3Dmol.createViewer($(\"#3dmolviewer_1524536479826745\"),{backgroundColor:\"white\"});\n",
       "$3Dmol.download(\"pdb:5WOG\", viewer_1524536479826745, {}, function() {\n",
       "\tviewer_1524536479826745.setStyle({\"chain\": \"A\"},{\"cartoon\": {\"color\": \"orange\"}});\n",
       "\tviewer_1524536479826745.setStyle({\"chain\": [\"A\", \"B\"]},{\"cartoon\": {\"color\": \"orange\"}});\n",
       "\tviewer_1524536479826745.addLabel(\"alpha subunits\",{\"fontColor\": \"orange\", \"backgroundColor\": \"lightgray\"},{\"chain\": [\"A\", \"B\"]});\n",
       "\tviewer_1524536479826745.setStyle({\"chain\": [\"C\", \"D\"]},{\"cartoon\": {\"color\": \"blue\"}});\n",
       "\tviewer_1524536479826745.addLabel(\"beta subunits\",{\"fontColor\": \"blue\", \"backgroundColor\": \"lightgray\"},{\"chain\": [\"C\", \"D\"]});\n",
       "\tviewer_1524536479826745.setStyle({\"resn\": \"HOH\"},{\"sphere\": {\"radius\": 0.5}});\n",
       "viewer_1524536479826745.render();\n",
       "})\n",
       "});\n",
       "</script>"
      ],
      "text/plain": [
       "<py3Dmol.view at 0x1054b56a0>"
      ]
     },
     "execution_count": 5,
     "metadata": {},
     "output_type": "execute_result"
    }
   ],
   "source": [
    "viewer.setStyle({'resn': 'HOH'}, {'sphere':{'radius':0.5}})"
   ]
  },
  {
   "cell_type": "markdown",
   "metadata": {},
   "source": [
    "And turn them off again."
   ]
  },
  {
   "cell_type": "code",
   "execution_count": 6,
   "metadata": {},
   "outputs": [
    {
     "data": {
      "text/html": [
       "<div id=\"3dmolviewer_15245364913707259\"  style=\"position: relative; width: 400px; height: 400px\">\n",
       "<script>\n",
       "if(typeof $3Dmolpromise === 'undefined') $3Dmolpromise = $.when($.getScript('https://3dmol.csb.pitt.edu/build/3Dmol.js'))\n",
       "var viewer_15245364913707259 = null;\n",
       "$3Dmolpromise.done(function() {\n",
       "viewer_15245364913707259 = $3Dmol.createViewer($(\"#3dmolviewer_15245364913707259\"),{backgroundColor:\"white\"});\n",
       "$3Dmol.download(\"pdb:5WOG\", viewer_15245364913707259, {}, function() {\n",
       "\tviewer_15245364913707259.setStyle({\"chain\": \"A\"},{\"cartoon\": {\"color\": \"orange\"}});\n",
       "\tviewer_15245364913707259.setStyle({\"chain\": [\"A\", \"B\"]},{\"cartoon\": {\"color\": \"orange\"}});\n",
       "\tviewer_15245364913707259.addLabel(\"alpha subunits\",{\"fontColor\": \"orange\", \"backgroundColor\": \"lightgray\"},{\"chain\": [\"A\", \"B\"]});\n",
       "\tviewer_15245364913707259.setStyle({\"chain\": [\"C\", \"D\"]},{\"cartoon\": {\"color\": \"blue\"}});\n",
       "\tviewer_15245364913707259.addLabel(\"beta subunits\",{\"fontColor\": \"blue\", \"backgroundColor\": \"lightgray\"},{\"chain\": [\"C\", \"D\"]});\n",
       "\tviewer_15245364913707259.setStyle({\"resn\": \"HOH\"},{\"sphere\": {\"radius\": 0.5}});\n",
       "\tviewer_15245364913707259.setStyle({\"resn\": \"HOH\"},{});\n",
       "viewer_15245364913707259.render();\n",
       "})\n",
       "});\n",
       "</script>"
      ],
      "text/plain": [
       "<py3Dmol.view at 0x1054b56a0>"
      ]
     },
     "execution_count": 6,
     "metadata": {},
     "output_type": "execute_result"
    }
   ],
   "source": [
    "viewer.setStyle({'resn': 'HOH'}, {})"
   ]
  },
  {
   "cell_type": "markdown",
   "metadata": {},
   "source": [
    "## Apply a style by residue name (resn)\n",
    "Show heme as spheres."
   ]
  },
  {
   "cell_type": "code",
   "execution_count": 7,
   "metadata": {},
   "outputs": [
    {
     "data": {
      "text/html": [
       "<div id=\"3dmolviewer_1524536497340771\"  style=\"position: relative; width: 400px; height: 400px\">\n",
       "<script>\n",
       "if(typeof $3Dmolpromise === 'undefined') $3Dmolpromise = $.when($.getScript('https://3dmol.csb.pitt.edu/build/3Dmol.js'))\n",
       "var viewer_1524536497340771 = null;\n",
       "$3Dmolpromise.done(function() {\n",
       "viewer_1524536497340771 = $3Dmol.createViewer($(\"#3dmolviewer_1524536497340771\"),{backgroundColor:\"white\"});\n",
       "$3Dmol.download(\"pdb:5WOG\", viewer_1524536497340771, {}, function() {\n",
       "\tviewer_1524536497340771.setStyle({\"chain\": \"A\"},{\"cartoon\": {\"color\": \"orange\"}});\n",
       "\tviewer_1524536497340771.setStyle({\"chain\": [\"A\", \"B\"]},{\"cartoon\": {\"color\": \"orange\"}});\n",
       "\tviewer_1524536497340771.addLabel(\"alpha subunits\",{\"fontColor\": \"orange\", \"backgroundColor\": \"lightgray\"},{\"chain\": [\"A\", \"B\"]});\n",
       "\tviewer_1524536497340771.setStyle({\"chain\": [\"C\", \"D\"]},{\"cartoon\": {\"color\": \"blue\"}});\n",
       "\tviewer_1524536497340771.addLabel(\"beta subunits\",{\"fontColor\": \"blue\", \"backgroundColor\": \"lightgray\"},{\"chain\": [\"C\", \"D\"]});\n",
       "\tviewer_1524536497340771.setStyle({\"resn\": \"HOH\"},{\"sphere\": {\"radius\": 0.5}});\n",
       "\tviewer_1524536497340771.setStyle({\"resn\": \"HOH\"},{});\n",
       "\tviewer_1524536497340771.setStyle({\"resn\": \"HEM\"},{\"sphere\": {\"colorscheme\": \"greenCarbon\"}});\n",
       "viewer_1524536497340771.render();\n",
       "})\n",
       "});\n",
       "</script>"
      ],
      "text/plain": [
       "<py3Dmol.view at 0x1054b56a0>"
      ]
     },
     "execution_count": 7,
     "metadata": {},
     "output_type": "execute_result"
    }
   ],
   "source": [
    "viewer.setStyle({'resn': 'HEM'},{'sphere': {'colorscheme': 'greenCarbon'}})"
   ]
  },
  {
   "cell_type": "markdown",
   "metadata": {},
   "source": [
    "## Apply a style to a specific residue by residue name (resn)\n",
    "Here we select the heme molecule in chain A and color its carbons red. We also adjust the stick radius. Finally, we zoom into the specific heme residue."
   ]
  },
  {
   "cell_type": "code",
   "execution_count": 8,
   "metadata": {},
   "outputs": [
    {
     "data": {
      "text/html": [
       "<div id=\"3dmolviewer_1524536501177933\"  style=\"position: relative; width: 400px; height: 400px\">\n",
       "<script>\n",
       "if(typeof $3Dmolpromise === 'undefined') $3Dmolpromise = $.when($.getScript('https://3dmol.csb.pitt.edu/build/3Dmol.js'))\n",
       "var viewer_1524536501177933 = null;\n",
       "$3Dmolpromise.done(function() {\n",
       "viewer_1524536501177933 = $3Dmol.createViewer($(\"#3dmolviewer_1524536501177933\"),{backgroundColor:\"white\"});\n",
       "$3Dmol.download(\"pdb:5WOG\", viewer_1524536501177933, {}, function() {\n",
       "\tviewer_1524536501177933.setStyle({\"chain\": \"A\"},{\"cartoon\": {\"color\": \"orange\"}});\n",
       "\tviewer_1524536501177933.setStyle({\"chain\": [\"A\", \"B\"]},{\"cartoon\": {\"color\": \"orange\"}});\n",
       "\tviewer_1524536501177933.addLabel(\"alpha subunits\",{\"fontColor\": \"orange\", \"backgroundColor\": \"lightgray\"},{\"chain\": [\"A\", \"B\"]});\n",
       "\tviewer_1524536501177933.setStyle({\"chain\": [\"C\", \"D\"]},{\"cartoon\": {\"color\": \"blue\"}});\n",
       "\tviewer_1524536501177933.addLabel(\"beta subunits\",{\"fontColor\": \"blue\", \"backgroundColor\": \"lightgray\"},{\"chain\": [\"C\", \"D\"]});\n",
       "\tviewer_1524536501177933.setStyle({\"resn\": \"HOH\"},{\"sphere\": {\"radius\": 0.5}});\n",
       "\tviewer_1524536501177933.setStyle({\"resn\": \"HOH\"},{});\n",
       "\tviewer_1524536501177933.setStyle({\"resn\": \"HEM\"},{\"sphere\": {\"colorscheme\": \"greenCarbon\"}});\n",
       "\tviewer_1524536501177933.setStyle({\"chain\": \"A\", \"resn\": \"HEM\"},{\"stick\": {\"colorscheme\": \"redCarbon\", \"radius\": 0.2}});\n",
       "\tviewer_1524536501177933.zoomTo({\"chain\": \"A\", \"resn\": \"HEM\"});\n",
       "viewer_1524536501177933.render();\n",
       "})\n",
       "});\n",
       "</script>"
      ],
      "text/plain": [
       "<py3Dmol.view at 0x1054b56a0>"
      ]
     },
     "execution_count": 8,
     "metadata": {},
     "output_type": "execute_result"
    }
   ],
   "source": [
    "viewer.setStyle({'chain': 'A', 'resn': 'HEM'},{'stick': {'colorscheme': 'redCarbon', 'radius': 0.2}})\n",
    "viewer.zoomTo({'chain': 'A', 'resn': 'HEM'})                                                                                                            "
   ]
  },
  {
   "cell_type": "markdown",
   "metadata": {},
   "source": [
    "# Apply style to a specific chain and residue by residue index (resi)\n",
    "In the following example we display the HIS-87 side chain that interacts with iron in heme. We also display the iron atom as a green sphere."
   ]
  },
  {
   "cell_type": "code",
   "execution_count": 9,
   "metadata": {},
   "outputs": [
    {
     "data": {
      "text/html": [
       "<div id=\"3dmolviewer_15245365044655502\"  style=\"position: relative; width: 400px; height: 400px\">\n",
       "<script>\n",
       "if(typeof $3Dmolpromise === 'undefined') $3Dmolpromise = $.when($.getScript('https://3dmol.csb.pitt.edu/build/3Dmol.js'))\n",
       "var viewer_15245365044655502 = null;\n",
       "$3Dmolpromise.done(function() {\n",
       "viewer_15245365044655502 = $3Dmol.createViewer($(\"#3dmolviewer_15245365044655502\"),{backgroundColor:\"white\"});\n",
       "$3Dmol.download(\"pdb:5WOG\", viewer_15245365044655502, {}, function() {\n",
       "\tviewer_15245365044655502.setStyle({\"chain\": \"A\"},{\"cartoon\": {\"color\": \"orange\"}});\n",
       "\tviewer_15245365044655502.setStyle({\"chain\": [\"A\", \"B\"]},{\"cartoon\": {\"color\": \"orange\"}});\n",
       "\tviewer_15245365044655502.addLabel(\"alpha subunits\",{\"fontColor\": \"orange\", \"backgroundColor\": \"lightgray\"},{\"chain\": [\"A\", \"B\"]});\n",
       "\tviewer_15245365044655502.setStyle({\"chain\": [\"C\", \"D\"]},{\"cartoon\": {\"color\": \"blue\"}});\n",
       "\tviewer_15245365044655502.addLabel(\"beta subunits\",{\"fontColor\": \"blue\", \"backgroundColor\": \"lightgray\"},{\"chain\": [\"C\", \"D\"]});\n",
       "\tviewer_15245365044655502.setStyle({\"resn\": \"HOH\"},{\"sphere\": {\"radius\": 0.5}});\n",
       "\tviewer_15245365044655502.setStyle({\"resn\": \"HOH\"},{});\n",
       "\tviewer_15245365044655502.setStyle({\"resn\": \"HEM\"},{\"sphere\": {\"colorscheme\": \"greenCarbon\"}});\n",
       "\tviewer_15245365044655502.setStyle({\"chain\": \"A\", \"resn\": \"HEM\"},{\"stick\": {\"colorscheme\": \"redCarbon\", \"radius\": 0.2}});\n",
       "\tviewer_15245365044655502.zoomTo({\"chain\": \"A\", \"resn\": \"HEM\"});\n",
       "\tviewer_15245365044655502.setStyle({\"chain\": \"A\", \"resi\": \"87\"},{\"stick\": {\"colorscheme\": \"redCarbon\"}});\n",
       "viewer_15245365044655502.render();\n",
       "})\n",
       "});\n",
       "</script>"
      ],
      "text/plain": [
       "<py3Dmol.view at 0x1054b56a0>"
      ]
     },
     "execution_count": 9,
     "metadata": {},
     "output_type": "execute_result"
    }
   ],
   "source": [
    "viewer.setStyle({'chain': 'A', 'resi': '87'},{'stick': {'colorscheme': 'redCarbon'}})"
   ]
  },
  {
   "cell_type": "markdown",
   "metadata": {},
   "source": [
    "# Apply style to an element (elem)\n",
    "We display the iron atom as a green sphere."
   ]
  },
  {
   "cell_type": "code",
   "execution_count": 10,
   "metadata": {},
   "outputs": [
    {
     "data": {
      "text/html": [
       "<div id=\"3dmolviewer_1524536508713094\"  style=\"position: relative; width: 400px; height: 400px\">\n",
       "<script>\n",
       "if(typeof $3Dmolpromise === 'undefined') $3Dmolpromise = $.when($.getScript('https://3dmol.csb.pitt.edu/build/3Dmol.js'))\n",
       "var viewer_1524536508713094 = null;\n",
       "$3Dmolpromise.done(function() {\n",
       "viewer_1524536508713094 = $3Dmol.createViewer($(\"#3dmolviewer_1524536508713094\"),{backgroundColor:\"white\"});\n",
       "$3Dmol.download(\"pdb:5WOG\", viewer_1524536508713094, {}, function() {\n",
       "\tviewer_1524536508713094.setStyle({\"chain\": \"A\"},{\"cartoon\": {\"color\": \"orange\"}});\n",
       "\tviewer_1524536508713094.setStyle({\"chain\": [\"A\", \"B\"]},{\"cartoon\": {\"color\": \"orange\"}});\n",
       "\tviewer_1524536508713094.addLabel(\"alpha subunits\",{\"fontColor\": \"orange\", \"backgroundColor\": \"lightgray\"},{\"chain\": [\"A\", \"B\"]});\n",
       "\tviewer_1524536508713094.setStyle({\"chain\": [\"C\", \"D\"]},{\"cartoon\": {\"color\": \"blue\"}});\n",
       "\tviewer_1524536508713094.addLabel(\"beta subunits\",{\"fontColor\": \"blue\", \"backgroundColor\": \"lightgray\"},{\"chain\": [\"C\", \"D\"]});\n",
       "\tviewer_1524536508713094.setStyle({\"resn\": \"HOH\"},{\"sphere\": {\"radius\": 0.5}});\n",
       "\tviewer_1524536508713094.setStyle({\"resn\": \"HOH\"},{});\n",
       "\tviewer_1524536508713094.setStyle({\"resn\": \"HEM\"},{\"sphere\": {\"colorscheme\": \"greenCarbon\"}});\n",
       "\tviewer_1524536508713094.setStyle({\"chain\": \"A\", \"resn\": \"HEM\"},{\"stick\": {\"colorscheme\": \"redCarbon\", \"radius\": 0.2}});\n",
       "\tviewer_1524536508713094.zoomTo({\"chain\": \"A\", \"resn\": \"HEM\"});\n",
       "\tviewer_1524536508713094.setStyle({\"chain\": \"A\", \"resi\": \"87\"},{\"stick\": {\"colorscheme\": \"redCarbon\"}});\n",
       "\tviewer_1524536508713094.setStyle({\"chain\": \"A\", \"elem\": \"Fe\"},{\"sphere\": {\"color\": \"green\"}});\n",
       "viewer_1524536508713094.render();\n",
       "})\n",
       "});\n",
       "</script>"
      ],
      "text/plain": [
       "<py3Dmol.view at 0x1054b56a0>"
      ]
     },
     "execution_count": 10,
     "metadata": {},
     "output_type": "execute_result"
    }
   ],
   "source": [
    "viewer.setStyle({'chain': 'A', 'elem': 'Fe'}, {'sphere': {'color': 'green'}})"
   ]
  },
  {
   "cell_type": "markdown",
   "metadata": {},
   "source": [
    "# Add residue labels\n",
    "Finally, we add labels to HIS-87 and HEM"
   ]
  },
  {
   "cell_type": "code",
   "execution_count": 11,
   "metadata": {},
   "outputs": [
    {
     "data": {
      "text/html": [
       "<div id=\"3dmolviewer_1524536511829822\"  style=\"position: relative; width: 400px; height: 400px\">\n",
       "<script>\n",
       "if(typeof $3Dmolpromise === 'undefined') $3Dmolpromise = $.when($.getScript('https://3dmol.csb.pitt.edu/build/3Dmol.js'))\n",
       "var viewer_1524536511829822 = null;\n",
       "$3Dmolpromise.done(function() {\n",
       "viewer_1524536511829822 = $3Dmol.createViewer($(\"#3dmolviewer_1524536511829822\"),{backgroundColor:\"white\"});\n",
       "$3Dmol.download(\"pdb:5WOG\", viewer_1524536511829822, {}, function() {\n",
       "\tviewer_1524536511829822.setStyle({\"chain\": \"A\"},{\"cartoon\": {\"color\": \"orange\"}});\n",
       "\tviewer_1524536511829822.setStyle({\"chain\": [\"A\", \"B\"]},{\"cartoon\": {\"color\": \"orange\"}});\n",
       "\tviewer_1524536511829822.addLabel(\"alpha subunits\",{\"fontColor\": \"orange\", \"backgroundColor\": \"lightgray\"},{\"chain\": [\"A\", \"B\"]});\n",
       "\tviewer_1524536511829822.setStyle({\"chain\": [\"C\", \"D\"]},{\"cartoon\": {\"color\": \"blue\"}});\n",
       "\tviewer_1524536511829822.addLabel(\"beta subunits\",{\"fontColor\": \"blue\", \"backgroundColor\": \"lightgray\"},{\"chain\": [\"C\", \"D\"]});\n",
       "\tviewer_1524536511829822.setStyle({\"resn\": \"HOH\"},{\"sphere\": {\"radius\": 0.5}});\n",
       "\tviewer_1524536511829822.setStyle({\"resn\": \"HOH\"},{});\n",
       "\tviewer_1524536511829822.setStyle({\"resn\": \"HEM\"},{\"sphere\": {\"colorscheme\": \"greenCarbon\"}});\n",
       "\tviewer_1524536511829822.setStyle({\"chain\": \"A\", \"resn\": \"HEM\"},{\"stick\": {\"colorscheme\": \"redCarbon\", \"radius\": 0.2}});\n",
       "\tviewer_1524536511829822.zoomTo({\"chain\": \"A\", \"resn\": \"HEM\"});\n",
       "\tviewer_1524536511829822.setStyle({\"chain\": \"A\", \"resi\": \"87\"},{\"stick\": {\"colorscheme\": \"redCarbon\"}});\n",
       "\tviewer_1524536511829822.setStyle({\"chain\": \"A\", \"elem\": \"Fe\"},{\"sphere\": {\"color\": \"green\"}});\n",
       "\tviewer_1524536511829822.addResLabels({\"chain\": \"A\", \"resi\": \"87\"});\n",
       "\tviewer_1524536511829822.addResLabels({\"chain\": \"A\", \"resn\": \"HEM\"});\n",
       "viewer_1524536511829822.render();\n",
       "})\n",
       "});\n",
       "</script>"
      ],
      "text/plain": [
       "<py3Dmol.view at 0x1054b56a0>"
      ]
     },
     "execution_count": 11,
     "metadata": {},
     "output_type": "execute_result"
    }
   ],
   "source": [
    "viewer.addResLabels({'chain': 'A', 'resi': '87'})\n",
    "viewer.addResLabels({'chain': 'A', 'resn': 'HEM'})"
   ]
  },
  {
   "cell_type": "markdown",
   "metadata": {
    "collapsed": true
   },
   "source": [
    "# Select binding site residues by proximity\n",
    "Here we select all residues within 5 A of the HEM in chain A."
   ]
  },
  {
   "cell_type": "code",
   "execution_count": 12,
   "metadata": {},
   "outputs": [
    {
     "data": {
      "text/html": [
       "<div id=\"3dmolviewer_1524536514970069\"  style=\"position: relative; width: 400px; height: 400px\">\n",
       "<script>\n",
       "if(typeof $3Dmolpromise === 'undefined') $3Dmolpromise = $.when($.getScript('https://3dmol.csb.pitt.edu/build/3Dmol.js'))\n",
       "var viewer_1524536514970069 = null;\n",
       "$3Dmolpromise.done(function() {\n",
       "viewer_1524536514970069 = $3Dmol.createViewer($(\"#3dmolviewer_1524536514970069\"),{backgroundColor:\"white\"});\n",
       "$3Dmol.download(\"pdb:5WOG\", viewer_1524536514970069, {}, function() {\n",
       "\tviewer_1524536514970069.setStyle({\"chain\": \"A\"},{\"cartoon\": {\"color\": \"orange\"}});\n",
       "\tviewer_1524536514970069.setStyle({\"chain\": [\"A\", \"B\"]},{\"cartoon\": {\"color\": \"orange\"}});\n",
       "\tviewer_1524536514970069.addLabel(\"alpha subunits\",{\"fontColor\": \"orange\", \"backgroundColor\": \"lightgray\"},{\"chain\": [\"A\", \"B\"]});\n",
       "\tviewer_1524536514970069.setStyle({\"chain\": [\"C\", \"D\"]},{\"cartoon\": {\"color\": \"blue\"}});\n",
       "\tviewer_1524536514970069.addLabel(\"beta subunits\",{\"fontColor\": \"blue\", \"backgroundColor\": \"lightgray\"},{\"chain\": [\"C\", \"D\"]});\n",
       "\tviewer_1524536514970069.setStyle({\"resn\": \"HOH\"},{\"sphere\": {\"radius\": 0.5}});\n",
       "\tviewer_1524536514970069.setStyle({\"resn\": \"HOH\"},{});\n",
       "\tviewer_1524536514970069.setStyle({\"resn\": \"HEM\"},{\"sphere\": {\"colorscheme\": \"greenCarbon\"}});\n",
       "\tviewer_1524536514970069.setStyle({\"chain\": \"A\", \"resn\": \"HEM\"},{\"stick\": {\"colorscheme\": \"redCarbon\", \"radius\": 0.2}});\n",
       "\tviewer_1524536514970069.zoomTo({\"chain\": \"A\", \"resn\": \"HEM\"});\n",
       "\tviewer_1524536514970069.setStyle({\"chain\": \"A\", \"resi\": \"87\"},{\"stick\": {\"colorscheme\": \"redCarbon\"}});\n",
       "\tviewer_1524536514970069.setStyle({\"chain\": \"A\", \"elem\": \"Fe\"},{\"sphere\": {\"color\": \"green\"}});\n",
       "\tviewer_1524536514970069.addResLabels({\"chain\": \"A\", \"resi\": \"87\"});\n",
       "\tviewer_1524536514970069.addResLabels({\"chain\": \"A\", \"resn\": \"HEM\"});\n",
       "\tviewer_1524536514970069.removeAllLabels();\n",
       "\tviewer_1524536514970069.setStyle({\"line\": {}});\n",
       "\tviewer_1524536514970069.setStyle({\"resn\": \"HEM\", \"chain\": \"A\", \"byres\": \"true\", \"expand\": 5},{\"stick\": {\"colorscheme\": \"orangeCarbon\"}});\n",
       "\tviewer_1524536514970069.setStyle({\"chain\": \"A\", \"resn\": \"HEM\"},{\"sphere\": {\"colorscheme\": \"lightgreenCarbon\"}});\n",
       "\tviewer_1524536514970069.zoomTo({\"resn\": \"HEM\", \"chain\": \"A\", \"byres\": \"true\", \"expand\": 5});\n",
       "viewer_1524536514970069.render();\n",
       "})\n",
       "});\n",
       "</script>"
      ],
      "text/plain": [
       "<py3Dmol.view at 0x1054b56a0>"
      ]
     },
     "execution_count": 12,
     "metadata": {},
     "output_type": "execute_result"
    }
   ],
   "source": [
    "# reset styles and remove labels\n",
    "viewer.removeAllLabels()\n",
    "viewer.setStyle({'line':{}})\n",
    "\n",
    "# select by distance\n",
    "selection = {'resn':'HEM', 'chain':'A', 'byres':'true', 'expand':5}\n",
    "\n",
    "# set styles\n",
    "viewer.setStyle(selection,{'stick':{'colorscheme':'orangeCarbon'}})\n",
    "viewer.setStyle({'chain': 'A', 'resn': 'HEM'},{'sphere': {'colorscheme': 'lightgreenCarbon'}})\n",
    "viewer.zoomTo(selection)"
   ]
  }
 ],
 "metadata": {
  "kernelspec": {
   "display_name": "Python 3",
   "language": "python",
   "name": "python3"
  },
  "language_info": {
   "codemirror_mode": {
    "name": "ipython",
    "version": 3
   },
   "file_extension": ".py",
   "mimetype": "text/x-python",
   "name": "python",
   "nbconvert_exporter": "python",
   "pygments_lexer": "ipython3",
   "version": "3.6.3"
  }
 },
 "nbformat": 4,
 "nbformat_minor": 2
}
