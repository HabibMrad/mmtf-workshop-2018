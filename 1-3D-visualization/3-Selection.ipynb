{
 "cells": [
  {
   "cell_type": "markdown",
   "metadata": {},
   "source": [
    "# Selecting chains, residues, and atoms\n",
    "This tutorial shows how to select parts of a structure and apply different styles. It also shows how to add labels and how to zoom in on a selection."
   ]
  },
  {
   "cell_type": "code",
   "execution_count": 1,
   "metadata": {},
   "outputs": [],
   "source": [
    "import py3Dmol"
   ]
  },
  {
   "cell_type": "markdown",
   "metadata": {},
   "source": [
    "## Instantiate viewer with a Hemoglobin structure\n",
    "This example also shows how to set the size of the viewer."
   ]
  },
  {
   "cell_type": "code",
   "execution_count": 2,
   "metadata": {},
   "outputs": [
    {
     "data": {
      "application/3dmoljs_load.v0": "<div id=\"3dmolviewer_1525388208882105\"  style=\"position: relative; width: 400px; height: 400px\">\n        <p id=\"3dmolwarning_1525388208882105\" style=\"background-color:#ffcccc;color:black\">You appear to be running in JupyterLab.  You need to install the 3dmol extension: <br>\n        <tt>jupyter labextension install jupyterlab_3dmol</tt></p>\n        </div>\n<script>\n\nvar loadScriptAsync = function(uri){\n  return new Promise((resolve, reject) => {\n    var tag = document.createElement('script');\n    tag.src = uri;\n    tag.async = true;\n    tag.onload = () => {\n      resolve();\n    };\n  var firstScriptTag = document.getElementsByTagName('script')[0];\n  firstScriptTag.parentNode.insertBefore(tag, firstScriptTag);\n});\n};\n\nif(typeof $3Dmolpromise === 'undefined') {\n$3Dmolpromise = null;\n  $3Dmolpromise = loadScriptAsync('https://3dmol.csb.pitt.edu/build/3Dmol.js');\n}\n\nvar viewer_1525388208882105 = null;\nvar warn = document.getElementById(\"3dmolwarning_1525388208882105\");\nif(warn) {\n    warn.parentNode.removeChild(warn);\n}\n$3Dmolpromise.then(function() {\nviewer_1525388208882105 = $3Dmol.createViewer($(\"#3dmolviewer_1525388208882105\"),{backgroundColor:\"white\"});\n$3Dmol.download(\"pdb:5WOG\", viewer_1525388208882105, {}, function() {\nviewer_1525388208882105.render();\n})\n});\n</script>",
      "text/html": [
       "<div id=\"3dmolviewer_1525388208882105\"  style=\"position: relative; width: 400px; height: 400px\">\n",
       "        <p id=\"3dmolwarning_1525388208882105\" style=\"background-color:#ffcccc;color:black\">You appear to be running in JupyterLab.  You need to install the 3dmol extension: <br>\n",
       "        <tt>jupyter labextension install jupyterlab_3dmol</tt></p>\n",
       "        </div>\n",
       "<script>\n",
       "\n",
       "var loadScriptAsync = function(uri){\n",
       "  return new Promise((resolve, reject) => {\n",
       "    var tag = document.createElement('script');\n",
       "    tag.src = uri;\n",
       "    tag.async = true;\n",
       "    tag.onload = () => {\n",
       "      resolve();\n",
       "    };\n",
       "  var firstScriptTag = document.getElementsByTagName('script')[0];\n",
       "  firstScriptTag.parentNode.insertBefore(tag, firstScriptTag);\n",
       "});\n",
       "};\n",
       "\n",
       "if(typeof $3Dmolpromise === 'undefined') {\n",
       "$3Dmolpromise = null;\n",
       "  $3Dmolpromise = loadScriptAsync('https://3dmol.csb.pitt.edu/build/3Dmol.js');\n",
       "}\n",
       "\n",
       "var viewer_1525388208882105 = null;\n",
       "var warn = document.getElementById(\"3dmolwarning_1525388208882105\");\n",
       "if(warn) {\n",
       "    warn.parentNode.removeChild(warn);\n",
       "}\n",
       "$3Dmolpromise.then(function() {\n",
       "viewer_1525388208882105 = $3Dmol.createViewer($(\"#3dmolviewer_1525388208882105\"),{backgroundColor:\"white\"});\n",
       "$3Dmol.download(\"pdb:5WOG\", viewer_1525388208882105, {}, function() {\n",
       "viewer_1525388208882105.render();\n",
       "})\n",
       "});\n",
       "</script>"
      ]
     },
     "metadata": {},
     "output_type": "display_data"
    }
   ],
   "source": [
    "viewer = py3Dmol.view(query='pdb:5WOG', width=400, height=400)\n",
    "viewer.show()"
   ]
  },
  {
   "cell_type": "markdown",
   "metadata": {
    "collapsed": true
   },
   "source": [
    "## Apply a style to a chain\n",
    "Here we select chain A and apply a cartoon style."
   ]
  },
  {
   "cell_type": "code",
   "execution_count": 3,
   "metadata": {},
   "outputs": [
    {
     "data": {
      "application/3dmoljs_load.v0": "<div id=\"3dmolviewer_1525388208890704\"  style=\"position: relative; width: 400px; height: 400px\">\n        <p id=\"3dmolwarning_1525388208890704\" style=\"background-color:#ffcccc;color:black\">You appear to be running in JupyterLab.  You need to install the 3dmol extension: <br>\n        <tt>jupyter labextension install jupyterlab_3dmol</tt></p>\n        </div>\n<script>\n\nvar loadScriptAsync = function(uri){\n  return new Promise((resolve, reject) => {\n    var tag = document.createElement('script');\n    tag.src = uri;\n    tag.async = true;\n    tag.onload = () => {\n      resolve();\n    };\n  var firstScriptTag = document.getElementsByTagName('script')[0];\n  firstScriptTag.parentNode.insertBefore(tag, firstScriptTag);\n});\n};\n\nif(typeof $3Dmolpromise === 'undefined') {\n$3Dmolpromise = null;\n  $3Dmolpromise = loadScriptAsync('https://3dmol.csb.pitt.edu/build/3Dmol.js');\n}\n\nvar viewer_1525388208890704 = null;\nvar warn = document.getElementById(\"3dmolwarning_1525388208890704\");\nif(warn) {\n    warn.parentNode.removeChild(warn);\n}\n$3Dmolpromise.then(function() {\nviewer_1525388208890704 = $3Dmol.createViewer($(\"#3dmolviewer_1525388208890704\"),{backgroundColor:\"white\"});\n$3Dmol.download(\"pdb:5WOG\", viewer_1525388208890704, {}, function() {\n\tviewer_1525388208890704.setStyle({\"chain\": \"A\"},{\"cartoon\": {\"color\": \"orange\"}});\nviewer_1525388208890704.render();\n})\n});\n</script>",
      "text/html": [
       "<div id=\"3dmolviewer_1525388208890704\"  style=\"position: relative; width: 400px; height: 400px\">\n",
       "        <p id=\"3dmolwarning_1525388208890704\" style=\"background-color:#ffcccc;color:black\">You appear to be running in JupyterLab.  You need to install the 3dmol extension: <br>\n",
       "        <tt>jupyter labextension install jupyterlab_3dmol</tt></p>\n",
       "        </div>\n",
       "<script>\n",
       "\n",
       "var loadScriptAsync = function(uri){\n",
       "  return new Promise((resolve, reject) => {\n",
       "    var tag = document.createElement('script');\n",
       "    tag.src = uri;\n",
       "    tag.async = true;\n",
       "    tag.onload = () => {\n",
       "      resolve();\n",
       "    };\n",
       "  var firstScriptTag = document.getElementsByTagName('script')[0];\n",
       "  firstScriptTag.parentNode.insertBefore(tag, firstScriptTag);\n",
       "});\n",
       "};\n",
       "\n",
       "if(typeof $3Dmolpromise === 'undefined') {\n",
       "$3Dmolpromise = null;\n",
       "  $3Dmolpromise = loadScriptAsync('https://3dmol.csb.pitt.edu/build/3Dmol.js');\n",
       "}\n",
       "\n",
       "var viewer_1525388208890704 = null;\n",
       "var warn = document.getElementById(\"3dmolwarning_1525388208890704\");\n",
       "if(warn) {\n",
       "    warn.parentNode.removeChild(warn);\n",
       "}\n",
       "$3Dmolpromise.then(function() {\n",
       "viewer_1525388208890704 = $3Dmol.createViewer($(\"#3dmolviewer_1525388208890704\"),{backgroundColor:\"white\"});\n",
       "$3Dmol.download(\"pdb:5WOG\", viewer_1525388208890704, {}, function() {\n",
       "\tviewer_1525388208890704.setStyle({\"chain\": \"A\"},{\"cartoon\": {\"color\": \"orange\"}});\n",
       "viewer_1525388208890704.render();\n",
       "})\n",
       "});\n",
       "</script>"
      ]
     },
     "metadata": {},
     "output_type": "display_data"
    }
   ],
   "source": [
    "viewer.setStyle({'chain':'A'},{'cartoon': {'color': 'orange'}})\n",
    "viewer.show()"
   ]
  },
  {
   "cell_type": "markdown",
   "metadata": {},
   "source": [
    "## Apply a style to a list of  chains and add labels\n",
    "Use a list to select to multiple chains."
   ]
  },
  {
   "cell_type": "code",
   "execution_count": 4,
   "metadata": {},
   "outputs": [
    {
     "data": {
      "application/3dmoljs_load.v0": "<div id=\"3dmolviewer_1525388208901193\"  style=\"position: relative; width: 400px; height: 400px\">\n        <p id=\"3dmolwarning_1525388208901193\" style=\"background-color:#ffcccc;color:black\">You appear to be running in JupyterLab.  You need to install the 3dmol extension: <br>\n        <tt>jupyter labextension install jupyterlab_3dmol</tt></p>\n        </div>\n<script>\n\nvar loadScriptAsync = function(uri){\n  return new Promise((resolve, reject) => {\n    var tag = document.createElement('script');\n    tag.src = uri;\n    tag.async = true;\n    tag.onload = () => {\n      resolve();\n    };\n  var firstScriptTag = document.getElementsByTagName('script')[0];\n  firstScriptTag.parentNode.insertBefore(tag, firstScriptTag);\n});\n};\n\nif(typeof $3Dmolpromise === 'undefined') {\n$3Dmolpromise = null;\n  $3Dmolpromise = loadScriptAsync('https://3dmol.csb.pitt.edu/build/3Dmol.js');\n}\n\nvar viewer_1525388208901193 = null;\nvar warn = document.getElementById(\"3dmolwarning_1525388208901193\");\nif(warn) {\n    warn.parentNode.removeChild(warn);\n}\n$3Dmolpromise.then(function() {\nviewer_1525388208901193 = $3Dmol.createViewer($(\"#3dmolviewer_1525388208901193\"),{backgroundColor:\"white\"});\n$3Dmol.download(\"pdb:5WOG\", viewer_1525388208901193, {}, function() {\n\tviewer_1525388208901193.setStyle({\"chain\": \"A\"},{\"cartoon\": {\"color\": \"orange\"}});\n\tviewer_1525388208901193.setStyle({\"chain\": [\"A\", \"B\"]},{\"cartoon\": {\"color\": \"orange\"}});\n\tviewer_1525388208901193.addLabel(\"alpha subunits\",{\"fontColor\": \"orange\", \"backgroundColor\": \"lightgray\"},{\"chain\": [\"A\", \"B\"]});\n\tviewer_1525388208901193.setStyle({\"chain\": [\"C\", \"D\"]},{\"cartoon\": {\"color\": \"blue\"}});\n\tviewer_1525388208901193.addLabel(\"beta subunits\",{\"fontColor\": \"blue\", \"backgroundColor\": \"lightgray\"},{\"chain\": [\"C\", \"D\"]});\nviewer_1525388208901193.render();\n})\n});\n</script>",
      "text/html": [
       "<div id=\"3dmolviewer_1525388208901193\"  style=\"position: relative; width: 400px; height: 400px\">\n",
       "        <p id=\"3dmolwarning_1525388208901193\" style=\"background-color:#ffcccc;color:black\">You appear to be running in JupyterLab.  You need to install the 3dmol extension: <br>\n",
       "        <tt>jupyter labextension install jupyterlab_3dmol</tt></p>\n",
       "        </div>\n",
       "<script>\n",
       "\n",
       "var loadScriptAsync = function(uri){\n",
       "  return new Promise((resolve, reject) => {\n",
       "    var tag = document.createElement('script');\n",
       "    tag.src = uri;\n",
       "    tag.async = true;\n",
       "    tag.onload = () => {\n",
       "      resolve();\n",
       "    };\n",
       "  var firstScriptTag = document.getElementsByTagName('script')[0];\n",
       "  firstScriptTag.parentNode.insertBefore(tag, firstScriptTag);\n",
       "});\n",
       "};\n",
       "\n",
       "if(typeof $3Dmolpromise === 'undefined') {\n",
       "$3Dmolpromise = null;\n",
       "  $3Dmolpromise = loadScriptAsync('https://3dmol.csb.pitt.edu/build/3Dmol.js');\n",
       "}\n",
       "\n",
       "var viewer_1525388208901193 = null;\n",
       "var warn = document.getElementById(\"3dmolwarning_1525388208901193\");\n",
       "if(warn) {\n",
       "    warn.parentNode.removeChild(warn);\n",
       "}\n",
       "$3Dmolpromise.then(function() {\n",
       "viewer_1525388208901193 = $3Dmol.createViewer($(\"#3dmolviewer_1525388208901193\"),{backgroundColor:\"white\"});\n",
       "$3Dmol.download(\"pdb:5WOG\", viewer_1525388208901193, {}, function() {\n",
       "\tviewer_1525388208901193.setStyle({\"chain\": \"A\"},{\"cartoon\": {\"color\": \"orange\"}});\n",
       "\tviewer_1525388208901193.setStyle({\"chain\": [\"A\", \"B\"]},{\"cartoon\": {\"color\": \"orange\"}});\n",
       "\tviewer_1525388208901193.addLabel(\"alpha subunits\",{\"fontColor\": \"orange\", \"backgroundColor\": \"lightgray\"},{\"chain\": [\"A\", \"B\"]});\n",
       "\tviewer_1525388208901193.setStyle({\"chain\": [\"C\", \"D\"]},{\"cartoon\": {\"color\": \"blue\"}});\n",
       "\tviewer_1525388208901193.addLabel(\"beta subunits\",{\"fontColor\": \"blue\", \"backgroundColor\": \"lightgray\"},{\"chain\": [\"C\", \"D\"]});\n",
       "viewer_1525388208901193.render();\n",
       "})\n",
       "});\n",
       "</script>"
      ]
     },
     "metadata": {},
     "output_type": "display_data"
    }
   ],
   "source": [
    "viewer.setStyle({'chain':['A','B']},{'cartoon': {'color': 'orange'}}) # alpha subunits of hemoglobin\n",
    "\n",
    "viewer.addLabel('alpha subunits', {'fontColor':'orange', 'backgroundColor':'lightgray'},\n",
    "                {'chain': ['A','B']})\n",
    "\n",
    "viewer.setStyle({'chain':['C','D']},{'cartoon': {'color': 'blue'}}) # beta subunits of hemoglobin\n",
    "\n",
    "viewer.addLabel('beta subunits', {'fontColor':'blue', 'backgroundColor':'lightgray'},\n",
    "                {'chain': ['C','D']})\n",
    "viewer.show()"
   ]
  },
  {
   "cell_type": "markdown",
   "metadata": {},
   "source": [
    "# Apply style to specific residues by residue name (resn)\n",
    "Here we display all water molecules as spheres."
   ]
  },
  {
   "cell_type": "code",
   "execution_count": 5,
   "metadata": {},
   "outputs": [
    {
     "data": {
      "application/3dmoljs_load.v0": "<div id=\"3dmolviewer_1525388208909267\"  style=\"position: relative; width: 400px; height: 400px\">\n        <p id=\"3dmolwarning_1525388208909267\" style=\"background-color:#ffcccc;color:black\">You appear to be running in JupyterLab.  You need to install the 3dmol extension: <br>\n        <tt>jupyter labextension install jupyterlab_3dmol</tt></p>\n        </div>\n<script>\n\nvar loadScriptAsync = function(uri){\n  return new Promise((resolve, reject) => {\n    var tag = document.createElement('script');\n    tag.src = uri;\n    tag.async = true;\n    tag.onload = () => {\n      resolve();\n    };\n  var firstScriptTag = document.getElementsByTagName('script')[0];\n  firstScriptTag.parentNode.insertBefore(tag, firstScriptTag);\n});\n};\n\nif(typeof $3Dmolpromise === 'undefined') {\n$3Dmolpromise = null;\n  $3Dmolpromise = loadScriptAsync('https://3dmol.csb.pitt.edu/build/3Dmol.js');\n}\n\nvar viewer_1525388208909267 = null;\nvar warn = document.getElementById(\"3dmolwarning_1525388208909267\");\nif(warn) {\n    warn.parentNode.removeChild(warn);\n}\n$3Dmolpromise.then(function() {\nviewer_1525388208909267 = $3Dmol.createViewer($(\"#3dmolviewer_1525388208909267\"),{backgroundColor:\"white\"});\n$3Dmol.download(\"pdb:5WOG\", viewer_1525388208909267, {}, function() {\n\tviewer_1525388208909267.setStyle({\"chain\": \"A\"},{\"cartoon\": {\"color\": \"orange\"}});\n\tviewer_1525388208909267.setStyle({\"chain\": [\"A\", \"B\"]},{\"cartoon\": {\"color\": \"orange\"}});\n\tviewer_1525388208909267.addLabel(\"alpha subunits\",{\"fontColor\": \"orange\", \"backgroundColor\": \"lightgray\"},{\"chain\": [\"A\", \"B\"]});\n\tviewer_1525388208909267.setStyle({\"chain\": [\"C\", \"D\"]},{\"cartoon\": {\"color\": \"blue\"}});\n\tviewer_1525388208909267.addLabel(\"beta subunits\",{\"fontColor\": \"blue\", \"backgroundColor\": \"lightgray\"},{\"chain\": [\"C\", \"D\"]});\n\tviewer_1525388208909267.setStyle({\"resn\": \"HOH\"},{\"sphere\": {\"radius\": 0.5}});\nviewer_1525388208909267.render();\n})\n});\n</script>",
      "text/html": [
       "<div id=\"3dmolviewer_1525388208909267\"  style=\"position: relative; width: 400px; height: 400px\">\n",
       "        <p id=\"3dmolwarning_1525388208909267\" style=\"background-color:#ffcccc;color:black\">You appear to be running in JupyterLab.  You need to install the 3dmol extension: <br>\n",
       "        <tt>jupyter labextension install jupyterlab_3dmol</tt></p>\n",
       "        </div>\n",
       "<script>\n",
       "\n",
       "var loadScriptAsync = function(uri){\n",
       "  return new Promise((resolve, reject) => {\n",
       "    var tag = document.createElement('script');\n",
       "    tag.src = uri;\n",
       "    tag.async = true;\n",
       "    tag.onload = () => {\n",
       "      resolve();\n",
       "    };\n",
       "  var firstScriptTag = document.getElementsByTagName('script')[0];\n",
       "  firstScriptTag.parentNode.insertBefore(tag, firstScriptTag);\n",
       "});\n",
       "};\n",
       "\n",
       "if(typeof $3Dmolpromise === 'undefined') {\n",
       "$3Dmolpromise = null;\n",
       "  $3Dmolpromise = loadScriptAsync('https://3dmol.csb.pitt.edu/build/3Dmol.js');\n",
       "}\n",
       "\n",
       "var viewer_1525388208909267 = null;\n",
       "var warn = document.getElementById(\"3dmolwarning_1525388208909267\");\n",
       "if(warn) {\n",
       "    warn.parentNode.removeChild(warn);\n",
       "}\n",
       "$3Dmolpromise.then(function() {\n",
       "viewer_1525388208909267 = $3Dmol.createViewer($(\"#3dmolviewer_1525388208909267\"),{backgroundColor:\"white\"});\n",
       "$3Dmol.download(\"pdb:5WOG\", viewer_1525388208909267, {}, function() {\n",
       "\tviewer_1525388208909267.setStyle({\"chain\": \"A\"},{\"cartoon\": {\"color\": \"orange\"}});\n",
       "\tviewer_1525388208909267.setStyle({\"chain\": [\"A\", \"B\"]},{\"cartoon\": {\"color\": \"orange\"}});\n",
       "\tviewer_1525388208909267.addLabel(\"alpha subunits\",{\"fontColor\": \"orange\", \"backgroundColor\": \"lightgray\"},{\"chain\": [\"A\", \"B\"]});\n",
       "\tviewer_1525388208909267.setStyle({\"chain\": [\"C\", \"D\"]},{\"cartoon\": {\"color\": \"blue\"}});\n",
       "\tviewer_1525388208909267.addLabel(\"beta subunits\",{\"fontColor\": \"blue\", \"backgroundColor\": \"lightgray\"},{\"chain\": [\"C\", \"D\"]});\n",
       "\tviewer_1525388208909267.setStyle({\"resn\": \"HOH\"},{\"sphere\": {\"radius\": 0.5}});\n",
       "viewer_1525388208909267.render();\n",
       "})\n",
       "});\n",
       "</script>"
      ]
     },
     "metadata": {},
     "output_type": "display_data"
    }
   ],
   "source": [
    "viewer.setStyle({'resn': 'HOH'}, {'sphere':{'radius':0.5}})\n",
    "viewer.show()"
   ]
  },
  {
   "cell_type": "markdown",
   "metadata": {},
   "source": [
    "And turn waters off again by resetting their style."
   ]
  },
  {
   "cell_type": "code",
   "execution_count": 6,
   "metadata": {},
   "outputs": [
    {
     "data": {
      "application/3dmoljs_load.v0": "<div id=\"3dmolviewer_15253882089175308\"  style=\"position: relative; width: 400px; height: 400px\">\n        <p id=\"3dmolwarning_15253882089175308\" style=\"background-color:#ffcccc;color:black\">You appear to be running in JupyterLab.  You need to install the 3dmol extension: <br>\n        <tt>jupyter labextension install jupyterlab_3dmol</tt></p>\n        </div>\n<script>\n\nvar loadScriptAsync = function(uri){\n  return new Promise((resolve, reject) => {\n    var tag = document.createElement('script');\n    tag.src = uri;\n    tag.async = true;\n    tag.onload = () => {\n      resolve();\n    };\n  var firstScriptTag = document.getElementsByTagName('script')[0];\n  firstScriptTag.parentNode.insertBefore(tag, firstScriptTag);\n});\n};\n\nif(typeof $3Dmolpromise === 'undefined') {\n$3Dmolpromise = null;\n  $3Dmolpromise = loadScriptAsync('https://3dmol.csb.pitt.edu/build/3Dmol.js');\n}\n\nvar viewer_15253882089175308 = null;\nvar warn = document.getElementById(\"3dmolwarning_15253882089175308\");\nif(warn) {\n    warn.parentNode.removeChild(warn);\n}\n$3Dmolpromise.then(function() {\nviewer_15253882089175308 = $3Dmol.createViewer($(\"#3dmolviewer_15253882089175308\"),{backgroundColor:\"white\"});\n$3Dmol.download(\"pdb:5WOG\", viewer_15253882089175308, {}, function() {\n\tviewer_15253882089175308.setStyle({\"chain\": \"A\"},{\"cartoon\": {\"color\": \"orange\"}});\n\tviewer_15253882089175308.setStyle({\"chain\": [\"A\", \"B\"]},{\"cartoon\": {\"color\": \"orange\"}});\n\tviewer_15253882089175308.addLabel(\"alpha subunits\",{\"fontColor\": \"orange\", \"backgroundColor\": \"lightgray\"},{\"chain\": [\"A\", \"B\"]});\n\tviewer_15253882089175308.setStyle({\"chain\": [\"C\", \"D\"]},{\"cartoon\": {\"color\": \"blue\"}});\n\tviewer_15253882089175308.addLabel(\"beta subunits\",{\"fontColor\": \"blue\", \"backgroundColor\": \"lightgray\"},{\"chain\": [\"C\", \"D\"]});\n\tviewer_15253882089175308.setStyle({\"resn\": \"HOH\"},{\"sphere\": {\"radius\": 0.5}});\n\tviewer_15253882089175308.setStyle({\"resn\": \"HOH\"},{});\nviewer_15253882089175308.render();\n})\n});\n</script>",
      "text/html": [
       "<div id=\"3dmolviewer_15253882089175308\"  style=\"position: relative; width: 400px; height: 400px\">\n",
       "        <p id=\"3dmolwarning_15253882089175308\" style=\"background-color:#ffcccc;color:black\">You appear to be running in JupyterLab.  You need to install the 3dmol extension: <br>\n",
       "        <tt>jupyter labextension install jupyterlab_3dmol</tt></p>\n",
       "        </div>\n",
       "<script>\n",
       "\n",
       "var loadScriptAsync = function(uri){\n",
       "  return new Promise((resolve, reject) => {\n",
       "    var tag = document.createElement('script');\n",
       "    tag.src = uri;\n",
       "    tag.async = true;\n",
       "    tag.onload = () => {\n",
       "      resolve();\n",
       "    };\n",
       "  var firstScriptTag = document.getElementsByTagName('script')[0];\n",
       "  firstScriptTag.parentNode.insertBefore(tag, firstScriptTag);\n",
       "});\n",
       "};\n",
       "\n",
       "if(typeof $3Dmolpromise === 'undefined') {\n",
       "$3Dmolpromise = null;\n",
       "  $3Dmolpromise = loadScriptAsync('https://3dmol.csb.pitt.edu/build/3Dmol.js');\n",
       "}\n",
       "\n",
       "var viewer_15253882089175308 = null;\n",
       "var warn = document.getElementById(\"3dmolwarning_15253882089175308\");\n",
       "if(warn) {\n",
       "    warn.parentNode.removeChild(warn);\n",
       "}\n",
       "$3Dmolpromise.then(function() {\n",
       "viewer_15253882089175308 = $3Dmol.createViewer($(\"#3dmolviewer_15253882089175308\"),{backgroundColor:\"white\"});\n",
       "$3Dmol.download(\"pdb:5WOG\", viewer_15253882089175308, {}, function() {\n",
       "\tviewer_15253882089175308.setStyle({\"chain\": \"A\"},{\"cartoon\": {\"color\": \"orange\"}});\n",
       "\tviewer_15253882089175308.setStyle({\"chain\": [\"A\", \"B\"]},{\"cartoon\": {\"color\": \"orange\"}});\n",
       "\tviewer_15253882089175308.addLabel(\"alpha subunits\",{\"fontColor\": \"orange\", \"backgroundColor\": \"lightgray\"},{\"chain\": [\"A\", \"B\"]});\n",
       "\tviewer_15253882089175308.setStyle({\"chain\": [\"C\", \"D\"]},{\"cartoon\": {\"color\": \"blue\"}});\n",
       "\tviewer_15253882089175308.addLabel(\"beta subunits\",{\"fontColor\": \"blue\", \"backgroundColor\": \"lightgray\"},{\"chain\": [\"C\", \"D\"]});\n",
       "\tviewer_15253882089175308.setStyle({\"resn\": \"HOH\"},{\"sphere\": {\"radius\": 0.5}});\n",
       "\tviewer_15253882089175308.setStyle({\"resn\": \"HOH\"},{});\n",
       "viewer_15253882089175308.render();\n",
       "})\n",
       "});\n",
       "</script>"
      ]
     },
     "metadata": {},
     "output_type": "display_data"
    }
   ],
   "source": [
    "viewer.setStyle({'resn': 'HOH'}, {})\n",
    "viewer.show()"
   ]
  },
  {
   "cell_type": "markdown",
   "metadata": {},
   "source": [
    "## Apply a style by residue name (resn)\n",
    "Show heme as spheres."
   ]
  },
  {
   "cell_type": "code",
   "execution_count": 7,
   "metadata": {},
   "outputs": [
    {
     "data": {
      "application/3dmoljs_load.v0": "<div id=\"3dmolviewer_1525388208925129\"  style=\"position: relative; width: 400px; height: 400px\">\n        <p id=\"3dmolwarning_1525388208925129\" style=\"background-color:#ffcccc;color:black\">You appear to be running in JupyterLab.  You need to install the 3dmol extension: <br>\n        <tt>jupyter labextension install jupyterlab_3dmol</tt></p>\n        </div>\n<script>\n\nvar loadScriptAsync = function(uri){\n  return new Promise((resolve, reject) => {\n    var tag = document.createElement('script');\n    tag.src = uri;\n    tag.async = true;\n    tag.onload = () => {\n      resolve();\n    };\n  var firstScriptTag = document.getElementsByTagName('script')[0];\n  firstScriptTag.parentNode.insertBefore(tag, firstScriptTag);\n});\n};\n\nif(typeof $3Dmolpromise === 'undefined') {\n$3Dmolpromise = null;\n  $3Dmolpromise = loadScriptAsync('https://3dmol.csb.pitt.edu/build/3Dmol.js');\n}\n\nvar viewer_1525388208925129 = null;\nvar warn = document.getElementById(\"3dmolwarning_1525388208925129\");\nif(warn) {\n    warn.parentNode.removeChild(warn);\n}\n$3Dmolpromise.then(function() {\nviewer_1525388208925129 = $3Dmol.createViewer($(\"#3dmolviewer_1525388208925129\"),{backgroundColor:\"white\"});\n$3Dmol.download(\"pdb:5WOG\", viewer_1525388208925129, {}, function() {\n\tviewer_1525388208925129.setStyle({\"chain\": \"A\"},{\"cartoon\": {\"color\": \"orange\"}});\n\tviewer_1525388208925129.setStyle({\"chain\": [\"A\", \"B\"]},{\"cartoon\": {\"color\": \"orange\"}});\n\tviewer_1525388208925129.addLabel(\"alpha subunits\",{\"fontColor\": \"orange\", \"backgroundColor\": \"lightgray\"},{\"chain\": [\"A\", \"B\"]});\n\tviewer_1525388208925129.setStyle({\"chain\": [\"C\", \"D\"]},{\"cartoon\": {\"color\": \"blue\"}});\n\tviewer_1525388208925129.addLabel(\"beta subunits\",{\"fontColor\": \"blue\", \"backgroundColor\": \"lightgray\"},{\"chain\": [\"C\", \"D\"]});\n\tviewer_1525388208925129.setStyle({\"resn\": \"HOH\"},{\"sphere\": {\"radius\": 0.5}});\n\tviewer_1525388208925129.setStyle({\"resn\": \"HOH\"},{});\n\tviewer_1525388208925129.setStyle({\"resn\": \"HEM\"},{\"sphere\": {\"colorscheme\": \"greenCarbon\"}});\nviewer_1525388208925129.render();\n})\n});\n</script>",
      "text/html": [
       "<div id=\"3dmolviewer_1525388208925129\"  style=\"position: relative; width: 400px; height: 400px\">\n",
       "        <p id=\"3dmolwarning_1525388208925129\" style=\"background-color:#ffcccc;color:black\">You appear to be running in JupyterLab.  You need to install the 3dmol extension: <br>\n",
       "        <tt>jupyter labextension install jupyterlab_3dmol</tt></p>\n",
       "        </div>\n",
       "<script>\n",
       "\n",
       "var loadScriptAsync = function(uri){\n",
       "  return new Promise((resolve, reject) => {\n",
       "    var tag = document.createElement('script');\n",
       "    tag.src = uri;\n",
       "    tag.async = true;\n",
       "    tag.onload = () => {\n",
       "      resolve();\n",
       "    };\n",
       "  var firstScriptTag = document.getElementsByTagName('script')[0];\n",
       "  firstScriptTag.parentNode.insertBefore(tag, firstScriptTag);\n",
       "});\n",
       "};\n",
       "\n",
       "if(typeof $3Dmolpromise === 'undefined') {\n",
       "$3Dmolpromise = null;\n",
       "  $3Dmolpromise = loadScriptAsync('https://3dmol.csb.pitt.edu/build/3Dmol.js');\n",
       "}\n",
       "\n",
       "var viewer_1525388208925129 = null;\n",
       "var warn = document.getElementById(\"3dmolwarning_1525388208925129\");\n",
       "if(warn) {\n",
       "    warn.parentNode.removeChild(warn);\n",
       "}\n",
       "$3Dmolpromise.then(function() {\n",
       "viewer_1525388208925129 = $3Dmol.createViewer($(\"#3dmolviewer_1525388208925129\"),{backgroundColor:\"white\"});\n",
       "$3Dmol.download(\"pdb:5WOG\", viewer_1525388208925129, {}, function() {\n",
       "\tviewer_1525388208925129.setStyle({\"chain\": \"A\"},{\"cartoon\": {\"color\": \"orange\"}});\n",
       "\tviewer_1525388208925129.setStyle({\"chain\": [\"A\", \"B\"]},{\"cartoon\": {\"color\": \"orange\"}});\n",
       "\tviewer_1525388208925129.addLabel(\"alpha subunits\",{\"fontColor\": \"orange\", \"backgroundColor\": \"lightgray\"},{\"chain\": [\"A\", \"B\"]});\n",
       "\tviewer_1525388208925129.setStyle({\"chain\": [\"C\", \"D\"]},{\"cartoon\": {\"color\": \"blue\"}});\n",
       "\tviewer_1525388208925129.addLabel(\"beta subunits\",{\"fontColor\": \"blue\", \"backgroundColor\": \"lightgray\"},{\"chain\": [\"C\", \"D\"]});\n",
       "\tviewer_1525388208925129.setStyle({\"resn\": \"HOH\"},{\"sphere\": {\"radius\": 0.5}});\n",
       "\tviewer_1525388208925129.setStyle({\"resn\": \"HOH\"},{});\n",
       "\tviewer_1525388208925129.setStyle({\"resn\": \"HEM\"},{\"sphere\": {\"colorscheme\": \"greenCarbon\"}});\n",
       "viewer_1525388208925129.render();\n",
       "})\n",
       "});\n",
       "</script>"
      ]
     },
     "metadata": {},
     "output_type": "display_data"
    }
   ],
   "source": [
    "viewer.setStyle({'resn': 'HEM'},{'sphere': {'colorscheme': 'greenCarbon'}})\n",
    "viewer.show()"
   ]
  },
  {
   "cell_type": "markdown",
   "metadata": {},
   "source": [
    "## Apply a style to a specific residue by residue name (resn)\n",
    "Here we select the heme molecule in chain A and color its carbons red. We also adjust the stick radius. Finally, we zoom into a specific heme residue in chain A."
   ]
  },
  {
   "cell_type": "code",
   "execution_count": 8,
   "metadata": {},
   "outputs": [
    {
     "data": {
      "application/3dmoljs_load.v0": "<div id=\"3dmolviewer_1525388208934114\"  style=\"position: relative; width: 400px; height: 400px\">\n        <p id=\"3dmolwarning_1525388208934114\" style=\"background-color:#ffcccc;color:black\">You appear to be running in JupyterLab.  You need to install the 3dmol extension: <br>\n        <tt>jupyter labextension install jupyterlab_3dmol</tt></p>\n        </div>\n<script>\n\nvar loadScriptAsync = function(uri){\n  return new Promise((resolve, reject) => {\n    var tag = document.createElement('script');\n    tag.src = uri;\n    tag.async = true;\n    tag.onload = () => {\n      resolve();\n    };\n  var firstScriptTag = document.getElementsByTagName('script')[0];\n  firstScriptTag.parentNode.insertBefore(tag, firstScriptTag);\n});\n};\n\nif(typeof $3Dmolpromise === 'undefined') {\n$3Dmolpromise = null;\n  $3Dmolpromise = loadScriptAsync('https://3dmol.csb.pitt.edu/build/3Dmol.js');\n}\n\nvar viewer_1525388208934114 = null;\nvar warn = document.getElementById(\"3dmolwarning_1525388208934114\");\nif(warn) {\n    warn.parentNode.removeChild(warn);\n}\n$3Dmolpromise.then(function() {\nviewer_1525388208934114 = $3Dmol.createViewer($(\"#3dmolviewer_1525388208934114\"),{backgroundColor:\"white\"});\n$3Dmol.download(\"pdb:5WOG\", viewer_1525388208934114, {}, function() {\n\tviewer_1525388208934114.setStyle({\"chain\": \"A\"},{\"cartoon\": {\"color\": \"orange\"}});\n\tviewer_1525388208934114.setStyle({\"chain\": [\"A\", \"B\"]},{\"cartoon\": {\"color\": \"orange\"}});\n\tviewer_1525388208934114.addLabel(\"alpha subunits\",{\"fontColor\": \"orange\", \"backgroundColor\": \"lightgray\"},{\"chain\": [\"A\", \"B\"]});\n\tviewer_1525388208934114.setStyle({\"chain\": [\"C\", \"D\"]},{\"cartoon\": {\"color\": \"blue\"}});\n\tviewer_1525388208934114.addLabel(\"beta subunits\",{\"fontColor\": \"blue\", \"backgroundColor\": \"lightgray\"},{\"chain\": [\"C\", \"D\"]});\n\tviewer_1525388208934114.setStyle({\"resn\": \"HOH\"},{\"sphere\": {\"radius\": 0.5}});\n\tviewer_1525388208934114.setStyle({\"resn\": \"HOH\"},{});\n\tviewer_1525388208934114.setStyle({\"resn\": \"HEM\"},{\"sphere\": {\"colorscheme\": \"greenCarbon\"}});\n\tviewer_1525388208934114.setStyle({\"chain\": \"A\", \"resn\": \"HEM\"},{\"stick\": {\"colorscheme\": \"redCarbon\", \"radius\": 0.2}});\n\tviewer_1525388208934114.zoomTo({\"chain\": \"A\", \"resn\": \"HEM\"});\nviewer_1525388208934114.render();\n})\n});\n</script>",
      "text/html": [
       "<div id=\"3dmolviewer_1525388208934114\"  style=\"position: relative; width: 400px; height: 400px\">\n",
       "        <p id=\"3dmolwarning_1525388208934114\" style=\"background-color:#ffcccc;color:black\">You appear to be running in JupyterLab.  You need to install the 3dmol extension: <br>\n",
       "        <tt>jupyter labextension install jupyterlab_3dmol</tt></p>\n",
       "        </div>\n",
       "<script>\n",
       "\n",
       "var loadScriptAsync = function(uri){\n",
       "  return new Promise((resolve, reject) => {\n",
       "    var tag = document.createElement('script');\n",
       "    tag.src = uri;\n",
       "    tag.async = true;\n",
       "    tag.onload = () => {\n",
       "      resolve();\n",
       "    };\n",
       "  var firstScriptTag = document.getElementsByTagName('script')[0];\n",
       "  firstScriptTag.parentNode.insertBefore(tag, firstScriptTag);\n",
       "});\n",
       "};\n",
       "\n",
       "if(typeof $3Dmolpromise === 'undefined') {\n",
       "$3Dmolpromise = null;\n",
       "  $3Dmolpromise = loadScriptAsync('https://3dmol.csb.pitt.edu/build/3Dmol.js');\n",
       "}\n",
       "\n",
       "var viewer_1525388208934114 = null;\n",
       "var warn = document.getElementById(\"3dmolwarning_1525388208934114\");\n",
       "if(warn) {\n",
       "    warn.parentNode.removeChild(warn);\n",
       "}\n",
       "$3Dmolpromise.then(function() {\n",
       "viewer_1525388208934114 = $3Dmol.createViewer($(\"#3dmolviewer_1525388208934114\"),{backgroundColor:\"white\"});\n",
       "$3Dmol.download(\"pdb:5WOG\", viewer_1525388208934114, {}, function() {\n",
       "\tviewer_1525388208934114.setStyle({\"chain\": \"A\"},{\"cartoon\": {\"color\": \"orange\"}});\n",
       "\tviewer_1525388208934114.setStyle({\"chain\": [\"A\", \"B\"]},{\"cartoon\": {\"color\": \"orange\"}});\n",
       "\tviewer_1525388208934114.addLabel(\"alpha subunits\",{\"fontColor\": \"orange\", \"backgroundColor\": \"lightgray\"},{\"chain\": [\"A\", \"B\"]});\n",
       "\tviewer_1525388208934114.setStyle({\"chain\": [\"C\", \"D\"]},{\"cartoon\": {\"color\": \"blue\"}});\n",
       "\tviewer_1525388208934114.addLabel(\"beta subunits\",{\"fontColor\": \"blue\", \"backgroundColor\": \"lightgray\"},{\"chain\": [\"C\", \"D\"]});\n",
       "\tviewer_1525388208934114.setStyle({\"resn\": \"HOH\"},{\"sphere\": {\"radius\": 0.5}});\n",
       "\tviewer_1525388208934114.setStyle({\"resn\": \"HOH\"},{});\n",
       "\tviewer_1525388208934114.setStyle({\"resn\": \"HEM\"},{\"sphere\": {\"colorscheme\": \"greenCarbon\"}});\n",
       "\tviewer_1525388208934114.setStyle({\"chain\": \"A\", \"resn\": \"HEM\"},{\"stick\": {\"colorscheme\": \"redCarbon\", \"radius\": 0.2}});\n",
       "\tviewer_1525388208934114.zoomTo({\"chain\": \"A\", \"resn\": \"HEM\"});\n",
       "viewer_1525388208934114.render();\n",
       "})\n",
       "});\n",
       "</script>"
      ]
     },
     "metadata": {},
     "output_type": "display_data"
    }
   ],
   "source": [
    "viewer.setStyle({'chain': 'A', 'resn': 'HEM'},{'stick': {'colorscheme': 'redCarbon', 'radius': 0.2}})\n",
    "viewer.zoomTo({'chain': 'A', 'resn': 'HEM'})\n",
    "viewer.show()"
   ]
  },
  {
   "cell_type": "markdown",
   "metadata": {},
   "source": [
    "# Apply style to a specific chain and residue by residue index (resi)\n",
    "In the following example we display the HIS-87 side chain that interacts with iron in heme."
   ]
  },
  {
   "cell_type": "code",
   "execution_count": 9,
   "metadata": {},
   "outputs": [
    {
     "data": {
      "application/3dmoljs_load.v0": "<div id=\"3dmolviewer_1525388208942229\"  style=\"position: relative; width: 400px; height: 400px\">\n        <p id=\"3dmolwarning_1525388208942229\" style=\"background-color:#ffcccc;color:black\">You appear to be running in JupyterLab.  You need to install the 3dmol extension: <br>\n        <tt>jupyter labextension install jupyterlab_3dmol</tt></p>\n        </div>\n<script>\n\nvar loadScriptAsync = function(uri){\n  return new Promise((resolve, reject) => {\n    var tag = document.createElement('script');\n    tag.src = uri;\n    tag.async = true;\n    tag.onload = () => {\n      resolve();\n    };\n  var firstScriptTag = document.getElementsByTagName('script')[0];\n  firstScriptTag.parentNode.insertBefore(tag, firstScriptTag);\n});\n};\n\nif(typeof $3Dmolpromise === 'undefined') {\n$3Dmolpromise = null;\n  $3Dmolpromise = loadScriptAsync('https://3dmol.csb.pitt.edu/build/3Dmol.js');\n}\n\nvar viewer_1525388208942229 = null;\nvar warn = document.getElementById(\"3dmolwarning_1525388208942229\");\nif(warn) {\n    warn.parentNode.removeChild(warn);\n}\n$3Dmolpromise.then(function() {\nviewer_1525388208942229 = $3Dmol.createViewer($(\"#3dmolviewer_1525388208942229\"),{backgroundColor:\"white\"});\n$3Dmol.download(\"pdb:5WOG\", viewer_1525388208942229, {}, function() {\n\tviewer_1525388208942229.setStyle({\"chain\": \"A\"},{\"cartoon\": {\"color\": \"orange\"}});\n\tviewer_1525388208942229.setStyle({\"chain\": [\"A\", \"B\"]},{\"cartoon\": {\"color\": \"orange\"}});\n\tviewer_1525388208942229.addLabel(\"alpha subunits\",{\"fontColor\": \"orange\", \"backgroundColor\": \"lightgray\"},{\"chain\": [\"A\", \"B\"]});\n\tviewer_1525388208942229.setStyle({\"chain\": [\"C\", \"D\"]},{\"cartoon\": {\"color\": \"blue\"}});\n\tviewer_1525388208942229.addLabel(\"beta subunits\",{\"fontColor\": \"blue\", \"backgroundColor\": \"lightgray\"},{\"chain\": [\"C\", \"D\"]});\n\tviewer_1525388208942229.setStyle({\"resn\": \"HOH\"},{\"sphere\": {\"radius\": 0.5}});\n\tviewer_1525388208942229.setStyle({\"resn\": \"HOH\"},{});\n\tviewer_1525388208942229.setStyle({\"resn\": \"HEM\"},{\"sphere\": {\"colorscheme\": \"greenCarbon\"}});\n\tviewer_1525388208942229.setStyle({\"chain\": \"A\", \"resn\": \"HEM\"},{\"stick\": {\"colorscheme\": \"redCarbon\", \"radius\": 0.2}});\n\tviewer_1525388208942229.zoomTo({\"chain\": \"A\", \"resn\": \"HEM\"});\n\tviewer_1525388208942229.setStyle({\"chain\": \"A\", \"resi\": \"87\"},{\"stick\": {\"colorscheme\": \"redCarbon\"}});\nviewer_1525388208942229.render();\n})\n});\n</script>",
      "text/html": [
       "<div id=\"3dmolviewer_1525388208942229\"  style=\"position: relative; width: 400px; height: 400px\">\n",
       "        <p id=\"3dmolwarning_1525388208942229\" style=\"background-color:#ffcccc;color:black\">You appear to be running in JupyterLab.  You need to install the 3dmol extension: <br>\n",
       "        <tt>jupyter labextension install jupyterlab_3dmol</tt></p>\n",
       "        </div>\n",
       "<script>\n",
       "\n",
       "var loadScriptAsync = function(uri){\n",
       "  return new Promise((resolve, reject) => {\n",
       "    var tag = document.createElement('script');\n",
       "    tag.src = uri;\n",
       "    tag.async = true;\n",
       "    tag.onload = () => {\n",
       "      resolve();\n",
       "    };\n",
       "  var firstScriptTag = document.getElementsByTagName('script')[0];\n",
       "  firstScriptTag.parentNode.insertBefore(tag, firstScriptTag);\n",
       "});\n",
       "};\n",
       "\n",
       "if(typeof $3Dmolpromise === 'undefined') {\n",
       "$3Dmolpromise = null;\n",
       "  $3Dmolpromise = loadScriptAsync('https://3dmol.csb.pitt.edu/build/3Dmol.js');\n",
       "}\n",
       "\n",
       "var viewer_1525388208942229 = null;\n",
       "var warn = document.getElementById(\"3dmolwarning_1525388208942229\");\n",
       "if(warn) {\n",
       "    warn.parentNode.removeChild(warn);\n",
       "}\n",
       "$3Dmolpromise.then(function() {\n",
       "viewer_1525388208942229 = $3Dmol.createViewer($(\"#3dmolviewer_1525388208942229\"),{backgroundColor:\"white\"});\n",
       "$3Dmol.download(\"pdb:5WOG\", viewer_1525388208942229, {}, function() {\n",
       "\tviewer_1525388208942229.setStyle({\"chain\": \"A\"},{\"cartoon\": {\"color\": \"orange\"}});\n",
       "\tviewer_1525388208942229.setStyle({\"chain\": [\"A\", \"B\"]},{\"cartoon\": {\"color\": \"orange\"}});\n",
       "\tviewer_1525388208942229.addLabel(\"alpha subunits\",{\"fontColor\": \"orange\", \"backgroundColor\": \"lightgray\"},{\"chain\": [\"A\", \"B\"]});\n",
       "\tviewer_1525388208942229.setStyle({\"chain\": [\"C\", \"D\"]},{\"cartoon\": {\"color\": \"blue\"}});\n",
       "\tviewer_1525388208942229.addLabel(\"beta subunits\",{\"fontColor\": \"blue\", \"backgroundColor\": \"lightgray\"},{\"chain\": [\"C\", \"D\"]});\n",
       "\tviewer_1525388208942229.setStyle({\"resn\": \"HOH\"},{\"sphere\": {\"radius\": 0.5}});\n",
       "\tviewer_1525388208942229.setStyle({\"resn\": \"HOH\"},{});\n",
       "\tviewer_1525388208942229.setStyle({\"resn\": \"HEM\"},{\"sphere\": {\"colorscheme\": \"greenCarbon\"}});\n",
       "\tviewer_1525388208942229.setStyle({\"chain\": \"A\", \"resn\": \"HEM\"},{\"stick\": {\"colorscheme\": \"redCarbon\", \"radius\": 0.2}});\n",
       "\tviewer_1525388208942229.zoomTo({\"chain\": \"A\", \"resn\": \"HEM\"});\n",
       "\tviewer_1525388208942229.setStyle({\"chain\": \"A\", \"resi\": \"87\"},{\"stick\": {\"colorscheme\": \"redCarbon\"}});\n",
       "viewer_1525388208942229.render();\n",
       "})\n",
       "});\n",
       "</script>"
      ]
     },
     "metadata": {},
     "output_type": "display_data"
    }
   ],
   "source": [
    "viewer.setStyle({'chain': 'A', 'resi': '87'},{'stick': {'colorscheme': 'redCarbon'}})\n",
    "viewer.show()"
   ]
  },
  {
   "cell_type": "markdown",
   "metadata": {},
   "source": [
    "# Apply style to an element (elem)\n",
    "We display the iron atom as a green sphere."
   ]
  },
  {
   "cell_type": "code",
   "execution_count": 10,
   "metadata": {},
   "outputs": [
    {
     "data": {
      "application/3dmoljs_load.v0": "<div id=\"3dmolviewer_1525388208950023\"  style=\"position: relative; width: 400px; height: 400px\">\n        <p id=\"3dmolwarning_1525388208950023\" style=\"background-color:#ffcccc;color:black\">You appear to be running in JupyterLab.  You need to install the 3dmol extension: <br>\n        <tt>jupyter labextension install jupyterlab_3dmol</tt></p>\n        </div>\n<script>\n\nvar loadScriptAsync = function(uri){\n  return new Promise((resolve, reject) => {\n    var tag = document.createElement('script');\n    tag.src = uri;\n    tag.async = true;\n    tag.onload = () => {\n      resolve();\n    };\n  var firstScriptTag = document.getElementsByTagName('script')[0];\n  firstScriptTag.parentNode.insertBefore(tag, firstScriptTag);\n});\n};\n\nif(typeof $3Dmolpromise === 'undefined') {\n$3Dmolpromise = null;\n  $3Dmolpromise = loadScriptAsync('https://3dmol.csb.pitt.edu/build/3Dmol.js');\n}\n\nvar viewer_1525388208950023 = null;\nvar warn = document.getElementById(\"3dmolwarning_1525388208950023\");\nif(warn) {\n    warn.parentNode.removeChild(warn);\n}\n$3Dmolpromise.then(function() {\nviewer_1525388208950023 = $3Dmol.createViewer($(\"#3dmolviewer_1525388208950023\"),{backgroundColor:\"white\"});\n$3Dmol.download(\"pdb:5WOG\", viewer_1525388208950023, {}, function() {\n\tviewer_1525388208950023.setStyle({\"chain\": \"A\"},{\"cartoon\": {\"color\": \"orange\"}});\n\tviewer_1525388208950023.setStyle({\"chain\": [\"A\", \"B\"]},{\"cartoon\": {\"color\": \"orange\"}});\n\tviewer_1525388208950023.addLabel(\"alpha subunits\",{\"fontColor\": \"orange\", \"backgroundColor\": \"lightgray\"},{\"chain\": [\"A\", \"B\"]});\n\tviewer_1525388208950023.setStyle({\"chain\": [\"C\", \"D\"]},{\"cartoon\": {\"color\": \"blue\"}});\n\tviewer_1525388208950023.addLabel(\"beta subunits\",{\"fontColor\": \"blue\", \"backgroundColor\": \"lightgray\"},{\"chain\": [\"C\", \"D\"]});\n\tviewer_1525388208950023.setStyle({\"resn\": \"HOH\"},{\"sphere\": {\"radius\": 0.5}});\n\tviewer_1525388208950023.setStyle({\"resn\": \"HOH\"},{});\n\tviewer_1525388208950023.setStyle({\"resn\": \"HEM\"},{\"sphere\": {\"colorscheme\": \"greenCarbon\"}});\n\tviewer_1525388208950023.setStyle({\"chain\": \"A\", \"resn\": \"HEM\"},{\"stick\": {\"colorscheme\": \"redCarbon\", \"radius\": 0.2}});\n\tviewer_1525388208950023.zoomTo({\"chain\": \"A\", \"resn\": \"HEM\"});\n\tviewer_1525388208950023.setStyle({\"chain\": \"A\", \"resi\": \"87\"},{\"stick\": {\"colorscheme\": \"redCarbon\"}});\n\tviewer_1525388208950023.setStyle({\"chain\": \"A\", \"elem\": \"Fe\"},{\"sphere\": {\"color\": \"green\"}});\nviewer_1525388208950023.render();\n})\n});\n</script>",
      "text/html": [
       "<div id=\"3dmolviewer_1525388208950023\"  style=\"position: relative; width: 400px; height: 400px\">\n",
       "        <p id=\"3dmolwarning_1525388208950023\" style=\"background-color:#ffcccc;color:black\">You appear to be running in JupyterLab.  You need to install the 3dmol extension: <br>\n",
       "        <tt>jupyter labextension install jupyterlab_3dmol</tt></p>\n",
       "        </div>\n",
       "<script>\n",
       "\n",
       "var loadScriptAsync = function(uri){\n",
       "  return new Promise((resolve, reject) => {\n",
       "    var tag = document.createElement('script');\n",
       "    tag.src = uri;\n",
       "    tag.async = true;\n",
       "    tag.onload = () => {\n",
       "      resolve();\n",
       "    };\n",
       "  var firstScriptTag = document.getElementsByTagName('script')[0];\n",
       "  firstScriptTag.parentNode.insertBefore(tag, firstScriptTag);\n",
       "});\n",
       "};\n",
       "\n",
       "if(typeof $3Dmolpromise === 'undefined') {\n",
       "$3Dmolpromise = null;\n",
       "  $3Dmolpromise = loadScriptAsync('https://3dmol.csb.pitt.edu/build/3Dmol.js');\n",
       "}\n",
       "\n",
       "var viewer_1525388208950023 = null;\n",
       "var warn = document.getElementById(\"3dmolwarning_1525388208950023\");\n",
       "if(warn) {\n",
       "    warn.parentNode.removeChild(warn);\n",
       "}\n",
       "$3Dmolpromise.then(function() {\n",
       "viewer_1525388208950023 = $3Dmol.createViewer($(\"#3dmolviewer_1525388208950023\"),{backgroundColor:\"white\"});\n",
       "$3Dmol.download(\"pdb:5WOG\", viewer_1525388208950023, {}, function() {\n",
       "\tviewer_1525388208950023.setStyle({\"chain\": \"A\"},{\"cartoon\": {\"color\": \"orange\"}});\n",
       "\tviewer_1525388208950023.setStyle({\"chain\": [\"A\", \"B\"]},{\"cartoon\": {\"color\": \"orange\"}});\n",
       "\tviewer_1525388208950023.addLabel(\"alpha subunits\",{\"fontColor\": \"orange\", \"backgroundColor\": \"lightgray\"},{\"chain\": [\"A\", \"B\"]});\n",
       "\tviewer_1525388208950023.setStyle({\"chain\": [\"C\", \"D\"]},{\"cartoon\": {\"color\": \"blue\"}});\n",
       "\tviewer_1525388208950023.addLabel(\"beta subunits\",{\"fontColor\": \"blue\", \"backgroundColor\": \"lightgray\"},{\"chain\": [\"C\", \"D\"]});\n",
       "\tviewer_1525388208950023.setStyle({\"resn\": \"HOH\"},{\"sphere\": {\"radius\": 0.5}});\n",
       "\tviewer_1525388208950023.setStyle({\"resn\": \"HOH\"},{});\n",
       "\tviewer_1525388208950023.setStyle({\"resn\": \"HEM\"},{\"sphere\": {\"colorscheme\": \"greenCarbon\"}});\n",
       "\tviewer_1525388208950023.setStyle({\"chain\": \"A\", \"resn\": \"HEM\"},{\"stick\": {\"colorscheme\": \"redCarbon\", \"radius\": 0.2}});\n",
       "\tviewer_1525388208950023.zoomTo({\"chain\": \"A\", \"resn\": \"HEM\"});\n",
       "\tviewer_1525388208950023.setStyle({\"chain\": \"A\", \"resi\": \"87\"},{\"stick\": {\"colorscheme\": \"redCarbon\"}});\n",
       "\tviewer_1525388208950023.setStyle({\"chain\": \"A\", \"elem\": \"Fe\"},{\"sphere\": {\"color\": \"green\"}});\n",
       "viewer_1525388208950023.render();\n",
       "})\n",
       "});\n",
       "</script>"
      ]
     },
     "metadata": {},
     "output_type": "display_data"
    }
   ],
   "source": [
    "viewer.setStyle({'chain': 'A', 'elem': 'Fe'}, {'sphere': {'color': 'green'}})\n",
    "viewer.show()"
   ]
  },
  {
   "cell_type": "markdown",
   "metadata": {},
   "source": [
    "# Add residue labels\n",
    "Finally, we add labels to HIS-87 and HEM."
   ]
  },
  {
   "cell_type": "code",
   "execution_count": 11,
   "metadata": {},
   "outputs": [
    {
     "data": {
      "application/3dmoljs_load.v0": "<div id=\"3dmolviewer_1525388208960623\"  style=\"position: relative; width: 400px; height: 400px\">\n        <p id=\"3dmolwarning_1525388208960623\" style=\"background-color:#ffcccc;color:black\">You appear to be running in JupyterLab.  You need to install the 3dmol extension: <br>\n        <tt>jupyter labextension install jupyterlab_3dmol</tt></p>\n        </div>\n<script>\n\nvar loadScriptAsync = function(uri){\n  return new Promise((resolve, reject) => {\n    var tag = document.createElement('script');\n    tag.src = uri;\n    tag.async = true;\n    tag.onload = () => {\n      resolve();\n    };\n  var firstScriptTag = document.getElementsByTagName('script')[0];\n  firstScriptTag.parentNode.insertBefore(tag, firstScriptTag);\n});\n};\n\nif(typeof $3Dmolpromise === 'undefined') {\n$3Dmolpromise = null;\n  $3Dmolpromise = loadScriptAsync('https://3dmol.csb.pitt.edu/build/3Dmol.js');\n}\n\nvar viewer_1525388208960623 = null;\nvar warn = document.getElementById(\"3dmolwarning_1525388208960623\");\nif(warn) {\n    warn.parentNode.removeChild(warn);\n}\n$3Dmolpromise.then(function() {\nviewer_1525388208960623 = $3Dmol.createViewer($(\"#3dmolviewer_1525388208960623\"),{backgroundColor:\"white\"});\n$3Dmol.download(\"pdb:5WOG\", viewer_1525388208960623, {}, function() {\n\tviewer_1525388208960623.setStyle({\"chain\": \"A\"},{\"cartoon\": {\"color\": \"orange\"}});\n\tviewer_1525388208960623.setStyle({\"chain\": [\"A\", \"B\"]},{\"cartoon\": {\"color\": \"orange\"}});\n\tviewer_1525388208960623.addLabel(\"alpha subunits\",{\"fontColor\": \"orange\", \"backgroundColor\": \"lightgray\"},{\"chain\": [\"A\", \"B\"]});\n\tviewer_1525388208960623.setStyle({\"chain\": [\"C\", \"D\"]},{\"cartoon\": {\"color\": \"blue\"}});\n\tviewer_1525388208960623.addLabel(\"beta subunits\",{\"fontColor\": \"blue\", \"backgroundColor\": \"lightgray\"},{\"chain\": [\"C\", \"D\"]});\n\tviewer_1525388208960623.setStyle({\"resn\": \"HOH\"},{\"sphere\": {\"radius\": 0.5}});\n\tviewer_1525388208960623.setStyle({\"resn\": \"HOH\"},{});\n\tviewer_1525388208960623.setStyle({\"resn\": \"HEM\"},{\"sphere\": {\"colorscheme\": \"greenCarbon\"}});\n\tviewer_1525388208960623.setStyle({\"chain\": \"A\", \"resn\": \"HEM\"},{\"stick\": {\"colorscheme\": \"redCarbon\", \"radius\": 0.2}});\n\tviewer_1525388208960623.zoomTo({\"chain\": \"A\", \"resn\": \"HEM\"});\n\tviewer_1525388208960623.setStyle({\"chain\": \"A\", \"resi\": \"87\"},{\"stick\": {\"colorscheme\": \"redCarbon\"}});\n\tviewer_1525388208960623.setStyle({\"chain\": \"A\", \"elem\": \"Fe\"},{\"sphere\": {\"color\": \"green\"}});\n\tviewer_1525388208960623.addResLabels({\"chain\": \"A\", \"resi\": \"87\"});\n\tviewer_1525388208960623.addResLabels({\"chain\": \"A\", \"resn\": \"HEM\"});\nviewer_1525388208960623.render();\n})\n});\n</script>",
      "text/html": [
       "<div id=\"3dmolviewer_1525388208960623\"  style=\"position: relative; width: 400px; height: 400px\">\n",
       "        <p id=\"3dmolwarning_1525388208960623\" style=\"background-color:#ffcccc;color:black\">You appear to be running in JupyterLab.  You need to install the 3dmol extension: <br>\n",
       "        <tt>jupyter labextension install jupyterlab_3dmol</tt></p>\n",
       "        </div>\n",
       "<script>\n",
       "\n",
       "var loadScriptAsync = function(uri){\n",
       "  return new Promise((resolve, reject) => {\n",
       "    var tag = document.createElement('script');\n",
       "    tag.src = uri;\n",
       "    tag.async = true;\n",
       "    tag.onload = () => {\n",
       "      resolve();\n",
       "    };\n",
       "  var firstScriptTag = document.getElementsByTagName('script')[0];\n",
       "  firstScriptTag.parentNode.insertBefore(tag, firstScriptTag);\n",
       "});\n",
       "};\n",
       "\n",
       "if(typeof $3Dmolpromise === 'undefined') {\n",
       "$3Dmolpromise = null;\n",
       "  $3Dmolpromise = loadScriptAsync('https://3dmol.csb.pitt.edu/build/3Dmol.js');\n",
       "}\n",
       "\n",
       "var viewer_1525388208960623 = null;\n",
       "var warn = document.getElementById(\"3dmolwarning_1525388208960623\");\n",
       "if(warn) {\n",
       "    warn.parentNode.removeChild(warn);\n",
       "}\n",
       "$3Dmolpromise.then(function() {\n",
       "viewer_1525388208960623 = $3Dmol.createViewer($(\"#3dmolviewer_1525388208960623\"),{backgroundColor:\"white\"});\n",
       "$3Dmol.download(\"pdb:5WOG\", viewer_1525388208960623, {}, function() {\n",
       "\tviewer_1525388208960623.setStyle({\"chain\": \"A\"},{\"cartoon\": {\"color\": \"orange\"}});\n",
       "\tviewer_1525388208960623.setStyle({\"chain\": [\"A\", \"B\"]},{\"cartoon\": {\"color\": \"orange\"}});\n",
       "\tviewer_1525388208960623.addLabel(\"alpha subunits\",{\"fontColor\": \"orange\", \"backgroundColor\": \"lightgray\"},{\"chain\": [\"A\", \"B\"]});\n",
       "\tviewer_1525388208960623.setStyle({\"chain\": [\"C\", \"D\"]},{\"cartoon\": {\"color\": \"blue\"}});\n",
       "\tviewer_1525388208960623.addLabel(\"beta subunits\",{\"fontColor\": \"blue\", \"backgroundColor\": \"lightgray\"},{\"chain\": [\"C\", \"D\"]});\n",
       "\tviewer_1525388208960623.setStyle({\"resn\": \"HOH\"},{\"sphere\": {\"radius\": 0.5}});\n",
       "\tviewer_1525388208960623.setStyle({\"resn\": \"HOH\"},{});\n",
       "\tviewer_1525388208960623.setStyle({\"resn\": \"HEM\"},{\"sphere\": {\"colorscheme\": \"greenCarbon\"}});\n",
       "\tviewer_1525388208960623.setStyle({\"chain\": \"A\", \"resn\": \"HEM\"},{\"stick\": {\"colorscheme\": \"redCarbon\", \"radius\": 0.2}});\n",
       "\tviewer_1525388208960623.zoomTo({\"chain\": \"A\", \"resn\": \"HEM\"});\n",
       "\tviewer_1525388208960623.setStyle({\"chain\": \"A\", \"resi\": \"87\"},{\"stick\": {\"colorscheme\": \"redCarbon\"}});\n",
       "\tviewer_1525388208960623.setStyle({\"chain\": \"A\", \"elem\": \"Fe\"},{\"sphere\": {\"color\": \"green\"}});\n",
       "\tviewer_1525388208960623.addResLabels({\"chain\": \"A\", \"resi\": \"87\"});\n",
       "\tviewer_1525388208960623.addResLabels({\"chain\": \"A\", \"resn\": \"HEM\"});\n",
       "viewer_1525388208960623.render();\n",
       "})\n",
       "});\n",
       "</script>"
      ]
     },
     "metadata": {},
     "output_type": "display_data"
    }
   ],
   "source": [
    "viewer.addResLabels({'chain': 'A', 'resi': '87'})\n",
    "viewer.addResLabels({'chain': 'A', 'resn': 'HEM'})\n",
    "viewer.show()"
   ]
  },
  {
   "cell_type": "markdown",
   "metadata": {
    "collapsed": true
   },
   "source": [
    "# Select binding site residues by proximity\n",
    "Here we select all residues within 5 A of the HEM in chain A."
   ]
  },
  {
   "cell_type": "code",
   "execution_count": 12,
   "metadata": {},
   "outputs": [
    {
     "data": {
      "application/3dmoljs_load.v0": "<div id=\"3dmolviewer_1525388208972668\"  style=\"position: relative; width: 400px; height: 400px\">\n        <p id=\"3dmolwarning_1525388208972668\" style=\"background-color:#ffcccc;color:black\">You appear to be running in JupyterLab.  You need to install the 3dmol extension: <br>\n        <tt>jupyter labextension install jupyterlab_3dmol</tt></p>\n        </div>\n<script>\n\nvar loadScriptAsync = function(uri){\n  return new Promise((resolve, reject) => {\n    var tag = document.createElement('script');\n    tag.src = uri;\n    tag.async = true;\n    tag.onload = () => {\n      resolve();\n    };\n  var firstScriptTag = document.getElementsByTagName('script')[0];\n  firstScriptTag.parentNode.insertBefore(tag, firstScriptTag);\n});\n};\n\nif(typeof $3Dmolpromise === 'undefined') {\n$3Dmolpromise = null;\n  $3Dmolpromise = loadScriptAsync('https://3dmol.csb.pitt.edu/build/3Dmol.js');\n}\n\nvar viewer_1525388208972668 = null;\nvar warn = document.getElementById(\"3dmolwarning_1525388208972668\");\nif(warn) {\n    warn.parentNode.removeChild(warn);\n}\n$3Dmolpromise.then(function() {\nviewer_1525388208972668 = $3Dmol.createViewer($(\"#3dmolviewer_1525388208972668\"),{backgroundColor:\"white\"});\n$3Dmol.download(\"pdb:5WOG\", viewer_1525388208972668, {}, function() {\n\tviewer_1525388208972668.setStyle({\"chain\": \"A\"},{\"cartoon\": {\"color\": \"orange\"}});\n\tviewer_1525388208972668.setStyle({\"chain\": [\"A\", \"B\"]},{\"cartoon\": {\"color\": \"orange\"}});\n\tviewer_1525388208972668.addLabel(\"alpha subunits\",{\"fontColor\": \"orange\", \"backgroundColor\": \"lightgray\"},{\"chain\": [\"A\", \"B\"]});\n\tviewer_1525388208972668.setStyle({\"chain\": [\"C\", \"D\"]},{\"cartoon\": {\"color\": \"blue\"}});\n\tviewer_1525388208972668.addLabel(\"beta subunits\",{\"fontColor\": \"blue\", \"backgroundColor\": \"lightgray\"},{\"chain\": [\"C\", \"D\"]});\n\tviewer_1525388208972668.setStyle({\"resn\": \"HOH\"},{\"sphere\": {\"radius\": 0.5}});\n\tviewer_1525388208972668.setStyle({\"resn\": \"HOH\"},{});\n\tviewer_1525388208972668.setStyle({\"resn\": \"HEM\"},{\"sphere\": {\"colorscheme\": \"greenCarbon\"}});\n\tviewer_1525388208972668.setStyle({\"chain\": \"A\", \"resn\": \"HEM\"},{\"stick\": {\"colorscheme\": \"redCarbon\", \"radius\": 0.2}});\n\tviewer_1525388208972668.zoomTo({\"chain\": \"A\", \"resn\": \"HEM\"});\n\tviewer_1525388208972668.setStyle({\"chain\": \"A\", \"resi\": \"87\"},{\"stick\": {\"colorscheme\": \"redCarbon\"}});\n\tviewer_1525388208972668.setStyle({\"chain\": \"A\", \"elem\": \"Fe\"},{\"sphere\": {\"color\": \"green\"}});\n\tviewer_1525388208972668.addResLabels({\"chain\": \"A\", \"resi\": \"87\"});\n\tviewer_1525388208972668.addResLabels({\"chain\": \"A\", \"resn\": \"HEM\"});\n\tviewer_1525388208972668.removeAllLabels();\n\tviewer_1525388208972668.setStyle({\"line\": {}});\n\tviewer_1525388208972668.setStyle({\"resn\": \"HEM\", \"chain\": \"A\", \"byres\": \"true\", \"expand\": 5},{\"stick\": {\"colorscheme\": \"orangeCarbon\"}});\n\tviewer_1525388208972668.setStyle({\"chain\": \"A\", \"resn\": \"HEM\"},{\"sphere\": {\"colorscheme\": \"lightgreenCarbon\"}});\n\tviewer_1525388208972668.zoomTo({\"resn\": \"HEM\", \"chain\": \"A\", \"byres\": \"true\", \"expand\": 5});\nviewer_1525388208972668.render();\n})\n});\n</script>",
      "text/html": [
       "<div id=\"3dmolviewer_1525388208972668\"  style=\"position: relative; width: 400px; height: 400px\">\n",
       "        <p id=\"3dmolwarning_1525388208972668\" style=\"background-color:#ffcccc;color:black\">You appear to be running in JupyterLab.  You need to install the 3dmol extension: <br>\n",
       "        <tt>jupyter labextension install jupyterlab_3dmol</tt></p>\n",
       "        </div>\n",
       "<script>\n",
       "\n",
       "var loadScriptAsync = function(uri){\n",
       "  return new Promise((resolve, reject) => {\n",
       "    var tag = document.createElement('script');\n",
       "    tag.src = uri;\n",
       "    tag.async = true;\n",
       "    tag.onload = () => {\n",
       "      resolve();\n",
       "    };\n",
       "  var firstScriptTag = document.getElementsByTagName('script')[0];\n",
       "  firstScriptTag.parentNode.insertBefore(tag, firstScriptTag);\n",
       "});\n",
       "};\n",
       "\n",
       "if(typeof $3Dmolpromise === 'undefined') {\n",
       "$3Dmolpromise = null;\n",
       "  $3Dmolpromise = loadScriptAsync('https://3dmol.csb.pitt.edu/build/3Dmol.js');\n",
       "}\n",
       "\n",
       "var viewer_1525388208972668 = null;\n",
       "var warn = document.getElementById(\"3dmolwarning_1525388208972668\");\n",
       "if(warn) {\n",
       "    warn.parentNode.removeChild(warn);\n",
       "}\n",
       "$3Dmolpromise.then(function() {\n",
       "viewer_1525388208972668 = $3Dmol.createViewer($(\"#3dmolviewer_1525388208972668\"),{backgroundColor:\"white\"});\n",
       "$3Dmol.download(\"pdb:5WOG\", viewer_1525388208972668, {}, function() {\n",
       "\tviewer_1525388208972668.setStyle({\"chain\": \"A\"},{\"cartoon\": {\"color\": \"orange\"}});\n",
       "\tviewer_1525388208972668.setStyle({\"chain\": [\"A\", \"B\"]},{\"cartoon\": {\"color\": \"orange\"}});\n",
       "\tviewer_1525388208972668.addLabel(\"alpha subunits\",{\"fontColor\": \"orange\", \"backgroundColor\": \"lightgray\"},{\"chain\": [\"A\", \"B\"]});\n",
       "\tviewer_1525388208972668.setStyle({\"chain\": [\"C\", \"D\"]},{\"cartoon\": {\"color\": \"blue\"}});\n",
       "\tviewer_1525388208972668.addLabel(\"beta subunits\",{\"fontColor\": \"blue\", \"backgroundColor\": \"lightgray\"},{\"chain\": [\"C\", \"D\"]});\n",
       "\tviewer_1525388208972668.setStyle({\"resn\": \"HOH\"},{\"sphere\": {\"radius\": 0.5}});\n",
       "\tviewer_1525388208972668.setStyle({\"resn\": \"HOH\"},{});\n",
       "\tviewer_1525388208972668.setStyle({\"resn\": \"HEM\"},{\"sphere\": {\"colorscheme\": \"greenCarbon\"}});\n",
       "\tviewer_1525388208972668.setStyle({\"chain\": \"A\", \"resn\": \"HEM\"},{\"stick\": {\"colorscheme\": \"redCarbon\", \"radius\": 0.2}});\n",
       "\tviewer_1525388208972668.zoomTo({\"chain\": \"A\", \"resn\": \"HEM\"});\n",
       "\tviewer_1525388208972668.setStyle({\"chain\": \"A\", \"resi\": \"87\"},{\"stick\": {\"colorscheme\": \"redCarbon\"}});\n",
       "\tviewer_1525388208972668.setStyle({\"chain\": \"A\", \"elem\": \"Fe\"},{\"sphere\": {\"color\": \"green\"}});\n",
       "\tviewer_1525388208972668.addResLabels({\"chain\": \"A\", \"resi\": \"87\"});\n",
       "\tviewer_1525388208972668.addResLabels({\"chain\": \"A\", \"resn\": \"HEM\"});\n",
       "\tviewer_1525388208972668.removeAllLabels();\n",
       "\tviewer_1525388208972668.setStyle({\"line\": {}});\n",
       "\tviewer_1525388208972668.setStyle({\"resn\": \"HEM\", \"chain\": \"A\", \"byres\": \"true\", \"expand\": 5},{\"stick\": {\"colorscheme\": \"orangeCarbon\"}});\n",
       "\tviewer_1525388208972668.setStyle({\"chain\": \"A\", \"resn\": \"HEM\"},{\"sphere\": {\"colorscheme\": \"lightgreenCarbon\"}});\n",
       "\tviewer_1525388208972668.zoomTo({\"resn\": \"HEM\", \"chain\": \"A\", \"byres\": \"true\", \"expand\": 5});\n",
       "viewer_1525388208972668.render();\n",
       "})\n",
       "});\n",
       "</script>"
      ]
     },
     "metadata": {},
     "output_type": "display_data"
    }
   ],
   "source": [
    "# reset styles and remove labels\n",
    "viewer.removeAllLabels()\n",
    "viewer.setStyle({'line':{}})\n",
    "\n",
    "# select by distance\n",
    "selection = {'resn':'HEM', 'chain':'A', 'byres':'true', 'expand': 5}\n",
    "\n",
    "# set styles\n",
    "viewer.setStyle(selection,{'stick':{'colorscheme':'orangeCarbon'}})\n",
    "viewer.setStyle({'chain': 'A', 'resn': 'HEM'},{'sphere': {'colorscheme': 'lightgreenCarbon'}})\n",
    "viewer.zoomTo(selection)\n",
    "viewer.show()"
   ]
  }
 ],
 "metadata": {
  "kernelspec": {
   "display_name": "Python 3",
   "language": "python",
   "name": "python3"
  },
  "language_info": {
   "codemirror_mode": {
    "name": "ipython",
    "version": 3
   },
   "file_extension": ".py",
   "mimetype": "text/x-python",
   "name": "python",
   "nbconvert_exporter": "python",
   "pygments_lexer": "ipython3",
   "version": "3.6.3"
  }
 },
 "nbformat": 4,
 "nbformat_minor": 2
}
