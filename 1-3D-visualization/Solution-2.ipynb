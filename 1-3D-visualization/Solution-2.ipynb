{
 "cells": [
  {
   "cell_type": "markdown",
   "metadata": {},
   "source": [
    "# Solution-2\n",
    "In this excercise we add surfaces to pinpoint the location of a binding site and render the ligand in different styles."
   ]
  },
  {
   "cell_type": "code",
   "execution_count": 1,
   "metadata": {},
   "outputs": [],
   "source": [
    "import py3Dmol"
   ]
  },
  {
   "cell_type": "markdown",
   "metadata": {},
   "source": [
    "## HIV-1 Protease structure with ligand Nelfinavir (1UN)"
   ]
  },
  {
   "cell_type": "code",
   "execution_count": 2,
   "metadata": {},
   "outputs": [
    {
     "data": {
      "application/3dmoljs_load.v0": "<div id=\"3dmolviewer_1525388049532245\"  style=\"position: relative; width: 640px; height: 480px\">\n        <p id=\"3dmolwarning_1525388049532245\" style=\"background-color:#ffcccc;color:black\">You appear to be running in JupyterLab.  You need to install the 3dmol extension: <br>\n        <tt>jupyter labextension install jupyterlab_3dmol</tt></p>\n        </div>\n<script>\n\nvar loadScriptAsync = function(uri){\n  return new Promise((resolve, reject) => {\n    var tag = document.createElement('script');\n    tag.src = uri;\n    tag.async = true;\n    tag.onload = () => {\n      resolve();\n    };\n  var firstScriptTag = document.getElementsByTagName('script')[0];\n  firstScriptTag.parentNode.insertBefore(tag, firstScriptTag);\n});\n};\n\nif(typeof $3Dmolpromise === 'undefined') {\n$3Dmolpromise = null;\n  $3Dmolpromise = loadScriptAsync('https://3dmol.csb.pitt.edu/build/3Dmol.js');\n}\n\nvar viewer_1525388049532245 = null;\nvar warn = document.getElementById(\"3dmolwarning_1525388049532245\");\nif(warn) {\n    warn.parentNode.removeChild(warn);\n}\n$3Dmolpromise.then(function() {\nviewer_1525388049532245 = $3Dmol.createViewer($(\"#3dmolviewer_1525388049532245\"),{backgroundColor:\"white\"});\n$3Dmol.download(\"pdb:1OHR\", viewer_1525388049532245, {}, function() {\n\tviewer_1525388049532245.setStyle({\"chain\": \"A\"},{\"cartoon\": {\"color\": \"blue\"}});\n\tviewer_1525388049532245.setStyle({\"chain\": \"B\"},{\"cartoon\": {\"color\": \" yellow\"}});\nviewer_1525388049532245.render();\n})\n});\n</script>",
      "text/html": [
       "<div id=\"3dmolviewer_1525388049532245\"  style=\"position: relative; width: 640px; height: 480px\">\n",
       "        <p id=\"3dmolwarning_1525388049532245\" style=\"background-color:#ffcccc;color:black\">You appear to be running in JupyterLab.  You need to install the 3dmol extension: <br>\n",
       "        <tt>jupyter labextension install jupyterlab_3dmol</tt></p>\n",
       "        </div>\n",
       "<script>\n",
       "\n",
       "var loadScriptAsync = function(uri){\n",
       "  return new Promise((resolve, reject) => {\n",
       "    var tag = document.createElement('script');\n",
       "    tag.src = uri;\n",
       "    tag.async = true;\n",
       "    tag.onload = () => {\n",
       "      resolve();\n",
       "    };\n",
       "  var firstScriptTag = document.getElementsByTagName('script')[0];\n",
       "  firstScriptTag.parentNode.insertBefore(tag, firstScriptTag);\n",
       "});\n",
       "};\n",
       "\n",
       "if(typeof $3Dmolpromise === 'undefined') {\n",
       "$3Dmolpromise = null;\n",
       "  $3Dmolpromise = loadScriptAsync('https://3dmol.csb.pitt.edu/build/3Dmol.js');\n",
       "}\n",
       "\n",
       "var viewer_1525388049532245 = null;\n",
       "var warn = document.getElementById(\"3dmolwarning_1525388049532245\");\n",
       "if(warn) {\n",
       "    warn.parentNode.removeChild(warn);\n",
       "}\n",
       "$3Dmolpromise.then(function() {\n",
       "viewer_1525388049532245 = $3Dmol.createViewer($(\"#3dmolviewer_1525388049532245\"),{backgroundColor:\"white\"});\n",
       "$3Dmol.download(\"pdb:1OHR\", viewer_1525388049532245, {}, function() {\n",
       "\tviewer_1525388049532245.setStyle({\"chain\": \"A\"},{\"cartoon\": {\"color\": \"blue\"}});\n",
       "\tviewer_1525388049532245.setStyle({\"chain\": \"B\"},{\"cartoon\": {\"color\": \" yellow\"}});\n",
       "viewer_1525388049532245.render();\n",
       "})\n",
       "});\n",
       "</script>"
      ]
     },
     "metadata": {},
     "output_type": "display_data"
    }
   ],
   "source": [
    "viewer = py3Dmol.view(query='pdb:1OHR')\n",
    "\n",
    "viewer.setStyle({'chain': 'A'}, {'cartoon': {'color': 'blue'}})\n",
    "viewer.setStyle({'chain': 'B'}, {'cartoon': {'color':' yellow'}})\n",
    "viewer.show()"
   ]
  },
  {
   "cell_type": "markdown",
   "metadata": {},
   "source": [
    "### TODO-1: Add a molecular surface to the structure.\n",
    "Note, we use the `hetflag` here to exclude non-protein residues from the surface to have an unobstructed view of the binding site."
   ]
  },
  {
   "cell_type": "code",
   "execution_count": 3,
   "metadata": {},
   "outputs": [
    {
     "data": {
      "application/3dmoljs_load.v0": "<div id=\"3dmolviewer_1525388049541013\"  style=\"position: relative; width: 640px; height: 480px\">\n        <p id=\"3dmolwarning_1525388049541013\" style=\"background-color:#ffcccc;color:black\">You appear to be running in JupyterLab.  You need to install the 3dmol extension: <br>\n        <tt>jupyter labextension install jupyterlab_3dmol</tt></p>\n        </div>\n<script>\n\nvar loadScriptAsync = function(uri){\n  return new Promise((resolve, reject) => {\n    var tag = document.createElement('script');\n    tag.src = uri;\n    tag.async = true;\n    tag.onload = () => {\n      resolve();\n    };\n  var firstScriptTag = document.getElementsByTagName('script')[0];\n  firstScriptTag.parentNode.insertBefore(tag, firstScriptTag);\n});\n};\n\nif(typeof $3Dmolpromise === 'undefined') {\n$3Dmolpromise = null;\n  $3Dmolpromise = loadScriptAsync('https://3dmol.csb.pitt.edu/build/3Dmol.js');\n}\n\nvar viewer_1525388049541013 = null;\nvar warn = document.getElementById(\"3dmolwarning_1525388049541013\");\nif(warn) {\n    warn.parentNode.removeChild(warn);\n}\n$3Dmolpromise.then(function() {\nviewer_1525388049541013 = $3Dmol.createViewer($(\"#3dmolviewer_1525388049541013\"),{backgroundColor:\"white\"});\n$3Dmol.download(\"pdb:1OHR\", viewer_1525388049541013, {}, function() {\n\tviewer_1525388049541013.setStyle({\"chain\": \"A\"},{\"cartoon\": {\"color\": \"blue\"}});\n\tviewer_1525388049541013.setStyle({\"chain\": \"B\"},{\"cartoon\": {\"color\": \" yellow\"}});\n\tviewer_1525388049541013.addSurface(2,{\"opacity\": 0.9, \"color\": \"lightblue\"},{\"chain\": \"A\", \"hetflag\": false});\n\tviewer_1525388049541013.addSurface(2,{\"opacity\": 0.9, \"color\": \"lightyellow\"},{\"chain\": \"B\", \"hetflag\": false});\nviewer_1525388049541013.render();\n})\n});\n</script>",
      "text/html": [
       "<div id=\"3dmolviewer_1525388049541013\"  style=\"position: relative; width: 640px; height: 480px\">\n",
       "        <p id=\"3dmolwarning_1525388049541013\" style=\"background-color:#ffcccc;color:black\">You appear to be running in JupyterLab.  You need to install the 3dmol extension: <br>\n",
       "        <tt>jupyter labextension install jupyterlab_3dmol</tt></p>\n",
       "        </div>\n",
       "<script>\n",
       "\n",
       "var loadScriptAsync = function(uri){\n",
       "  return new Promise((resolve, reject) => {\n",
       "    var tag = document.createElement('script');\n",
       "    tag.src = uri;\n",
       "    tag.async = true;\n",
       "    tag.onload = () => {\n",
       "      resolve();\n",
       "    };\n",
       "  var firstScriptTag = document.getElementsByTagName('script')[0];\n",
       "  firstScriptTag.parentNode.insertBefore(tag, firstScriptTag);\n",
       "});\n",
       "};\n",
       "\n",
       "if(typeof $3Dmolpromise === 'undefined') {\n",
       "$3Dmolpromise = null;\n",
       "  $3Dmolpromise = loadScriptAsync('https://3dmol.csb.pitt.edu/build/3Dmol.js');\n",
       "}\n",
       "\n",
       "var viewer_1525388049541013 = null;\n",
       "var warn = document.getElementById(\"3dmolwarning_1525388049541013\");\n",
       "if(warn) {\n",
       "    warn.parentNode.removeChild(warn);\n",
       "}\n",
       "$3Dmolpromise.then(function() {\n",
       "viewer_1525388049541013 = $3Dmol.createViewer($(\"#3dmolviewer_1525388049541013\"),{backgroundColor:\"white\"});\n",
       "$3Dmol.download(\"pdb:1OHR\", viewer_1525388049541013, {}, function() {\n",
       "\tviewer_1525388049541013.setStyle({\"chain\": \"A\"},{\"cartoon\": {\"color\": \"blue\"}});\n",
       "\tviewer_1525388049541013.setStyle({\"chain\": \"B\"},{\"cartoon\": {\"color\": \" yellow\"}});\n",
       "\tviewer_1525388049541013.addSurface(2,{\"opacity\": 0.9, \"color\": \"lightblue\"},{\"chain\": \"A\", \"hetflag\": false});\n",
       "\tviewer_1525388049541013.addSurface(2,{\"opacity\": 0.9, \"color\": \"lightyellow\"},{\"chain\": \"B\", \"hetflag\": false});\n",
       "viewer_1525388049541013.render();\n",
       "})\n",
       "});\n",
       "</script>"
      ]
     },
     "metadata": {},
     "output_type": "display_data"
    }
   ],
   "source": [
    "viewer.addSurface(py3Dmol.MS,{'opacity':0.9,'color':'lightblue'}, \n",
    "                  {'chain': 'A', 'hetflag' : False})\n",
    "                   \n",
    "viewer.addSurface(py3Dmol.MS,{'opacity':0.9,'color':'lightyellow'}, \n",
    "                  {'chain': 'B', 'hetflag' : False})\n",
    "viewer.show()"
   ]
  },
  {
   "cell_type": "markdown",
   "metadata": {},
   "source": [
    "### TODO-2: Set the style for the ligand \n",
    "Set style for ligand `1UN` to sphere and color by greenCarbon color scheme."
   ]
  },
  {
   "cell_type": "code",
   "execution_count": 4,
   "metadata": {},
   "outputs": [
    {
     "data": {
      "application/3dmoljs_load.v0": "<div id=\"3dmolviewer_1525388049549056\"  style=\"position: relative; width: 640px; height: 480px\">\n        <p id=\"3dmolwarning_1525388049549056\" style=\"background-color:#ffcccc;color:black\">You appear to be running in JupyterLab.  You need to install the 3dmol extension: <br>\n        <tt>jupyter labextension install jupyterlab_3dmol</tt></p>\n        </div>\n<script>\n\nvar loadScriptAsync = function(uri){\n  return new Promise((resolve, reject) => {\n    var tag = document.createElement('script');\n    tag.src = uri;\n    tag.async = true;\n    tag.onload = () => {\n      resolve();\n    };\n  var firstScriptTag = document.getElementsByTagName('script')[0];\n  firstScriptTag.parentNode.insertBefore(tag, firstScriptTag);\n});\n};\n\nif(typeof $3Dmolpromise === 'undefined') {\n$3Dmolpromise = null;\n  $3Dmolpromise = loadScriptAsync('https://3dmol.csb.pitt.edu/build/3Dmol.js');\n}\n\nvar viewer_1525388049549056 = null;\nvar warn = document.getElementById(\"3dmolwarning_1525388049549056\");\nif(warn) {\n    warn.parentNode.removeChild(warn);\n}\n$3Dmolpromise.then(function() {\nviewer_1525388049549056 = $3Dmol.createViewer($(\"#3dmolviewer_1525388049549056\"),{backgroundColor:\"white\"});\n$3Dmol.download(\"pdb:1OHR\", viewer_1525388049549056, {}, function() {\n\tviewer_1525388049549056.setStyle({\"chain\": \"A\"},{\"cartoon\": {\"color\": \"blue\"}});\n\tviewer_1525388049549056.setStyle({\"chain\": \"B\"},{\"cartoon\": {\"color\": \" yellow\"}});\n\tviewer_1525388049549056.addSurface(2,{\"opacity\": 0.9, \"color\": \"lightblue\"},{\"chain\": \"A\", \"hetflag\": false});\n\tviewer_1525388049549056.addSurface(2,{\"opacity\": 0.9, \"color\": \"lightyellow\"},{\"chain\": \"B\", \"hetflag\": false});\n\tviewer_1525388049549056.setStyle({\"resn\": \"1UN\"},{\"sphere\": {\"colorscheme\": \"greenCarbon\"}});\nviewer_1525388049549056.render();\n})\n});\n</script>",
      "text/html": [
       "<div id=\"3dmolviewer_1525388049549056\"  style=\"position: relative; width: 640px; height: 480px\">\n",
       "        <p id=\"3dmolwarning_1525388049549056\" style=\"background-color:#ffcccc;color:black\">You appear to be running in JupyterLab.  You need to install the 3dmol extension: <br>\n",
       "        <tt>jupyter labextension install jupyterlab_3dmol</tt></p>\n",
       "        </div>\n",
       "<script>\n",
       "\n",
       "var loadScriptAsync = function(uri){\n",
       "  return new Promise((resolve, reject) => {\n",
       "    var tag = document.createElement('script');\n",
       "    tag.src = uri;\n",
       "    tag.async = true;\n",
       "    tag.onload = () => {\n",
       "      resolve();\n",
       "    };\n",
       "  var firstScriptTag = document.getElementsByTagName('script')[0];\n",
       "  firstScriptTag.parentNode.insertBefore(tag, firstScriptTag);\n",
       "});\n",
       "};\n",
       "\n",
       "if(typeof $3Dmolpromise === 'undefined') {\n",
       "$3Dmolpromise = null;\n",
       "  $3Dmolpromise = loadScriptAsync('https://3dmol.csb.pitt.edu/build/3Dmol.js');\n",
       "}\n",
       "\n",
       "var viewer_1525388049549056 = null;\n",
       "var warn = document.getElementById(\"3dmolwarning_1525388049549056\");\n",
       "if(warn) {\n",
       "    warn.parentNode.removeChild(warn);\n",
       "}\n",
       "$3Dmolpromise.then(function() {\n",
       "viewer_1525388049549056 = $3Dmol.createViewer($(\"#3dmolviewer_1525388049549056\"),{backgroundColor:\"white\"});\n",
       "$3Dmol.download(\"pdb:1OHR\", viewer_1525388049549056, {}, function() {\n",
       "\tviewer_1525388049549056.setStyle({\"chain\": \"A\"},{\"cartoon\": {\"color\": \"blue\"}});\n",
       "\tviewer_1525388049549056.setStyle({\"chain\": \"B\"},{\"cartoon\": {\"color\": \" yellow\"}});\n",
       "\tviewer_1525388049549056.addSurface(2,{\"opacity\": 0.9, \"color\": \"lightblue\"},{\"chain\": \"A\", \"hetflag\": false});\n",
       "\tviewer_1525388049549056.addSurface(2,{\"opacity\": 0.9, \"color\": \"lightyellow\"},{\"chain\": \"B\", \"hetflag\": false});\n",
       "\tviewer_1525388049549056.setStyle({\"resn\": \"1UN\"},{\"sphere\": {\"colorscheme\": \"greenCarbon\"}});\n",
       "viewer_1525388049549056.render();\n",
       "})\n",
       "});\n",
       "</script>"
      ]
     },
     "metadata": {},
     "output_type": "display_data"
    }
   ],
   "source": [
    "viewer.setStyle({'resn': '1UN'},{'sphere': {'colorscheme': 'greenCarbon'}})\n",
    "viewer.show()"
   ]
  },
  {
   "cell_type": "markdown",
   "metadata": {},
   "source": [
    "### Bonus: Annotate the binding site\n",
    "Render the ligand as stick, display the bond orders, and add the label 'Nelfinavir'."
   ]
  },
  {
   "cell_type": "code",
   "execution_count": 5,
   "metadata": {},
   "outputs": [
    {
     "data": {
      "application/3dmoljs_load.v0": "<div id=\"3dmolviewer_15253880495582578\"  style=\"position: relative; width: 640px; height: 480px\">\n        <p id=\"3dmolwarning_15253880495582578\" style=\"background-color:#ffcccc;color:black\">You appear to be running in JupyterLab.  You need to install the 3dmol extension: <br>\n        <tt>jupyter labextension install jupyterlab_3dmol</tt></p>\n        </div>\n<script>\n\nvar loadScriptAsync = function(uri){\n  return new Promise((resolve, reject) => {\n    var tag = document.createElement('script');\n    tag.src = uri;\n    tag.async = true;\n    tag.onload = () => {\n      resolve();\n    };\n  var firstScriptTag = document.getElementsByTagName('script')[0];\n  firstScriptTag.parentNode.insertBefore(tag, firstScriptTag);\n});\n};\n\nif(typeof $3Dmolpromise === 'undefined') {\n$3Dmolpromise = null;\n  $3Dmolpromise = loadScriptAsync('https://3dmol.csb.pitt.edu/build/3Dmol.js');\n}\n\nvar viewer_15253880495582578 = null;\nvar warn = document.getElementById(\"3dmolwarning_15253880495582578\");\nif(warn) {\n    warn.parentNode.removeChild(warn);\n}\n$3Dmolpromise.then(function() {\nviewer_15253880495582578 = $3Dmol.createViewer($(\"#3dmolviewer_15253880495582578\"),{backgroundColor:\"white\"});\n$3Dmol.download(\"pdb:1OHR\", viewer_15253880495582578, {}, function() {\n\tviewer_15253880495582578.setStyle({\"chain\": \"A\"},{\"cartoon\": {\"color\": \"blue\"}});\n\tviewer_15253880495582578.setStyle({\"chain\": \"B\"},{\"cartoon\": {\"color\": \" yellow\"}});\n\tviewer_15253880495582578.addSurface(2,{\"opacity\": 0.9, \"color\": \"lightblue\"},{\"chain\": \"A\", \"hetflag\": false});\n\tviewer_15253880495582578.addSurface(2,{\"opacity\": 0.9, \"color\": \"lightyellow\"},{\"chain\": \"B\", \"hetflag\": false});\n\tviewer_15253880495582578.setStyle({\"resn\": \"1UN\"},{\"sphere\": {\"colorscheme\": \"greenCarbon\"}});\n\tviewer_15253880495582578.setStyle({\"resn\": \"1UN\"},{\"stick\": {\"radius\": 0.3, \"singleBond\": false}});\n\tviewer_15253880495582578.addLabel(\"Nelfinavir\",{\"fontColor\": \"black\", \"backgroundColor\": \"lightgray\"},{\"resn\": \"1UN\"});\n\tviewer_15253880495582578.zoomTo({\"resn\": \"1UN\"});\nviewer_15253880495582578.render();\n})\n});\n</script>",
      "text/html": [
       "<div id=\"3dmolviewer_15253880495582578\"  style=\"position: relative; width: 640px; height: 480px\">\n",
       "        <p id=\"3dmolwarning_15253880495582578\" style=\"background-color:#ffcccc;color:black\">You appear to be running in JupyterLab.  You need to install the 3dmol extension: <br>\n",
       "        <tt>jupyter labextension install jupyterlab_3dmol</tt></p>\n",
       "        </div>\n",
       "<script>\n",
       "\n",
       "var loadScriptAsync = function(uri){\n",
       "  return new Promise((resolve, reject) => {\n",
       "    var tag = document.createElement('script');\n",
       "    tag.src = uri;\n",
       "    tag.async = true;\n",
       "    tag.onload = () => {\n",
       "      resolve();\n",
       "    };\n",
       "  var firstScriptTag = document.getElementsByTagName('script')[0];\n",
       "  firstScriptTag.parentNode.insertBefore(tag, firstScriptTag);\n",
       "});\n",
       "};\n",
       "\n",
       "if(typeof $3Dmolpromise === 'undefined') {\n",
       "$3Dmolpromise = null;\n",
       "  $3Dmolpromise = loadScriptAsync('https://3dmol.csb.pitt.edu/build/3Dmol.js');\n",
       "}\n",
       "\n",
       "var viewer_15253880495582578 = null;\n",
       "var warn = document.getElementById(\"3dmolwarning_15253880495582578\");\n",
       "if(warn) {\n",
       "    warn.parentNode.removeChild(warn);\n",
       "}\n",
       "$3Dmolpromise.then(function() {\n",
       "viewer_15253880495582578 = $3Dmol.createViewer($(\"#3dmolviewer_15253880495582578\"),{backgroundColor:\"white\"});\n",
       "$3Dmol.download(\"pdb:1OHR\", viewer_15253880495582578, {}, function() {\n",
       "\tviewer_15253880495582578.setStyle({\"chain\": \"A\"},{\"cartoon\": {\"color\": \"blue\"}});\n",
       "\tviewer_15253880495582578.setStyle({\"chain\": \"B\"},{\"cartoon\": {\"color\": \" yellow\"}});\n",
       "\tviewer_15253880495582578.addSurface(2,{\"opacity\": 0.9, \"color\": \"lightblue\"},{\"chain\": \"A\", \"hetflag\": false});\n",
       "\tviewer_15253880495582578.addSurface(2,{\"opacity\": 0.9, \"color\": \"lightyellow\"},{\"chain\": \"B\", \"hetflag\": false});\n",
       "\tviewer_15253880495582578.setStyle({\"resn\": \"1UN\"},{\"sphere\": {\"colorscheme\": \"greenCarbon\"}});\n",
       "\tviewer_15253880495582578.setStyle({\"resn\": \"1UN\"},{\"stick\": {\"radius\": 0.3, \"singleBond\": false}});\n",
       "\tviewer_15253880495582578.addLabel(\"Nelfinavir\",{\"fontColor\": \"black\", \"backgroundColor\": \"lightgray\"},{\"resn\": \"1UN\"});\n",
       "\tviewer_15253880495582578.zoomTo({\"resn\": \"1UN\"});\n",
       "viewer_15253880495582578.render();\n",
       "})\n",
       "});\n",
       "</script>"
      ]
     },
     "metadata": {},
     "output_type": "display_data"
    }
   ],
   "source": [
    "ligand = {'resn': '1UN'}\n",
    "viewer.setStyle(ligand, {'stick':{'radius': 0.3, 'singleBond': False}})\n",
    "viewer.addLabel('Nelfinavir', {'fontColor':'black', 'backgroundColor':'lightgray'},ligand)\n",
    "viewer.zoomTo(ligand)\n",
    "viewer.show()"
   ]
  }
 ],
 "metadata": {
  "kernelspec": {
   "display_name": "Python 3",
   "language": "python",
   "name": "python3"
  },
  "language_info": {
   "codemirror_mode": {
    "name": "ipython",
    "version": 3
   },
   "file_extension": ".py",
   "mimetype": "text/x-python",
   "name": "python",
   "nbconvert_exporter": "python",
   "pygments_lexer": "ipython3",
   "version": "3.6.3"
  }
 },
 "nbformat": 4,
 "nbformat_minor": 2
}
