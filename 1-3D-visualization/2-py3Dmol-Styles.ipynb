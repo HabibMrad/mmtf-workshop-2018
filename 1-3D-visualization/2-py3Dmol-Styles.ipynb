{
 "cells": [
  {
   "cell_type": "markdown",
   "metadata": {},
   "source": [
    "# Setting Rendering Styles\n",
    "This tutorial demonstrates how to instantiate a py3Dmol viewer and set atom styles and colors."
   ]
  },
  {
   "cell_type": "code",
   "execution_count": 1,
   "metadata": {
    "collapsed": true
   },
   "outputs": [],
   "source": [
    "import py3Dmol"
   ]
  },
  {
   "cell_type": "markdown",
   "metadata": {},
   "source": [
    "## Instantiating the py3mol viewer with a PDB ID\n",
    "py3Dmol downloads PDB structures using the MMTF file format from http://mmtf.rcsb.org. Prepend the 'pdb:\" prefix to the 4-letter PDB ID."
   ]
  },
  {
   "cell_type": "code",
   "execution_count": 2,
   "metadata": {},
   "outputs": [
    {
     "data": {
      "text/html": [
       "<div id=\"3dmolviewer_1524608079576146\"  style=\"position: relative; width: 640px; height: 480px\">\n",
       "<script>\n",
       "if(typeof $3Dmolpromise === 'undefined') $3Dmolpromise = $.when($.getScript('https://3dmol.csb.pitt.edu/build/3Dmol.js'))\n",
       "var viewer_1524608079576146 = null;\n",
       "$3Dmolpromise.done(function() {\n",
       "viewer_1524608079576146 = $3Dmol.createViewer($(\"#3dmolviewer_1524608079576146\"),{backgroundColor:\"white\"});\n",
       "$3Dmol.download(\"pdb:1STP\", viewer_1524608079576146, {}, function() {\n",
       "viewer_1524608079576146.render();\n",
       "})\n",
       "});\n",
       "</script>"
      ],
      "text/plain": [
       "<IPython.core.display.HTML object>"
      ]
     },
     "execution_count": 2,
     "metadata": {},
     "output_type": "execute_result"
    }
   ],
   "source": [
    "viewer = py3Dmol.view(query='pdb:1STP')\n",
    "viewer.show()"
   ]
  },
  {
   "cell_type": "markdown",
   "metadata": {},
   "source": [
    "## Setting an Atom Style\n",
    "Styles are specified as nested dictionaries. In this example, 'stick' is the AtomStyleSpec. A list of atom styles: http://3dmol.csb.pitt.edu/doc/types.html#AtomStyleSpec."
   ]
  },
  {
   "cell_type": "code",
   "execution_count": 3,
   "metadata": {},
   "outputs": [
    {
     "data": {
      "text/html": [
       "<div id=\"3dmolviewer_15246080814124951\"  style=\"position: relative; width: 640px; height: 480px\">\n",
       "<script>\n",
       "if(typeof $3Dmolpromise === 'undefined') $3Dmolpromise = $.when($.getScript('https://3dmol.csb.pitt.edu/build/3Dmol.js'))\n",
       "var viewer_15246080814124951 = null;\n",
       "$3Dmolpromise.done(function() {\n",
       "viewer_15246080814124951 = $3Dmol.createViewer($(\"#3dmolviewer_15246080814124951\"),{backgroundColor:\"white\"});\n",
       "$3Dmol.download(\"pdb:1STP\", viewer_15246080814124951, {}, function() {\n",
       "\tviewer_15246080814124951.setStyle({\"stick\": {}});\n",
       "viewer_15246080814124951.render();\n",
       "})\n",
       "});\n",
       "</script>"
      ],
      "text/plain": [
       "<py3Dmol.view at 0x10c7cb710>"
      ]
     },
     "execution_count": 3,
     "metadata": {},
     "output_type": "execute_result"
    }
   ],
   "source": [
    "viewer.setStyle({'stick': {}})"
   ]
  },
  {
   "cell_type": "raw",
   "metadata": {},
   "source": []
  },
  {
   "cell_type": "markdown",
   "metadata": {},
   "source": [
    "## Setting a Color Representation\n",
    "Colors are specified as a dictionary, e.g., {'color': 'spectrum'} or monochrome colors {'color':'lightgreen'}. List of colors: https://github.com/3dmol/3Dmol.js/blob/master/3Dmol/colors.js#L45-L192"
   ]
  },
  {
   "cell_type": "code",
   "execution_count": 4,
   "metadata": {},
   "outputs": [
    {
     "data": {
      "text/html": [
       "<div id=\"3dmolviewer_1524608084344526\"  style=\"position: relative; width: 640px; height: 480px\">\n",
       "<script>\n",
       "if(typeof $3Dmolpromise === 'undefined') $3Dmolpromise = $.when($.getScript('https://3dmol.csb.pitt.edu/build/3Dmol.js'))\n",
       "var viewer_1524608084344526 = null;\n",
       "$3Dmolpromise.done(function() {\n",
       "viewer_1524608084344526 = $3Dmol.createViewer($(\"#3dmolviewer_1524608084344526\"),{backgroundColor:\"white\"});\n",
       "$3Dmol.download(\"pdb:1STP\", viewer_1524608084344526, {}, function() {\n",
       "\tviewer_1524608084344526.setStyle({\"stick\": {}});\n",
       "\tviewer_1524608084344526.setStyle({\"cartoon\": {\"color\": \"spectrum\"}});\n",
       "viewer_1524608084344526.render();\n",
       "})\n",
       "});\n",
       "</script>"
      ],
      "text/plain": [
       "<py3Dmol.view at 0x10c7cb710>"
      ]
     },
     "execution_count": 4,
     "metadata": {},
     "output_type": "execute_result"
    }
   ],
   "source": [
    "viewer.setStyle({'cartoon': {'color': 'spectrum'}})"
   ]
  },
  {
   "cell_type": "markdown",
   "metadata": {},
   "source": [
    "## Setting a Color Scheme\n",
    "Color schemes can be used to color atoms and residues by properties. A particulary useful color scheme is the <color>Carbon color scheme, for example: 'greenCarbon'. List of color schemes: https://github.com/3dmol/3Dmol.js/blob/master/3Dmol/colors.js#L26-L36"
   ]
  },
  {
   "cell_type": "code",
   "execution_count": 5,
   "metadata": {},
   "outputs": [
    {
     "data": {
      "text/html": [
       "<div id=\"3dmolviewer_1524608088794424\"  style=\"position: relative; width: 640px; height: 480px\">\n",
       "<script>\n",
       "if(typeof $3Dmolpromise === 'undefined') $3Dmolpromise = $.when($.getScript('https://3dmol.csb.pitt.edu/build/3Dmol.js'))\n",
       "var viewer_1524608088794424 = null;\n",
       "$3Dmolpromise.done(function() {\n",
       "viewer_1524608088794424 = $3Dmol.createViewer($(\"#3dmolviewer_1524608088794424\"),{backgroundColor:\"white\"});\n",
       "$3Dmol.download(\"pdb:1STP\", viewer_1524608088794424, {}, function() {\n",
       "\tviewer_1524608088794424.setStyle({\"stick\": {}});\n",
       "\tviewer_1524608088794424.setStyle({\"cartoon\": {\"color\": \"spectrum\"}});\n",
       "\tviewer_1524608088794424.setStyle({\"stick\": {\"colorscheme\": \"greenCarbon\"}});\n",
       "viewer_1524608088794424.render();\n",
       "})\n",
       "});\n",
       "</script>"
      ],
      "text/plain": [
       "<py3Dmol.view at 0x10c7cb710>"
      ]
     },
     "execution_count": 5,
     "metadata": {},
     "output_type": "execute_result"
    }
   ],
   "source": [
    "viewer.setStyle({'stick': {'colorscheme': 'greenCarbon'}})"
   ]
  },
  {
   "cell_type": "markdown",
   "metadata": {},
   "source": [
    "Example of coloring by amino acid type"
   ]
  },
  {
   "cell_type": "code",
   "execution_count": 6,
   "metadata": {},
   "outputs": [
    {
     "data": {
      "text/html": [
       "<div id=\"3dmolviewer_1524608092102387\"  style=\"position: relative; width: 640px; height: 480px\">\n",
       "<script>\n",
       "if(typeof $3Dmolpromise === 'undefined') $3Dmolpromise = $.when($.getScript('https://3dmol.csb.pitt.edu/build/3Dmol.js'))\n",
       "var viewer_1524608092102387 = null;\n",
       "$3Dmolpromise.done(function() {\n",
       "viewer_1524608092102387 = $3Dmol.createViewer($(\"#3dmolviewer_1524608092102387\"),{backgroundColor:\"white\"});\n",
       "$3Dmol.download(\"pdb:1STP\", viewer_1524608092102387, {}, function() {\n",
       "\tviewer_1524608092102387.setStyle({\"stick\": {}});\n",
       "\tviewer_1524608092102387.setStyle({\"cartoon\": {\"color\": \"spectrum\"}});\n",
       "\tviewer_1524608092102387.setStyle({\"stick\": {\"colorscheme\": \"greenCarbon\"}});\n",
       "\tviewer_1524608092102387.setStyle({\"cartoon\": {\"colorscheme\": \"amino\"}});\n",
       "viewer_1524608092102387.render();\n",
       "})\n",
       "});\n",
       "</script>"
      ],
      "text/plain": [
       "<py3Dmol.view at 0x10c7cb710>"
      ]
     },
     "execution_count": 6,
     "metadata": {},
     "output_type": "execute_result"
    }
   ],
   "source": [
    "viewer.setStyle({'cartoon': {'colorscheme':'amino'}})"
   ]
  }
 ],
 "metadata": {
  "kernelspec": {
   "display_name": "Python 3",
   "language": "python",
   "name": "python3"
  },
  "language_info": {
   "codemirror_mode": {
    "name": "ipython",
    "version": 3
   },
   "file_extension": ".py",
   "mimetype": "text/x-python",
   "name": "python",
   "nbconvert_exporter": "python",
   "pygments_lexer": "ipython3",
   "version": "3.6.3"
  }
 },
 "nbformat": 4,
 "nbformat_minor": 2
}
