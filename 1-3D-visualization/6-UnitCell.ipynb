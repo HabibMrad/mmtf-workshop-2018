{
 "cells": [
  {
   "cell_type": "markdown",
   "metadata": {},
   "source": [
    "# 6-UnitCell\n",
    "This tutorial shows how to render the unit cell. The asymmetric unit is the smallest portion of a crystal structure to which symmetry operations can be applied in order to generate the complete unit cell (the crystal repeating unit). See [PDB-101 tutorial](https://pdb101.rcsb.org/learn/guide-to-understanding-pdb-data/biological-assemblies#Anchor-Asym)."
   ]
  },
  {
   "cell_type": "code",
   "execution_count": 1,
   "metadata": {},
   "outputs": [],
   "source": [
    "import py3Dmol"
   ]
  },
  {
   "cell_type": "code",
   "execution_count": 2,
   "metadata": {},
   "outputs": [
    {
     "data": {
      "application/3dmoljs_load.v0": "<div id=\"3dmolviewer_1525388792517683\"  style=\"position: relative; width: 640px; height: 480px\">\n        <p id=\"3dmolwarning_1525388792517683\" style=\"background-color:#ffcccc;color:black\">You appear to be running in JupyterLab.  You need to install the 3dmol extension: <br>\n        <tt>jupyter labextension install jupyterlab_3dmol</tt></p>\n        </div>\n<script>\n\nvar loadScriptAsync = function(uri){\n  return new Promise((resolve, reject) => {\n    var tag = document.createElement('script');\n    tag.src = uri;\n    tag.async = true;\n    tag.onload = () => {\n      resolve();\n    };\n  var firstScriptTag = document.getElementsByTagName('script')[0];\n  firstScriptTag.parentNode.insertBefore(tag, firstScriptTag);\n});\n};\n\nif(typeof $3Dmolpromise === 'undefined') {\n$3Dmolpromise = null;\n  $3Dmolpromise = loadScriptAsync('https://3dmol.csb.pitt.edu/build/3Dmol.js');\n}\n\nvar viewer_1525388792517683 = null;\nvar warn = document.getElementById(\"3dmolwarning_1525388792517683\");\nif(warn) {\n    warn.parentNode.removeChild(warn);\n}\n$3Dmolpromise.then(function() {\nviewer_1525388792517683 = $3Dmol.createViewer($(\"#3dmolviewer_1525388792517683\"),{backgroundColor:\"white\"});\n$3Dmol.download(\"pdb:4HHB\", viewer_1525388792517683, {}, function() {\n\tviewer_1525388792517683.setStyle({\"cartoon\": {\"color\": \"spectrum\"}});\nviewer_1525388792517683.render();\n})\n});\n</script>",
      "text/html": [
       "<div id=\"3dmolviewer_1525388792517683\"  style=\"position: relative; width: 640px; height: 480px\">\n",
       "        <p id=\"3dmolwarning_1525388792517683\" style=\"background-color:#ffcccc;color:black\">You appear to be running in JupyterLab.  You need to install the 3dmol extension: <br>\n",
       "        <tt>jupyter labextension install jupyterlab_3dmol</tt></p>\n",
       "        </div>\n",
       "<script>\n",
       "\n",
       "var loadScriptAsync = function(uri){\n",
       "  return new Promise((resolve, reject) => {\n",
       "    var tag = document.createElement('script');\n",
       "    tag.src = uri;\n",
       "    tag.async = true;\n",
       "    tag.onload = () => {\n",
       "      resolve();\n",
       "    };\n",
       "  var firstScriptTag = document.getElementsByTagName('script')[0];\n",
       "  firstScriptTag.parentNode.insertBefore(tag, firstScriptTag);\n",
       "});\n",
       "};\n",
       "\n",
       "if(typeof $3Dmolpromise === 'undefined') {\n",
       "$3Dmolpromise = null;\n",
       "  $3Dmolpromise = loadScriptAsync('https://3dmol.csb.pitt.edu/build/3Dmol.js');\n",
       "}\n",
       "\n",
       "var viewer_1525388792517683 = null;\n",
       "var warn = document.getElementById(\"3dmolwarning_1525388792517683\");\n",
       "if(warn) {\n",
       "    warn.parentNode.removeChild(warn);\n",
       "}\n",
       "$3Dmolpromise.then(function() {\n",
       "viewer_1525388792517683 = $3Dmol.createViewer($(\"#3dmolviewer_1525388792517683\"),{backgroundColor:\"white\"});\n",
       "$3Dmol.download(\"pdb:4HHB\", viewer_1525388792517683, {}, function() {\n",
       "\tviewer_1525388792517683.setStyle({\"cartoon\": {\"color\": \"spectrum\"}});\n",
       "viewer_1525388792517683.render();\n",
       "})\n",
       "});\n",
       "</script>"
      ]
     },
     "metadata": {},
     "output_type": "display_data"
    }
   ],
   "source": [
    "viewer = py3Dmol.view(query='pdb:4HHB')\n",
    "viewer.setStyle({'cartoon': {'color': 'spectrum'}})\n",
    "viewer.show()"
   ]
  },
  {
   "cell_type": "markdown",
   "metadata": {},
   "source": [
    "## Add the unit cell\n",
    "Note, this option only shows the boundaries of the unit cell. It does not fill the unit cell."
   ]
  },
  {
   "cell_type": "code",
   "execution_count": 3,
   "metadata": {
    "scrolled": true
   },
   "outputs": [
    {
     "data": {
      "application/3dmoljs_load.v0": "<div id=\"3dmolviewer_1525388792525961\"  style=\"position: relative; width: 640px; height: 480px\">\n        <p id=\"3dmolwarning_1525388792525961\" style=\"background-color:#ffcccc;color:black\">You appear to be running in JupyterLab.  You need to install the 3dmol extension: <br>\n        <tt>jupyter labextension install jupyterlab_3dmol</tt></p>\n        </div>\n<script>\n\nvar loadScriptAsync = function(uri){\n  return new Promise((resolve, reject) => {\n    var tag = document.createElement('script');\n    tag.src = uri;\n    tag.async = true;\n    tag.onload = () => {\n      resolve();\n    };\n  var firstScriptTag = document.getElementsByTagName('script')[0];\n  firstScriptTag.parentNode.insertBefore(tag, firstScriptTag);\n});\n};\n\nif(typeof $3Dmolpromise === 'undefined') {\n$3Dmolpromise = null;\n  $3Dmolpromise = loadScriptAsync('https://3dmol.csb.pitt.edu/build/3Dmol.js');\n}\n\nvar viewer_1525388792525961 = null;\nvar warn = document.getElementById(\"3dmolwarning_1525388792525961\");\nif(warn) {\n    warn.parentNode.removeChild(warn);\n}\n$3Dmolpromise.then(function() {\nviewer_1525388792525961 = $3Dmol.createViewer($(\"#3dmolviewer_1525388792525961\"),{backgroundColor:\"white\"});\n$3Dmol.download(\"pdb:4HHB\", viewer_1525388792525961, {}, function() {\n\tviewer_1525388792525961.setStyle({\"cartoon\": {\"color\": \"spectrum\"}});\n\tviewer_1525388792525961.addUnitCell();\n\tviewer_1525388792525961.zoomTo();\nviewer_1525388792525961.render();\n})\n});\n</script>",
      "text/html": [
       "<div id=\"3dmolviewer_1525388792525961\"  style=\"position: relative; width: 640px; height: 480px\">\n",
       "        <p id=\"3dmolwarning_1525388792525961\" style=\"background-color:#ffcccc;color:black\">You appear to be running in JupyterLab.  You need to install the 3dmol extension: <br>\n",
       "        <tt>jupyter labextension install jupyterlab_3dmol</tt></p>\n",
       "        </div>\n",
       "<script>\n",
       "\n",
       "var loadScriptAsync = function(uri){\n",
       "  return new Promise((resolve, reject) => {\n",
       "    var tag = document.createElement('script');\n",
       "    tag.src = uri;\n",
       "    tag.async = true;\n",
       "    tag.onload = () => {\n",
       "      resolve();\n",
       "    };\n",
       "  var firstScriptTag = document.getElementsByTagName('script')[0];\n",
       "  firstScriptTag.parentNode.insertBefore(tag, firstScriptTag);\n",
       "});\n",
       "};\n",
       "\n",
       "if(typeof $3Dmolpromise === 'undefined') {\n",
       "$3Dmolpromise = null;\n",
       "  $3Dmolpromise = loadScriptAsync('https://3dmol.csb.pitt.edu/build/3Dmol.js');\n",
       "}\n",
       "\n",
       "var viewer_1525388792525961 = null;\n",
       "var warn = document.getElementById(\"3dmolwarning_1525388792525961\");\n",
       "if(warn) {\n",
       "    warn.parentNode.removeChild(warn);\n",
       "}\n",
       "$3Dmolpromise.then(function() {\n",
       "viewer_1525388792525961 = $3Dmol.createViewer($(\"#3dmolviewer_1525388792525961\"),{backgroundColor:\"white\"});\n",
       "$3Dmol.download(\"pdb:4HHB\", viewer_1525388792525961, {}, function() {\n",
       "\tviewer_1525388792525961.setStyle({\"cartoon\": {\"color\": \"spectrum\"}});\n",
       "\tviewer_1525388792525961.addUnitCell();\n",
       "\tviewer_1525388792525961.zoomTo();\n",
       "viewer_1525388792525961.render();\n",
       "})\n",
       "});\n",
       "</script>"
      ]
     },
     "metadata": {},
     "output_type": "display_data"
    }
   ],
   "source": [
    "viewer.addUnitCell()\n",
    "viewer.zoomTo()\n",
    "viewer.show()"
   ]
  }
 ],
 "metadata": {
  "kernelspec": {
   "display_name": "Python 3",
   "language": "python",
   "name": "python3"
  },
  "language_info": {
   "codemirror_mode": {
    "name": "ipython",
    "version": 3
   },
   "file_extension": ".py",
   "mimetype": "text/x-python",
   "name": "python",
   "nbconvert_exporter": "python",
   "pygments_lexer": "ipython3",
   "version": "3.6.3"
  }
 },
 "nbformat": 4,
 "nbformat_minor": 2
}
