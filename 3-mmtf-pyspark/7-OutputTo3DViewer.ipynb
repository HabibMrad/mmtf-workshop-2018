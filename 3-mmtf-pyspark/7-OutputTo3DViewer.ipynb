{
 "cells": [
  {
   "cell_type": "markdown",
   "metadata": {},
   "source": [
    "# 7-OutputTo3DViewer\n",
    "This tutorial shows how to pass an mmtf structure record directly into the py3Dmol viewer.\n",
    "\n",
    "This functionality is required if structures in a  custom mmtf files, e.g., Rosetta models, must be visualized."
   ]
  },
  {
   "cell_type": "code",
   "execution_count": 1,
   "metadata": {},
   "outputs": [],
   "source": [
    "from pyspark.sql import SparkSession\n",
    "from mmtfPyspark.io import mmtfReader\n",
    "from mmtfPyspark.io import mmtfWriter\n",
    "import py3Dmol"
   ]
  },
  {
   "cell_type": "markdown",
   "metadata": {},
   "source": [
    "#### Configure Spark"
   ]
  },
  {
   "cell_type": "code",
   "execution_count": 2,
   "metadata": {},
   "outputs": [],
   "source": [
    "spark = SparkSession.builder.appName(\"7-OutputTo3DViewer\").getOrCreate()"
   ]
  },
  {
   "cell_type": "markdown",
   "metadata": {},
   "source": [
    "## Importing MMTF records into py3Dmol"
   ]
  },
  {
   "cell_type": "code",
   "execution_count": 3,
   "metadata": {},
   "outputs": [],
   "source": [
    "pdb = mmtfReader.download_full_mmtf_files([\"4HHB\"])"
   ]
  },
  {
   "cell_type": "markdown",
   "metadata": {},
   "source": [
    "### Get first mmtf structure record and convert to base64-encoded string\n",
    "We use mmtWriter to create a base-64 encoded string of an mmtf structure."
   ]
  },
  {
   "cell_type": "code",
   "execution_count": 4,
   "metadata": {},
   "outputs": [],
   "source": [
    "# Writing is temporaryly disabled due to ongoing work on encoder and decoder libraries\n",
    "# mmtf_structure = pdb.first()[1]\n",
    "# mmtf = mmtfWriter.to_mmtf_base64(mmtf_structure)"
   ]
  },
  {
   "cell_type": "markdown",
   "metadata": {},
   "source": [
    "### Add base64-encoded mmtf record to py3Dmol\n",
    "Using addModel, we can pass in the mmtf record as a string to py3Dmol."
   ]
  },
  {
   "cell_type": "code",
   "execution_count": 5,
   "metadata": {},
   "outputs": [],
   "source": [
    "# viewer = py3Dmol.view()\n",
    "# viewer.addModel(mmtf,'mmtf')\n",
    "# viewer.setStyle({'cartoon': {'color': 'spectrum'}})\n",
    "# viewer.show()"
   ]
  },
  {
   "cell_type": "code",
   "execution_count": 6,
   "metadata": {},
   "outputs": [],
   "source": [
    "spark.stop()"
   ]
  }
 ],
 "metadata": {
  "kernelspec": {
   "display_name": "Python 3",
   "language": "python",
   "name": "python3"
  },
  "language_info": {
   "codemirror_mode": {
    "name": "ipython",
    "version": 3
   },
   "file_extension": ".py",
   "mimetype": "text/x-python",
   "name": "python",
   "nbconvert_exporter": "python",
   "pygments_lexer": "ipython3",
   "version": "3.7.3"
  }
 },
 "nbformat": 4,
 "nbformat_minor": 2
}
