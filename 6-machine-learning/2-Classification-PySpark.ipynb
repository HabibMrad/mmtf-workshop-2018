{
 "cells": [
  {
   "cell_type": "markdown",
   "metadata": {},
   "source": [
    "# Machine learning - Features extraction\n",
    "\n",
    "Runs binary and multi-class classifiers on a given dataset.\n",
    "Dataset are read as Parquet file. The dataset must contain a feature vector named \"features\" and a classification column.\n",
    "\n",
    "## Imports"
   ]
  },
  {
   "cell_type": "code",
   "execution_count": 1,
   "metadata": {},
   "outputs": [],
   "source": [
    "from mmtfPyspark.ml import SparkMultiClassClassifier, datasetBalancer                                 \n",
    "from pyspark.sql import SparkSession\n",
    "from pyspark.sql.functions import *\n",
    "from pyspark.ml.classification import DecisionTreeClassifier, LogisticRegression, MultilayerPerceptronClassifier, RandomForestClassifier"
   ]
  },
  {
   "cell_type": "markdown",
   "metadata": {},
   "source": [
    "## Configure Spark Session"
   ]
  },
  {
   "cell_type": "code",
   "execution_count": 2,
   "metadata": {},
   "outputs": [],
   "source": [
    "spark = SparkSession.builder \\\n",
    "                    .master(\"local[*]\") \\\n",
    "                    .appName(\"datasetClassifier\") \\\n",
    "                    .getOrCreate()"
   ]
  },
  {
   "cell_type": "markdown",
   "metadata": {},
   "source": [
    "## Read in data from parquet file"
   ]
  },
  {
   "cell_type": "code",
   "execution_count": 3,
   "metadata": {},
   "outputs": [
    {
     "name": "stdout",
     "output_type": "stream",
     "text": [
      "Total number of data: 9567\n"
     ]
    },
    {
     "data": {
      "text/html": [
       "<div>\n",
       "<style scoped>\n",
       "    .dataframe tbody tr th:only-of-type {\n",
       "        vertical-align: middle;\n",
       "    }\n",
       "\n",
       "    .dataframe tbody tr th {\n",
       "        vertical-align: top;\n",
       "    }\n",
       "\n",
       "    .dataframe thead th {\n",
       "        text-align: right;\n",
       "    }\n",
       "</style>\n",
       "<table border=\"1\" class=\"dataframe\">\n",
       "  <thead>\n",
       "    <tr style=\"text-align: right;\">\n",
       "      <th></th>\n",
       "      <th>structureChainId</th>\n",
       "      <th>alpha</th>\n",
       "      <th>beta</th>\n",
       "      <th>coil</th>\n",
       "      <th>foldType</th>\n",
       "      <th>features</th>\n",
       "    </tr>\n",
       "  </thead>\n",
       "  <tbody>\n",
       "    <tr>\n",
       "      <th>0</th>\n",
       "      <td>1RXQ.D</td>\n",
       "      <td>0.662722</td>\n",
       "      <td>0.065089</td>\n",
       "      <td>0.272189</td>\n",
       "      <td>other</td>\n",
       "      <td>[0.5052433708514281, 0.39907651862371607, -0.3...</td>\n",
       "    </tr>\n",
       "    <tr>\n",
       "      <th>1</th>\n",
       "      <td>1RYL.B</td>\n",
       "      <td>0.550336</td>\n",
       "      <td>0.154362</td>\n",
       "      <td>0.295302</td>\n",
       "      <td>alpha+beta</td>\n",
       "      <td>[0.2862339211538075, 0.3137033899168832, -0.03...</td>\n",
       "    </tr>\n",
       "    <tr>\n",
       "      <th>2</th>\n",
       "      <td>1RYO.A</td>\n",
       "      <td>0.367284</td>\n",
       "      <td>0.212963</td>\n",
       "      <td>0.419753</td>\n",
       "      <td>alpha+beta</td>\n",
       "      <td>[0.29367011161578216, 0.35279737824311286, -0....</td>\n",
       "    </tr>\n",
       "    <tr>\n",
       "      <th>3</th>\n",
       "      <td>1RZ3.A</td>\n",
       "      <td>0.423913</td>\n",
       "      <td>0.228261</td>\n",
       "      <td>0.347826</td>\n",
       "      <td>alpha+beta</td>\n",
       "      <td>[0.271732849823311, 0.30806871705222877, -0.09...</td>\n",
       "    </tr>\n",
       "    <tr>\n",
       "      <th>4</th>\n",
       "      <td>1RZ4.A</td>\n",
       "      <td>0.676056</td>\n",
       "      <td>0.028169</td>\n",
       "      <td>0.295775</td>\n",
       "      <td>alpha</td>\n",
       "      <td>[0.3562608102709055, 0.5141948204528954, -0.28...</td>\n",
       "    </tr>\n",
       "  </tbody>\n",
       "</table>\n",
       "</div>"
      ],
      "text/plain": [
       "  structureChainId     alpha      beta      coil    foldType  \\\n",
       "0           1RXQ.D  0.662722  0.065089  0.272189       other   \n",
       "1           1RYL.B  0.550336  0.154362  0.295302  alpha+beta   \n",
       "2           1RYO.A  0.367284  0.212963  0.419753  alpha+beta   \n",
       "3           1RZ3.A  0.423913  0.228261  0.347826  alpha+beta   \n",
       "4           1RZ4.A  0.676056  0.028169  0.295775       alpha   \n",
       "\n",
       "                                            features  \n",
       "0  [0.5052433708514281, 0.39907651862371607, -0.3...  \n",
       "1  [0.2862339211538075, 0.3137033899168832, -0.03...  \n",
       "2  [0.29367011161578216, 0.35279737824311286, -0....  \n",
       "3  [0.271732849823311, 0.30806871705222877, -0.09...  \n",
       "4  [0.3562608102709055, 0.5141948204528954, -0.28...  "
      ]
     },
     "execution_count": 3,
     "metadata": {},
     "output_type": "execute_result"
    }
   ],
   "source": [
    "parquetFile = './intput_features/'\n",
    "data = spark.read.parquet(parquetFile).cache()\n",
    "\n",
    "print(f\"Total number of data: {data.count()}\")\n",
    "data.toPandas().head()"
   ]
  },
  {
   "cell_type": "markdown",
   "metadata": {},
   "source": [
    "## Select only alpha and beta foldType"
   ]
  },
  {
   "cell_type": "code",
   "execution_count": 4,
   "metadata": {},
   "outputs": [
    {
     "name": "stdout",
     "output_type": "stream",
     "text": [
      "Total number of data: 2390\n"
     ]
    },
    {
     "data": {
      "text/html": [
       "<div>\n",
       "<style scoped>\n",
       "    .dataframe tbody tr th:only-of-type {\n",
       "        vertical-align: middle;\n",
       "    }\n",
       "\n",
       "    .dataframe tbody tr th {\n",
       "        vertical-align: top;\n",
       "    }\n",
       "\n",
       "    .dataframe thead th {\n",
       "        text-align: right;\n",
       "    }\n",
       "</style>\n",
       "<table border=\"1\" class=\"dataframe\">\n",
       "  <thead>\n",
       "    <tr style=\"text-align: right;\">\n",
       "      <th></th>\n",
       "      <th>structureChainId</th>\n",
       "      <th>alpha</th>\n",
       "      <th>beta</th>\n",
       "      <th>coil</th>\n",
       "      <th>foldType</th>\n",
       "      <th>features</th>\n",
       "    </tr>\n",
       "  </thead>\n",
       "  <tbody>\n",
       "    <tr>\n",
       "      <th>0</th>\n",
       "      <td>1RZ4.A</td>\n",
       "      <td>0.676056</td>\n",
       "      <td>0.028169</td>\n",
       "      <td>0.295775</td>\n",
       "      <td>alpha</td>\n",
       "      <td>[0.3562608102709055, 0.5141948204528954, -0.28...</td>\n",
       "    </tr>\n",
       "    <tr>\n",
       "      <th>1</th>\n",
       "      <td>1RZH.L</td>\n",
       "      <td>0.619217</td>\n",
       "      <td>0.035587</td>\n",
       "      <td>0.345196</td>\n",
       "      <td>alpha</td>\n",
       "      <td>[0.12472582102221037, 0.08776423343058143, -0....</td>\n",
       "    </tr>\n",
       "    <tr>\n",
       "      <th>2</th>\n",
       "      <td>1RZH.M</td>\n",
       "      <td>0.634551</td>\n",
       "      <td>0.039867</td>\n",
       "      <td>0.325581</td>\n",
       "      <td>alpha</td>\n",
       "      <td>[0.1600593357754786, 0.1681052131085273, -0.18...</td>\n",
       "    </tr>\n",
       "    <tr>\n",
       "      <th>3</th>\n",
       "      <td>1S0P.B</td>\n",
       "      <td>0.755682</td>\n",
       "      <td>0.011364</td>\n",
       "      <td>0.232955</td>\n",
       "      <td>alpha</td>\n",
       "      <td>[0.3622322499432734, 0.47637778217771226, -0.1...</td>\n",
       "    </tr>\n",
       "    <tr>\n",
       "      <th>4</th>\n",
       "      <td>1S2X.A</td>\n",
       "      <td>0.772222</td>\n",
       "      <td>0.000000</td>\n",
       "      <td>0.227778</td>\n",
       "      <td>alpha</td>\n",
       "      <td>[0.32439254217031527, 0.4800257507938801, 0.05...</td>\n",
       "    </tr>\n",
       "  </tbody>\n",
       "</table>\n",
       "</div>"
      ],
      "text/plain": [
       "  structureChainId     alpha      beta      coil foldType  \\\n",
       "0           1RZ4.A  0.676056  0.028169  0.295775    alpha   \n",
       "1           1RZH.L  0.619217  0.035587  0.345196    alpha   \n",
       "2           1RZH.M  0.634551  0.039867  0.325581    alpha   \n",
       "3           1S0P.B  0.755682  0.011364  0.232955    alpha   \n",
       "4           1S2X.A  0.772222  0.000000  0.227778    alpha   \n",
       "\n",
       "                                            features  \n",
       "0  [0.3562608102709055, 0.5141948204528954, -0.28...  \n",
       "1  [0.12472582102221037, 0.08776423343058143, -0....  \n",
       "2  [0.1600593357754786, 0.1681052131085273, -0.18...  \n",
       "3  [0.3622322499432734, 0.47637778217771226, -0.1...  \n",
       "4  [0.32439254217031527, 0.4800257507938801, 0.05...  "
      ]
     },
     "execution_count": 4,
     "metadata": {},
     "output_type": "execute_result"
    }
   ],
   "source": [
    "data = data.where((data.foldType == 'alpha') | (data.foldType == 'beta')) #| (data.foldType == 'other'))\n",
    "\n",
    "print(f\"Total number of data: {data.count()}\")\n",
    "data.toPandas().head()"
   ]
  },
  {
   "cell_type": "markdown",
   "metadata": {},
   "source": [
    "## Basic dataset information and setting"
   ]
  },
  {
   "cell_type": "code",
   "execution_count": 5,
   "metadata": {},
   "outputs": [
    {
     "name": "stdout",
     "output_type": "stream",
     "text": [
      "Feature count    : 50\n",
      "Class count    : 2\n",
      "Dataset size (unbalanced)    : 2390\n",
      "+--------+-----+\n",
      "|foldType|count|\n",
      "+--------+-----+\n",
      "|    beta|  626|\n",
      "|   alpha| 1764|\n",
      "+--------+-----+\n",
      "\n",
      "Dataset size (balanced)  : 1266\n",
      "+--------+-----+\n",
      "|foldType|count|\n",
      "+--------+-----+\n",
      "|    beta|  626|\n",
      "|   alpha|  640|\n",
      "+--------+-----+\n",
      "\n"
     ]
    }
   ],
   "source": [
    "label = 'foldType'\n",
    "testFraction = 0.1\n",
    "seed = 123\n",
    "\n",
    "vector = data.first()[\"features\"]\n",
    "featureCount = len(vector)\n",
    "print(f\"Feature count    : {featureCount}\")\n",
    "    \n",
    "classCount = int(data.select(label).distinct().count())\n",
    "print(f\"Class count    : {classCount}\")\n",
    "\n",
    "print(f\"Dataset size (unbalanced)    : {data.count()}\")\n",
    "    \n",
    "data.groupby(label).count().show()\n",
    "data = datasetBalancer.downsample(data, label, 1)\n",
    "print(f\"Dataset size (balanced)  : {data.count()}\")\n",
    "    \n",
    "data.groupby(label).count().show()"
   ]
  },
  {
   "cell_type": "markdown",
   "metadata": {},
   "source": [
    "## Random Forest Classifier"
   ]
  },
  {
   "cell_type": "code",
   "execution_count": 6,
   "metadata": {},
   "outputs": [
    {
     "name": "stdout",
     "output_type": "stream",
     "text": [
      "\n",
      " Class\tTrain\tTest\n",
      "alpha\t573\t67\n",
      "beta\t567\t59\n",
      "\n",
      "Sample predictions: RandomForestClassifier\n",
      "+----------------+-----------+----------+----------+--------+--------------------+------------+--------------------+--------------------+----------+--------------+\n",
      "|structureChainId|      alpha|      beta|      coil|foldType|            features|indexedLabel|       rawPrediction|         probability|prediction|predictedLabel|\n",
      "+----------------+-----------+----------+----------+--------+--------------------+------------+--------------------+--------------------+----------+--------------+\n",
      "|          3HOL.A| 0.03168317| 0.4970297|0.47128713|    beta|[0.52168207759712...|         1.0|[1.64161633738838...|[0.08208081686941...|       1.0|          beta|\n",
      "|          4NBX.A|        0.0|0.48951048| 0.5104895|    beta|[0.52165241501438...|         1.0|[3.39452362189721...|[0.16972618109486...|       1.0|          beta|\n",
      "|          5F6L.B| 0.02247191|0.46629214|0.51123595|    beta|[0.38922849420682...|         1.0|[2.97516915159202...|[0.14875845757960...|       1.0|          beta|\n",
      "|          5E9P.A|0.034883723|0.44186047| 0.5232558|    beta|[0.24919270079802...|         1.0|[4.96516407408267...|[0.24825820370413...|       1.0|          beta|\n",
      "|          5SV5.A|        0.0| 0.5904762|0.40952381|    beta|[0.37289983388752...|         1.0|[2.58654824450556...|[0.12932741222527...|       1.0|          beta|\n",
      "+----------------+-----------+----------+----------+--------+--------------------+------------+--------------------+--------------------+----------+--------------+\n",
      "only showing top 5 rows\n",
      "\n",
      "Total time taken: 4.909670352935791\n",
      "\n",
      "Method\tRandomForestClassifier\n",
      "AUC\t0.9053883126739186\n",
      "F\t0.9048340548340548\n",
      "Accuracy\t0.9047619047619048\n",
      "Precision\t0.9053623971656759\n",
      "Recall\t0.9047619047619047\n",
      "False Positive Rate\t0.09398527941406767\n",
      "True Positive Rate\t0.9047619047619047\n",
      "\t\n",
      "Confusion Matrix\n",
      "['alpha', 'beta']\n",
      "DenseMatrix([[60.,  7.],\n",
      "             [ 5., 54.]])\n"
     ]
    }
   ],
   "source": [
    "rfc = RandomForestClassifier()\n",
    "mcc = SparkMultiClassClassifier(rfc, label, testFraction, seed)\n",
    "matrics = mcc.fit(data)\n",
    "for k,v in matrics.items(): print(f\"{k}\\t{v}\")"
   ]
  },
  {
   "cell_type": "markdown",
   "metadata": {},
   "source": [
    "## Logistic Regression Classifier"
   ]
  },
  {
   "cell_type": "code",
   "execution_count": 7,
   "metadata": {},
   "outputs": [
    {
     "name": "stdout",
     "output_type": "stream",
     "text": [
      "\n",
      " Class\tTrain\tTest\n",
      "alpha\t573\t67\n",
      "beta\t567\t59\n",
      "\n",
      "Sample predictions: LogisticRegression\n",
      "+----------------+-----------+----------+----------+--------+--------------------+------------+--------------------+--------------------+----------+--------------+\n",
      "|structureChainId|      alpha|      beta|      coil|foldType|            features|indexedLabel|       rawPrediction|         probability|prediction|predictedLabel|\n",
      "+----------------+-----------+----------+----------+--------+--------------------+------------+--------------------+--------------------+----------+--------------+\n",
      "|          3HOL.A| 0.03168317| 0.4970297|0.47128713|    beta|[0.52168207759712...|         1.0|[-2.7278323810402...|[0.06135087074178...|       1.0|          beta|\n",
      "|          4NBX.A|        0.0|0.48951048| 0.5104895|    beta|[0.52165241501438...|         1.0|[-6.8137665640123...|[0.00109734186670...|       1.0|          beta|\n",
      "|          5F6L.B| 0.02247191|0.46629214|0.51123595|    beta|[0.38922849420682...|         1.0|[-1.6991190377109...|[0.15458035884879...|       1.0|          beta|\n",
      "|          5E9P.A|0.034883723|0.44186047| 0.5232558|    beta|[0.24919270079802...|         1.0|[-5.7825715600894...|[0.00307132072289...|       1.0|          beta|\n",
      "|          5SV5.A|        0.0| 0.5904762|0.40952381|    beta|[0.37289983388752...|         1.0|[-2.9150747147505...|[0.05141337725554...|       1.0|          beta|\n",
      "+----------------+-----------+----------+----------+--------+--------------------+------------+--------------------+--------------------+----------+--------------+\n",
      "only showing top 5 rows\n",
      "\n",
      "Total time taken: 4.94573187828064\n",
      "\n",
      "Method\tLogisticRegression\n",
      "AUC\t0.8874272704275232\n",
      "F\t0.888748027946811\n",
      "Accuracy\t0.8888888888888888\n",
      "Precision\t0.8890583947792186\n",
      "Recall\t0.8888888888888888\n",
      "False Positive Rate\t0.11403434803384209\n",
      "True Positive Rate\t0.8888888888888888\n",
      "\t\n",
      "Confusion Matrix\n",
      "['alpha', 'beta']\n",
      "DenseMatrix([[61.,  6.],\n",
      "             [ 8., 51.]])\n"
     ]
    }
   ],
   "source": [
    "lr = LogisticRegression()\n",
    "mcc = SparkMultiClassClassifier(lr, label, testFraction, seed)\n",
    "matrics = mcc.fit(data)\n",
    "for k,v in matrics.items(): print(f\"{k}\\t{v}\")"
   ]
  },
  {
   "cell_type": "markdown",
   "metadata": {},
   "source": [
    "## Simple Multilayer Perception Classifier"
   ]
  },
  {
   "cell_type": "code",
   "execution_count": 8,
   "metadata": {},
   "outputs": [
    {
     "name": "stdout",
     "output_type": "stream",
     "text": [
      "\n",
      " Class\tTrain\tTest\n",
      "alpha\t573\t67\n",
      "beta\t567\t59\n",
      "\n",
      "Sample predictions: MultilayerPerceptronClassifier\n",
      "+----------------+-----------+----------+----------+--------+--------------------+------------+----------+--------------+\n",
      "|structureChainId|      alpha|      beta|      coil|foldType|            features|indexedLabel|prediction|predictedLabel|\n",
      "+----------------+-----------+----------+----------+--------+--------------------+------------+----------+--------------+\n",
      "|          3HOL.A| 0.03168317| 0.4970297|0.47128713|    beta|[0.52168207759712...|         1.0|       1.0|          beta|\n",
      "|          4NBX.A|        0.0|0.48951048| 0.5104895|    beta|[0.52165241501438...|         1.0|       1.0|          beta|\n",
      "|          5F6L.B| 0.02247191|0.46629214|0.51123595|    beta|[0.38922849420682...|         1.0|       1.0|          beta|\n",
      "|          5E9P.A|0.034883723|0.44186047| 0.5232558|    beta|[0.24919270079802...|         1.0|       1.0|          beta|\n",
      "|          5SV5.A|        0.0| 0.5904762|0.40952381|    beta|[0.37289983388752...|         1.0|       1.0|          beta|\n",
      "+----------------+-----------+----------+----------+--------+--------------------+------------+----------+--------------+\n",
      "only showing top 5 rows\n",
      "\n",
      "Total time taken: 4.9215638637542725\n",
      "\n",
      "Method\tMultilayerPerceptronClassifier\n",
      "AUC\t0.9287882620794334\n",
      "F\t0.9286030201554305\n",
      "Accuracy\t0.9285714285714286\n",
      "Precision\t0.9287518037518038\n",
      "Recall\t0.9285714285714286\n",
      "False Positive Rate\t0.0709949044125619\n",
      "True Positive Rate\t0.9285714285714286\n",
      "\t\n",
      "Confusion Matrix\n",
      "['alpha', 'beta']\n",
      "DenseMatrix([[62.,  5.],\n",
      "             [ 4., 55.]])\n"
     ]
    }
   ],
   "source": [
    "layers = [featureCount, 32, 32, classCount]\n",
    "mpc = MultilayerPerceptronClassifier().setLayers(layers) \\\n",
    "                                          .setBlockSize(128) \\\n",
    "                                          .setSeed(1234) \\\n",
    "                                          .setMaxIter(100)\n",
    "mcc = SparkMultiClassClassifier(mpc, label, testFraction, seed)\n",
    "matrics = mcc.fit(data)\n",
    "for k,v in matrics.items(): print(f\"{k}\\t{v}\")"
   ]
  },
  {
   "cell_type": "markdown",
   "metadata": {},
   "source": [
    "## Terminate Spark"
   ]
  },
  {
   "cell_type": "code",
   "execution_count": 9,
   "metadata": {},
   "outputs": [],
   "source": [
    "spark.stop()"
   ]
  }
 ],
 "metadata": {
  "kernelspec": {
   "display_name": "Python 3",
   "language": "python",
   "name": "python3"
  },
  "language_info": {
   "codemirror_mode": {
    "name": "ipython",
    "version": 3
   },
   "file_extension": ".py",
   "mimetype": "text/x-python",
   "name": "python",
   "nbconvert_exporter": "python",
   "pygments_lexer": "ipython3",
   "version": "3.6.0"
  }
 },
 "nbformat": 4,
 "nbformat_minor": 2
}
