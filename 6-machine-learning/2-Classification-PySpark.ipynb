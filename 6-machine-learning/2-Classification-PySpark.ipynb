{
 "cells": [
  {
   "cell_type": "markdown",
   "metadata": {},
   "source": [
    "# Machine learning - Features extraction\n",
    "\n",
    "Runs binary and multi-class classifiers on a given dataset.\n",
    "Dataset are read as Parquet file. The dataset must contain a feature vector named \"features\" and a classification column.\n",
    "\n",
    "## Imports"
   ]
  },
  {
   "cell_type": "code",
   "execution_count": 10,
   "metadata": {},
   "outputs": [],
   "source": [
    "from mmtfPyspark.ml import SparkMultiClassClassifier, datasetBalancer                                 \n",
    "from pyspark.sql import SparkSession\n",
    "from pyspark.sql.functions import *\n",
    "from pyspark.ml.classification import DecisionTreeClassifier, LogisticRegression, MultilayerPerceptronClassifier, RandomForestClassifier"
   ]
  },
  {
   "cell_type": "markdown",
   "metadata": {},
   "source": [
    "## Configure Spark Session"
   ]
  },
  {
   "cell_type": "code",
   "execution_count": 11,
   "metadata": {},
   "outputs": [],
   "source": [
    "spark = SparkSession.builder \\\n",
    "                    .master(\"local[*]\") \\\n",
    "                    .appName(\"datasetClassifier\") \\\n",
    "                    .getOrCreate()"
   ]
  },
  {
   "cell_type": "markdown",
   "metadata": {},
   "source": [
    "## Read in data from parquet file"
   ]
  },
  {
   "cell_type": "code",
   "execution_count": 12,
   "metadata": {},
   "outputs": [
    {
     "name": "stdout",
     "output_type": "stream",
     "text": [
      "Total number of data: 9567\n"
     ]
    },
    {
     "data": {
      "text/html": [
       "<div>\n",
       "<style scoped>\n",
       "    .dataframe tbody tr th:only-of-type {\n",
       "        vertical-align: middle;\n",
       "    }\n",
       "\n",
       "    .dataframe tbody tr th {\n",
       "        vertical-align: top;\n",
       "    }\n",
       "\n",
       "    .dataframe thead th {\n",
       "        text-align: right;\n",
       "    }\n",
       "</style>\n",
       "<table border=\"1\" class=\"dataframe\">\n",
       "  <thead>\n",
       "    <tr style=\"text-align: right;\">\n",
       "      <th></th>\n",
       "      <th>structureChainId</th>\n",
       "      <th>alpha</th>\n",
       "      <th>beta</th>\n",
       "      <th>coil</th>\n",
       "      <th>foldType</th>\n",
       "      <th>features</th>\n",
       "    </tr>\n",
       "  </thead>\n",
       "  <tbody>\n",
       "    <tr>\n",
       "      <th>0</th>\n",
       "      <td>1RXQ.D</td>\n",
       "      <td>0.662722</td>\n",
       "      <td>0.065089</td>\n",
       "      <td>0.272189</td>\n",
       "      <td>alpha+beta</td>\n",
       "      <td>[0.1456336055794799, -0.6842364861740399, 0.35...</td>\n",
       "    </tr>\n",
       "    <tr>\n",
       "      <th>1</th>\n",
       "      <td>1RYL.B</td>\n",
       "      <td>0.550336</td>\n",
       "      <td>0.154362</td>\n",
       "      <td>0.295302</td>\n",
       "      <td>alpha+beta</td>\n",
       "      <td>[0.13782894168629772, -0.765031853847834, 0.69...</td>\n",
       "    </tr>\n",
       "    <tr>\n",
       "      <th>2</th>\n",
       "      <td>1RYO.A</td>\n",
       "      <td>0.367284</td>\n",
       "      <td>0.212963</td>\n",
       "      <td>0.419753</td>\n",
       "      <td>alpha+beta</td>\n",
       "      <td>[0.19262437658681553, -0.7012773752212524, 0.6...</td>\n",
       "    </tr>\n",
       "    <tr>\n",
       "      <th>3</th>\n",
       "      <td>1RZ3.A</td>\n",
       "      <td>0.423913</td>\n",
       "      <td>0.228261</td>\n",
       "      <td>0.347826</td>\n",
       "      <td>alpha+beta</td>\n",
       "      <td>[0.16362798592075706, -0.8124300526641309, 0.5...</td>\n",
       "    </tr>\n",
       "    <tr>\n",
       "      <th>4</th>\n",
       "      <td>1RZ4.A</td>\n",
       "      <td>0.676056</td>\n",
       "      <td>0.028169</td>\n",
       "      <td>0.295775</td>\n",
       "      <td>alpha</td>\n",
       "      <td>[0.023406046255388193, -0.6960803609010247, 0....</td>\n",
       "    </tr>\n",
       "  </tbody>\n",
       "</table>\n",
       "</div>"
      ],
      "text/plain": [
       "  structureChainId     alpha      beta      coil    foldType  \\\n",
       "0           1RXQ.D  0.662722  0.065089  0.272189  alpha+beta   \n",
       "1           1RYL.B  0.550336  0.154362  0.295302  alpha+beta   \n",
       "2           1RYO.A  0.367284  0.212963  0.419753  alpha+beta   \n",
       "3           1RZ3.A  0.423913  0.228261  0.347826  alpha+beta   \n",
       "4           1RZ4.A  0.676056  0.028169  0.295775       alpha   \n",
       "\n",
       "                                            features  \n",
       "0  [0.1456336055794799, -0.6842364861740399, 0.35...  \n",
       "1  [0.13782894168629772, -0.765031853847834, 0.69...  \n",
       "2  [0.19262437658681553, -0.7012773752212524, 0.6...  \n",
       "3  [0.16362798592075706, -0.8124300526641309, 0.5...  \n",
       "4  [0.023406046255388193, -0.6960803609010247, 0....  "
      ]
     },
     "execution_count": 12,
     "metadata": {},
     "output_type": "execute_result"
    }
   ],
   "source": [
    "parquetFile = './input_features/'\n",
    "data = spark.read.parquet(parquetFile).cache()\n",
    "\n",
    "print(f\"Total number of data: {data.count()}\")\n",
    "data.toPandas().head()"
   ]
  },
  {
   "cell_type": "markdown",
   "metadata": {},
   "source": [
    "## Select only alpha and beta foldType"
   ]
  },
  {
   "cell_type": "code",
   "execution_count": 13,
   "metadata": {},
   "outputs": [
    {
     "name": "stdout",
     "output_type": "stream",
     "text": [
      "Total number of data: 2390\n"
     ]
    },
    {
     "data": {
      "text/html": [
       "<div>\n",
       "<style scoped>\n",
       "    .dataframe tbody tr th:only-of-type {\n",
       "        vertical-align: middle;\n",
       "    }\n",
       "\n",
       "    .dataframe tbody tr th {\n",
       "        vertical-align: top;\n",
       "    }\n",
       "\n",
       "    .dataframe thead th {\n",
       "        text-align: right;\n",
       "    }\n",
       "</style>\n",
       "<table border=\"1\" class=\"dataframe\">\n",
       "  <thead>\n",
       "    <tr style=\"text-align: right;\">\n",
       "      <th></th>\n",
       "      <th>structureChainId</th>\n",
       "      <th>alpha</th>\n",
       "      <th>beta</th>\n",
       "      <th>coil</th>\n",
       "      <th>foldType</th>\n",
       "      <th>features</th>\n",
       "    </tr>\n",
       "  </thead>\n",
       "  <tbody>\n",
       "    <tr>\n",
       "      <th>0</th>\n",
       "      <td>1RZ4.A</td>\n",
       "      <td>0.676056</td>\n",
       "      <td>0.028169</td>\n",
       "      <td>0.295775</td>\n",
       "      <td>alpha</td>\n",
       "      <td>[0.023406046255388193, -0.6960803609010247, 0....</td>\n",
       "    </tr>\n",
       "    <tr>\n",
       "      <th>1</th>\n",
       "      <td>1RZH.L</td>\n",
       "      <td>0.619217</td>\n",
       "      <td>0.035587</td>\n",
       "      <td>0.345196</td>\n",
       "      <td>alpha</td>\n",
       "      <td>[0.16102126047065082, -0.40389720244732286, 0....</td>\n",
       "    </tr>\n",
       "    <tr>\n",
       "      <th>2</th>\n",
       "      <td>1RZH.M</td>\n",
       "      <td>0.634551</td>\n",
       "      <td>0.039867</td>\n",
       "      <td>0.325581</td>\n",
       "      <td>alpha</td>\n",
       "      <td>[0.010987468987925502, -0.3211979088343047, 0....</td>\n",
       "    </tr>\n",
       "    <tr>\n",
       "      <th>3</th>\n",
       "      <td>1S0P.B</td>\n",
       "      <td>0.755682</td>\n",
       "      <td>0.011364</td>\n",
       "      <td>0.232955</td>\n",
       "      <td>alpha</td>\n",
       "      <td>[0.26360149060974697, -0.524667025144611, 0.41...</td>\n",
       "    </tr>\n",
       "    <tr>\n",
       "      <th>4</th>\n",
       "      <td>1S2X.A</td>\n",
       "      <td>0.772222</td>\n",
       "      <td>0.000000</td>\n",
       "      <td>0.227778</td>\n",
       "      <td>alpha</td>\n",
       "      <td>[0.22360513433558504, -0.5063329056723088, 0.4...</td>\n",
       "    </tr>\n",
       "  </tbody>\n",
       "</table>\n",
       "</div>"
      ],
      "text/plain": [
       "  structureChainId     alpha      beta      coil foldType  \\\n",
       "0           1RZ4.A  0.676056  0.028169  0.295775    alpha   \n",
       "1           1RZH.L  0.619217  0.035587  0.345196    alpha   \n",
       "2           1RZH.M  0.634551  0.039867  0.325581    alpha   \n",
       "3           1S0P.B  0.755682  0.011364  0.232955    alpha   \n",
       "4           1S2X.A  0.772222  0.000000  0.227778    alpha   \n",
       "\n",
       "                                            features  \n",
       "0  [0.023406046255388193, -0.6960803609010247, 0....  \n",
       "1  [0.16102126047065082, -0.40389720244732286, 0....  \n",
       "2  [0.010987468987925502, -0.3211979088343047, 0....  \n",
       "3  [0.26360149060974697, -0.524667025144611, 0.41...  \n",
       "4  [0.22360513433558504, -0.5063329056723088, 0.4...  "
      ]
     },
     "execution_count": 13,
     "metadata": {},
     "output_type": "execute_result"
    }
   ],
   "source": [
    "data = data.where((data.foldType == 'alpha') | (data.foldType == 'beta')) #| (data.foldType == 'other'))\n",
    "\n",
    "print(f\"Total number of data: {data.count()}\")\n",
    "data.toPandas().head()"
   ]
  },
  {
   "cell_type": "markdown",
   "metadata": {},
   "source": [
    "## Basic dataset information and setting"
   ]
  },
  {
   "cell_type": "code",
   "execution_count": 14,
   "metadata": {},
   "outputs": [
    {
     "name": "stdout",
     "output_type": "stream",
     "text": [
      "Feature count    : 50\n",
      "Class count    : 2\n",
      "Dataset size (unbalanced)    : 2390\n",
      "+--------+-----+\n",
      "|foldType|count|\n",
      "+--------+-----+\n",
      "|    beta|  626|\n",
      "|   alpha| 1764|\n",
      "+--------+-----+\n",
      "\n",
      "Dataset size (balanced)  : 1266\n",
      "+--------+-----+\n",
      "|foldType|count|\n",
      "+--------+-----+\n",
      "|    beta|  626|\n",
      "|   alpha|  640|\n",
      "+--------+-----+\n",
      "\n"
     ]
    }
   ],
   "source": [
    "label = 'foldType'\n",
    "testFraction = 0.1\n",
    "seed = 123\n",
    "\n",
    "vector = data.first()[\"features\"]\n",
    "featureCount = len(vector)\n",
    "print(f\"Feature count    : {featureCount}\")\n",
    "    \n",
    "classCount = int(data.select(label).distinct().count())\n",
    "print(f\"Class count    : {classCount}\")\n",
    "\n",
    "print(f\"Dataset size (unbalanced)    : {data.count()}\")\n",
    "    \n",
    "data.groupby(label).count().show()\n",
    "data = datasetBalancer.downsample(data, label, 1)\n",
    "print(f\"Dataset size (balanced)  : {data.count()}\")\n",
    "    \n",
    "data.groupby(label).count().show()"
   ]
  },
  {
   "cell_type": "markdown",
   "metadata": {},
   "source": [
    "## Random Forest Classifier"
   ]
  },
  {
   "cell_type": "code",
   "execution_count": 6,
   "metadata": {},
   "outputs": [
    {
     "name": "stdout",
     "output_type": "stream",
     "text": [
      "\n",
      " Class\tTrain\tTest\n",
      "alpha\t573\t67\n",
      "beta\t567\t59\n",
      "\n",
      "Sample predictions: RandomForestClassifier\n",
      "+----------------+-----------+----------+----------+--------+--------------------+------------+--------------------+--------------------+----------+--------------+\n",
      "|structureChainId|      alpha|      beta|      coil|foldType|            features|indexedLabel|       rawPrediction|         probability|prediction|predictedLabel|\n",
      "+----------------+-----------+----------+----------+--------+--------------------+------------+--------------------+--------------------+----------+--------------+\n",
      "|          3HOL.A| 0.03168317| 0.4970297|0.47128713|    beta|[0.21166765307054...|         1.0|[3.41790065255127...|[0.17089503262756...|       1.0|          beta|\n",
      "|          4NBX.A|        0.0|0.48951048| 0.5104895|    beta|[-0.1408700931224...|         1.0|[3.34504035360635...|[0.16725201768031...|       1.0|          beta|\n",
      "|          5F6L.B| 0.02247191|0.46629214|0.51123595|    beta|[0.23988754697693...|         1.0|[2.09058304426561...|[0.10452915221328...|       1.0|          beta|\n",
      "|          5E9P.A|0.034883723|0.44186047| 0.5232558|    beta|[0.23662823032012...|         1.0|[2.71231843931823...|[0.13561592196591...|       1.0|          beta|\n",
      "|          5SV5.A|        0.0| 0.5904762|0.40952381|    beta|[0.17037947346062...|         1.0|[3.08743949121881...|[0.15437197456094...|       1.0|          beta|\n",
      "+----------------+-----------+----------+----------+--------+--------------------+------------+--------------------+--------------------+----------+--------------+\n",
      "only showing top 5 rows\n",
      "\n",
      "Total time taken: 4.340211868286133\n",
      "\n",
      "Method\tRandomForestClassifier\n",
      "AUC\t0.9128509992410827\n",
      "F\t0.9127370246344151\n",
      "Accuracy\t0.9126984126984127\n",
      "Precision\t0.9128908128908129\n",
      "Recall\t0.9126984126984127\n",
      "False Positive Rate\t0.08699641421624725\n",
      "True Positive Rate\t0.9126984126984127\n",
      "\t\n",
      "Confusion Matrix\n",
      "['alpha', 'beta']\n",
      "DenseMatrix([[61.,  6.],\n",
      "             [ 5., 54.]])\n"
     ]
    }
   ],
   "source": [
    "rfc = RandomForestClassifier()\n",
    "mcc = SparkMultiClassClassifier(rfc, label, testFraction, seed)\n",
    "matrics = mcc.fit(data)\n",
    "for k,v in matrics.items(): print(f\"{k}\\t{v}\")"
   ]
  },
  {
   "cell_type": "markdown",
   "metadata": {},
   "source": [
    "## Logistic Regression Classifier"
   ]
  },
  {
   "cell_type": "code",
   "execution_count": 7,
   "metadata": {},
   "outputs": [
    {
     "name": "stdout",
     "output_type": "stream",
     "text": [
      "\n",
      " Class\tTrain\tTest\n",
      "alpha\t573\t67\n",
      "beta\t567\t59\n",
      "\n",
      "Sample predictions: LogisticRegression\n",
      "+----------------+-----------+----------+----------+--------+--------------------+------------+--------------------+--------------------+----------+--------------+\n",
      "|structureChainId|      alpha|      beta|      coil|foldType|            features|indexedLabel|       rawPrediction|         probability|prediction|predictedLabel|\n",
      "+----------------+-----------+----------+----------+--------+--------------------+------------+--------------------+--------------------+----------+--------------+\n",
      "|          3HOL.A| 0.03168317| 0.4970297|0.47128713|    beta|[0.21166765307054...|         1.0|[-1.8199748262396...|[0.13943689364063...|       1.0|          beta|\n",
      "|          4NBX.A|        0.0|0.48951048| 0.5104895|    beta|[-0.1408700931224...|         1.0|[-4.6220401011011...|[0.00973697494302...|       1.0|          beta|\n",
      "|          5F6L.B| 0.02247191|0.46629214|0.51123595|    beta|[0.23988754697693...|         1.0|[-1.3289190624314...|[0.20933822117248...|       1.0|          beta|\n",
      "|          5E9P.A|0.034883723|0.44186047| 0.5232558|    beta|[0.23662823032012...|         1.0|[-4.2688236122245...|[0.01380499518328...|       1.0|          beta|\n",
      "|          5SV5.A|        0.0| 0.5904762|0.40952381|    beta|[0.17037947346062...|         1.0|[-2.4163080339734...|[0.08193755082074...|       1.0|          beta|\n",
      "+----------------+-----------+----------+----------+--------+--------------------+------------+--------------------+--------------------+----------+--------------+\n",
      "only showing top 5 rows\n",
      "\n",
      "Total time taken: 4.8322577476501465\n",
      "\n",
      "Method\tLogisticRegression\n",
      "AUC\t0.9043764229698963\n",
      "F\t0.9047619047619048\n",
      "Accuracy\t0.9047619047619048\n",
      "Precision\t0.9047619047619048\n",
      "Recall\t0.9047619047619048\n",
      "False Positive Rate\t0.09600905882211219\n",
      "True Positive Rate\t0.9047619047619048\n",
      "\t\n",
      "Confusion Matrix\n",
      "['alpha', 'beta']\n",
      "DenseMatrix([[61.,  6.],\n",
      "             [ 6., 53.]])\n"
     ]
    }
   ],
   "source": [
    "lr = LogisticRegression()\n",
    "mcc = SparkMultiClassClassifier(lr, label, testFraction, seed)\n",
    "matrics = mcc.fit(data)\n",
    "for k,v in matrics.items(): print(f\"{k}\\t{v}\")"
   ]
  },
  {
   "cell_type": "markdown",
   "metadata": {},
   "source": [
    "## Simple Multilayer Perception Classifier"
   ]
  },
  {
   "cell_type": "code",
   "execution_count": 8,
   "metadata": {},
   "outputs": [
    {
     "name": "stdout",
     "output_type": "stream",
     "text": [
      "\n",
      " Class\tTrain\tTest\n",
      "alpha\t573\t67\n",
      "beta\t567\t59\n",
      "\n",
      "Sample predictions: MultilayerPerceptronClassifier\n",
      "+----------------+-----------+----------+----------+--------+--------------------+------------+----------+--------------+\n",
      "|structureChainId|      alpha|      beta|      coil|foldType|            features|indexedLabel|prediction|predictedLabel|\n",
      "+----------------+-----------+----------+----------+--------+--------------------+------------+----------+--------------+\n",
      "|          3HOL.A| 0.03168317| 0.4970297|0.47128713|    beta|[0.21166765307054...|         1.0|       1.0|          beta|\n",
      "|          4NBX.A|        0.0|0.48951048| 0.5104895|    beta|[-0.1408700931224...|         1.0|       1.0|          beta|\n",
      "|          5F6L.B| 0.02247191|0.46629214|0.51123595|    beta|[0.23988754697693...|         1.0|       1.0|          beta|\n",
      "|          5E9P.A|0.034883723|0.44186047| 0.5232558|    beta|[0.23662823032012...|         1.0|       1.0|          beta|\n",
      "|          5SV5.A|        0.0| 0.5904762|0.40952381|    beta|[0.17037947346062...|         1.0|       1.0|          beta|\n",
      "+----------------+-----------+----------+----------+--------+--------------------+------------+----------+--------------+\n",
      "only showing top 5 rows\n",
      "\n",
      "Total time taken: 4.814701318740845\n",
      "\n",
      "Method\tMultilayerPerceptronClassifier\n",
      "AUC\t0.9382747280546421\n",
      "F\t0.9365719890310056\n",
      "Accuracy\t0.9365079365079365\n",
      "Precision\t0.9385235575711766\n",
      "Recall\t0.9365079365079365\n",
      "False Positive Rate\t0.05995848039865242\n",
      "True Positive Rate\t0.9365079365079365\n",
      "\t\n",
      "Confusion Matrix\n",
      "['alpha', 'beta']\n",
      "DenseMatrix([[61.,  6.],\n",
      "             [ 2., 57.]])\n"
     ]
    }
   ],
   "source": [
    "layers = [featureCount, 32, 32, classCount]\n",
    "mpc = MultilayerPerceptronClassifier().setLayers(layers) \\\n",
    "                                          .setBlockSize(128) \\\n",
    "                                          .setSeed(1234) \\\n",
    "                                          .setMaxIter(100)\n",
    "mcc = SparkMultiClassClassifier(mpc, label, testFraction, seed)\n",
    "matrics = mcc.fit(data)\n",
    "for k,v in matrics.items(): print(f\"{k}\\t{v}\")"
   ]
  },
  {
   "cell_type": "markdown",
   "metadata": {},
   "source": [
    "## Terminate Spark"
   ]
  },
  {
   "cell_type": "code",
   "execution_count": 9,
   "metadata": {},
   "outputs": [],
   "source": [
    "spark.stop()"
   ]
  }
 ],
 "metadata": {
  "kernelspec": {
   "display_name": "Python 3",
   "language": "python",
   "name": "python3"
  },
  "language_info": {
   "codemirror_mode": {
    "name": "ipython",
    "version": 3
   },
   "file_extension": ".py",
   "mimetype": "text/x-python",
   "name": "python",
   "nbconvert_exporter": "python",
   "pygments_lexer": "ipython3",
   "version": "3.6.0"
  }
 },
 "nbformat": 4,
 "nbformat_minor": 2
}
