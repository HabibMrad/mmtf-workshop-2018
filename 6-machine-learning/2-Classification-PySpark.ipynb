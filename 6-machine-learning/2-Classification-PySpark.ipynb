{
 "cells": [
  {
   "cell_type": "markdown",
   "metadata": {},
   "source": [
    "# Machine learning - Features extraction\n",
    "\n",
    "Runs binary and multi-class classifiers on a given dataset.\n",
    "Dataset are read as Parquet file. The dataset must contain a feature vector named \"features\" and a classification column.\n",
    "\n",
    "## Imports"
   ]
  },
  {
   "cell_type": "code",
   "execution_count": 5,
   "metadata": {},
   "outputs": [],
   "source": [
    "from mmtfPyspark.ml import SparkMultiClassClassifier, datasetBalancer                                 \n",
    "from pyspark.sql import SparkSession\n",
    "from pyspark.sql.functions import *\n",
    "from pyspark.ml.classification import DecisionTreeClassifier, LogisticRegression, MultilayerPerceptronClassifier, RandomForestClassifier"
   ]
  },
  {
   "cell_type": "markdown",
   "metadata": {},
   "source": [
    "## Configure Spark Session"
   ]
  },
  {
   "cell_type": "code",
   "execution_count": 6,
   "metadata": {},
   "outputs": [],
   "source": [
    "spark = SparkSession.builder \\\n",
    "                    .master(\"local[*]\") \\\n",
    "                    .appName(\"datasetClassifier\") \\\n",
    "                    .getOrCreate()"
   ]
  },
  {
   "cell_type": "markdown",
   "metadata": {},
   "source": [
    "## Read in data from parquet file"
   ]
  },
  {
   "cell_type": "code",
   "execution_count": 7,
   "metadata": {},
   "outputs": [
    {
     "name": "stdout",
     "output_type": "stream",
     "text": [
      "Total number of data: 10660\n"
     ]
    },
    {
     "data": {
      "text/html": [
       "<div>\n",
       "<style scoped>\n",
       "    .dataframe tbody tr th:only-of-type {\n",
       "        vertical-align: middle;\n",
       "    }\n",
       "\n",
       "    .dataframe tbody tr th {\n",
       "        vertical-align: top;\n",
       "    }\n",
       "\n",
       "    .dataframe thead th {\n",
       "        text-align: right;\n",
       "    }\n",
       "</style>\n",
       "<table border=\"1\" class=\"dataframe\">\n",
       "  <thead>\n",
       "    <tr style=\"text-align: right;\">\n",
       "      <th></th>\n",
       "      <th>structureChainId</th>\n",
       "      <th>alpha</th>\n",
       "      <th>beta</th>\n",
       "      <th>coil</th>\n",
       "      <th>foldType</th>\n",
       "      <th>features</th>\n",
       "    </tr>\n",
       "  </thead>\n",
       "  <tbody>\n",
       "    <tr>\n",
       "      <th>0</th>\n",
       "      <td>1RXQ.D</td>\n",
       "      <td>0.662722</td>\n",
       "      <td>0.065089</td>\n",
       "      <td>0.272189</td>\n",
       "      <td>alpha+beta</td>\n",
       "      <td>[0.03355525744721125, 0.2672737870460092, 0.44...</td>\n",
       "    </tr>\n",
       "    <tr>\n",
       "      <th>1</th>\n",
       "      <td>1RYL.B</td>\n",
       "      <td>0.550336</td>\n",
       "      <td>0.154362</td>\n",
       "      <td>0.295302</td>\n",
       "      <td>alpha+beta</td>\n",
       "      <td>[-0.03064694956326521, -0.019814661751692015, ...</td>\n",
       "    </tr>\n",
       "    <tr>\n",
       "      <th>2</th>\n",
       "      <td>1RYO.A</td>\n",
       "      <td>0.367284</td>\n",
       "      <td>0.212963</td>\n",
       "      <td>0.419753</td>\n",
       "      <td>alpha+beta</td>\n",
       "      <td>[0.13665451809901036, 0.06933704541390476, 0.3...</td>\n",
       "    </tr>\n",
       "    <tr>\n",
       "      <th>3</th>\n",
       "      <td>1RYP.E</td>\n",
       "      <td>0.351240</td>\n",
       "      <td>0.260331</td>\n",
       "      <td>0.388430</td>\n",
       "      <td>alpha+beta</td>\n",
       "      <td>[-0.19166820620754696, -0.035750856561223, 0.3...</td>\n",
       "    </tr>\n",
       "    <tr>\n",
       "      <th>4</th>\n",
       "      <td>1RYP.N</td>\n",
       "      <td>0.321888</td>\n",
       "      <td>0.313305</td>\n",
       "      <td>0.364807</td>\n",
       "      <td>alpha+beta</td>\n",
       "      <td>[0.12672561553009817, 0.018070112488328897, 0....</td>\n",
       "    </tr>\n",
       "  </tbody>\n",
       "</table>\n",
       "</div>"
      ],
      "text/plain": [
       "  structureChainId     alpha      beta      coil    foldType  \\\n",
       "0           1RXQ.D  0.662722  0.065089  0.272189  alpha+beta   \n",
       "1           1RYL.B  0.550336  0.154362  0.295302  alpha+beta   \n",
       "2           1RYO.A  0.367284  0.212963  0.419753  alpha+beta   \n",
       "3           1RYP.E  0.351240  0.260331  0.388430  alpha+beta   \n",
       "4           1RYP.N  0.321888  0.313305  0.364807  alpha+beta   \n",
       "\n",
       "                                            features  \n",
       "0  [0.03355525744721125, 0.2672737870460092, 0.44...  \n",
       "1  [-0.03064694956326521, -0.019814661751692015, ...  \n",
       "2  [0.13665451809901036, 0.06933704541390476, 0.3...  \n",
       "3  [-0.19166820620754696, -0.035750856561223, 0.3...  \n",
       "4  [0.12672561553009817, 0.018070112488328897, 0....  "
      ]
     },
     "execution_count": 7,
     "metadata": {},
     "output_type": "execute_result"
    }
   ],
   "source": [
    "parquetFile = './features/'\n",
    "data = spark.read.parquet(parquetFile).cache()\n",
    "\n",
    "print(f\"Total number of data: {data.count()}\")\n",
    "data.toPandas().head()"
   ]
  },
  {
   "cell_type": "markdown",
   "metadata": {},
   "source": [
    "## Select only alpha and beta foldType"
   ]
  },
  {
   "cell_type": "code",
   "execution_count": 8,
   "metadata": {},
   "outputs": [
    {
     "name": "stdout",
     "output_type": "stream",
     "text": [
      "Total number of data: 2584\n"
     ]
    },
    {
     "data": {
      "text/html": [
       "<div>\n",
       "<style scoped>\n",
       "    .dataframe tbody tr th:only-of-type {\n",
       "        vertical-align: middle;\n",
       "    }\n",
       "\n",
       "    .dataframe tbody tr th {\n",
       "        vertical-align: top;\n",
       "    }\n",
       "\n",
       "    .dataframe thead th {\n",
       "        text-align: right;\n",
       "    }\n",
       "</style>\n",
       "<table border=\"1\" class=\"dataframe\">\n",
       "  <thead>\n",
       "    <tr style=\"text-align: right;\">\n",
       "      <th></th>\n",
       "      <th>structureChainId</th>\n",
       "      <th>alpha</th>\n",
       "      <th>beta</th>\n",
       "      <th>coil</th>\n",
       "      <th>foldType</th>\n",
       "      <th>features</th>\n",
       "    </tr>\n",
       "  </thead>\n",
       "  <tbody>\n",
       "    <tr>\n",
       "      <th>0</th>\n",
       "      <td>1RZ4.A</td>\n",
       "      <td>0.676056</td>\n",
       "      <td>0.028169</td>\n",
       "      <td>0.295775</td>\n",
       "      <td>alpha</td>\n",
       "      <td>[-0.08727558182345496, 0.07827300824017988, 0....</td>\n",
       "    </tr>\n",
       "    <tr>\n",
       "      <th>1</th>\n",
       "      <td>1RZH.L</td>\n",
       "      <td>0.619217</td>\n",
       "      <td>0.035587</td>\n",
       "      <td>0.345196</td>\n",
       "      <td>alpha</td>\n",
       "      <td>[-0.034122437554677684, -0.08903528297419792, ...</td>\n",
       "    </tr>\n",
       "    <tr>\n",
       "      <th>2</th>\n",
       "      <td>1RZH.M</td>\n",
       "      <td>0.634551</td>\n",
       "      <td>0.039867</td>\n",
       "      <td>0.325581</td>\n",
       "      <td>alpha</td>\n",
       "      <td>[-0.141879534431021, 0.019542623172800234, 0.5...</td>\n",
       "    </tr>\n",
       "    <tr>\n",
       "      <th>3</th>\n",
       "      <td>1S0P.B</td>\n",
       "      <td>0.755682</td>\n",
       "      <td>0.011364</td>\n",
       "      <td>0.232955</td>\n",
       "      <td>alpha</td>\n",
       "      <td>[0.31434613252324717, 0.04741660307294556, 0.3...</td>\n",
       "    </tr>\n",
       "    <tr>\n",
       "      <th>4</th>\n",
       "      <td>1S2X.A</td>\n",
       "      <td>0.772222</td>\n",
       "      <td>0.000000</td>\n",
       "      <td>0.227778</td>\n",
       "      <td>alpha</td>\n",
       "      <td>[0.2737482454332455, 0.09691677558712843, -0.0...</td>\n",
       "    </tr>\n",
       "  </tbody>\n",
       "</table>\n",
       "</div>"
      ],
      "text/plain": [
       "  structureChainId     alpha      beta      coil foldType  \\\n",
       "0           1RZ4.A  0.676056  0.028169  0.295775    alpha   \n",
       "1           1RZH.L  0.619217  0.035587  0.345196    alpha   \n",
       "2           1RZH.M  0.634551  0.039867  0.325581    alpha   \n",
       "3           1S0P.B  0.755682  0.011364  0.232955    alpha   \n",
       "4           1S2X.A  0.772222  0.000000  0.227778    alpha   \n",
       "\n",
       "                                            features  \n",
       "0  [-0.08727558182345496, 0.07827300824017988, 0....  \n",
       "1  [-0.034122437554677684, -0.08903528297419792, ...  \n",
       "2  [-0.141879534431021, 0.019542623172800234, 0.5...  \n",
       "3  [0.31434613252324717, 0.04741660307294556, 0.3...  \n",
       "4  [0.2737482454332455, 0.09691677558712843, -0.0...  "
      ]
     },
     "execution_count": 8,
     "metadata": {},
     "output_type": "execute_result"
    }
   ],
   "source": [
    "data = data.where((data.foldType == 'alpha') | (data.foldType == 'beta')) #| (data.foldType == 'other'))\n",
    "\n",
    "print(f\"Total number of data: {data.count()}\")\n",
    "data.toPandas().head()"
   ]
  },
  {
   "cell_type": "markdown",
   "metadata": {},
   "source": [
    "## Basic dataset information and setting"
   ]
  },
  {
   "cell_type": "code",
   "execution_count": 9,
   "metadata": {},
   "outputs": [
    {
     "name": "stdout",
     "output_type": "stream",
     "text": [
      "Feature count    : 50\n",
      "Class count    : 2\n",
      "Dataset size (unbalanced)    : 2584\n",
      "+--------+-----+\n",
      "|foldType|count|\n",
      "+--------+-----+\n",
      "|    beta|  660|\n",
      "|   alpha| 1924|\n",
      "+--------+-----+\n",
      "\n",
      "Dataset size (balanced)  : 1323\n",
      "+--------+-----+\n",
      "|foldType|count|\n",
      "+--------+-----+\n",
      "|    beta|  660|\n",
      "|   alpha|  663|\n",
      "+--------+-----+\n",
      "\n"
     ]
    }
   ],
   "source": [
    "label = 'foldType'\n",
    "testFraction = 0.1\n",
    "seed = 123\n",
    "\n",
    "vector = data.first()[\"features\"]\n",
    "featureCount = len(vector)\n",
    "print(f\"Feature count    : {featureCount}\")\n",
    "    \n",
    "classCount = int(data.select(label).distinct().count())\n",
    "print(f\"Class count    : {classCount}\")\n",
    "\n",
    "print(f\"Dataset size (unbalanced)    : {data.count()}\")\n",
    "    \n",
    "data.groupby(label).count().show(classCount)\n",
    "data = datasetBalancer.downsample(data, label, 1)\n",
    "print(f\"Dataset size (balanced)  : {data.count()}\")\n",
    "    \n",
    "data.groupby(label).count().show(classCount)"
   ]
  },
  {
   "cell_type": "markdown",
   "metadata": {},
   "source": [
    "## Decision Tree Classifier"
   ]
  },
  {
   "cell_type": "code",
   "execution_count": 10,
   "metadata": {},
   "outputs": [
    {
     "name": "stdout",
     "output_type": "stream",
     "text": [
      "\n",
      " Class\tTrain\tTest\n",
      "alpha\t615\t48\n",
      "beta\t598\t62\n",
      "\n",
      "Sample predictions: DecisionTreeClassifier\n",
      "+----------------+-----------+----------+----------+--------+--------------------+------------+-------------+--------------------+----------+--------------+\n",
      "|structureChainId|      alpha|      beta|      coil|foldType|            features|indexedLabel|rawPrediction|         probability|prediction|predictedLabel|\n",
      "+----------------+-----------+----------+----------+--------+--------------------+------------+-------------+--------------------+----------+--------------+\n",
      "|          3KHQ.A|0.032258064|0.50537634| 0.4623656|    beta|[0.17156204006592...|         1.0|  [16.0,76.0]|[0.17391304347826...|       1.0|          beta|\n",
      "|          5LS7.A|        0.0|      0.64|      0.36|    beta|[-0.6127254480496...|         1.0|  [16.0,76.0]|[0.17391304347826...|       1.0|          beta|\n",
      "|          3SGR.C|        0.0| 0.8333333|0.16666667|    beta|[0.19314044434577...|         1.0|   [29.0,0.0]|           [1.0,0.0]|       0.0|         alpha|\n",
      "|          3IT5.B|0.022099448| 0.3480663|0.62983423|    beta|[0.01785488943029...|         1.0| [19.0,310.0]|[0.05775075987841...|       1.0|          beta|\n",
      "|          3PDG.A|        0.0| 0.5934066| 0.4065934|    beta|[0.09398845164105...|         1.0|  [16.0,76.0]|[0.17391304347826...|       1.0|          beta|\n",
      "|          3TV0.B|        0.0| 0.4397163|0.56028366|    beta|[0.07555530329567...|         1.0| [19.0,310.0]|[0.05775075987841...|       1.0|          beta|\n",
      "|          5AOT.A|0.029411765|0.60784316| 0.3627451|    beta|[-0.1280793638012...|         1.0| [19.0,310.0]|[0.05775075987841...|       1.0|          beta|\n",
      "|          2QSB.A|  0.7647059|       0.0|0.23529412|   alpha|[0.11615012651732...|         0.0|  [240.0,0.0]|           [1.0,0.0]|       0.0|         alpha|\n",
      "|          4ZF7.A|  0.6825397|0.04761905|0.26984128|   alpha|[0.11793004127260...|         0.0|   [47.0,5.0]|[0.90384615384615...|       0.0|         alpha|\n",
      "|          1T6O.B|  0.8947368|       0.0|0.10526316|   alpha|[-0.3715657493050...|         0.0| [108.0,17.0]|       [0.864,0.136]|       0.0|         alpha|\n",
      "|          3BHP.C|  0.6851852|       0.0| 0.3148148|   alpha|[-0.3709637951105...|         0.0|    [6.0,0.0]|           [1.0,0.0]|       0.0|         alpha|\n",
      "+----------------+-----------+----------+----------+--------+--------------------+------------+-------------+--------------------+----------+--------------+\n",
      "\n",
      "Total time taken: 4.246325731277466\n",
      "Method\tDecisionTreeClassifier\n",
      "AUC\t0.8266129032258065\n",
      "F\t0.8346853146853146\n",
      "Accuracy\t0.8363636363636363\n",
      "Precision\t0.8381970970206263\n",
      "Recall\t0.8363636363636363\n",
      "False Positive Rase\t0.18313782991202343\n",
      "True Positive Rate\t0.8363636363636363\n",
      "\t\n",
      "Confusion Matrix\n",
      "['alpha', 'beta']\n",
      "DenseMatrix([[36., 12.],\n",
      "             [ 6., 56.]])\n"
     ]
    }
   ],
   "source": [
    "dtc = DecisionTreeClassifier()\n",
    "mcc = SparkMultiClassClassifier(dtc, label, testFraction, seed)\n",
    "matrics = mcc.fit(data)\n",
    "for k,v in matrics.items(): print(f\"{k}\\t{v}\")"
   ]
  },
  {
   "cell_type": "markdown",
   "metadata": {},
   "source": [
    "## Random Forest Classifier"
   ]
  },
  {
   "cell_type": "code",
   "execution_count": 11,
   "metadata": {},
   "outputs": [
    {
     "name": "stdout",
     "output_type": "stream",
     "text": [
      "\n",
      " Class\tTrain\tTest\n",
      "alpha\t615\t48\n",
      "beta\t598\t62\n",
      "\n",
      "Sample predictions: RandomForestClassifier\n",
      "+----------------+-----------+----------+----------+--------+--------------------+------------+--------------------+--------------------+----------+--------------+\n",
      "|structureChainId|      alpha|      beta|      coil|foldType|            features|indexedLabel|       rawPrediction|         probability|prediction|predictedLabel|\n",
      "+----------------+-----------+----------+----------+--------+--------------------+------------+--------------------+--------------------+----------+--------------+\n",
      "|          3KHQ.A|0.032258064|0.50537634| 0.4623656|    beta|[0.17156204006592...|         1.0|[6.67941349880415...|[0.33397067494020...|       1.0|          beta|\n",
      "|          5LS7.A|        0.0|      0.64|      0.36|    beta|[-0.6127254480496...|         1.0|[12.5719984003061...|[0.62859992001530...|       0.0|         alpha|\n",
      "|          3SGR.C|        0.0| 0.8333333|0.16666667|    beta|[0.19314044434577...|         1.0|[7.44650148995941...|[0.37232507449797...|       1.0|          beta|\n",
      "|          3IT5.B|0.022099448| 0.3480663|0.62983423|    beta|[0.01785488943029...|         1.0|[2.13165125732479...|[0.10658256286623...|       1.0|          beta|\n",
      "|          3PDG.A|        0.0| 0.5934066| 0.4065934|    beta|[0.09398845164105...|         1.0|[2.99679985573373...|[0.14983999278668...|       1.0|          beta|\n",
      "|          3TV0.B|        0.0| 0.4397163|0.56028366|    beta|[0.07555530329567...|         1.0|[3.63791402913291...|[0.18189570145664...|       1.0|          beta|\n",
      "|          5AOT.A|0.029411765|0.60784316| 0.3627451|    beta|[-0.1280793638012...|         1.0|[2.47994203917828...|[0.12399710195891...|       1.0|          beta|\n",
      "|          2QSB.A|  0.7647059|       0.0|0.23529412|   alpha|[0.11615012651732...|         0.0|[16.2058447551701...|[0.81029223775850...|       0.0|         alpha|\n",
      "|          4ZF7.A|  0.6825397|0.04761905|0.26984128|   alpha|[0.11793004127260...|         0.0|[16.0293467588047...|[0.80146733794023...|       0.0|         alpha|\n",
      "|          1T6O.B|  0.8947368|       0.0|0.10526316|   alpha|[-0.3715657493050...|         0.0|[18.1155197136915...|[0.90577598568457...|       0.0|         alpha|\n",
      "|          3BHP.C|  0.6851852|       0.0| 0.3148148|   alpha|[-0.3709637951105...|         0.0|[15.4255865178345...|[0.77127932589172...|       0.0|         alpha|\n",
      "+----------------+-----------+----------+----------+--------+--------------------+------------+--------------------+--------------------+----------+--------------+\n",
      "\n",
      "Total time taken: 2.7847533226013184\n",
      "Method\tRandomForestClassifier\n",
      "AUC\t0.8545026881720431\n",
      "F\t0.8548374342285349\n",
      "Accuracy\t0.8545454545454545\n",
      "Precision\t0.8556969696969696\n",
      "Recall\t0.8545454545454545\n",
      "False Positive Rase\t0.14554007820136855\n",
      "True Positive Rate\t0.8545454545454545\n",
      "\t\n",
      "Confusion Matrix\n",
      "['alpha', 'beta']\n",
      "DenseMatrix([[41.,  7.],\n",
      "             [ 9., 53.]])\n"
     ]
    }
   ],
   "source": [
    "rfc = RandomForestClassifier()\n",
    "mcc = SparkMultiClassClassifier(rfc, label, testFraction, seed)\n",
    "matrics = mcc.fit(data)\n",
    "for k,v in matrics.items(): print(f\"{k}\\t{v}\")"
   ]
  },
  {
   "cell_type": "markdown",
   "metadata": {},
   "source": [
    "## Logistic Regression Classifier"
   ]
  },
  {
   "cell_type": "code",
   "execution_count": 12,
   "metadata": {},
   "outputs": [
    {
     "name": "stdout",
     "output_type": "stream",
     "text": [
      "\n",
      " Class\tTrain\tTest\n",
      "alpha\t615\t48\n",
      "beta\t598\t62\n",
      "\n",
      "Sample predictions: LogisticRegression\n",
      "+----------------+-----------+----------+----------+--------+--------------------+------------+--------------------+--------------------+----------+--------------+\n",
      "|structureChainId|      alpha|      beta|      coil|foldType|            features|indexedLabel|       rawPrediction|         probability|prediction|predictedLabel|\n",
      "+----------------+-----------+----------+----------+--------+--------------------+------------+--------------------+--------------------+----------+--------------+\n",
      "|          3KHQ.A|0.032258064|0.50537634| 0.4623656|    beta|[0.17156204006592...|         1.0|[-0.9318006643910...|[0.28255954157708...|       1.0|          beta|\n",
      "|          5LS7.A|        0.0|      0.64|      0.36|    beta|[-0.6127254480496...|         1.0|[0.10762651598716...|[0.52688068637629...|       0.0|         alpha|\n",
      "|          3SGR.C|        0.0| 0.8333333|0.16666667|    beta|[0.19314044434577...|         1.0|[-7.7663078198342...|[4.23595526440943...|       1.0|          beta|\n",
      "|          3IT5.B|0.022099448| 0.3480663|0.62983423|    beta|[0.01785488943029...|         1.0|[-2.6080245564098...|[0.06862375574191...|       1.0|          beta|\n",
      "|          3PDG.A|        0.0| 0.5934066| 0.4065934|    beta|[0.09398845164105...|         1.0|[-5.2846152264794...|[0.00504341723082...|       1.0|          beta|\n",
      "|          3TV0.B|        0.0| 0.4397163|0.56028366|    beta|[0.07555530329567...|         1.0|[-3.2220592339193...|[0.03834398165832...|       1.0|          beta|\n",
      "|          5AOT.A|0.029411765|0.60784316| 0.3627451|    beta|[-0.1280793638012...|         1.0|[-5.9403188753137...|[0.00262428550046...|       1.0|          beta|\n",
      "|          2QSB.A|  0.7647059|       0.0|0.23529412|   alpha|[0.11615012651732...|         0.0|[2.10273307032942...|[0.89116853510545...|       0.0|         alpha|\n",
      "|          4ZF7.A|  0.6825397|0.04761905|0.26984128|   alpha|[0.11793004127260...|         0.0|[3.00992584229035...|[0.95302053421494...|       0.0|         alpha|\n",
      "|          1T6O.B|  0.8947368|       0.0|0.10526316|   alpha|[-0.3715657493050...|         0.0|[11.1527451380526...|[0.99998566432645...|       0.0|         alpha|\n",
      "|          3BHP.C|  0.6851852|       0.0| 0.3148148|   alpha|[-0.3709637951105...|         0.0|[5.72553612758711...|[0.99674899930625...|       0.0|         alpha|\n",
      "+----------------+-----------+----------+----------+--------+--------------------+------------+--------------------+--------------------+----------+--------------+\n",
      "\n",
      "Total time taken: 5.868473291397095\n",
      "Method\tLogisticRegression\n",
      "AUC\t0.8891129032258065\n",
      "F\t0.8909090909090909\n",
      "Accuracy\t0.8909090909090909\n",
      "Precision\t0.8909090909090909\n",
      "Recall\t0.8909090909090909\n",
      "False Positive Rase\t0.112683284457478\n",
      "True Positive Rate\t0.8909090909090909\n",
      "\t\n",
      "Confusion Matrix\n",
      "['alpha', 'beta']\n",
      "DenseMatrix([[42.,  6.],\n",
      "             [ 6., 56.]])\n"
     ]
    }
   ],
   "source": [
    "lr = LogisticRegression()\n",
    "mcc = SparkMultiClassClassifier(lr, label, testFraction, seed)\n",
    "matrics = mcc.fit(data)\n",
    "for k,v in matrics.items(): print(f\"{k}\\t{v}\")"
   ]
  },
  {
   "cell_type": "markdown",
   "metadata": {},
   "source": [
    "## Simple Multilayer Perception Classifier"
   ]
  },
  {
   "cell_type": "code",
   "execution_count": 13,
   "metadata": {},
   "outputs": [
    {
     "name": "stdout",
     "output_type": "stream",
     "text": [
      "\n",
      " Class\tTrain\tTest\n",
      "alpha\t615\t48\n",
      "beta\t598\t62\n",
      "\n",
      "Sample predictions: MultilayerPerceptronClassifier\n",
      "+----------------+-----------+----------+----------+--------+--------------------+------------+----------+--------------+\n",
      "|structureChainId|      alpha|      beta|      coil|foldType|            features|indexedLabel|prediction|predictedLabel|\n",
      "+----------------+-----------+----------+----------+--------+--------------------+------------+----------+--------------+\n",
      "|          3KHQ.A|0.032258064|0.50537634| 0.4623656|    beta|[0.17156204006592...|         1.0|       1.0|          beta|\n",
      "|          5LS7.A|        0.0|      0.64|      0.36|    beta|[-0.6127254480496...|         1.0|       0.0|         alpha|\n",
      "|          3SGR.C|        0.0| 0.8333333|0.16666667|    beta|[0.19314044434577...|         1.0|       1.0|          beta|\n",
      "|          3IT5.B|0.022099448| 0.3480663|0.62983423|    beta|[0.01785488943029...|         1.0|       1.0|          beta|\n",
      "|          3PDG.A|        0.0| 0.5934066| 0.4065934|    beta|[0.09398845164105...|         1.0|       1.0|          beta|\n",
      "|          3TV0.B|        0.0| 0.4397163|0.56028366|    beta|[0.07555530329567...|         1.0|       1.0|          beta|\n",
      "|          5AOT.A|0.029411765|0.60784316| 0.3627451|    beta|[-0.1280793638012...|         1.0|       1.0|          beta|\n",
      "|          2QSB.A|  0.7647059|       0.0|0.23529412|   alpha|[0.11615012651732...|         0.0|       0.0|         alpha|\n",
      "|          4ZF7.A|  0.6825397|0.04761905|0.26984128|   alpha|[0.11793004127260...|         0.0|       0.0|         alpha|\n",
      "|          1T6O.B|  0.8947368|       0.0|0.10526316|   alpha|[-0.3715657493050...|         0.0|       0.0|         alpha|\n",
      "|          3BHP.C|  0.6851852|       0.0| 0.3148148|   alpha|[-0.3709637951105...|         0.0|       0.0|         alpha|\n",
      "+----------------+-----------+----------+----------+--------+--------------------+------------+----------+--------------+\n",
      "\n",
      "Total time taken: 5.394338846206665\n",
      "Method\tMultilayerPerceptronClassifier\n",
      "AUC\t0.8625672043010753\n",
      "F\t0.8637849452533888\n",
      "Accuracy\t0.8636363636363636\n",
      "Precision\t0.8640773746160164\n",
      "Recall\t0.8636363636363636\n",
      "False Positive Rase\t0.13850195503421311\n",
      "True Positive Rate\t0.8636363636363636\n",
      "\t\n",
      "Confusion Matrix\n",
      "['alpha', 'beta']\n",
      "DenseMatrix([[41.,  7.],\n",
      "             [ 8., 54.]])\n"
     ]
    }
   ],
   "source": [
    "layers = [featureCount, 32, 32, classCount]\n",
    "mpc = MultilayerPerceptronClassifier().setLayers(layers) \\\n",
    "                                          .setBlockSize(128) \\\n",
    "                                          .setSeed(1234) \\\n",
    "                                          .setMaxIter(100)\n",
    "mcc = SparkMultiClassClassifier(mpc, label, testFraction, seed)\n",
    "matrics = mcc.fit(data)\n",
    "for k,v in matrics.items(): print(f\"{k}\\t{v}\")"
   ]
  },
  {
   "cell_type": "markdown",
   "metadata": {},
   "source": [
    "## Terminate Spark"
   ]
  },
  {
   "cell_type": "code",
   "execution_count": null,
   "metadata": {},
   "outputs": [],
   "source": [
    "spark.stop()"
   ]
  }
 ],
 "metadata": {
  "kernelspec": {
   "display_name": "Python 3",
   "language": "python",
   "name": "python3"
  },
  "language_info": {
   "codemirror_mode": {
    "name": "ipython",
    "version": 3
   },
   "file_extension": ".py",
   "mimetype": "text/x-python",
   "name": "python",
   "nbconvert_exporter": "python",
   "pygments_lexer": "ipython3",
   "version": "3.6.0"
  }
 },
 "nbformat": 4,
 "nbformat_minor": 2
}
