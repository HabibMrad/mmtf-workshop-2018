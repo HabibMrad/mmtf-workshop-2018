{
 "cells": [
  {
   "cell_type": "markdown",
   "metadata": {},
   "source": [
    "# Machine learning - Features extraction\n",
    "\n",
    "Runs binary and multi-class classifiers on a given dataset.\n",
    "Dataset are read as Parquet file. The dataset must contain a feature vector named \"features\" and a classification column.\n",
    "\n",
    "## Imports"
   ]
  },
  {
   "cell_type": "code",
   "execution_count": 1,
   "metadata": {},
   "outputs": [],
   "source": [
    "from mmtfPyspark.ml import SparkMultiClassClassifier, datasetBalancer                                 \n",
    "from pyspark.sql import SparkSession\n",
    "from pyspark.sql.functions import *\n",
    "from pyspark.ml.classification import DecisionTreeClassifier, LogisticRegression, MultilayerPerceptronClassifier, RandomForestClassifier"
   ]
  },
  {
   "cell_type": "markdown",
   "metadata": {},
   "source": [
    "## Configure Spark Session"
   ]
  },
  {
   "cell_type": "code",
   "execution_count": 2,
   "metadata": {},
   "outputs": [],
   "source": [
    "spark = SparkSession.builder.appName(\"datasetClassifier\").getOrCreate()"
   ]
  },
  {
   "cell_type": "markdown",
   "metadata": {},
   "source": [
    "## Read in data from parquet file"
   ]
  },
  {
   "cell_type": "code",
   "execution_count": 3,
   "metadata": {},
   "outputs": [
    {
     "name": "stdout",
     "output_type": "stream",
     "text": [
      "Total number of data: 18491\n"
     ]
    },
    {
     "data": {
      "text/html": [
       "<div>\n",
       "<style scoped>\n",
       "    .dataframe tbody tr th:only-of-type {\n",
       "        vertical-align: middle;\n",
       "    }\n",
       "\n",
       "    .dataframe tbody tr th {\n",
       "        vertical-align: top;\n",
       "    }\n",
       "\n",
       "    .dataframe thead th {\n",
       "        text-align: right;\n",
       "    }\n",
       "</style>\n",
       "<table border=\"1\" class=\"dataframe\">\n",
       "  <thead>\n",
       "    <tr style=\"text-align: right;\">\n",
       "      <th></th>\n",
       "      <th>structureChainId</th>\n",
       "      <th>alpha</th>\n",
       "      <th>beta</th>\n",
       "      <th>coil</th>\n",
       "      <th>foldType</th>\n",
       "      <th>features</th>\n",
       "    </tr>\n",
       "  </thead>\n",
       "  <tbody>\n",
       "    <tr>\n",
       "      <th>0</th>\n",
       "      <td>1LBU.A</td>\n",
       "      <td>0.361502</td>\n",
       "      <td>0.107981</td>\n",
       "      <td>0.530516</td>\n",
       "      <td>other</td>\n",
       "      <td>[0.4114873782415294, 0.495768271755638, 0.1086...</td>\n",
       "    </tr>\n",
       "    <tr>\n",
       "      <th>1</th>\n",
       "      <td>1LC0.A</td>\n",
       "      <td>0.410345</td>\n",
       "      <td>0.275862</td>\n",
       "      <td>0.313793</td>\n",
       "      <td>alpha+beta</td>\n",
       "      <td>[0.33633328095370896, 0.62037980757374, 0.1313...</td>\n",
       "    </tr>\n",
       "    <tr>\n",
       "      <th>2</th>\n",
       "      <td>1LC5.A</td>\n",
       "      <td>0.428169</td>\n",
       "      <td>0.157746</td>\n",
       "      <td>0.414084</td>\n",
       "      <td>alpha+beta</td>\n",
       "      <td>[0.3894081898880276, 0.3611422935398116, 0.065...</td>\n",
       "    </tr>\n",
       "    <tr>\n",
       "      <th>3</th>\n",
       "      <td>1LFP.A</td>\n",
       "      <td>0.427984</td>\n",
       "      <td>0.234568</td>\n",
       "      <td>0.337449</td>\n",
       "      <td>alpha+beta</td>\n",
       "      <td>[0.3926710381225172, 0.4961378212319687, 0.186...</td>\n",
       "    </tr>\n",
       "    <tr>\n",
       "      <th>4</th>\n",
       "      <td>1LFW.A</td>\n",
       "      <td>0.322650</td>\n",
       "      <td>0.273504</td>\n",
       "      <td>0.403846</td>\n",
       "      <td>alpha+beta</td>\n",
       "      <td>[0.47657807861397194, 0.45641881047186056, 0.1...</td>\n",
       "    </tr>\n",
       "  </tbody>\n",
       "</table>\n",
       "</div>"
      ],
      "text/plain": [
       "  structureChainId     alpha      beta      coil    foldType  \\\n",
       "0           1LBU.A  0.361502  0.107981  0.530516       other   \n",
       "1           1LC0.A  0.410345  0.275862  0.313793  alpha+beta   \n",
       "2           1LC5.A  0.428169  0.157746  0.414084  alpha+beta   \n",
       "3           1LFP.A  0.427984  0.234568  0.337449  alpha+beta   \n",
       "4           1LFW.A  0.322650  0.273504  0.403846  alpha+beta   \n",
       "\n",
       "                                            features  \n",
       "0  [0.4114873782415294, 0.495768271755638, 0.1086...  \n",
       "1  [0.33633328095370896, 0.62037980757374, 0.1313...  \n",
       "2  [0.3894081898880276, 0.3611422935398116, 0.065...  \n",
       "3  [0.3926710381225172, 0.4961378212319687, 0.186...  \n",
       "4  [0.47657807861397194, 0.45641881047186056, 0.1...  "
      ]
     },
     "execution_count": 3,
     "metadata": {},
     "output_type": "execute_result"
    }
   ],
   "source": [
    "parquetFile = './input_features/'\n",
    "data = spark.read.parquet(parquetFile).cache()\n",
    "\n",
    "print(f\"Total number of data: {data.count()}\")\n",
    "data.toPandas().head()"
   ]
  },
  {
   "cell_type": "markdown",
   "metadata": {},
   "source": [
    "## Select only alpha and beta foldType"
   ]
  },
  {
   "cell_type": "code",
   "execution_count": 4,
   "metadata": {},
   "outputs": [
    {
     "name": "stdout",
     "output_type": "stream",
     "text": [
      "Total number of data: 4937\n"
     ]
    },
    {
     "data": {
      "text/html": [
       "<div>\n",
       "<style scoped>\n",
       "    .dataframe tbody tr th:only-of-type {\n",
       "        vertical-align: middle;\n",
       "    }\n",
       "\n",
       "    .dataframe tbody tr th {\n",
       "        vertical-align: top;\n",
       "    }\n",
       "\n",
       "    .dataframe thead th {\n",
       "        text-align: right;\n",
       "    }\n",
       "</style>\n",
       "<table border=\"1\" class=\"dataframe\">\n",
       "  <thead>\n",
       "    <tr style=\"text-align: right;\">\n",
       "      <th></th>\n",
       "      <th>structureChainId</th>\n",
       "      <th>alpha</th>\n",
       "      <th>beta</th>\n",
       "      <th>coil</th>\n",
       "      <th>foldType</th>\n",
       "      <th>features</th>\n",
       "    </tr>\n",
       "  </thead>\n",
       "  <tbody>\n",
       "    <tr>\n",
       "      <th>0</th>\n",
       "      <td>1LGH.A</td>\n",
       "      <td>0.857143</td>\n",
       "      <td>0.0</td>\n",
       "      <td>0.142857</td>\n",
       "      <td>alpha</td>\n",
       "      <td>[0.540186581405049, 0.11621746813709086, 0.267...</td>\n",
       "    </tr>\n",
       "    <tr>\n",
       "      <th>1</th>\n",
       "      <td>1LGH.B</td>\n",
       "      <td>0.744186</td>\n",
       "      <td>0.0</td>\n",
       "      <td>0.255814</td>\n",
       "      <td>alpha</td>\n",
       "      <td>[0.3572499892589721, 0.39487065611915156, 0.41...</td>\n",
       "    </tr>\n",
       "    <tr>\n",
       "      <th>2</th>\n",
       "      <td>1LGH.D</td>\n",
       "      <td>0.857143</td>\n",
       "      <td>0.0</td>\n",
       "      <td>0.142857</td>\n",
       "      <td>alpha</td>\n",
       "      <td>[0.540186581405049, 0.11621746813709086, 0.267...</td>\n",
       "    </tr>\n",
       "    <tr>\n",
       "      <th>3</th>\n",
       "      <td>1LGH.E</td>\n",
       "      <td>0.744186</td>\n",
       "      <td>0.0</td>\n",
       "      <td>0.255814</td>\n",
       "      <td>alpha</td>\n",
       "      <td>[0.3572499892589721, 0.39487065611915156, 0.41...</td>\n",
       "    </tr>\n",
       "    <tr>\n",
       "      <th>4</th>\n",
       "      <td>1LGH.G</td>\n",
       "      <td>0.857143</td>\n",
       "      <td>0.0</td>\n",
       "      <td>0.142857</td>\n",
       "      <td>alpha</td>\n",
       "      <td>[0.540186581405049, 0.11621746813709086, 0.267...</td>\n",
       "    </tr>\n",
       "  </tbody>\n",
       "</table>\n",
       "</div>"
      ],
      "text/plain": [
       "  structureChainId     alpha  beta      coil foldType  \\\n",
       "0           1LGH.A  0.857143   0.0  0.142857    alpha   \n",
       "1           1LGH.B  0.744186   0.0  0.255814    alpha   \n",
       "2           1LGH.D  0.857143   0.0  0.142857    alpha   \n",
       "3           1LGH.E  0.744186   0.0  0.255814    alpha   \n",
       "4           1LGH.G  0.857143   0.0  0.142857    alpha   \n",
       "\n",
       "                                            features  \n",
       "0  [0.540186581405049, 0.11621746813709086, 0.267...  \n",
       "1  [0.3572499892589721, 0.39487065611915156, 0.41...  \n",
       "2  [0.540186581405049, 0.11621746813709086, 0.267...  \n",
       "3  [0.3572499892589721, 0.39487065611915156, 0.41...  \n",
       "4  [0.540186581405049, 0.11621746813709086, 0.267...  "
      ]
     },
     "execution_count": 4,
     "metadata": {},
     "output_type": "execute_result"
    }
   ],
   "source": [
    "data = data.where((data.foldType == 'alpha') | (data.foldType == 'beta')) #| (data.foldType == 'other'))\n",
    "\n",
    "print(f\"Total number of data: {data.count()}\")\n",
    "data.toPandas().head()"
   ]
  },
  {
   "cell_type": "markdown",
   "metadata": {},
   "source": [
    "## Basic dataset information and setting"
   ]
  },
  {
   "cell_type": "code",
   "execution_count": 5,
   "metadata": {},
   "outputs": [
    {
     "name": "stdout",
     "output_type": "stream",
     "text": [
      "Feature count    : 50\n",
      "Class count    : 2\n",
      "Dataset size (unbalanced)    : 4937\n",
      "+--------+-----+\n",
      "|foldType|count|\n",
      "+--------+-----+\n",
      "|    beta| 1253|\n",
      "|   alpha| 3684|\n",
      "+--------+-----+\n",
      "\n",
      "Dataset size (balanced)  : 2487\n",
      "+--------+-----+\n",
      "|foldType|count|\n",
      "+--------+-----+\n",
      "|    beta| 1253|\n",
      "|   alpha| 1234|\n",
      "+--------+-----+\n",
      "\n"
     ]
    }
   ],
   "source": [
    "label = 'foldType'\n",
    "testFraction = 0.1\n",
    "seed = 123\n",
    "\n",
    "vector = data.first()[\"features\"]\n",
    "featureCount = len(vector)\n",
    "print(f\"Feature count    : {featureCount}\")\n",
    "    \n",
    "classCount = int(data.select(label).distinct().count())\n",
    "print(f\"Class count    : {classCount}\")\n",
    "\n",
    "print(f\"Dataset size (unbalanced)    : {data.count()}\")\n",
    "    \n",
    "data.groupby(label).count().show()\n",
    "data = datasetBalancer.downsample(data, label, 1)\n",
    "print(f\"Dataset size (balanced)  : {data.count()}\")\n",
    "    \n",
    "data.groupby(label).count().show()"
   ]
  },
  {
   "cell_type": "markdown",
   "metadata": {},
   "source": [
    "## Random Forest Classifier"
   ]
  },
  {
   "cell_type": "code",
   "execution_count": 6,
   "metadata": {},
   "outputs": [
    {
     "name": "stdout",
     "output_type": "stream",
     "text": [
      "\n",
      " Class\tTrain\tTest\n",
      "beta\t1129\t124\n",
      "alpha\t1096\t138\n",
      "\n",
      "Sample predictions: RandomForestClassifier\n",
      "+----------------+-----------+----------+----------+--------+--------------------+------------+--------------------+--------------------+----------+--------------+\n",
      "|structureChainId|      alpha|      beta|      coil|foldType|            features|indexedLabel|       rawPrediction|         probability|prediction|predictedLabel|\n",
      "+----------------+-----------+----------+----------+--------+--------------------+------------+--------------------+--------------------+----------+--------------+\n",
      "|          3C5X.C|0.037037037|0.56790125|0.39506173|    beta|[0.35368004319250...|         0.0|[16.0386640009667...|[0.80193320004833...|       0.0|          beta|\n",
      "|          4D7C.A|0.044715445| 0.5406504|0.41463414|    beta|[0.40455212404059...|         0.0|[17.1262851251866...|[0.85631425625933...|       0.0|          beta|\n",
      "|          5LTG.B|        0.0| 0.5786164|0.42138365|    beta|[0.35820878413328...|         0.0|[15.6446309407831...|[0.78223154703915...|       0.0|          beta|\n",
      "|          2B4H.B|0.018348623|0.63761467| 0.3440367|    beta|[0.28270729415840...|         0.0|[16.9580979263516...|[0.84790489631758...|       0.0|          beta|\n",
      "|          2QF4.A| 0.01764706| 0.5117647|0.47058824|    beta|[0.43783439839618...|         0.0|[14.4119819230153...|[0.72059909615076...|       0.0|          beta|\n",
      "+----------------+-----------+----------+----------+--------+--------------------+------------+--------------------+--------------------+----------+--------------+\n",
      "only showing top 5 rows\n",
      "\n",
      "Total time taken: 6.642815113067627\n",
      "\n",
      "Method\tRandomForestClassifier\n",
      "AUC\t0.8670523609163161\n",
      "F\t0.866499891502249\n",
      "Accuracy\t0.8664122137404581\n",
      "Precision\t0.8672186413130287\n",
      "Recall\t0.866412213740458\n",
      "False Positive Rate\t0.13230749190782595\n",
      "True Positive Rate\t0.866412213740458\n",
      "\t\n",
      "Confusion Matrix\n",
      "['beta', 'alpha']\n",
      "DenseMatrix([[109.,  15.],\n",
      "             [ 20., 118.]])\n"
     ]
    }
   ],
   "source": [
    "rfc = RandomForestClassifier()\n",
    "mcc = SparkMultiClassClassifier(rfc, label, testFraction, seed)\n",
    "matrics = mcc.fit(data)\n",
    "for k,v in matrics.items(): print(f\"{k}\\t{v}\")"
   ]
  },
  {
   "cell_type": "markdown",
   "metadata": {},
   "source": [
    "## Logistic Regression Classifier"
   ]
  },
  {
   "cell_type": "code",
   "execution_count": 7,
   "metadata": {},
   "outputs": [
    {
     "name": "stdout",
     "output_type": "stream",
     "text": [
      "\n",
      " Class\tTrain\tTest\n",
      "beta\t1129\t124\n",
      "alpha\t1096\t138\n",
      "\n",
      "Sample predictions: LogisticRegression\n",
      "+----------------+-----------+----------+----------+--------+--------------------+------------+--------------------+--------------------+----------+--------------+\n",
      "|structureChainId|      alpha|      beta|      coil|foldType|            features|indexedLabel|       rawPrediction|         probability|prediction|predictedLabel|\n",
      "+----------------+-----------+----------+----------+--------+--------------------+------------+--------------------+--------------------+----------+--------------+\n",
      "|          3C5X.C|0.037037037|0.56790125|0.39506173|    beta|[0.35368004319250...|         0.0|[1.80158454839496...|[0.85834171168840...|       0.0|          beta|\n",
      "|          4D7C.A|0.044715445| 0.5406504|0.41463414|    beta|[0.40455212404059...|         0.0|[0.37758291012789...|[0.59328999822507...|       0.0|          beta|\n",
      "|          5LTG.B|        0.0| 0.5786164|0.42138365|    beta|[0.35820878413328...|         0.0|[-0.1786188612193...|[0.45546363172584...|       1.0|         alpha|\n",
      "|          2B4H.B|0.018348623|0.63761467| 0.3440367|    beta|[0.28270729415840...|         0.0|[2.67001283220442...|[0.93523380866383...|       0.0|          beta|\n",
      "|          2QF4.A| 0.01764706| 0.5117647|0.47058824|    beta|[0.43783439839618...|         0.0|[1.29957824460854...|[0.78576399374393...|       0.0|          beta|\n",
      "+----------------+-----------+----------+----------+--------+--------------------+------------+--------------------+--------------------+----------+--------------+\n",
      "only showing top 5 rows\n",
      "\n",
      "Total time taken: 8.482627153396606\n",
      "\n",
      "Method\tLogisticRegression\n",
      "AUC\t0.8626110331930809\n",
      "F\t0.8626435615980387\n",
      "Accuracy\t0.8625954198473282\n",
      "Precision\t0.8627923179449897\n",
      "Recall\t0.8625954198473282\n",
      "False Positive Rate\t0.13737335346116647\n",
      "True Positive Rate\t0.8625954198473282\n",
      "\t\n",
      "Confusion Matrix\n",
      "['beta', 'alpha']\n",
      "DenseMatrix([[107.,  17.],\n",
      "             [ 19., 119.]])\n"
     ]
    }
   ],
   "source": [
    "lr = LogisticRegression()\n",
    "mcc = SparkMultiClassClassifier(lr, label, testFraction, seed)\n",
    "matrics = mcc.fit(data)\n",
    "for k,v in matrics.items(): print(f\"{k}\\t{v}\")"
   ]
  },
  {
   "cell_type": "markdown",
   "metadata": {},
   "source": [
    "## Simple Multilayer Perception Classifier"
   ]
  },
  {
   "cell_type": "code",
   "execution_count": 8,
   "metadata": {},
   "outputs": [
    {
     "name": "stdout",
     "output_type": "stream",
     "text": [
      "\n",
      " Class\tTrain\tTest\n",
      "beta\t1129\t124\n",
      "alpha\t1096\t138\n",
      "\n",
      "Sample predictions: MultilayerPerceptronClassifier\n",
      "+----------------+-----------+----------+----------+--------+--------------------+------------+--------------------+--------------------+----------+--------------+\n",
      "|structureChainId|      alpha|      beta|      coil|foldType|            features|indexedLabel|       rawPrediction|         probability|prediction|predictedLabel|\n",
      "+----------------+-----------+----------+----------+--------+--------------------+------------+--------------------+--------------------+----------+--------------+\n",
      "|          3C5X.C|0.037037037|0.56790125|0.39506173|    beta|[0.35368004319250...|         0.0|[2.99182530762327...|[0.98401624417364...|       0.0|          beta|\n",
      "|          4D7C.A|0.044715445| 0.5406504|0.41463414|    beta|[0.40455212404059...|         0.0|[1.09240765616872...|[0.49233166633916...|       1.0|         alpha|\n",
      "|          5LTG.B|        0.0| 0.5786164|0.42138365|    beta|[0.35820878413328...|         0.0|[1.24251791949936...|[0.54570400286701...|       0.0|          beta|\n",
      "|          2B4H.B|0.018348623|0.63761467| 0.3440367|    beta|[0.28270729415840...|         0.0|[3.49531518387505...|[0.99283539814796...|       0.0|          beta|\n",
      "|          2QF4.A| 0.01764706| 0.5117647|0.47058824|    beta|[0.43783439839618...|         0.0|[2.65473600678361...|[0.96400474186597...|       0.0|          beta|\n",
      "+----------------+-----------+----------+----------+--------+--------------------+------------+--------------------+--------------------+----------+--------------+\n",
      "only showing top 5 rows\n",
      "\n",
      "Total time taken: 9.451227903366089\n",
      "\n",
      "Method\tMultilayerPerceptronClassifier\n",
      "AUC\t0.8896096306685367\n",
      "F\t0.8893662828762126\n",
      "Accuracy\t0.8893129770992366\n",
      "Precision\t0.8896529155229642\n",
      "Recall\t0.8893129770992366\n",
      "False Positive Rate\t0.11009371576216324\n",
      "True Positive Rate\t0.8893129770992366\n",
      "\t\n",
      "Confusion Matrix\n",
      "['beta', 'alpha']\n",
      "DenseMatrix([[111.,  13.],\n",
      "             [ 16., 122.]])\n"
     ]
    }
   ],
   "source": [
    "layers = [featureCount, 32, 32, classCount]\n",
    "mpc = MultilayerPerceptronClassifier().setLayers(layers) \\\n",
    "                                          .setBlockSize(128) \\\n",
    "                                          .setSeed(1234) \\\n",
    "                                          .setMaxIter(100)\n",
    "mcc = SparkMultiClassClassifier(mpc, label, testFraction, seed)\n",
    "matrics = mcc.fit(data)\n",
    "for k,v in matrics.items(): print(f\"{k}\\t{v}\")"
   ]
  },
  {
   "cell_type": "markdown",
   "metadata": {},
   "source": [
    "## Terminate Spark"
   ]
  },
  {
   "cell_type": "code",
   "execution_count": 9,
   "metadata": {},
   "outputs": [],
   "source": [
    "spark.stop()"
   ]
  }
 ],
 "metadata": {
  "kernelspec": {
   "display_name": "Python 3",
   "language": "python",
   "name": "python3"
  },
  "language_info": {
   "codemirror_mode": {
    "name": "ipython",
    "version": 3
   },
   "file_extension": ".py",
   "mimetype": "text/x-python",
   "name": "python",
   "nbconvert_exporter": "python",
   "pygments_lexer": "ipython3",
   "version": "3.7.3"
  }
 },
 "nbformat": 4,
 "nbformat_minor": 2
}
