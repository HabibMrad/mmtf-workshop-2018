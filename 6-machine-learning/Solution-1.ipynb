{
 "cells": [
  {
   "cell_type": "markdown",
   "metadata": {},
   "source": [
    "# Solution 1\n",
    "Apply your skills to classify protein foldType with Decision Tree Classifier\n",
    "\n",
    "## Imports"
   ]
  },
  {
   "cell_type": "code",
   "execution_count": 1,
   "metadata": {},
   "outputs": [],
   "source": [
    "from mmtfPyspark.ml import SparkMultiClassClassifier, datasetBalancer                                 \n",
    "from pyspark.sql import SparkSession\n",
    "from pyspark.sql.functions import *\n",
    "import mltoolkit"
   ]
  },
  {
   "cell_type": "markdown",
   "metadata": {},
   "source": [
    "## Configure Spark Session"
   ]
  },
  {
   "cell_type": "code",
   "execution_count": 2,
   "metadata": {},
   "outputs": [],
   "source": [
    "spark = SparkSession.builder \\\n",
    "                    .master(\"local[*]\") \\\n",
    "                    .appName(\"datasetClassifierProblemset\") \\\n",
    "                    .getOrCreate()"
   ]
  },
  {
   "cell_type": "markdown",
   "metadata": {},
   "source": [
    "## TODO-1: Read in data from parquet file"
   ]
  },
  {
   "cell_type": "code",
   "execution_count": 3,
   "metadata": {},
   "outputs": [],
   "source": [
    "parquetFile = './intput_features/'\n",
    "data = spark.read.parquet(parquetFile).cache()"
   ]
  },
  {
   "cell_type": "markdown",
   "metadata": {},
   "source": [
    "## TODO-2: Select alpha, beta, alpha+beta foldtypes"
   ]
  },
  {
   "cell_type": "code",
   "execution_count": 5,
   "metadata": {},
   "outputs": [
    {
     "name": "stdout",
     "output_type": "stream",
     "text": [
      "Total number of data: 8514\n"
     ]
    }
   ],
   "source": [
    "data = data.where((data.foldType == 'alpha') |\\\n",
    "                  (data.foldType == 'beta') |\\\n",
    "                  (data.foldType == 'alpha+beta'))\n",
    "print(f\"Total number of data: {data.count()}\")"
   ]
  },
  {
   "cell_type": "markdown",
   "metadata": {},
   "source": [
    "## TODO-3: Downsample data"
   ]
  },
  {
   "cell_type": "code",
   "execution_count": 6,
   "metadata": {},
   "outputs": [
    {
     "name": "stdout",
     "output_type": "stream",
     "text": [
      "Dataset size (balanced)  : 1910\n",
      "+----------+-----+\n",
      "|  foldType|count|\n",
      "+----------+-----+\n",
      "|alpha+beta|  644|\n",
      "|      beta|  626|\n",
      "|     alpha|  640|\n",
      "+----------+-----+\n",
      "\n"
     ]
    }
   ],
   "source": [
    "label = 'foldType'\n",
    "\n",
    "data = datasetBalancer.downsample(data, label, 1)\n",
    "print(f\"Dataset size (balanced)  : {data.count()}\")\n",
    "    \n",
    "data.groupby(label).count().show()"
   ]
  },
  {
   "cell_type": "markdown",
   "metadata": {},
   "source": [
    "## TODO-4: Decision Tree Classifier with PySpark"
   ]
  },
  {
   "cell_type": "code",
   "execution_count": 7,
   "metadata": {},
   "outputs": [
    {
     "name": "stdout",
     "output_type": "stream",
     "text": [
      "\n",
      " Class\tTrain\tTest\n",
      "alpha+beta\t573\t71\n",
      "alpha\t583\t57\n",
      "beta\t550\t76\n",
      "\n",
      "Sample predictions: DecisionTreeClassifier\n",
      "+----------------+----------+----------+----------+----------+--------------------+------------+-----------------+--------------------+----------+--------------+\n",
      "|structureChainId|     alpha|      beta|      coil|  foldType|            features|indexedLabel|    rawPrediction|         probability|prediction|predictedLabel|\n",
      "+----------------+----------+----------+----------+----------+--------------------+------------+-----------------+--------------------+----------+--------------+\n",
      "|          2C0C.A|0.33994335|0.26062322|0.39943343|alpha+beta|[0.06918420773863...|         0.0|[220.0,66.0,64.0]|[0.62857142857142...|       0.0|    alpha+beta|\n",
      "|          4AR9.A|       0.5|0.16836734|0.33163264|alpha+beta|[0.42860078792450...|         0.0|    [0.0,2.0,3.0]|       [0.0,0.4,0.6]|       2.0|          beta|\n",
      "|          4YQD.A| 0.4262295|0.14754099| 0.4262295|alpha+beta|[0.02085487933649...|         0.0| [60.0,81.0,11.0]|[0.39473684210526...|       1.0|         alpha|\n",
      "|          5EFR.A|0.58064514|0.12158809|0.29776675|alpha+beta|[0.29342459199918...|         0.0|  [36.0,11.0,9.0]|[0.64285714285714...|       0.0|    alpha+beta|\n",
      "|          5J4L.A|0.38053098|0.26106194|0.35840708|alpha+beta|[0.18143763871782...|         0.0|[220.0,66.0,64.0]|[0.62857142857142...|       0.0|    alpha+beta|\n",
      "+----------------+----------+----------+----------+----------+--------------------+------------+-----------------+--------------------+----------+--------------+\n",
      "only showing top 5 rows\n",
      "\n",
      "Total time taken: 5.176245450973511\n",
      "\n",
      "Method\tDecisionTreeClassifier\n",
      "F\t0.562916954221302\n",
      "Accuracy\t0.5637254901960784\n",
      "Precision\t0.5669304672664959\n",
      "Recall\t0.5637254901960784\n",
      "False Positive Rate\t0.21716153566689833\n",
      "True Positive Rate\t0.5637254901960784\n",
      "\t\n",
      "Confusion Matrix\n",
      "['alpha+beta', 'alpha', 'beta']\n",
      "DenseMatrix([[31., 23., 17.],\n",
      "             [14., 38.,  5.],\n",
      "             [22.,  8., 46.]])\n"
     ]
    }
   ],
   "source": [
    "from pyspark.ml.classification import DecisionTreeClassifier\n",
    "\n",
    "dtc = DecisionTreeClassifier()\n",
    "mcc = SparkMultiClassClassifier(dtc, label, 0.1)\n",
    "matrics = mcc.fit(data)\n",
    "for k,v in matrics.items(): print(f\"{k}\\t{v}\")"
   ]
  },
  {
   "cell_type": "markdown",
   "metadata": {},
   "source": [
    "## BONUS: Decision Tree Classifier with sklearn"
   ]
  },
  {
   "cell_type": "code",
   "execution_count": 8,
   "metadata": {},
   "outputs": [
    {
     "name": "stdout",
     "output_type": "stream",
     "text": [
      "\n",
      " Class\tTrain\tTest\n",
      "\n",
      "alpha+beta\t578\t66\n",
      "\n",
      "beta\t563\t63\n",
      "\n",
      "alpha\t578\t62\n",
      "\n",
      "Total time taken: 0.11974024772644043\n",
      "\n",
      "Methods\tDecisionTreeClassifier\n",
      "F Score\t0.5818890986967503\n",
      "Accuracy\t0.581151832460733\n",
      "Precision\t0.5827860505378417\n",
      "Recall\t0.581151832460733\n",
      "False Positive Rate\t0.20999596253229977\n",
      "True Positive Rate\t0.5827631150211795\n",
      "\t\n",
      "Confusion Matrix\n",
      "['alpha+beta' 'beta' 'alpha']\n",
      "[[32 14 20]\n",
      " [15 42  6]\n",
      " [20  5 37]]\n"
     ]
    }
   ],
   "source": [
    "from sklearn.tree import DecisionTreeClassifier\n",
    "\n",
    "df = data.toPandas()\n",
    "dtc = DecisionTreeClassifier()\n",
    "mcc = mltoolkit.MultiClassClassifier(dtc, 'foldType', testFraction=0.1)\n",
    "matrics = mcc.fit(df)\n",
    "for k,v in matrics.items(): print(f\"{k}\\t{v}\")"
   ]
  },
  {
   "cell_type": "code",
   "execution_count": 9,
   "metadata": {},
   "outputs": [],
   "source": [
    "spark.stop()"
   ]
  }
 ],
 "metadata": {
  "kernelspec": {
   "display_name": "Python 3",
   "language": "python",
   "name": "python3"
  },
  "language_info": {
   "codemirror_mode": {
    "name": "ipython",
    "version": 3
   },
   "file_extension": ".py",
   "mimetype": "text/x-python",
   "name": "python",
   "nbconvert_exporter": "python",
   "pygments_lexer": "ipython3",
   "version": "3.6.0"
  }
 },
 "nbformat": 4,
 "nbformat_minor": 2
}
