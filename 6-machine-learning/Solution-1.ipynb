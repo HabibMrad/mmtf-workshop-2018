{
 "cells": [
  {
   "cell_type": "markdown",
   "metadata": {},
   "source": [
    "# Solution 1\n",
    "Apply your skills to classify protein foldType with Decision Tree Classifier\n",
    "\n",
    "## Imports"
   ]
  },
  {
   "cell_type": "code",
   "execution_count": 1,
   "metadata": {},
   "outputs": [],
   "source": [
    "from mmtfPyspark.ml import SparkMultiClassClassifier, datasetBalancer                                 \n",
    "from pyspark.sql import SparkSession\n",
    "from pyspark.sql.functions import *\n",
    "import mltoolkit"
   ]
  },
  {
   "cell_type": "markdown",
   "metadata": {},
   "source": [
    "## Configure Spark Session"
   ]
  },
  {
   "cell_type": "code",
   "execution_count": 2,
   "metadata": {},
   "outputs": [],
   "source": [
    "spark = SparkSession.builder \\\n",
    "                    .master(\"local[*]\") \\\n",
    "                    .appName(\"datasetClassifierProblemset\") \\\n",
    "                    .getOrCreate()"
   ]
  },
  {
   "cell_type": "markdown",
   "metadata": {},
   "source": [
    "## TODO-1: Read in data from parquet file"
   ]
  },
  {
   "cell_type": "code",
   "execution_count": 3,
   "metadata": {},
   "outputs": [],
   "source": [
    "parquetFile = './intput_features/'\n",
    "data = spark.read.parquet(parquetFile).cache()"
   ]
  },
  {
   "cell_type": "markdown",
   "metadata": {},
   "source": [
    "## TODO-2: Select alpha, beta, alpha+beta foldtypes"
   ]
  },
  {
   "cell_type": "code",
   "execution_count": 4,
   "metadata": {},
   "outputs": [
    {
     "name": "stdout",
     "output_type": "stream",
     "text": [
      "Total number of data: 7442\n"
     ]
    }
   ],
   "source": [
    "data = data.where((data.foldType == 'alpha') |\\\n",
    "                  (data.foldType == 'beta') |\\\n",
    "                  (data.foldType == 'alpha+beta'))\n",
    "print(f\"Total number of data: {data.count()}\")"
   ]
  },
  {
   "cell_type": "markdown",
   "metadata": {},
   "source": [
    "## TODO-3: Downsample data"
   ]
  },
  {
   "cell_type": "code",
   "execution_count": 5,
   "metadata": {},
   "outputs": [
    {
     "name": "stdout",
     "output_type": "stream",
     "text": [
      "Dataset size (balanced)  : 1902\n",
      "+----------+-----+\n",
      "|  foldType|count|\n",
      "+----------+-----+\n",
      "|alpha+beta|  636|\n",
      "|      beta|  626|\n",
      "|     alpha|  640|\n",
      "+----------+-----+\n",
      "\n"
     ]
    }
   ],
   "source": [
    "label = 'foldType'\n",
    "\n",
    "data = datasetBalancer.downsample(data, label, 1)\n",
    "print(f\"Dataset size (balanced)  : {data.count()}\")\n",
    "    \n",
    "data.groupby(label).count().show()"
   ]
  },
  {
   "cell_type": "markdown",
   "metadata": {},
   "source": [
    "## TODO-4: Decision Tree Classifier with PySpark"
   ]
  },
  {
   "cell_type": "code",
   "execution_count": 6,
   "metadata": {},
   "outputs": [
    {
     "name": "stdout",
     "output_type": "stream",
     "text": [
      "\n",
      " Class\tTrain\tTest\n",
      "alpha\t583\t57\n",
      "alpha+beta\t566\t70\n",
      "beta\t550\t76\n",
      "\n",
      "Sample predictions: DecisionTreeClassifier\n",
      "+----------------+----------+----------+----------+----------+--------------------+------------+-----------------+--------------------+----------+--------------+\n",
      "|structureChainId|     alpha|      beta|      coil|  foldType|            features|indexedLabel|    rawPrediction|         probability|prediction|predictedLabel|\n",
      "+----------------+----------+----------+----------+----------+--------------------+------------+-----------------+--------------------+----------+--------------+\n",
      "|          2B0T.A|0.47891158|0.16734694| 0.3537415|alpha+beta|[0.41829884112932...|         1.0|  [80.0,42.0,8.0]|[0.61538461538461...|       0.0|         alpha|\n",
      "|          4KMR.B| 0.4082397|0.17602997|0.41573033|alpha+beta|[0.40662341538856...|         1.0|    [9.0,1.0,2.0]|[0.75,0.083333333...|       0.0|         alpha|\n",
      "|          5F9P.B|0.34177214|0.37130803|0.28691983|alpha+beta|[0.46898571924927...|         1.0|[99.0,284.0,82.0]|[0.21290322580645...|       1.0|    alpha+beta|\n",
      "|          4YLM.X|0.20437956| 0.3540146|0.44160584|alpha+beta|[0.21146850782280...|         1.0|  [27.0,41.0,3.0]|[0.38028169014084...|       1.0|    alpha+beta|\n",
      "|          5FLG.B|0.32936507| 0.2857143|0.38492063|alpha+beta|[0.40149161647142...|         1.0|[99.0,284.0,82.0]|[0.21290322580645...|       1.0|    alpha+beta|\n",
      "+----------------+----------+----------+----------+----------+--------------------+------------+-----------------+--------------------+----------+--------------+\n",
      "only showing top 5 rows\n",
      "\n",
      "Total time taken: 4.994450330734253\n",
      "\n",
      "Method\tDecisionTreeClassifier\n",
      "F\t0.6313475708182816\n",
      "Accuracy\t0.6305418719211823\n",
      "Precision\t0.6473465375040817\n",
      "Recall\t0.6305418719211824\n",
      "False Positive Rate\t0.19182805577689535\n",
      "True Positive Rate\t0.6305418719211824\n",
      "\t\n",
      "Confusion Matrix\n",
      "['alpha', 'alpha+beta', 'beta']\n",
      "DenseMatrix([[36., 15.,  6.],\n",
      "             [ 7., 50., 13.],\n",
      "             [ 7., 27., 42.]])\n"
     ]
    }
   ],
   "source": [
    "from pyspark.ml.classification import DecisionTreeClassifier\n",
    "\n",
    "dtc = DecisionTreeClassifier()\n",
    "mcc = SparkMultiClassClassifier(dtc, label, 0.1)\n",
    "matrics = mcc.fit(data)\n",
    "for k,v in matrics.items(): print(f\"{k}\\t{v}\")"
   ]
  },
  {
   "cell_type": "markdown",
   "metadata": {},
   "source": [
    "## BONUS: Decision Tree Classifier with sklearn"
   ]
  },
  {
   "cell_type": "code",
   "execution_count": 7,
   "metadata": {},
   "outputs": [
    {
     "name": "stdout",
     "output_type": "stream",
     "text": [
      "\n",
      " Class\tTrain\tTest\n",
      "\n",
      "alpha+beta\t565\t71\n",
      "\n",
      "beta\t571\t55\n",
      "\n",
      "alpha\t575\t65\n",
      "\n",
      "Total time taken: 0.13357996940612793\n",
      "\n",
      "Methods\tDecisionTreeClassifier\n",
      "F Score\t0.6127026401916457\n",
      "Accuracy\t0.612565445026178\n",
      "Precision\t0.6129813662637034\n",
      "Recall\t0.612565445026178\n",
      "False Positive Rate\t0.19603952692187987\n",
      "True Positive Rate\t0.6139991463935126\n",
      "\t\n",
      "Confusion Matrix\n",
      "['alpha+beta' 'beta' 'alpha']\n",
      "[[43 13 15]\n",
      " [10 35 10]\n",
      " [20  6 39]]\n"
     ]
    }
   ],
   "source": [
    "from sklearn.tree import DecisionTreeClassifier\n",
    "\n",
    "df = data.toPandas()\n",
    "dtc = DecisionTreeClassifier()\n",
    "mcc = mltoolkit.MultiClassClassifier(dtc, 'foldType', testFraction=0.1)\n",
    "matrics = mcc.fit(df)\n",
    "for k,v in matrics.items(): print(f\"{k}\\t{v}\")"
   ]
  },
  {
   "cell_type": "code",
   "execution_count": 8,
   "metadata": {},
   "outputs": [],
   "source": [
    "spark.stop()"
   ]
  }
 ],
 "metadata": {
  "kernelspec": {
   "display_name": "Python 3",
   "language": "python",
   "name": "python3"
  },
  "language_info": {
   "codemirror_mode": {
    "name": "ipython",
    "version": 3
   },
   "file_extension": ".py",
   "mimetype": "text/x-python",
   "name": "python",
   "nbconvert_exporter": "python",
   "pygments_lexer": "ipython3",
   "version": "3.6.0"
  }
 },
 "nbformat": 4,
 "nbformat_minor": 2
}
