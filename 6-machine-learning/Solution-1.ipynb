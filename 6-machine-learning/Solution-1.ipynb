{
 "cells": [
  {
   "cell_type": "markdown",
   "metadata": {},
   "source": [
    "# Solution 1\n",
    "Apply your skills to classify protein foldType with Decision Tree Classifier\n",
    "\n",
    "## Imports"
   ]
  },
  {
   "cell_type": "code",
   "execution_count": 1,
   "metadata": {},
   "outputs": [],
   "source": [
    "from mmtfPyspark.ml import SparkMultiClassClassifier, datasetBalancer                                 \n",
    "from pyspark.sql import SparkSession\n",
    "from pyspark.sql.functions import *\n",
    "import mltoolkit"
   ]
  },
  {
   "cell_type": "markdown",
   "metadata": {},
   "source": [
    "## Configure Spark Session"
   ]
  },
  {
   "cell_type": "code",
   "execution_count": 2,
   "metadata": {},
   "outputs": [],
   "source": [
    "spark = SparkSession.builder.appName(\"Solution-1\").getOrCreate()"
   ]
  },
  {
   "cell_type": "markdown",
   "metadata": {},
   "source": [
    "## TODO-1: Read in data from parquet file"
   ]
  },
  {
   "cell_type": "code",
   "execution_count": 3,
   "metadata": {},
   "outputs": [],
   "source": [
    "parquetFile = './input_features/'\n",
    "data = spark.read.parquet(parquetFile).cache()"
   ]
  },
  {
   "cell_type": "markdown",
   "metadata": {},
   "source": [
    "## TODO-2: Select alpha, beta, alpha+beta foldtypes"
   ]
  },
  {
   "cell_type": "code",
   "execution_count": 4,
   "metadata": {},
   "outputs": [
    {
     "name": "stdout",
     "output_type": "stream",
     "text": [
      "Total number of data: 14443\n"
     ]
    }
   ],
   "source": [
    "data = data.where((data.foldType == 'alpha') |\\\n",
    "                  (data.foldType == 'beta') |\\\n",
    "                  (data.foldType == 'alpha+beta'))\n",
    "print(f\"Total number of data: {data.count()}\")"
   ]
  },
  {
   "cell_type": "markdown",
   "metadata": {},
   "source": [
    "## TODO-3: Downsample data"
   ]
  },
  {
   "cell_type": "code",
   "execution_count": 5,
   "metadata": {},
   "outputs": [
    {
     "name": "stdout",
     "output_type": "stream",
     "text": [
      "Dataset size (balanced)  : 3777\n",
      "+----------+-----+\n",
      "|  foldType|count|\n",
      "+----------+-----+\n",
      "|alpha+beta| 1290|\n",
      "|      beta| 1253|\n",
      "|     alpha| 1234|\n",
      "+----------+-----+\n",
      "\n"
     ]
    }
   ],
   "source": [
    "label = 'foldType'\n",
    "\n",
    "data = datasetBalancer.downsample(data, label, 1)\n",
    "print(f\"Dataset size (balanced)  : {data.count()}\")\n",
    "    \n",
    "data.groupby(label).count().show()"
   ]
  },
  {
   "cell_type": "markdown",
   "metadata": {},
   "source": [
    "## TODO-4: Decision Tree Classifier with PySpark"
   ]
  },
  {
   "cell_type": "code",
   "execution_count": 6,
   "metadata": {},
   "outputs": [
    {
     "name": "stdout",
     "output_type": "stream",
     "text": [
      "\n",
      " Class\tTrain\tTest\n",
      "alpha+beta\t1150\t140\n",
      "beta\t1128\t125\n",
      "alpha\t1099\t135\n",
      "\n",
      "Sample predictions: DecisionTreeClassifier\n",
      "+----------------+----------+----------+----------+----------+--------------------+------------+-------------------+--------------------+----------+--------------+\n",
      "|structureChainId|     alpha|      beta|      coil|  foldType|            features|indexedLabel|      rawPrediction|         probability|prediction|predictedLabel|\n",
      "+----------------+----------+----------+----------+----------+--------------------+------------+-------------------+--------------------+----------+--------------+\n",
      "|          1P1M.A|0.36386138|0.23514852| 0.4009901|alpha+beta|[0.44526135023269...|         0.0|[569.0,130.0,193.0]|[0.63789237668161...|       0.0|    alpha+beta|\n",
      "|          2HJ1.B|      0.15|      0.35|       0.5|alpha+beta|[0.21118593475936...|         0.0|   [91.0,19.0,53.0]|[0.55828220858895...|       0.0|    alpha+beta|\n",
      "|          2XED.B| 0.4512195|  0.199187| 0.3495935|alpha+beta|[0.15968122591113...|         0.0|[569.0,130.0,193.0]|[0.63789237668161...|       0.0|    alpha+beta|\n",
      "|          3WKX.A|0.39269406|0.17503805|0.43226787|alpha+beta|[0.34777542143574...|         0.0|[569.0,130.0,193.0]|[0.63789237668161...|       0.0|    alpha+beta|\n",
      "|          4JHT.A|0.15920398| 0.3482587|0.49253732|alpha+beta|[0.44654860414746...|         0.0|[569.0,130.0,193.0]|[0.63789237668161...|       0.0|    alpha+beta|\n",
      "+----------------+----------+----------+----------+----------+--------------------+------------+-------------------+--------------------+----------+--------------+\n",
      "only showing top 5 rows\n",
      "\n",
      "Total time taken: 7.6379008293151855\n",
      "\n",
      "Method\tDecisionTreeClassifier\n",
      "F\t0.621694214876033\n",
      "Accuracy\t0.62\n",
      "Precision\t0.6335166986695311\n",
      "Recall\t0.62\n",
      "False Positive Rate\t0.19411136033777543\n",
      "True Positive Rate\t0.62\n",
      "\t\n",
      "Confusion Matrix\n",
      "['alpha+beta', 'beta', 'alpha']\n",
      "DenseMatrix([[91., 24., 25.],\n",
      "             [36., 82.,  7.],\n",
      "             [45., 15., 75.]])\n"
     ]
    }
   ],
   "source": [
    "from pyspark.ml.classification import DecisionTreeClassifier\n",
    "\n",
    "dtc = DecisionTreeClassifier()\n",
    "mcc = SparkMultiClassClassifier(dtc, label, 0.1)\n",
    "matrics = mcc.fit(data)\n",
    "for k,v in matrics.items(): print(f\"{k}\\t{v}\")"
   ]
  },
  {
   "cell_type": "markdown",
   "metadata": {},
   "source": [
    "## BONUS: Decision Tree Classifier with sklearn"
   ]
  },
  {
   "cell_type": "code",
   "execution_count": 7,
   "metadata": {},
   "outputs": [
    {
     "name": "stdout",
     "output_type": "stream",
     "text": [
      "\n",
      " Class\tTrain\tTest\n",
      "\n",
      "alpha+beta\t1177\t113\n",
      "\n",
      "beta\t1125\t128\n",
      "\n",
      "alpha\t1097\t137\n",
      "\n",
      "Total time taken: 0.3497328758239746\n",
      "\n",
      "Methods\tDecisionTreeClassifier\n",
      "F Score\t0.7294651722643344\n",
      "Accuracy\t0.7301587301587301\n",
      "Precision\t0.7314440092049546\n",
      "Recall\t0.7301587301587301\n",
      "False Positive Rate\t0.13417458701949422\n",
      "True Positive Rate\t0.7275617087074479\n",
      "\t\n",
      "Confusion Matrix\n",
      "['alpha+beta' 'beta' 'alpha']\n",
      "[[ 73  18  22]\n",
      " [ 16 107   5]\n",
      " [ 26  15  96]]\n"
     ]
    }
   ],
   "source": [
    "from sklearn.tree import DecisionTreeClassifier\n",
    "\n",
    "df = data.toPandas()\n",
    "dtc = DecisionTreeClassifier()\n",
    "mcc = mltoolkit.MultiClassClassifier(dtc, 'foldType', testFraction=0.1)\n",
    "matrics = mcc.fit(df)\n",
    "for k,v in matrics.items(): print(f\"{k}\\t{v}\")"
   ]
  },
  {
   "cell_type": "code",
   "execution_count": 8,
   "metadata": {},
   "outputs": [],
   "source": [
    "spark.stop()"
   ]
  }
 ],
 "metadata": {
  "kernelspec": {
   "display_name": "Python 3",
   "language": "python",
   "name": "python3"
  },
  "language_info": {
   "codemirror_mode": {
    "name": "ipython",
    "version": 3
   },
   "file_extension": ".py",
   "mimetype": "text/x-python",
   "name": "python",
   "nbconvert_exporter": "python",
   "pygments_lexer": "ipython3",
   "version": "3.7.3"
  }
 },
 "nbformat": 4,
 "nbformat_minor": 2
}
