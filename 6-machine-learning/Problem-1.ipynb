{
 "cells": [
  {
   "cell_type": "markdown",
   "metadata": {},
   "source": [
    "# Problem 1\n",
    "Apply your skills to classify protein foldType with Decision Tree Classifier\n",
    "\n",
    "## Imports"
   ]
  },
  {
   "cell_type": "code",
   "execution_count": 1,
   "metadata": {},
   "outputs": [],
   "source": [
    "from mmtfPyspark.ml import SparkMultiClassClassifier, datasetBalancer                                 \n",
    "from pyspark.sql import SparkSession\n",
    "from pyspark.sql.functions import *\n",
    "import mltoolkit"
   ]
  },
  {
   "cell_type": "markdown",
   "metadata": {},
   "source": [
    "## Configure Spark Session"
   ]
  },
  {
   "cell_type": "code",
   "execution_count": 2,
   "metadata": {},
   "outputs": [],
   "source": [
    "spark = SparkSession.builder \\\n",
    "                    .master(\"local[*]\") \\\n",
    "                    .appName(\"datasetClassifierProblemset\") \\\n",
    "                    .getOrCreate()"
   ]
  },
  {
   "cell_type": "markdown",
   "metadata": {},
   "source": [
    "## TODO-1: Read in data from parquet file"
   ]
  },
  {
   "cell_type": "code",
   "execution_count": 3,
   "metadata": {},
   "outputs": [],
   "source": [
    "parquetFile = './input_features/'\n",
    "data = # Your Code Here #"
   ]
  },
  {
   "cell_type": "markdown",
   "metadata": {},
   "source": [
    "## TODO-2: Select alpha, beta, alpha+beta foldtypes"
   ]
  },
  {
   "cell_type": "code",
   "execution_count": 4,
   "metadata": {},
   "outputs": [
    {
     "name": "stdout",
     "output_type": "stream",
     "text": [
      "Total number of data: 2390\n"
     ]
    }
   ],
   "source": [
    "data = # Your Code Here #\n",
    "print(f\"Total number of data: {data.count()}\")"
   ]
  },
  {
   "cell_type": "markdown",
   "metadata": {},
   "source": [
    "## TODO-3: Downsample data"
   ]
  },
  {
   "cell_type": "code",
   "execution_count": 5,
   "metadata": {},
   "outputs": [
    {
     "name": "stdout",
     "output_type": "stream",
     "text": [
      "Dataset size (balanced)  : 1266\n",
      "+--------+-----+\n",
      "|foldType|count|\n",
      "+--------+-----+\n",
      "|    beta|  626|\n",
      "|   alpha|  640|\n",
      "+--------+-----+\n",
      "\n"
     ]
    }
   ],
   "source": [
    "label = 'foldType'\n",
    "\n",
    "data = # Your Code Here #\n",
    "print(f\"Dataset size (balanced)  : {data.count()}\")\n",
    "    \n",
    "data.groupby(label).count().show()"
   ]
  },
  {
   "cell_type": "markdown",
   "metadata": {},
   "source": [
    "## TODO-4: Decision Tree Classifier with PySpark"
   ]
  },
  {
   "cell_type": "code",
   "execution_count": 6,
   "metadata": {},
   "outputs": [
    {
     "name": "stdout",
     "output_type": "stream",
     "text": [
      "\n",
      " Class\tTrain\tTest\n",
      "alpha\t562\t78\n",
      "beta\t561\t65\n",
      "\n",
      "Sample predictions: DecisionTreeClassifier\n",
      "+----------------+-----------+----------+---------+--------+--------------------+------------+-------------+--------------------+----------+--------------+\n",
      "|structureChainId|      alpha|      beta|     coil|foldType|            features|indexedLabel|rawPrediction|         probability|prediction|predictedLabel|\n",
      "+----------------+-----------+----------+---------+--------+--------------------+------------+-------------+--------------------+----------+--------------+\n",
      "|          2PW8.I|0.048387095|0.30645162|0.6451613|    beta|[0.34626930754166...|         1.0| [13.0,322.0]|[0.03880597014925...|       1.0|          beta|\n",
      "|          4Q1Q.B|        0.0|       0.5|      0.5|    beta|[-0.1299340440187...|         1.0| [13.0,322.0]|[0.03880597014925...|       1.0|          beta|\n",
      "|          5F6L.J|        0.0|0.21052632|0.7894737|    beta|[0.28061876961818...|         1.0|   [23.0,1.0]|[0.95833333333333...|       0.0|         alpha|\n",
      "|          5INB.B|        0.0|0.18181819|0.8181818|    beta|[0.20785025656223...|         1.0|   [33.0,2.0]|[0.94285714285714...|       0.0|         alpha|\n",
      "|          1OGO.X|0.034965035|0.42482516|0.5402098|    beta|[0.00471779905128...|         1.0| [13.0,322.0]|[0.03880597014925...|       1.0|          beta|\n",
      "+----------------+-----------+----------+---------+--------+--------------------+------------+-------------+--------------------+----------+--------------+\n",
      "only showing top 5 rows\n",
      "\n",
      "Total time taken: 4.23888897895813\n",
      "\n",
      "Method\tDecisionTreeClassifier\n",
      "AUC\t0.8371794871794872\n",
      "F\t0.8390496581875636\n",
      "Accuracy\t0.8391608391608392\n",
      "Precision\t0.8390211449942462\n",
      "Recall\t0.8391608391608392\n",
      "False Positive Rate\t0.16480186480186482\n",
      "True Positive Rate\t0.8391608391608392\n",
      "\t\n",
      "Confusion Matrix\n",
      "['alpha', 'beta']\n",
      "DenseMatrix([[67., 11.],\n",
      "             [12., 53.]])\n"
     ]
    }
   ],
   "source": [
    "from pyspark.ml.classification import DecisionTreeClassifier\n",
    "\n",
    "dtc = # Your Code Here: Make Decision Tree Classifier Class #\n",
    "mcc = # Your Code Here: Use MulticlassClassifier wrapper on dtc#\n",
    "matrics = # Your Code Here: fit data#\n",
    "for k,v in matrics.items(): print(f\"{k}\\t{v}\")"
   ]
  },
  {
   "cell_type": "markdown",
   "metadata": {},
   "source": [
    "## BONUS: Decision Tree Classifier with sklearn"
   ]
  },
  {
   "cell_type": "code",
   "execution_count": 7,
   "metadata": {},
   "outputs": [
    {
     "name": "stdout",
     "output_type": "stream",
     "text": [
      "\n",
      " Class\tTrain\tTest\n",
      "\n",
      "beta\t568\t58\n",
      "\n",
      "alpha\t571\t69\n",
      "\n",
      "Total time taken: 0.08887577056884766\n",
      "\n",
      "Methods\tDecisionTreeClassifier\n",
      "AUC\t0.7906046976511744\n",
      "F Score\t0.7938931297709925\n",
      "Accuracy\t0.7874015748031497\n",
      "Precision\t0.8387096774193549\n",
      "Recall\t0.7536231884057971\n",
      "False Positive Rate\t0.16129032258064516\n",
      "True Positive Rate\t0.7384615384615385\n",
      "\t\n",
      "Confusion Matrix\n",
      "['beta' 'alpha']\n",
      "[[48 10]\n",
      " [17 52]]\n"
     ]
    }
   ],
   "source": [
    "from sklearn.tree import DecisionTreeClassifier\n",
    "\n",
    "df = # Your Code Here: convert data to Pandas Dataframe #\n",
    "dtc = # Your Code Here: Make Decision Tree Classifier Class #\n",
    "mcc = # Your Code Here: Use MulticlassClassifier wrapper on dtc#\n",
    "matrics = # Your Code Here: fit data#\n",
    "for k,v in matrics.items(): print(f\"{k}\\t{v}\")"
   ]
  },
  {
   "cell_type": "code",
   "execution_count": 8,
   "metadata": {},
   "outputs": [],
   "source": [
    "spark.stop()"
   ]
  }
 ],
 "metadata": {
  "kernelspec": {
   "display_name": "Python 3",
   "language": "python",
   "name": "python3"
  },
  "language_info": {
   "codemirror_mode": {
    "name": "ipython",
    "version": 3
   },
   "file_extension": ".py",
   "mimetype": "text/x-python",
   "name": "python",
   "nbconvert_exporter": "python",
   "pygments_lexer": "ipython3",
   "version": "3.6.0"
  }
 },
 "nbformat": 4,
 "nbformat_minor": 2
}
