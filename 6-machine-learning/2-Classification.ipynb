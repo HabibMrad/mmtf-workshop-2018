{
 "cells": [
  {
   "cell_type": "markdown",
   "metadata": {},
   "source": [
    "# Machine learning - Features extraction\n",
    "\n",
    "Runs binary and multi-class classifiers on a given dataset.\n",
    "Dataset are read as Parquet file. The dataset must contain a feature vector named \"features\" and a classification column.\n",
    "\n",
    "## Imports"
   ]
  },
  {
   "cell_type": "code",
   "execution_count": 28,
   "metadata": {},
   "outputs": [],
   "source": [
    "from mmtfPyspark.ml import SparkMultiClassClassifier, datasetBalancer                                 \n",
    "from pyspark.sql import SparkSession\n",
    "from pyspark.sql.functions import *\n",
    "from pyspark.ml.classification import DecisionTreeClassifier, LogisticRegression, MultilayerPerceptronClassifier, RandomForestClassifier"
   ]
  },
  {
   "cell_type": "markdown",
   "metadata": {},
   "source": [
    "## Configure Spark Session"
   ]
  },
  {
   "cell_type": "code",
   "execution_count": 29,
   "metadata": {},
   "outputs": [],
   "source": [
    "spark = SparkSession.builder \\\n",
    "                    .master(\"local[*]\") \\\n",
    "                    .appName(\"datasetClassifier\") \\\n",
    "                    .getOrCreate()"
   ]
  },
  {
   "cell_type": "markdown",
   "metadata": {},
   "source": [
    "## Read in data from parquet file"
   ]
  },
  {
   "cell_type": "code",
   "execution_count": 30,
   "metadata": {},
   "outputs": [
    {
     "name": "stdout",
     "output_type": "stream",
     "text": [
      "Total number of data: 10660\n"
     ]
    },
    {
     "data": {
      "text/html": [
       "<div>\n",
       "<style scoped>\n",
       "    .dataframe tbody tr th:only-of-type {\n",
       "        vertical-align: middle;\n",
       "    }\n",
       "\n",
       "    .dataframe tbody tr th {\n",
       "        vertical-align: top;\n",
       "    }\n",
       "\n",
       "    .dataframe thead th {\n",
       "        text-align: right;\n",
       "    }\n",
       "</style>\n",
       "<table border=\"1\" class=\"dataframe\">\n",
       "  <thead>\n",
       "    <tr style=\"text-align: right;\">\n",
       "      <th></th>\n",
       "      <th>structureChainId</th>\n",
       "      <th>alpha</th>\n",
       "      <th>beta</th>\n",
       "      <th>coil</th>\n",
       "      <th>foldType</th>\n",
       "      <th>features</th>\n",
       "    </tr>\n",
       "  </thead>\n",
       "  <tbody>\n",
       "    <tr>\n",
       "      <th>0</th>\n",
       "      <td>1RXQ.D</td>\n",
       "      <td>0.662722</td>\n",
       "      <td>0.065089</td>\n",
       "      <td>0.272189</td>\n",
       "      <td>alpha+beta</td>\n",
       "      <td>[-0.49331762155486364, 0.2271454499266242, 0.0...</td>\n",
       "    </tr>\n",
       "    <tr>\n",
       "      <th>1</th>\n",
       "      <td>1RYL.B</td>\n",
       "      <td>0.550336</td>\n",
       "      <td>0.154362</td>\n",
       "      <td>0.295302</td>\n",
       "      <td>alpha+beta</td>\n",
       "      <td>[-0.3640512899013169, 0.18834858465692905, -0....</td>\n",
       "    </tr>\n",
       "    <tr>\n",
       "      <th>2</th>\n",
       "      <td>1RYO.A</td>\n",
       "      <td>0.367284</td>\n",
       "      <td>0.212963</td>\n",
       "      <td>0.419753</td>\n",
       "      <td>alpha+beta</td>\n",
       "      <td>[-0.3282523089562731, -0.01581098698508109, -0...</td>\n",
       "    </tr>\n",
       "    <tr>\n",
       "      <th>3</th>\n",
       "      <td>1RYP.E</td>\n",
       "      <td>0.351240</td>\n",
       "      <td>0.260331</td>\n",
       "      <td>0.388430</td>\n",
       "      <td>alpha+beta</td>\n",
       "      <td>[-0.48476110234918435, 0.09152798528330887, 0....</td>\n",
       "    </tr>\n",
       "    <tr>\n",
       "      <th>4</th>\n",
       "      <td>1RYP.N</td>\n",
       "      <td>0.321888</td>\n",
       "      <td>0.313305</td>\n",
       "      <td>0.364807</td>\n",
       "      <td>alpha+beta</td>\n",
       "      <td>[-0.21472580679531755, 0.2948544846309734, 0.0...</td>\n",
       "    </tr>\n",
       "  </tbody>\n",
       "</table>\n",
       "</div>"
      ],
      "text/plain": [
       "  structureChainId     alpha      beta      coil    foldType  \\\n",
       "0           1RXQ.D  0.662722  0.065089  0.272189  alpha+beta   \n",
       "1           1RYL.B  0.550336  0.154362  0.295302  alpha+beta   \n",
       "2           1RYO.A  0.367284  0.212963  0.419753  alpha+beta   \n",
       "3           1RYP.E  0.351240  0.260331  0.388430  alpha+beta   \n",
       "4           1RYP.N  0.321888  0.313305  0.364807  alpha+beta   \n",
       "\n",
       "                                            features  \n",
       "0  [-0.49331762155486364, 0.2271454499266242, 0.0...  \n",
       "1  [-0.3640512899013169, 0.18834858465692905, -0....  \n",
       "2  [-0.3282523089562731, -0.01581098698508109, -0...  \n",
       "3  [-0.48476110234918435, 0.09152798528330887, 0....  \n",
       "4  [-0.21472580679531755, 0.2948544846309734, 0.0...  "
      ]
     },
     "execution_count": 30,
     "metadata": {},
     "output_type": "execute_result"
    }
   ],
   "source": [
    "parquetFile = './features/'\n",
    "data = spark.read.parquet(parquetFile).cache()\n",
    "\n",
    "print(f\"Total number of data: {data.count()}\")\n",
    "data.toPandas().head()"
   ]
  },
  {
   "cell_type": "markdown",
   "metadata": {},
   "source": [
    "## Select only alpha and beta foldType"
   ]
  },
  {
   "cell_type": "code",
   "execution_count": 31,
   "metadata": {},
   "outputs": [
    {
     "name": "stdout",
     "output_type": "stream",
     "text": [
      "Total number of data: 2584\n"
     ]
    },
    {
     "data": {
      "text/html": [
       "<div>\n",
       "<style scoped>\n",
       "    .dataframe tbody tr th:only-of-type {\n",
       "        vertical-align: middle;\n",
       "    }\n",
       "\n",
       "    .dataframe tbody tr th {\n",
       "        vertical-align: top;\n",
       "    }\n",
       "\n",
       "    .dataframe thead th {\n",
       "        text-align: right;\n",
       "    }\n",
       "</style>\n",
       "<table border=\"1\" class=\"dataframe\">\n",
       "  <thead>\n",
       "    <tr style=\"text-align: right;\">\n",
       "      <th></th>\n",
       "      <th>structureChainId</th>\n",
       "      <th>alpha</th>\n",
       "      <th>beta</th>\n",
       "      <th>coil</th>\n",
       "      <th>foldType</th>\n",
       "      <th>features</th>\n",
       "    </tr>\n",
       "  </thead>\n",
       "  <tbody>\n",
       "    <tr>\n",
       "      <th>0</th>\n",
       "      <td>1RZ4.A</td>\n",
       "      <td>0.676056</td>\n",
       "      <td>0.028169</td>\n",
       "      <td>0.295775</td>\n",
       "      <td>alpha</td>\n",
       "      <td>[-0.46955591383079687, 0.2041911859748264, 0.0...</td>\n",
       "    </tr>\n",
       "    <tr>\n",
       "      <th>1</th>\n",
       "      <td>1RZH.L</td>\n",
       "      <td>0.619217</td>\n",
       "      <td>0.035587</td>\n",
       "      <td>0.345196</td>\n",
       "      <td>alpha</td>\n",
       "      <td>[-0.4564491557389764, 0.1894280703239409, -0.0...</td>\n",
       "    </tr>\n",
       "    <tr>\n",
       "      <th>2</th>\n",
       "      <td>1RZH.M</td>\n",
       "      <td>0.634551</td>\n",
       "      <td>0.039867</td>\n",
       "      <td>0.325581</td>\n",
       "      <td>alpha</td>\n",
       "      <td>[-0.5367502944172646, 0.17530410278290268, -0....</td>\n",
       "    </tr>\n",
       "    <tr>\n",
       "      <th>3</th>\n",
       "      <td>1S0P.B</td>\n",
       "      <td>0.755682</td>\n",
       "      <td>0.011364</td>\n",
       "      <td>0.232955</td>\n",
       "      <td>alpha</td>\n",
       "      <td>[-0.417293982516442, 0.29370996700067603, 0.15...</td>\n",
       "    </tr>\n",
       "    <tr>\n",
       "      <th>4</th>\n",
       "      <td>1S2X.A</td>\n",
       "      <td>0.772222</td>\n",
       "      <td>0.000000</td>\n",
       "      <td>0.227778</td>\n",
       "      <td>alpha</td>\n",
       "      <td>[-0.21703443489968777, 0.2690418922251499, 0.1...</td>\n",
       "    </tr>\n",
       "  </tbody>\n",
       "</table>\n",
       "</div>"
      ],
      "text/plain": [
       "  structureChainId     alpha      beta      coil foldType  \\\n",
       "0           1RZ4.A  0.676056  0.028169  0.295775    alpha   \n",
       "1           1RZH.L  0.619217  0.035587  0.345196    alpha   \n",
       "2           1RZH.M  0.634551  0.039867  0.325581    alpha   \n",
       "3           1S0P.B  0.755682  0.011364  0.232955    alpha   \n",
       "4           1S2X.A  0.772222  0.000000  0.227778    alpha   \n",
       "\n",
       "                                            features  \n",
       "0  [-0.46955591383079687, 0.2041911859748264, 0.0...  \n",
       "1  [-0.4564491557389764, 0.1894280703239409, -0.0...  \n",
       "2  [-0.5367502944172646, 0.17530410278290268, -0....  \n",
       "3  [-0.417293982516442, 0.29370996700067603, 0.15...  \n",
       "4  [-0.21703443489968777, 0.2690418922251499, 0.1...  "
      ]
     },
     "execution_count": 31,
     "metadata": {},
     "output_type": "execute_result"
    }
   ],
   "source": [
    "data = data.where((data.foldType == 'alpha') | (data.foldType == 'beta')) #| (data.foldType == 'other'))\n",
    "\n",
    "print(f\"Total number of data: {data.count()}\")\n",
    "data.toPandas().head()"
   ]
  },
  {
   "cell_type": "markdown",
   "metadata": {},
   "source": [
    "## Basic dataset information and setting"
   ]
  },
  {
   "cell_type": "code",
   "execution_count": 72,
   "metadata": {},
   "outputs": [
    {
     "name": "stdout",
     "output_type": "stream",
     "text": [
      "Feature count    : 50\n",
      "Class count    : 2\n",
      "Dataset size (unbalanced)    : 1323\n",
      "+--------+-----+\n",
      "|foldType|count|\n",
      "+--------+-----+\n",
      "|    beta|  660|\n",
      "|   alpha|  663|\n",
      "+--------+-----+\n",
      "\n",
      "Dataset size (balanced)  : 1319\n",
      "+--------+-----+\n",
      "|foldType|count|\n",
      "+--------+-----+\n",
      "|    beta|  660|\n",
      "|   alpha|  659|\n",
      "+--------+-----+\n",
      "\n"
     ]
    }
   ],
   "source": [
    "label = 'foldType'\n",
    "testFraction = 0.1\n",
    "seed = 123\n",
    "\n",
    "vector = data.first()[\"features\"]\n",
    "featureCount = len(vector)\n",
    "print(f\"Feature count    : {featureCount}\")\n",
    "    \n",
    "classCount = int(data.select(label).distinct().count())\n",
    "print(f\"Class count    : {classCount}\")\n",
    "\n",
    "print(f\"Dataset size (unbalanced)    : {data.count()}\")\n",
    "    \n",
    "data.groupby(label).count().show(classCount)\n",
    "data = datasetBalancer.downsample(data, label, 1)\n",
    "print(f\"Dataset size (balanced)  : {data.count()}\")\n",
    "    \n",
    "data.groupby(label).count().show(classCount)"
   ]
  },
  {
   "cell_type": "markdown",
   "metadata": {},
   "source": [
    "## Decision Tree Classifier"
   ]
  },
  {
   "cell_type": "code",
   "execution_count": 73,
   "metadata": {},
   "outputs": [
    {
     "name": "stdout",
     "output_type": "stream",
     "text": [
      "\n",
      " Class\tTrain\tTest\n",
      "beta\t598\t62\n",
      "alpha\t589\t70\n",
      "\n",
      "Sample predictions: DecisionTreeClassifier\n",
      "+----------------+-----------+-----------+----------+--------+--------------------+------------+-------------+--------------------+----------+--------------+\n",
      "|structureChainId|      alpha|       beta|      coil|foldType|            features|indexedLabel|rawPrediction|         probability|prediction|predictedLabel|\n",
      "+----------------+-----------+-----------+----------+--------+--------------------+------------+-------------+--------------------+----------+--------------+\n",
      "|          3KHQ.A|0.032258064| 0.50537634| 0.4623656|    beta|[-0.2263692109704...|         0.0| [284.0,13.0]|[0.95622895622895...|       0.0|          beta|\n",
      "|          5LS7.A|        0.0|       0.64|      0.36|    beta|[-0.6489516260102...|         0.0|   [17.0,8.0]|         [0.68,0.32]|       0.0|          beta|\n",
      "|          3SGR.C|        0.0|  0.8333333|0.16666667|    beta|[-0.3402115559826...|         0.0|    [3.0,1.0]|         [0.75,0.25]|       0.0|          beta|\n",
      "|          3IT5.B|0.022099448|  0.3480663|0.62983423|    beta|[-0.3260491803103...|         0.0| [284.0,13.0]|[0.95622895622895...|       0.0|          beta|\n",
      "|          3PDG.A|        0.0|  0.5934066| 0.4065934|    beta|[-0.4984096106545...|         0.0| [284.0,13.0]|[0.95622895622895...|       0.0|          beta|\n",
      "|          3TV0.B|        0.0|  0.4397163|0.56028366|    beta|[-0.1202851654913...|         0.0| [284.0,13.0]|[0.95622895622895...|       0.0|          beta|\n",
      "|          5AOT.A|0.029411765| 0.60784316| 0.3627451|    beta|[-0.3472409012062...|         0.0| [284.0,13.0]|[0.95622895622895...|       0.0|          beta|\n",
      "|          5COF.A|   0.622093|0.046511628|0.33139536|   alpha|[-0.3065399640662...|         1.0|  [22.0,19.0]|[0.53658536585365...|       0.0|          beta|\n",
      "|          3LVY.D|  0.6703911|        0.0|0.32960895|   alpha|[-0.3646653224126...|         1.0|  [26.0,53.0]|[0.32911392405063...|       1.0|         alpha|\n",
      "|          4XTR.G|  0.8636364|        0.0|0.13636364|   alpha|[-0.7739741332415...|         1.0|   [17.0,8.0]|         [0.68,0.32]|       0.0|          beta|\n",
      "|          1NZN.A|  0.8114754|        0.0|0.18852459|   alpha|[-0.5451746264249...|         1.0|  [9.0,291.0]|         [0.03,0.97]|       1.0|         alpha|\n",
      "|          3IDW.A|  0.6969697|        0.0| 0.3030303|   alpha|[-0.0320017300021...|         1.0|  [26.0,53.0]|[0.32911392405063...|       1.0|         alpha|\n",
      "|          5TW9.F|  0.6984127|        0.0| 0.3015873|   alpha|[-0.4221668092293...|         1.0|   [3.0,70.0]|[0.04109589041095...|       1.0|         alpha|\n",
      "|          2ZRR.A|  0.7108434|        0.0|0.28915662|   alpha|[-0.4252146485014...|         1.0| [284.0,13.0]|[0.95622895622895...|       0.0|          beta|\n",
      "|          4BEM.J| 0.85714287|0.010989011|0.13186814|   alpha|[-0.4057544881364...|         1.0|   [1.0,25.0]|[0.03846153846153...|       1.0|         alpha|\n",
      "+----------------+-----------+-----------+----------+--------+--------------------+------------+-------------+--------------------+----------+--------------+\n",
      "\n",
      "Total time taken: 2.718766689300537\n",
      "Method\tDecisionTreeClassifier\n",
      "F\t0.8485894138068051\n",
      "Accuracy\t0.8484848484848485\n",
      "Precision\t0.8490836675579323\n",
      "Recall\t0.8484848484848484\n",
      "False Positive Rase\t0.15078899595028628\n",
      "True Positive Rate\t0.8484848484848484\n",
      "\t\n",
      "Confusion Matrix\n",
      "['beta', 'alpha']\n",
      "DenseMatrix([[53.,  9.],\n",
      "             [11., 59.]])\n"
     ]
    }
   ],
   "source": [
    "dtc = DecisionTreeClassifier()\n",
    "mcc = SparkMultiClassClassifier(dtc, label, testFraction, seed)\n",
    "matrics = mcc.fit(data)\n",
    "for k,v in matrics.items(): print(f\"{k}\\t{v}\")"
   ]
  },
  {
   "cell_type": "markdown",
   "metadata": {},
   "source": [
    "## Random Forest Classifier"
   ]
  },
  {
   "cell_type": "code",
   "execution_count": 74,
   "metadata": {},
   "outputs": [
    {
     "name": "stdout",
     "output_type": "stream",
     "text": [
      "\n",
      " Class\tTrain\tTest\n",
      "beta\t598\t62\n",
      "alpha\t589\t70\n",
      "\n",
      "Sample predictions: RandomForestClassifier\n",
      "+----------------+-----------+-----------+----------+--------+--------------------+------------+--------------------+--------------------+----------+--------------+\n",
      "|structureChainId|      alpha|       beta|      coil|foldType|            features|indexedLabel|       rawPrediction|         probability|prediction|predictedLabel|\n",
      "+----------------+-----------+-----------+----------+--------+--------------------+------------+--------------------+--------------------+----------+--------------+\n",
      "|          3KHQ.A|0.032258064| 0.50537634| 0.4623656|    beta|[-0.2263692109704...|         0.0|[17.3599575895132...|[0.86799787947566...|       0.0|          beta|\n",
      "|          5LS7.A|        0.0|       0.64|      0.36|    beta|[-0.6489516260102...|         0.0|[12.6165559555537...|[0.63082779777768...|       0.0|          beta|\n",
      "|          3SGR.C|        0.0|  0.8333333|0.16666667|    beta|[-0.3402115559826...|         0.0|[13.8284790711215...|[0.69142395355607...|       0.0|          beta|\n",
      "|          3IT5.B|0.022099448|  0.3480663|0.62983423|    beta|[-0.3260491803103...|         0.0|[16.9627655254072...|[0.84813827627036...|       0.0|          beta|\n",
      "|          3PDG.A|        0.0|  0.5934066| 0.4065934|    beta|[-0.4984096106545...|         0.0|[17.0264503693321...|[0.85132251846660...|       0.0|          beta|\n",
      "|          3TV0.B|        0.0|  0.4397163|0.56028366|    beta|[-0.1202851654913...|         0.0|[17.6899393058441...|[0.88449696529220...|       0.0|          beta|\n",
      "|          5AOT.A|0.029411765| 0.60784316| 0.3627451|    beta|[-0.3472409012062...|         0.0|[17.1336496081394...|[0.85668248040697...|       0.0|          beta|\n",
      "|          5COF.A|   0.622093|0.046511628|0.33139536|   alpha|[-0.3065399640662...|         1.0|[13.8930267411584...|[0.69465133705792...|       0.0|          beta|\n",
      "|          3LVY.D|  0.6703911|        0.0|0.32960895|   alpha|[-0.3646653224126...|         1.0|[17.3983365123886...|[0.86991682561943...|       0.0|          beta|\n",
      "|          4XTR.G|  0.8636364|        0.0|0.13636364|   alpha|[-0.7739741332415...|         1.0|[11.2473729613889...|[0.56236864806944...|       0.0|          beta|\n",
      "|          1NZN.A|  0.8114754|        0.0|0.18852459|   alpha|[-0.5451746264249...|         1.0|[1.30927089097011...|[0.06546354454850...|       1.0|         alpha|\n",
      "|          3IDW.A|  0.6969697|        0.0| 0.3030303|   alpha|[-0.0320017300021...|         1.0|[9.30382392487779...|[0.46519119624388...|       1.0|         alpha|\n",
      "|          5TW9.F|  0.6984127|        0.0| 0.3015873|   alpha|[-0.4221668092293...|         1.0|[2.17622636157273...|[0.10881131807863...|       1.0|         alpha|\n",
      "|          2ZRR.A|  0.7108434|        0.0|0.28915662|   alpha|[-0.4252146485014...|         1.0|[12.5648841414344...|[0.62824420707172...|       0.0|          beta|\n",
      "|          4BEM.J| 0.85714287|0.010989011|0.13186814|   alpha|[-0.4057544881364...|         1.0|[5.19736729918154...|[0.25986836495907...|       1.0|         alpha|\n",
      "+----------------+-----------+-----------+----------+--------+--------------------+------------+--------------------+--------------------+----------+--------------+\n",
      "\n",
      "Total time taken: 3.028733253479004\n",
      "Method\tRandomForestClassifier\n",
      "F\t0.871263864032044\n",
      "Accuracy\t0.8712121212121212\n",
      "Precision\t0.8762260283999415\n",
      "Recall\t0.8712121212121213\n",
      "False Positive Rase\t0.12328585393101521\n",
      "True Positive Rate\t0.8712121212121213\n",
      "\t\n",
      "Confusion Matrix\n",
      "['beta', 'alpha']\n",
      "DenseMatrix([[57.,  5.],\n",
      "             [12., 58.]])\n"
     ]
    }
   ],
   "source": [
    "rfc = RandomForestClassifier()\n",
    "mcc = SparkMultiClassClassifier(rfc, label, testFraction, seed)\n",
    "matrics = mcc.fit(data)\n",
    "for k,v in matrics.items(): print(f\"{k}\\t{v}\")"
   ]
  },
  {
   "cell_type": "markdown",
   "metadata": {},
   "source": [
    "## Logistic Regression Classifier"
   ]
  },
  {
   "cell_type": "code",
   "execution_count": 76,
   "metadata": {},
   "outputs": [
    {
     "name": "stdout",
     "output_type": "stream",
     "text": [
      "\n",
      " Class\tTrain\tTest\n",
      "beta\t598\t62\n",
      "alpha\t589\t70\n",
      "\n",
      "Sample predictions: LogisticRegression\n",
      "+----------------+-----------+-----------+----------+--------+--------------------+------------+--------------------+--------------------+----------+--------------+\n",
      "|structureChainId|      alpha|       beta|      coil|foldType|            features|indexedLabel|       rawPrediction|         probability|prediction|predictedLabel|\n",
      "+----------------+-----------+-----------+----------+--------+--------------------+------------+--------------------+--------------------+----------+--------------+\n",
      "|          3KHQ.A|0.032258064| 0.50537634| 0.4623656|    beta|[-0.2263692109704...|         0.0|[1.67549553269351...|[0.84230714368222...|       0.0|          beta|\n",
      "|          5LS7.A|        0.0|       0.64|      0.36|    beta|[-0.6489516260102...|         0.0|[3.64497496478225...|[0.9745429274563,...|       0.0|          beta|\n",
      "|          3SGR.C|        0.0|  0.8333333|0.16666667|    beta|[-0.3402115559826...|         0.0|[5.57413324681703...|[0.99621958250919...|       0.0|          beta|\n",
      "|          3IT5.B|0.022099448|  0.3480663|0.62983423|    beta|[-0.3260491803103...|         0.0|[3.27623071490657...|[0.96360432165776...|       0.0|          beta|\n",
      "|          3PDG.A|        0.0|  0.5934066| 0.4065934|    beta|[-0.4984096106545...|         0.0|[4.14283661950857...|[0.98437041419781...|       0.0|          beta|\n",
      "|          3TV0.B|        0.0|  0.4397163|0.56028366|    beta|[-0.1202851654913...|         0.0|[3.27691246079996...|[0.96362822363505...|       0.0|          beta|\n",
      "|          5AOT.A|0.029411765| 0.60784316| 0.3627451|    beta|[-0.3472409012062...|         0.0|[7.26661589127693...|[0.99930201581926...|       0.0|          beta|\n",
      "|          5COF.A|   0.622093|0.046511628|0.33139536|   alpha|[-0.3065399640662...|         1.0|[-1.5738494663921...|[0.17166831210450...|       1.0|         alpha|\n",
      "|          3LVY.D|  0.6703911|        0.0|0.32960895|   alpha|[-0.3646653224126...|         1.0|[0.90129028238108...|[0.71121458386311...|       0.0|          beta|\n",
      "|          4XTR.G|  0.8636364|        0.0|0.13636364|   alpha|[-0.7739741332415...|         1.0|[-2.1921929589682...|[0.10045375795052...|       1.0|         alpha|\n",
      "|          1NZN.A|  0.8114754|        0.0|0.18852459|   alpha|[-0.5451746264249...|         1.0|[-4.5392544209011...|[0.01056848155546...|       1.0|         alpha|\n",
      "|          3IDW.A|  0.6969697|        0.0| 0.3030303|   alpha|[-0.0320017300021...|         1.0|[-1.2713855395323...|[0.21902016282913...|       1.0|         alpha|\n",
      "|          5TW9.F|  0.6984127|        0.0| 0.3015873|   alpha|[-0.4221668092293...|         1.0|[-4.0152028918631...|[0.01771964427800...|       1.0|         alpha|\n",
      "|          2ZRR.A|  0.7108434|        0.0|0.28915662|   alpha|[-0.4252146485014...|         1.0|[-0.6435213093600...|[0.34445097695294...|       1.0|         alpha|\n",
      "|          4BEM.J| 0.85714287|0.010989011|0.13186814|   alpha|[-0.4057544881364...|         1.0|[-0.4456235706971...|[0.39040180374378...|       1.0|         alpha|\n",
      "+----------------+-----------+-----------+----------+--------+--------------------+------------+--------------------+--------------------+----------+--------------+\n",
      "\n",
      "Total time taken: 5.230480909347534\n",
      "Method\tLogisticRegression\n",
      "F\t0.901599979119359\n",
      "Accuracy\t0.9015151515151515\n",
      "Precision\t0.904272344570852\n",
      "Recall\t0.9015151515151515\n",
      "False Positive Rase\t0.09460270911883814\n",
      "True Positive Rate\t0.9015151515151515\n",
      "\t\n",
      "Confusion Matrix\n",
      "['beta', 'alpha']\n",
      "DenseMatrix([[58.,  4.],\n",
      "             [ 9., 61.]])\n"
     ]
    }
   ],
   "source": [
    "lr = LogisticRegression()\n",
    "mcc = SparkMultiClassClassifier(lr, label, testFraction, seed)\n",
    "matrics = mcc.fit(data)\n",
    "for k,v in matrics.items(): print(f\"{k}\\t{v}\")"
   ]
  },
  {
   "cell_type": "markdown",
   "metadata": {},
   "source": [
    "## Simple Multilayer Perception Classifier"
   ]
  },
  {
   "cell_type": "code",
   "execution_count": null,
   "metadata": {},
   "outputs": [
    {
     "name": "stdout",
     "output_type": "stream",
     "text": [
      "\n",
      " Class\tTrain\tTest\n",
      "beta\t598\t62\n",
      "alpha\t589\t70\n"
     ]
    }
   ],
   "source": [
    "layers = [featureCount, 32, 32, classCount]\n",
    "mpc = MultilayerPerceptronClassifier().setLayers(layers) \\\n",
    "                                          .setBlockSize(128) \\\n",
    "                                          .setSeed(1234) \\\n",
    "                                          .setMaxIter(100)\n",
    "mcc = SparkMultiClassClassifier(mpc, label, testFraction, seed)\n",
    "matrics = mcc.fit(data)\n",
    "for k,v in matrics.items(): print(f\"{k}\\t{v}\")"
   ]
  },
  {
   "cell_type": "markdown",
   "metadata": {},
   "source": [
    "## Terminate Spark"
   ]
  },
  {
   "cell_type": "code",
   "execution_count": null,
   "metadata": {},
   "outputs": [],
   "source": [
    "spark.stop()"
   ]
  },
  {
   "cell_type": "code",
   "execution_count": null,
   "metadata": {},
   "outputs": [],
   "source": []
  }
 ],
 "metadata": {
  "kernelspec": {
   "display_name": "Python 3",
   "language": "python",
   "name": "python3"
  },
  "language_info": {
   "codemirror_mode": {
    "name": "ipython",
    "version": 3
   },
   "file_extension": ".py",
   "mimetype": "text/x-python",
   "name": "python",
   "nbconvert_exporter": "python",
   "pygments_lexer": "ipython3",
   "version": "3.6.0"
  }
 },
 "nbformat": 4,
 "nbformat_minor": 2
}
