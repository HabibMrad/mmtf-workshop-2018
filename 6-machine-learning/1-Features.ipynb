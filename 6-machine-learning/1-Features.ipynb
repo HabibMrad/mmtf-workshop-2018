{
 "cells": [
  {
   "cell_type": "markdown",
   "metadata": {},
   "source": [
    "# Machine learning - Features extraction\n",
    "\n",
    "Demo to create a feature vector for protein fold classification. \n",
    "In this demo we try to classify a protein chain as either an all alpha or all beta protein based on protein sequence. We use n-grams and a Word2Vec representation of the protein sequence as a feature vector.\n",
    "\n",
    "[Word2Vec model](https://spark.apache.org/docs/latest/mllib-feature-extraction.html#word2vec)\n",
    "\n",
    "[Word2Vec example](https://spark.apache.org/docs/latest/ml-features.html#word2vec)\n",
    "\n",
    "## Imports"
   ]
  },
  {
   "cell_type": "code",
   "execution_count": 35,
   "metadata": {},
   "outputs": [],
   "source": [
    "from pyspark import SparkConf, SparkContext, SQLContext\n",
    "from pyspark.sql import SparkSession\n",
    "from pyspark.sql.functions import *\n",
    "from pyspark.sql.types import *\n",
    "from mmtfPyspark.io import mmtfReader\n",
    "from mmtfPyspark.webFilters import Pisces\n",
    "from mmtfPyspark.filters import ContainsLProteinChain\n",
    "from mmtfPyspark.mappers import StructureToPolymerChains\n",
    "from mmtfPyspark.datasets import secondaryStructureExtractor\n",
    "from mmtfPyspark.ml import ProteinSequenceEncoder"
   ]
  },
  {
   "cell_type": "markdown",
   "metadata": {},
   "source": [
    "## Configure Spark Context"
   ]
  },
  {
   "cell_type": "code",
   "execution_count": 36,
   "metadata": {},
   "outputs": [],
   "source": [
    "conf = SparkConf() \\\n",
    "            .setMaster(\"local[*]\") \\\n",
    "            .setAppName(\"MachineLearningFeaturesExtractionDemo\")\n",
    "\n",
    "sc = SparkContext(conf = conf)"
   ]
  },
  {
   "cell_type": "markdown",
   "metadata": {},
   "source": [
    "## Read MMTF File and create a non-redundant set (<=40% seq. identity) of L-protein clains"
   ]
  },
  {
   "cell_type": "code",
   "execution_count": 37,
   "metadata": {},
   "outputs": [],
   "source": [
    "pdb = mmtfReader.read_sequence_file('../../resources/mmtf_reduced_sample/', sc) \\\n",
    "                .flatMap(StructureToPolymerChains()) \\\n",
    "                .filter(Pisces(sequenceIdentity=40,resolution=3.0))"
   ]
  },
  {
   "cell_type": "markdown",
   "metadata": {},
   "source": [
    "## Get secondary structure content"
   ]
  },
  {
   "cell_type": "code",
   "execution_count": 38,
   "metadata": {},
   "outputs": [],
   "source": [
    "data = secondaryStructureExtractor.get_dataset(pdb)"
   ]
  },
  {
   "cell_type": "markdown",
   "metadata": {},
   "source": [
    "## Define addProteinFoldType function"
   ]
  },
  {
   "cell_type": "code",
   "execution_count": 39,
   "metadata": {},
   "outputs": [],
   "source": [
    "def add_protein_fold_type(data, minThreshold, maxThreshold):\n",
    "    '''\n",
    "    Adds a column \"foldType\" with three major secondary structure class:\n",
    "    \"alpha\", \"beta\", \"alpha+beta\", and \"other\" based upon the fraction of alpha/beta content.\n",
    "\n",
    "    The simplified syntax used in this method relies on two imports:\n",
    "        from pyspark.sql.functions import when\n",
    "        from pyspark.sql.functions import col\n",
    "\n",
    "    Attributes:\n",
    "        data (Dataset<Row>): input dataset with alpha, beta composition\n",
    "        minThreshold (float): below this threshold, the secondary structure is ignored\n",
    "        maxThreshold (float): above this threshold, the secondary structure is ignored\n",
    "    '''\n",
    "\n",
    "    return data.withColumn(\"foldType\", \\\n",
    "                           when((col(\"alpha\") > maxThreshold) & (col(\"beta\") < minThreshold), \"alpha\"). \\\n",
    "                           when((col(\"beta\") > maxThreshold) & (col(\"alpha\") < minThreshold), \"beta\"). \\\n",
    "                           when((col(\"alpha\") > maxThreshold) & (col(\"beta\") > minThreshold), \"alpha+beta\"). \\\n",
    "                           otherwise(\"other\")\\\n",
    "                           )"
   ]
  },
  {
   "cell_type": "markdown",
   "metadata": {},
   "source": [
    "## Classify chains by secondary structure type"
   ]
  },
  {
   "cell_type": "code",
   "execution_count": 40,
   "metadata": {},
   "outputs": [],
   "source": [
    "data = add_protein_fold_type(data, minThreshold=0.05, maxThreshold=0.15)"
   ]
  },
  {
   "cell_type": "markdown",
   "metadata": {},
   "source": [
    "## Create a Word2Vec representation of the protein sequences\n",
    "\n",
    "**n = 2**     # create 2-grams \n",
    "\n",
    "**windowSize = 25**    # 25-amino residue window size for Word2Vector\n",
    "\n",
    "**vectorSize = 50**    # dimension of feature vector"
   ]
  },
  {
   "cell_type": "code",
   "execution_count": 41,
   "metadata": {},
   "outputs": [
    {
     "data": {
      "text/html": [
       "<div>\n",
       "<style scoped>\n",
       "    .dataframe tbody tr th:only-of-type {\n",
       "        vertical-align: middle;\n",
       "    }\n",
       "\n",
       "    .dataframe tbody tr th {\n",
       "        vertical-align: top;\n",
       "    }\n",
       "\n",
       "    .dataframe thead th {\n",
       "        text-align: right;\n",
       "    }\n",
       "</style>\n",
       "<table border=\"1\" class=\"dataframe\">\n",
       "  <thead>\n",
       "    <tr style=\"text-align: right;\">\n",
       "      <th></th>\n",
       "      <th>structureChainId</th>\n",
       "      <th>sequence</th>\n",
       "      <th>alpha</th>\n",
       "      <th>beta</th>\n",
       "      <th>coil</th>\n",
       "      <th>dsspQ8Code</th>\n",
       "      <th>dsspQ3Code</th>\n",
       "      <th>foldType</th>\n",
       "      <th>ngram</th>\n",
       "      <th>features</th>\n",
       "    </tr>\n",
       "  </thead>\n",
       "  <tbody>\n",
       "    <tr>\n",
       "      <th>0</th>\n",
       "      <td>1RCQ.A</td>\n",
       "      <td>MRPARALIDLQALRHNYRLAREATGARALAVIKADAYGHGAVRCAE...</td>\n",
       "      <td>0.316527</td>\n",
       "      <td>0.240896</td>\n",
       "      <td>0.442577</td>\n",
       "      <td>CCCCEEEEEHHHHHHHHHHHHHHHCSEEEEECHHHHHTTCHHHHHH...</td>\n",
       "      <td>CCCCEEEEEHHHHHHHHHHHHHHHCCEEEEECHHHHHCCCHHHHHH...</td>\n",
       "      <td>alpha+beta</td>\n",
       "      <td>[MR, RP, PA, AR, RA, AL, LI, ID, DL, LQ, QA, A...</td>\n",
       "      <td>[-0.4455247169773858, -0.05284532651127306, -0...</td>\n",
       "    </tr>\n",
       "    <tr>\n",
       "      <th>1</th>\n",
       "      <td>1REG.Y</td>\n",
       "      <td>MIEITLKKPEDFLKVKETLTRMGIANNKDKVLYQSCHILQKKGLYY...</td>\n",
       "      <td>0.308333</td>\n",
       "      <td>0.291667</td>\n",
       "      <td>0.400000</td>\n",
       "      <td>CEEEECSSGGHHHHHHHHHTTEEEEETTTTEEEECEEEEEETTEEE...</td>\n",
       "      <td>CEEEECCCHHHHHHHHHHHCCEEEEECCCCEEEECEEEEEECCEEE...</td>\n",
       "      <td>alpha+beta</td>\n",
       "      <td>[MI, IE, EI, IT, TL, LK, KK, KP, PE, ED, DF, F...</td>\n",
       "      <td>[-0.2694746898564179, 0.3966265844165786, 0.05...</td>\n",
       "    </tr>\n",
       "    <tr>\n",
       "      <th>2</th>\n",
       "      <td>1REQ.B</td>\n",
       "      <td>SSTDQGTNPADTDDLTPTTLSLAGDFPKATEEQWEREVEKVLNRGR...</td>\n",
       "      <td>0.470113</td>\n",
       "      <td>0.121163</td>\n",
       "      <td>0.408724</td>\n",
       "      <td>XXXXXXXXXXXXXXXXXXCCCSGGGSCCCCHHHHHHHHHHHHHTTC...</td>\n",
       "      <td>XXXXXXXXXXXXXXXXXXCCCCHHHCCCCCHHHHHHHHHHHHHCCC...</td>\n",
       "      <td>alpha+beta</td>\n",
       "      <td>[SS, ST, TD, DQ, QG, GT, TN, NP, PA, AD, DT, T...</td>\n",
       "      <td>[-0.4618564432899837, 0.19905433491159397, -0....</td>\n",
       "    </tr>\n",
       "    <tr>\n",
       "      <th>3</th>\n",
       "      <td>1RFE.A</td>\n",
       "      <td>GTKQRADIVMSEAEIADFVNSSRTGTLATIGPDGQPHLTAMWYAVI...</td>\n",
       "      <td>0.312500</td>\n",
       "      <td>0.356250</td>\n",
       "      <td>0.331250</td>\n",
       "      <td>XCCCCTTTCCCHHHHHHHHHHCCCEEEEEECTTSCEEEEEECCEEE...</td>\n",
       "      <td>XCCCCCCCCCCHHHHHHHHHHCCCEEEEEECCCCCEEEEEECCEEE...</td>\n",
       "      <td>alpha+beta</td>\n",
       "      <td>[GT, TK, KQ, QR, RA, AD, DI, IV, VM, MS, SE, E...</td>\n",
       "      <td>[-0.3139253464695182, 0.2763726514046838, -0.0...</td>\n",
       "    </tr>\n",
       "    <tr>\n",
       "      <th>4</th>\n",
       "      <td>1RG8.B</td>\n",
       "      <td>HHHHHHFNLPPGNYKKPKLLYCSNGGHFLRILPDGTVDGTRDRSDQ...</td>\n",
       "      <td>0.063830</td>\n",
       "      <td>0.375887</td>\n",
       "      <td>0.560284</td>\n",
       "      <td>XXCCSCCCCCSCCSSSCEEEEETTTTEEEEECTTSCEEEESCTTCT...</td>\n",
       "      <td>XXCCCCCCCCCCCCCCCEEEEECCCCEEEEECCCCCEEEECCCCCC...</td>\n",
       "      <td>other</td>\n",
       "      <td>[HH, HH, HH, HH, HH, HF, FN, NL, LP, PP, PG, G...</td>\n",
       "      <td>[-0.4487889504381295, 0.1226459019656839, -0.0...</td>\n",
       "    </tr>\n",
       "  </tbody>\n",
       "</table>\n",
       "</div>"
      ],
      "text/plain": [
       "  structureChainId                                           sequence  \\\n",
       "0           1RCQ.A  MRPARALIDLQALRHNYRLAREATGARALAVIKADAYGHGAVRCAE...   \n",
       "1           1REG.Y  MIEITLKKPEDFLKVKETLTRMGIANNKDKVLYQSCHILQKKGLYY...   \n",
       "2           1REQ.B  SSTDQGTNPADTDDLTPTTLSLAGDFPKATEEQWEREVEKVLNRGR...   \n",
       "3           1RFE.A  GTKQRADIVMSEAEIADFVNSSRTGTLATIGPDGQPHLTAMWYAVI...   \n",
       "4           1RG8.B  HHHHHHFNLPPGNYKKPKLLYCSNGGHFLRILPDGTVDGTRDRSDQ...   \n",
       "\n",
       "      alpha      beta      coil  \\\n",
       "0  0.316527  0.240896  0.442577   \n",
       "1  0.308333  0.291667  0.400000   \n",
       "2  0.470113  0.121163  0.408724   \n",
       "3  0.312500  0.356250  0.331250   \n",
       "4  0.063830  0.375887  0.560284   \n",
       "\n",
       "                                          dsspQ8Code  \\\n",
       "0  CCCCEEEEEHHHHHHHHHHHHHHHCSEEEEECHHHHHTTCHHHHHH...   \n",
       "1  CEEEECSSGGHHHHHHHHHTTEEEEETTTTEEEECEEEEEETTEEE...   \n",
       "2  XXXXXXXXXXXXXXXXXXCCCSGGGSCCCCHHHHHHHHHHHHHTTC...   \n",
       "3  XCCCCTTTCCCHHHHHHHHHHCCCEEEEEECTTSCEEEEEECCEEE...   \n",
       "4  XXCCSCCCCCSCCSSSCEEEEETTTTEEEEECTTSCEEEESCTTCT...   \n",
       "\n",
       "                                          dsspQ3Code    foldType  \\\n",
       "0  CCCCEEEEEHHHHHHHHHHHHHHHCCEEEEECHHHHHCCCHHHHHH...  alpha+beta   \n",
       "1  CEEEECCCHHHHHHHHHHHCCEEEEECCCCEEEECEEEEEECCEEE...  alpha+beta   \n",
       "2  XXXXXXXXXXXXXXXXXXCCCCHHHCCCCCHHHHHHHHHHHHHCCC...  alpha+beta   \n",
       "3  XCCCCCCCCCCHHHHHHHHHHCCCEEEEEECCCCCEEEEEECCEEE...  alpha+beta   \n",
       "4  XXCCCCCCCCCCCCCCCEEEEECCCCEEEEECCCCCEEEECCCCCC...       other   \n",
       "\n",
       "                                               ngram  \\\n",
       "0  [MR, RP, PA, AR, RA, AL, LI, ID, DL, LQ, QA, A...   \n",
       "1  [MI, IE, EI, IT, TL, LK, KK, KP, PE, ED, DF, F...   \n",
       "2  [SS, ST, TD, DQ, QG, GT, TN, NP, PA, AD, DT, T...   \n",
       "3  [GT, TK, KQ, QR, RA, AD, DI, IV, VM, MS, SE, E...   \n",
       "4  [HH, HH, HH, HH, HH, HF, FN, NL, LP, PP, PG, G...   \n",
       "\n",
       "                                            features  \n",
       "0  [-0.4455247169773858, -0.05284532651127306, -0...  \n",
       "1  [-0.2694746898564179, 0.3966265844165786, 0.05...  \n",
       "2  [-0.4618564432899837, 0.19905433491159397, -0....  \n",
       "3  [-0.3139253464695182, 0.2763726514046838, -0.0...  \n",
       "4  [-0.4487889504381295, 0.1226459019656839, -0.0...  "
      ]
     },
     "execution_count": 41,
     "metadata": {},
     "output_type": "execute_result"
    }
   ],
   "source": [
    "encoder = ProteinSequenceEncoder(data)\n",
    "data = encoder.overlapping_ngram_word2vec_encode(n=2, windowSize=25, vectorSize=50).cache()\n",
    "\n",
    "data.toPandas().head(5)"
   ]
  },
  {
   "cell_type": "markdown",
   "metadata": {},
   "source": [
    "## Keep only a subset of relevant fields for further processing"
   ]
  },
  {
   "cell_type": "code",
   "execution_count": 42,
   "metadata": {},
   "outputs": [],
   "source": [
    "data = data.select(['structureChainId','alpha','beta','coil','foldType','features'])"
   ]
  },
  {
   "cell_type": "markdown",
   "metadata": {},
   "source": [
    "## Write to parquet file"
   ]
  },
  {
   "cell_type": "code",
   "execution_count": 43,
   "metadata": {},
   "outputs": [],
   "source": [
    "data.write.format('parquet').save('./features')"
   ]
  },
  {
   "cell_type": "markdown",
   "metadata": {},
   "source": [
    "## Terminate Spark"
   ]
  },
  {
   "cell_type": "code",
   "execution_count": 45,
   "metadata": {},
   "outputs": [],
   "source": [
    "sc.stop()"
   ]
  }
 ],
 "metadata": {
  "kernelspec": {
   "display_name": "Python 3",
   "language": "python",
   "name": "python3"
  },
  "language_info": {
   "codemirror_mode": {
    "name": "ipython",
    "version": 3
   },
   "file_extension": ".py",
   "mimetype": "text/x-python",
   "name": "python",
   "nbconvert_exporter": "python",
   "pygments_lexer": "ipython3",
   "version": "3.6.0"
  }
 },
 "nbformat": 4,
 "nbformat_minor": 2
}
