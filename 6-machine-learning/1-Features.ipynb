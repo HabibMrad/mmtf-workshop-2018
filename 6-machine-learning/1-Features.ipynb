{
 "cells": [
  {
   "cell_type": "markdown",
   "metadata": {},
   "source": [
    "# Machine learning - Features extraction\n",
    "\n",
    "Demo to create a feature vector for protein fold classification. \n",
    "In this demo we try to classify a protein chain as either an all alpha or all beta protein based on protein sequence. We use n-grams and a Word2Vec representation of the protein sequence as a feature vector.\n",
    "\n",
    "[Word2Vec model](https://spark.apache.org/docs/latest/mllib-feature-extraction.html#word2vec)\n",
    "\n",
    "[Word2Vec example](https://spark.apache.org/docs/latest/ml-features.html#word2vec)\n",
    "\n",
    "## Imports"
   ]
  },
  {
   "cell_type": "code",
   "execution_count": 12,
   "metadata": {},
   "outputs": [],
   "source": [
    "from pyspark import SparkConf, SparkContext, SQLContext\n",
    "from pyspark.sql import SparkSession\n",
    "from pyspark.sql.functions import *\n",
    "from pyspark.sql.types import *\n",
    "from mmtfPyspark.io import mmtfReader\n",
    "from mmtfPyspark.webFilters import Pisces\n",
    "from mmtfPyspark.filters import ContainsLProteinChain\n",
    "from mmtfPyspark.mappers import StructureToPolymerChains\n",
    "from mmtfPyspark.datasets import secondaryStructureExtractor\n",
    "from mmtfPyspark.ml import ProteinSequenceEncoder"
   ]
  },
  {
   "cell_type": "markdown",
   "metadata": {},
   "source": [
    "## Configure Spark Context"
   ]
  },
  {
   "cell_type": "code",
   "execution_count": 13,
   "metadata": {},
   "outputs": [],
   "source": [
    "conf = SparkConf() \\\n",
    "            .setMaster(\"local[*]\") \\\n",
    "            .setAppName(\"MachineLearningFeaturesExtractionDemo\")\n",
    "\n",
    "sc = SparkContext(conf = conf)"
   ]
  },
  {
   "cell_type": "markdown",
   "metadata": {},
   "source": [
    "## Read MMTF File and create a non-redundant set (<=40% seq. identity) of L-protein clains"
   ]
  },
  {
   "cell_type": "code",
   "execution_count": 14,
   "metadata": {},
   "outputs": [],
   "source": [
    "pdb = mmtfReader.read_sequence_file('../resouces/mmtf_reduced_sample/', sc) \\\n",
    "                .flatMap(StructureToPolymerChains()) \\\n",
    "                .filter(Pisces(sequenceIdentity=40,resolution=3.0))"
   ]
  },
  {
   "cell_type": "markdown",
   "metadata": {},
   "source": [
    "## Get secondary structure content"
   ]
  },
  {
   "cell_type": "code",
   "execution_count": 15,
   "metadata": {},
   "outputs": [],
   "source": [
    "data = secondaryStructureExtractor.get_dataset(pdb)"
   ]
  },
  {
   "cell_type": "markdown",
   "metadata": {},
   "source": [
    "## Define addProteinFoldType function"
   ]
  },
  {
   "cell_type": "code",
   "execution_count": 16,
   "metadata": {},
   "outputs": [],
   "source": [
    "def add_protein_fold_type(data, minThreshold, maxThreshold):\n",
    "    '''\n",
    "    Adds a column \"foldType\" with three major secondary structure class:\n",
    "    \"alpha\", \"beta\", \"alpha+beta\", and \"other\" based upon the fraction of alpha/beta content.\n",
    "\n",
    "    The simplified syntax used in this method relies on two imports:\n",
    "        from pyspark.sql.functions import when\n",
    "        from pyspark.sql.functions import col\n",
    "\n",
    "    Attributes:\n",
    "        data (Dataset<Row>): input dataset with alpha, beta composition\n",
    "        minThreshold (float): below this threshold, the secondary structure is ignored\n",
    "        maxThreshold (float): above this threshold, the secondary structure is ignored\n",
    "    '''\n",
    "\n",
    "    return data.withColumn(\"foldType\", \\\n",
    "                           when((col(\"alpha\") > maxThreshold) & (col(\"beta\") < minThreshold), \"alpha\"). \\\n",
    "                           when((col(\"beta\") > maxThreshold) & (col(\"alpha\") < minThreshold), \"beta\"). \\\n",
    "                           when((col(\"alpha\") > maxThreshold) & (col(\"beta\") > minThreshold), \"alpha+beta\"). \\\n",
    "                           otherwise(\"other\")\\\n",
    "                           )"
   ]
  },
  {
   "cell_type": "markdown",
   "metadata": {},
   "source": [
    "## Classify chains by secondary structure type"
   ]
  },
  {
   "cell_type": "code",
   "execution_count": 17,
   "metadata": {},
   "outputs": [],
   "source": [
    "data = add_protein_fold_type(data, minThreshold=0.05, maxThreshold=0.15)"
   ]
  },
  {
   "cell_type": "markdown",
   "metadata": {},
   "source": [
    "## Create a Word2Vec representation of the protein sequences\n",
    "\n",
    "**n = 2**     # create 2-grams \n",
    "\n",
    "**windowSize = 25**    # 25-amino residue window size for Word2Vector\n",
    "\n",
    "**vectorSize = 50**    # dimension of feature vector"
   ]
  },
  {
   "cell_type": "code",
   "execution_count": 18,
   "metadata": {},
   "outputs": [
    {
     "data": {
      "text/html": [
       "<div>\n",
       "<style scoped>\n",
       "    .dataframe tbody tr th:only-of-type {\n",
       "        vertical-align: middle;\n",
       "    }\n",
       "\n",
       "    .dataframe tbody tr th {\n",
       "        vertical-align: top;\n",
       "    }\n",
       "\n",
       "    .dataframe thead th {\n",
       "        text-align: right;\n",
       "    }\n",
       "</style>\n",
       "<table border=\"1\" class=\"dataframe\">\n",
       "  <thead>\n",
       "    <tr style=\"text-align: right;\">\n",
       "      <th></th>\n",
       "      <th>structureChainId</th>\n",
       "      <th>sequence</th>\n",
       "      <th>alpha</th>\n",
       "      <th>beta</th>\n",
       "      <th>coil</th>\n",
       "      <th>dsspQ8Code</th>\n",
       "      <th>dsspQ3Code</th>\n",
       "      <th>foldType</th>\n",
       "      <th>ngram</th>\n",
       "      <th>features</th>\n",
       "    </tr>\n",
       "  </thead>\n",
       "  <tbody>\n",
       "    <tr>\n",
       "      <th>0</th>\n",
       "      <td>3F5B.A</td>\n",
       "      <td>SNAMMIKASTNEFRFCFKQMNKSQHELVLGWIHQPHINEWLHGDGL...</td>\n",
       "      <td>0.372093</td>\n",
       "      <td>0.319767</td>\n",
       "      <td>0.308140</td>\n",
       "      <td>XCTTCXXXXXXCCCEEEEECCGGGHHHHHHHTTSHHHHTTSCHHHH...</td>\n",
       "      <td>XCCCCXXXXXXCCCEEEEECCHHHHHHHHHHCCCHHHHCCCCHHHH...</td>\n",
       "      <td>alpha+beta</td>\n",
       "      <td>[SN, NA, AM, MM, MI, IK, KA, AS, ST, TN, NE, E...</td>\n",
       "      <td>[0.29378673649336423, -0.5251977472715286, 0.3...</td>\n",
       "    </tr>\n",
       "    <tr>\n",
       "      <th>1</th>\n",
       "      <td>3F5O.F</td>\n",
       "      <td>MTSMTQSLREVIKAMTKARNFERVLGKITLVSAAPGKVICEMKVEE...</td>\n",
       "      <td>0.282609</td>\n",
       "      <td>0.413043</td>\n",
       "      <td>0.304348</td>\n",
       "      <td>XCCHHHHHHHHHHHHHHCSSGGGGGTTCEEEEEETTEEEEEEECCG...</td>\n",
       "      <td>XCCHHHHHHHHHHHHHHCCCHHHHHCCCEEEEEECCEEEEEEECCH...</td>\n",
       "      <td>alpha+beta</td>\n",
       "      <td>[MT, TS, SM, MT, TQ, QS, SL, LR, RE, EV, VI, I...</td>\n",
       "      <td>[-0.08282158001750504, -0.5237155609643783, 0....</td>\n",
       "    </tr>\n",
       "    <tr>\n",
       "      <th>2</th>\n",
       "      <td>3F5R.A</td>\n",
       "      <td>MGSSHHHHHHSSGRENLYFQGMSTDFDRIYLNQSKFSGRFRIADSG...</td>\n",
       "      <td>0.194690</td>\n",
       "      <td>0.424779</td>\n",
       "      <td>0.380531</td>\n",
       "      <td>XXXXXXXXXXXXXXXXXXXCCSSEEEEEEEETTCSSCEEEEEETTE...</td>\n",
       "      <td>XXXXXXXXXXXXXXXXXXXCCCCEEEEEEEECCCCCCEEEEEECCE...</td>\n",
       "      <td>alpha+beta</td>\n",
       "      <td>[MG, GS, SS, SH, HH, HH, HH, HH, HH, HS, SS, S...</td>\n",
       "      <td>[-0.11817694425270402, -0.3900981570054826, 0....</td>\n",
       "    </tr>\n",
       "    <tr>\n",
       "      <th>3</th>\n",
       "      <td>3F62.A</td>\n",
       "      <td>GAMVETKCPNLDIVTSSGEFHCSGCVEHMPEFSYMYWLAKDMKSDE...</td>\n",
       "      <td>0.027778</td>\n",
       "      <td>0.527778</td>\n",
       "      <td>0.444444</td>\n",
       "      <td>CCCSCCCSCCCEEEEETTEEEEEEEECSSTTSCEEEEEEEETTSCC...</td>\n",
       "      <td>CCCCCCCCCCCEEEEECCEEEEEEEECCCCCCCEEEEEEEECCCCC...</td>\n",
       "      <td>beta</td>\n",
       "      <td>[GA, AM, MV, VE, ET, TK, KC, CP, PN, NL, LD, D...</td>\n",
       "      <td>[0.1076028709196382, -0.6029256812331301, 0.46...</td>\n",
       "    </tr>\n",
       "    <tr>\n",
       "      <th>4</th>\n",
       "      <td>3F67.A</td>\n",
       "      <td>SNAIIAGETSIPSQGENMPAYHARPKNADGPLPIVIVVQEIFGVHE...</td>\n",
       "      <td>0.358333</td>\n",
       "      <td>0.250000</td>\n",
       "      <td>0.391667</td>\n",
       "      <td>XCCEEEEEEEEEETTEEEEEEEEEETTCCSCEEEEEEECCTTCSCH...</td>\n",
       "      <td>XCCEEEEEEEEEECCEEEEEEEEEECCCCCCEEEEEEECCCCCCCH...</td>\n",
       "      <td>alpha+beta</td>\n",
       "      <td>[SN, NA, AI, II, IA, AG, GE, ET, TS, SI, IP, P...</td>\n",
       "      <td>[0.1345422140727654, -0.5889589260177066, 0.73...</td>\n",
       "    </tr>\n",
       "  </tbody>\n",
       "</table>\n",
       "</div>"
      ],
      "text/plain": [
       "  structureChainId                                           sequence  \\\n",
       "0           3F5B.A  SNAMMIKASTNEFRFCFKQMNKSQHELVLGWIHQPHINEWLHGDGL...   \n",
       "1           3F5O.F  MTSMTQSLREVIKAMTKARNFERVLGKITLVSAAPGKVICEMKVEE...   \n",
       "2           3F5R.A  MGSSHHHHHHSSGRENLYFQGMSTDFDRIYLNQSKFSGRFRIADSG...   \n",
       "3           3F62.A  GAMVETKCPNLDIVTSSGEFHCSGCVEHMPEFSYMYWLAKDMKSDE...   \n",
       "4           3F67.A  SNAIIAGETSIPSQGENMPAYHARPKNADGPLPIVIVVQEIFGVHE...   \n",
       "\n",
       "      alpha      beta      coil  \\\n",
       "0  0.372093  0.319767  0.308140   \n",
       "1  0.282609  0.413043  0.304348   \n",
       "2  0.194690  0.424779  0.380531   \n",
       "3  0.027778  0.527778  0.444444   \n",
       "4  0.358333  0.250000  0.391667   \n",
       "\n",
       "                                          dsspQ8Code  \\\n",
       "0  XCTTCXXXXXXCCCEEEEECCGGGHHHHHHHTTSHHHHTTSCHHHH...   \n",
       "1  XCCHHHHHHHHHHHHHHCSSGGGGGTTCEEEEEETTEEEEEEECCG...   \n",
       "2  XXXXXXXXXXXXXXXXXXXCCSSEEEEEEEETTCSSCEEEEEETTE...   \n",
       "3  CCCSCCCSCCCEEEEETTEEEEEEEECSSTTSCEEEEEEEETTSCC...   \n",
       "4  XCCEEEEEEEEEETTEEEEEEEEEETTCCSCEEEEEEECCTTCSCH...   \n",
       "\n",
       "                                          dsspQ3Code    foldType  \\\n",
       "0  XCCCCXXXXXXCCCEEEEECCHHHHHHHHHHCCCHHHHCCCCHHHH...  alpha+beta   \n",
       "1  XCCHHHHHHHHHHHHHHCCCHHHHHCCCEEEEEECCEEEEEEECCH...  alpha+beta   \n",
       "2  XXXXXXXXXXXXXXXXXXXCCCCEEEEEEEECCCCCCEEEEEECCE...  alpha+beta   \n",
       "3  CCCCCCCCCCCEEEEECCEEEEEEEECCCCCCCEEEEEEEECCCCC...        beta   \n",
       "4  XCCEEEEEEEEEECCEEEEEEEEEECCCCCCEEEEEEECCCCCCCH...  alpha+beta   \n",
       "\n",
       "                                               ngram  \\\n",
       "0  [SN, NA, AM, MM, MI, IK, KA, AS, ST, TN, NE, E...   \n",
       "1  [MT, TS, SM, MT, TQ, QS, SL, LR, RE, EV, VI, I...   \n",
       "2  [MG, GS, SS, SH, HH, HH, HH, HH, HH, HS, SS, S...   \n",
       "3  [GA, AM, MV, VE, ET, TK, KC, CP, PN, NL, LD, D...   \n",
       "4  [SN, NA, AI, II, IA, AG, GE, ET, TS, SI, IP, P...   \n",
       "\n",
       "                                            features  \n",
       "0  [0.29378673649336423, -0.5251977472715286, 0.3...  \n",
       "1  [-0.08282158001750504, -0.5237155609643783, 0....  \n",
       "2  [-0.11817694425270402, -0.3900981570054826, 0....  \n",
       "3  [0.1076028709196382, -0.6029256812331301, 0.46...  \n",
       "4  [0.1345422140727654, -0.5889589260177066, 0.73...  "
      ]
     },
     "execution_count": 18,
     "metadata": {},
     "output_type": "execute_result"
    }
   ],
   "source": [
    "encoder = ProteinSequenceEncoder(data)\n",
    "data = encoder.overlapping_ngram_word2vec_encode(n=2, windowSize=25, vectorSize=50).cache()\n",
    "\n",
    "data.toPandas().head(5)"
   ]
  },
  {
   "cell_type": "markdown",
   "metadata": {},
   "source": [
    "## Keep only a subset of relevant fields for further processing"
   ]
  },
  {
   "cell_type": "code",
   "execution_count": 19,
   "metadata": {},
   "outputs": [],
   "source": [
    "data = data.select(['structureChainId','alpha','beta','coil','foldType','features'])"
   ]
  },
  {
   "cell_type": "markdown",
   "metadata": {},
   "source": [
    "## Write to parquet file"
   ]
  },
  {
   "cell_type": "code",
   "execution_count": 22,
   "metadata": {},
   "outputs": [],
   "source": [
    "data.write.mode('overwrite').format('parquet').save('./features')"
   ]
  },
  {
   "cell_type": "markdown",
   "metadata": {},
   "source": [
    "## Terminate Spark"
   ]
  },
  {
   "cell_type": "code",
   "execution_count": 11,
   "metadata": {},
   "outputs": [],
   "source": [
    "sc.stop()"
   ]
  }
 ],
 "metadata": {
  "kernelspec": {
   "display_name": "Python 3",
   "language": "python",
   "name": "python3"
  },
  "language_info": {
   "codemirror_mode": {
    "name": "ipython",
    "version": 3
   },
   "file_extension": ".py",
   "mimetype": "text/x-python",
   "name": "python",
   "nbconvert_exporter": "python",
   "pygments_lexer": "ipython3",
   "version": "3.6.0"
  }
 },
 "nbformat": 4,
 "nbformat_minor": 2
}
