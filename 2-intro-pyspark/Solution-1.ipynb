{
 "cells": [
  {
   "cell_type": "markdown",
   "metadata": {},
   "source": [
    "# Tutorial-1: Introduction to PySpark\n",
    "\n",
    "## Import PySpark"
   ]
  },
  {
   "cell_type": "code",
   "execution_count": 1,
   "metadata": {},
   "outputs": [],
   "source": [
    "import pyspark"
   ]
  },
  {
   "cell_type": "markdown",
   "metadata": {},
   "source": [
    "## Import and initialize SparkContext"
   ]
  },
  {
   "cell_type": "code",
   "execution_count": 2,
   "metadata": {},
   "outputs": [],
   "source": [
    "from pyspark import SparkContext, SparkConf                                       \n",
    "from pyspark.sql import SparkSession\n",
    "\n",
    "## First option to initialize SparkContext ##\n",
    "# conf = SparkConf().setAppName(\"problem6\").setMaster(\"local[*]\") \n",
    "# sc = SparkContext(conf=conf) \n",
    "\n",
    "## Second option to initailzie Spark Context ##\n",
    "spark = SparkSession.builder.master(\"local[*]\").appName(\"problem1\").getOrCreate()\n",
    "sc = spark.sparkContext"
   ]
  },
  {
   "cell_type": "markdown",
   "metadata": {},
   "source": [
    "## Create Parallelized Collections"
   ]
  },
  {
   "cell_type": "code",
   "execution_count": 3,
   "metadata": {},
   "outputs": [
    {
     "data": {
      "text/plain": [
       "pyspark.rdd.RDD"
      ]
     },
     "execution_count": 3,
     "metadata": {},
     "output_type": "execute_result"
    }
   ],
   "source": [
    "data = [1, 2, 3, 4, 5]\n",
    "distData = sc.parallelize(data)\n",
    "\n",
    "type(distData)"
   ]
  },
  {
   "cell_type": "markdown",
   "metadata": {},
   "source": [
    "## TODO: Read external data file\n",
    "### Use SparkContext's textFile function to read in a text file"
   ]
  },
  {
   "cell_type": "code",
   "execution_count": 4,
   "metadata": {},
   "outputs": [
    {
     "name": "stdout",
     "output_type": "stream",
     "text": [
      "['zhu@icloud.com\\n', 'zhu@live.com\\n', 'anna@sbcglobal.net\\n', 'andrew@yahoo.ca\\n', 'andrew@gmail.com\\n', 'teddy@comcast.net\\n', 'teddy@live.com\\n', 'james@yahoo.ca\\n', 'james@msn.com\\n', 'leslie@optonline.net\\n', 'jaarnial@outlook.com\\n', 'leslie@hotmail.com\\n', 'teddy@yahoo.ca\\n', 'jeffcovey@outlook.com\\n', 'gator@live.com\\n', 'conteb@verizon.net\\n', 'aegreene@me.com\\n', 'nichoj@icloud.com\\n', 'andrew@hotmail.com\\n', 'kyle@att.net\\n', 'teddy@comcast.net\\n', 'kyle@yahoo.ca\\n', 'gator@msn.com\\n', 'albert@yahoo.com\\n', 'nichoj@verizon.net\\n', 'albert@yahoo.com\\n', 'albert@mac.com\\n', 'andrew@sbcglobal.net\\n', 'leslie@optonline.net\\n', 'kyle@msn.com\\n', 'anna@aol.com\\n', 'anna@msn.com\\n', 'adamk@yahoo.ca\\n']\n"
     ]
    },
    {
     "data": {
      "text/plain": [
       "pyspark.rdd.RDD"
      ]
     },
     "execution_count": 4,
     "metadata": {},
     "output_type": "execute_result"
    }
   ],
   "source": [
    "textFilePath = './emails.txt'\n",
    "print([e for e in open(textFilePath)])\n",
    "\n",
    "emails = sc.textFile(textFilePath)\n",
    "type(emails)"
   ]
  },
  {
   "cell_type": "markdown",
   "metadata": {},
   "source": [
    "## Generate a list of data, from 1 to 10"
   ]
  },
  {
   "cell_type": "code",
   "execution_count": 5,
   "metadata": {},
   "outputs": [
    {
     "name": "stdout",
     "output_type": "stream",
     "text": [
      "[1, 2, 3, 4, 5, 6, 7, 8, 9, 10]\n"
     ]
    }
   ],
   "source": [
    "data = list(range(1,11))\n",
    "print(data)"
   ]
  },
  {
   "cell_type": "markdown",
   "metadata": {},
   "source": [
    "## Parallelize the data with 2 partitions"
   ]
  },
  {
   "cell_type": "code",
   "execution_count": 6,
   "metadata": {},
   "outputs": [],
   "source": [
    "numbers = sc.parallelize(data,2)"
   ]
  },
  {
   "cell_type": "markdown",
   "metadata": {},
   "source": [
    "## Get only even numbers, and collect them"
   ]
  },
  {
   "cell_type": "code",
   "execution_count": 7,
   "metadata": {},
   "outputs": [
    {
     "data": {
      "text/plain": [
       "[2, 4, 6, 8, 10]"
      ]
     },
     "execution_count": 7,
     "metadata": {},
     "output_type": "execute_result"
    }
   ],
   "source": [
    "numbers.filter(lambda x: x % 2 == 0).collect()"
   ]
  },
  {
   "cell_type": "markdown",
   "metadata": {},
   "source": [
    "## TODO: find emails with hotmail domain"
   ]
  },
  {
   "cell_type": "code",
   "execution_count": 8,
   "metadata": {},
   "outputs": [
    {
     "data": {
      "text/plain": [
       "['leslie@hotmail.com', 'andrew@hotmail.com']"
      ]
     },
     "execution_count": 8,
     "metadata": {},
     "output_type": "execute_result"
    }
   ],
   "source": [
    "emails.filter(lambda e: '@hotmail' in e).collect()"
   ]
  },
  {
   "cell_type": "markdown",
   "metadata": {},
   "source": [
    "## Square all the numbers in the list using the map operation"
   ]
  },
  {
   "cell_type": "code",
   "execution_count": 9,
   "metadata": {},
   "outputs": [
    {
     "data": {
      "text/plain": [
       "[2, 4, 6, 8, 10, 12, 14, 16, 18, 20]"
      ]
     },
     "execution_count": 9,
     "metadata": {},
     "output_type": "execute_result"
    }
   ],
   "source": [
    "numbers.map(lambda x: x*2).collect()"
   ]
  },
  {
   "cell_type": "markdown",
   "metadata": {},
   "source": [
    "## Use flatMap to apply a function that returns a list and flatten the result"
   ]
  },
  {
   "cell_type": "code",
   "execution_count": 10,
   "metadata": {},
   "outputs": [
    {
     "name": "stdout",
     "output_type": "stream",
     "text": [
      "[[1, 1], [4, 8], [9, 27], [16, 64], [25, 125], [36, 216], [49, 343], [64, 512], [81, 729], [100, 1000]]\n",
      "[1, 1, 4, 8, 9, 27, 16, 64, 25, 125, 36, 216, 49, 343, 64, 512, 81, 729, 100, 1000]\n"
     ]
    }
   ],
   "source": [
    "m = numbers.map(lambda x: [x**2, x**3]).collect()\n",
    "\n",
    "fm = numbers.flatMap(lambda x: [x**2, x**3]).collect()\n",
    "\n",
    "print(m)\n",
    "print(fm)"
   ]
  },
  {
   "cell_type": "markdown",
   "metadata": {},
   "source": [
    "## TODO: seperate username and domain from all emails\n",
    "\n",
    "### eg: marshuang80@gmail.com  ->  [marshuang80, gmail.com]"
   ]
  },
  {
   "cell_type": "code",
   "execution_count": 11,
   "metadata": {
    "scrolled": true
   },
   "outputs": [
    {
     "data": {
      "text/plain": [
       "[['zhu', 'icloud.com'],\n",
       " ['zhu', 'live.com'],\n",
       " ['anna', 'sbcglobal.net'],\n",
       " ['andrew', 'yahoo.ca'],\n",
       " ['andrew', 'gmail.com'],\n",
       " ['teddy', 'comcast.net'],\n",
       " ['teddy', 'live.com'],\n",
       " ['james', 'yahoo.ca'],\n",
       " ['james', 'msn.com'],\n",
       " ['leslie', 'optonline.net'],\n",
       " ['jaarnial', 'outlook.com'],\n",
       " ['leslie', 'hotmail.com'],\n",
       " ['teddy', 'yahoo.ca'],\n",
       " ['jeffcovey', 'outlook.com'],\n",
       " ['gator', 'live.com'],\n",
       " ['conteb', 'verizon.net'],\n",
       " ['aegreene', 'me.com'],\n",
       " ['nichoj', 'icloud.com'],\n",
       " ['andrew', 'hotmail.com'],\n",
       " ['kyle', 'att.net'],\n",
       " ['teddy', 'comcast.net'],\n",
       " ['kyle', 'yahoo.ca'],\n",
       " ['gator', 'msn.com'],\n",
       " ['albert', 'yahoo.com'],\n",
       " ['nichoj', 'verizon.net'],\n",
       " ['albert', 'yahoo.com'],\n",
       " ['albert', 'mac.com'],\n",
       " ['andrew', 'sbcglobal.net'],\n",
       " ['leslie', 'optonline.net'],\n",
       " ['kyle', 'msn.com'],\n",
       " ['anna', 'aol.com'],\n",
       " ['anna', 'msn.com'],\n",
       " ['adamk', 'yahoo.ca']]"
      ]
     },
     "execution_count": 11,
     "metadata": {},
     "output_type": "execute_result"
    }
   ],
   "source": [
    "# Hint use the pyhton split() function\n",
    "username_domain = emails.map(lambda x: x.split('@'))\n",
    "username_domain.collect()"
   ]
  },
  {
   "cell_type": "markdown",
   "metadata": {},
   "source": [
    "## Reduce by key"
   ]
  },
  {
   "cell_type": "code",
   "execution_count": 12,
   "metadata": {},
   "outputs": [
    {
     "data": {
      "text/plain": [
       "[('a', 3), ('b', 5)]"
      ]
     },
     "execution_count": 12,
     "metadata": {},
     "output_type": "execute_result"
    }
   ],
   "source": [
    "data = [\"a\", \"b\", \"a\", \"a\", \"b\", \"b\", \"b\", \"b\"]\n",
    "rdd = sc.parallelize(data)\n",
    "\n",
    "pairRDD = rdd.map(lambda x: (x, 1))\n",
    "\n",
    "pairRDD.reduceByKey(lambda x,y: x+y).collect()"
   ]
  },
  {
   "cell_type": "markdown",
   "metadata": {},
   "source": [
    "## TODO: count the number of domains with the same username"
   ]
  },
  {
   "cell_type": "code",
   "execution_count": 13,
   "metadata": {},
   "outputs": [
    {
     "name": "stdout",
     "output_type": "stream",
     "text": [
      "** Results from mapping values to list\n",
      "[('zhu', 1), ('zhu', 1), ('teddy', 1)]\n",
      "\n",
      "** Results from reduceByKey ** \n"
     ]
    },
    {
     "data": {
      "text/plain": [
       "[('anna', 3),\n",
       " ('andrew', 4),\n",
       " ('james', 2),\n",
       " ('leslie', 3),\n",
       " ('jeffcovey', 1),\n",
       " ('gator', 2),\n",
       " ('aegreene', 1),\n",
       " ('nichoj', 2),\n",
       " ('adamk', 1),\n",
       " ('zhu', 2),\n",
       " ('teddy', 4),\n",
       " ('jaarnial', 1),\n",
       " ('conteb', 1),\n",
       " ('kyle', 3),\n",
       " ('albert', 3)]"
      ]
     },
     "execution_count": 13,
     "metadata": {},
     "output_type": "execute_result"
    }
   ],
   "source": [
    "# do another mapping operation to make all domains in a list\n",
    "username_domain = username_domain.map(lambda x: (x[0],1))\n",
    "print(\"** Results from mapping values to list\")\n",
    "print(username_domain.top(3))\n",
    "\n",
    "# joing lists with '+', e,g: [a,b] + [c,d,e] = [a,b,c,d,e]\n",
    "print(\"\\n** Results from reduceByKey ** \")\n",
    "username_domain.reduceByKey(lambda val1, val2: val1 + val2).collect()"
   ]
  },
  {
   "cell_type": "markdown",
   "metadata": {},
   "source": [
    "# PySpark Dataframes\n",
    "\n",
    "## Read in a csv file"
   ]
  },
  {
   "cell_type": "code",
   "execution_count": 14,
   "metadata": {},
   "outputs": [
    {
     "name": "stdout",
     "output_type": "stream",
     "text": [
      "root\n",
      " |-- YEAR: string (nullable = true)\n",
      " |-- Make: string (nullable = true)\n",
      " |-- Model: string (nullable = true)\n",
      " |-- Size: string (nullable = true)\n",
      " |-- (kW): string (nullable = true)\n",
      "\n"
     ]
    }
   ],
   "source": [
    "df = spark.read.csv(\"./cars.csv\", header = True)\n",
    "\n",
    "df.printSchema()"
   ]
  },
  {
   "cell_type": "markdown",
   "metadata": {},
   "source": [
    "## Show samples from dataframe"
   ]
  },
  {
   "cell_type": "code",
   "execution_count": 15,
   "metadata": {},
   "outputs": [
    {
     "name": "stdout",
     "output_type": "stream",
     "text": [
      "+----+----------+--------------------+----------+----+\n",
      "|YEAR|      Make|               Model|      Size|(kW)|\n",
      "+----+----------+--------------------+----------+----+\n",
      "|2012|MITSUBISHI|              i-MiEV|SUBCOMPACT|  49|\n",
      "|2012|    NISSAN|                LEAF|  MID-SIZE|  80|\n",
      "|2013|      FORD|      FOCUS ELECTRIC|   COMPACT| 107|\n",
      "|2013|MITSUBISHI|              i-MiEV|SUBCOMPACT|  49|\n",
      "|2013|    NISSAN|                LEAF|  MID-SIZE|  80|\n",
      "|2013|     SMART|FORTWO ELECTRIC D...|TWO-SEATER|  35|\n",
      "|2013|     SMART|FORTWO ELECTRIC D...|TWO-SEATER|  35|\n",
      "|2013|     TESLA|MODEL S (40 kWh b...| FULL-SIZE| 270|\n",
      "|2013|     TESLA|MODEL S (60 kWh b...| FULL-SIZE| 270|\n",
      "|2013|     TESLA|MODEL S (85 kWh b...| FULL-SIZE| 270|\n",
      "+----+----------+--------------------+----------+----+\n",
      "only showing top 10 rows\n",
      "\n"
     ]
    }
   ],
   "source": [
    "df.show(10)"
   ]
  },
  {
   "cell_type": "markdown",
   "metadata": {},
   "source": [
    "## Filter all cars made in 2015"
   ]
  },
  {
   "cell_type": "code",
   "execution_count": 16,
   "metadata": {},
   "outputs": [
    {
     "name": "stdout",
     "output_type": "stream",
     "text": [
      "+----+----------+--------------------+--------------------+----+\n",
      "|YEAR|      Make|               Model|                Size|(kW)|\n",
      "+----+----------+--------------------+--------------------+----+\n",
      "|2015|       BMW|                  i3|          SUBCOMPACT| 125|\n",
      "|2015| CHEVROLET|            SPARK EV|          SUBCOMPACT| 104|\n",
      "|2015|      FORD|      FOCUS ELECTRIC|             COMPACT| 107|\n",
      "|2015|       KIA|             SOUL EV|STATION WAGON - S...|  81|\n",
      "|2015|MITSUBISHI|              i-MiEV|          SUBCOMPACT|  49|\n",
      "|2015|    NISSAN|                LEAF|            MID-SIZE|  80|\n",
      "|2015|     SMART|FORTWO ELECTRIC D...|          TWO-SEATER|  35|\n",
      "|2015|     SMART|FORTWO ELECTRIC D...|          TWO-SEATER|  35|\n",
      "|2015|     TESLA|MODEL S (60 kWh b...|           FULL-SIZE| 283|\n",
      "|2015|     TESLA|MODEL S (70 kWh b...|           FULL-SIZE| 283|\n",
      "+----+----------+--------------------+--------------------+----+\n",
      "only showing top 10 rows\n",
      "\n"
     ]
    }
   ],
   "source": [
    "df_2015 = df.filter(df['YEAR'] == 2015).show(10)"
   ]
  },
  {
   "cell_type": "markdown",
   "metadata": {},
   "source": [
    "## Select columns Make, Model and Size"
   ]
  },
  {
   "cell_type": "code",
   "execution_count": 17,
   "metadata": {},
   "outputs": [
    {
     "name": "stdout",
     "output_type": "stream",
     "text": [
      "+----------+--------------------+----------+\n",
      "|      Make|               Model|      Size|\n",
      "+----------+--------------------+----------+\n",
      "|MITSUBISHI|              i-MiEV|SUBCOMPACT|\n",
      "|    NISSAN|                LEAF|  MID-SIZE|\n",
      "|      FORD|      FOCUS ELECTRIC|   COMPACT|\n",
      "|MITSUBISHI|              i-MiEV|SUBCOMPACT|\n",
      "|    NISSAN|                LEAF|  MID-SIZE|\n",
      "|     SMART|FORTWO ELECTRIC D...|TWO-SEATER|\n",
      "|     SMART|FORTWO ELECTRIC D...|TWO-SEATER|\n",
      "|     TESLA|MODEL S (40 kWh b...| FULL-SIZE|\n",
      "|     TESLA|MODEL S (60 kWh b...| FULL-SIZE|\n",
      "|     TESLA|MODEL S (85 kWh b...| FULL-SIZE|\n",
      "+----------+--------------------+----------+\n",
      "only showing top 10 rows\n",
      "\n"
     ]
    }
   ],
   "source": [
    "df.select(df['Make'], df['Model'], df['Size']).show(10)"
   ]
  },
  {
   "cell_type": "markdown",
   "metadata": {},
   "source": [
    "## Count manufacturer based on number of cars made"
   ]
  },
  {
   "cell_type": "code",
   "execution_count": 18,
   "metadata": {},
   "outputs": [
    {
     "name": "stdout",
     "output_type": "stream",
     "text": [
      "+----------+-----+\n",
      "|      Make|count|\n",
      "+----------+-----+\n",
      "|    NISSAN|    6|\n",
      "|      FORD|    4|\n",
      "| CHEVROLET|    3|\n",
      "|     TESLA|   23|\n",
      "|       BMW|    2|\n",
      "|       KIA|    2|\n",
      "|     SMART|    8|\n",
      "|MITSUBISHI|    5|\n",
      "+----------+-----+\n",
      "\n"
     ]
    }
   ],
   "source": [
    "df_manufacturer = df.groupBy(\"Make\").count()\n",
    "\n",
    "df_manufacturer.show()"
   ]
  },
  {
   "cell_type": "markdown",
   "metadata": {},
   "source": [
    "## Sort manufacturer based on count of cars made"
   ]
  },
  {
   "cell_type": "code",
   "execution_count": 19,
   "metadata": {},
   "outputs": [
    {
     "name": "stdout",
     "output_type": "stream",
     "text": [
      "+----------+-----+\n",
      "|      Make|count|\n",
      "+----------+-----+\n",
      "|     TESLA|   23|\n",
      "|     SMART|    8|\n",
      "|    NISSAN|    6|\n",
      "|MITSUBISHI|    5|\n",
      "|      FORD|    4|\n",
      "| CHEVROLET|    3|\n",
      "|       KIA|    2|\n",
      "|       BMW|    2|\n",
      "+----------+-----+\n",
      "\n"
     ]
    }
   ],
   "source": [
    "df_manufacturer.sort(\"count\", ascending=False).show()"
   ]
  },
  {
   "cell_type": "markdown",
   "metadata": {},
   "source": [
    "## Convert Spark DataFrame to Pandas DataFrame"
   ]
  },
  {
   "cell_type": "code",
   "execution_count": 20,
   "metadata": {},
   "outputs": [
    {
     "data": {
      "text/html": [
       "<div>\n",
       "<style scoped>\n",
       "    .dataframe tbody tr th:only-of-type {\n",
       "        vertical-align: middle;\n",
       "    }\n",
       "\n",
       "    .dataframe tbody tr th {\n",
       "        vertical-align: top;\n",
       "    }\n",
       "\n",
       "    .dataframe thead th {\n",
       "        text-align: right;\n",
       "    }\n",
       "</style>\n",
       "<table border=\"1\" class=\"dataframe\">\n",
       "  <thead>\n",
       "    <tr style=\"text-align: right;\">\n",
       "      <th></th>\n",
       "      <th>YEAR</th>\n",
       "      <th>Make</th>\n",
       "      <th>Model</th>\n",
       "      <th>Size</th>\n",
       "      <th>(kW)</th>\n",
       "    </tr>\n",
       "  </thead>\n",
       "  <tbody>\n",
       "    <tr>\n",
       "      <th>0</th>\n",
       "      <td>2012</td>\n",
       "      <td>MITSUBISHI</td>\n",
       "      <td>i-MiEV</td>\n",
       "      <td>SUBCOMPACT</td>\n",
       "      <td>49</td>\n",
       "    </tr>\n",
       "    <tr>\n",
       "      <th>1</th>\n",
       "      <td>2012</td>\n",
       "      <td>NISSAN</td>\n",
       "      <td>LEAF</td>\n",
       "      <td>MID-SIZE</td>\n",
       "      <td>80</td>\n",
       "    </tr>\n",
       "    <tr>\n",
       "      <th>2</th>\n",
       "      <td>2013</td>\n",
       "      <td>FORD</td>\n",
       "      <td>FOCUS ELECTRIC</td>\n",
       "      <td>COMPACT</td>\n",
       "      <td>107</td>\n",
       "    </tr>\n",
       "    <tr>\n",
       "      <th>3</th>\n",
       "      <td>2013</td>\n",
       "      <td>MITSUBISHI</td>\n",
       "      <td>i-MiEV</td>\n",
       "      <td>SUBCOMPACT</td>\n",
       "      <td>49</td>\n",
       "    </tr>\n",
       "    <tr>\n",
       "      <th>4</th>\n",
       "      <td>2013</td>\n",
       "      <td>NISSAN</td>\n",
       "      <td>LEAF</td>\n",
       "      <td>MID-SIZE</td>\n",
       "      <td>80</td>\n",
       "    </tr>\n",
       "    <tr>\n",
       "      <th>5</th>\n",
       "      <td>2013</td>\n",
       "      <td>SMART</td>\n",
       "      <td>FORTWO ELECTRIC DRIVE CABRIOLET</td>\n",
       "      <td>TWO-SEATER</td>\n",
       "      <td>35</td>\n",
       "    </tr>\n",
       "    <tr>\n",
       "      <th>6</th>\n",
       "      <td>2013</td>\n",
       "      <td>SMART</td>\n",
       "      <td>FORTWO ELECTRIC DRIVE COUPE</td>\n",
       "      <td>TWO-SEATER</td>\n",
       "      <td>35</td>\n",
       "    </tr>\n",
       "    <tr>\n",
       "      <th>7</th>\n",
       "      <td>2013</td>\n",
       "      <td>TESLA</td>\n",
       "      <td>MODEL S (40 kWh battery)</td>\n",
       "      <td>FULL-SIZE</td>\n",
       "      <td>270</td>\n",
       "    </tr>\n",
       "    <tr>\n",
       "      <th>8</th>\n",
       "      <td>2013</td>\n",
       "      <td>TESLA</td>\n",
       "      <td>MODEL S (60 kWh battery)</td>\n",
       "      <td>FULL-SIZE</td>\n",
       "      <td>270</td>\n",
       "    </tr>\n",
       "    <tr>\n",
       "      <th>9</th>\n",
       "      <td>2013</td>\n",
       "      <td>TESLA</td>\n",
       "      <td>MODEL S (85 kWh battery)</td>\n",
       "      <td>FULL-SIZE</td>\n",
       "      <td>270</td>\n",
       "    </tr>\n",
       "  </tbody>\n",
       "</table>\n",
       "</div>"
      ],
      "text/plain": [
       "   YEAR        Make                            Model        Size (kW)\n",
       "0  2012  MITSUBISHI                           i-MiEV  SUBCOMPACT   49\n",
       "1  2012      NISSAN                             LEAF    MID-SIZE   80\n",
       "2  2013        FORD                   FOCUS ELECTRIC     COMPACT  107\n",
       "3  2013  MITSUBISHI                           i-MiEV  SUBCOMPACT   49\n",
       "4  2013      NISSAN                             LEAF    MID-SIZE   80\n",
       "5  2013       SMART  FORTWO ELECTRIC DRIVE CABRIOLET  TWO-SEATER   35\n",
       "6  2013       SMART      FORTWO ELECTRIC DRIVE COUPE  TWO-SEATER   35\n",
       "7  2013       TESLA         MODEL S (40 kWh battery)   FULL-SIZE  270\n",
       "8  2013       TESLA         MODEL S (60 kWh battery)   FULL-SIZE  270\n",
       "9  2013       TESLA         MODEL S (85 kWh battery)   FULL-SIZE  270"
      ]
     },
     "execution_count": 20,
     "metadata": {},
     "output_type": "execute_result"
    }
   ],
   "source": [
    "df_pd = df.toPandas()\n",
    "\n",
    "df_pd.head(10)"
   ]
  },
  {
   "cell_type": "code",
   "execution_count": 21,
   "metadata": {},
   "outputs": [
    {
     "data": {
      "text/html": [
       "<div>\n",
       "<style scoped>\n",
       "    .dataframe tbody tr th:only-of-type {\n",
       "        vertical-align: middle;\n",
       "    }\n",
       "\n",
       "    .dataframe tbody tr th {\n",
       "        vertical-align: top;\n",
       "    }\n",
       "\n",
       "    .dataframe thead th {\n",
       "        text-align: right;\n",
       "    }\n",
       "</style>\n",
       "<table border=\"1\" class=\"dataframe\">\n",
       "  <thead>\n",
       "    <tr style=\"text-align: right;\">\n",
       "      <th></th>\n",
       "      <th>YEAR</th>\n",
       "      <th>Make</th>\n",
       "      <th>Model</th>\n",
       "      <th>Size</th>\n",
       "      <th>(kW)</th>\n",
       "    </tr>\n",
       "  </thead>\n",
       "  <tbody>\n",
       "    <tr>\n",
       "      <th>count</th>\n",
       "      <td>53</td>\n",
       "      <td>53</td>\n",
       "      <td>53</td>\n",
       "      <td>53</td>\n",
       "      <td>53</td>\n",
       "    </tr>\n",
       "    <tr>\n",
       "      <th>unique</th>\n",
       "      <td>5</td>\n",
       "      <td>8</td>\n",
       "      <td>23</td>\n",
       "      <td>7</td>\n",
       "      <td>15</td>\n",
       "    </tr>\n",
       "    <tr>\n",
       "      <th>top</th>\n",
       "      <td>2016</td>\n",
       "      <td>TESLA</td>\n",
       "      <td>i-MiEV</td>\n",
       "      <td>FULL-SIZE</td>\n",
       "      <td>35</td>\n",
       "    </tr>\n",
       "    <tr>\n",
       "      <th>freq</th>\n",
       "      <td>19</td>\n",
       "      <td>23</td>\n",
       "      <td>5</td>\n",
       "      <td>21</td>\n",
       "      <td>8</td>\n",
       "    </tr>\n",
       "  </tbody>\n",
       "</table>\n",
       "</div>"
      ],
      "text/plain": [
       "        YEAR   Make   Model       Size (kW)\n",
       "count     53     53      53         53   53\n",
       "unique     5      8      23          7   15\n",
       "top     2016  TESLA  i-MiEV  FULL-SIZE   35\n",
       "freq      19     23       5         21    8"
      ]
     },
     "execution_count": 21,
     "metadata": {},
     "output_type": "execute_result"
    }
   ],
   "source": [
    "df_pd.describe()"
   ]
  },
  {
   "cell_type": "code",
   "execution_count": 22,
   "metadata": {},
   "outputs": [],
   "source": [
    "sc.stop()"
   ]
  }
 ],
 "metadata": {
  "kernelspec": {
   "display_name": "Python 3",
   "language": "python",
   "name": "python3"
  },
  "language_info": {
   "codemirror_mode": {
    "name": "ipython",
    "version": 3
   },
   "file_extension": ".py",
   "mimetype": "text/x-python",
   "name": "python",
   "nbconvert_exporter": "python",
   "pygments_lexer": "ipython3",
   "version": "3.6.0"
  }
 },
 "nbformat": 4,
 "nbformat_minor": 2
}
