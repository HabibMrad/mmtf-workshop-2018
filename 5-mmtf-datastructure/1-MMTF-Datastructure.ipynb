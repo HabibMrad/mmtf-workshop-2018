{
 "cells": [
  {
   "cell_type": "markdown",
   "metadata": {},
   "source": [
    "# 1-MMTF-Datastructure\n",
    "This tutorial shows how to access data from the MMTF datastructure."
   ]
  },
  {
   "cell_type": "code",
   "execution_count": 1,
   "metadata": {},
   "outputs": [],
   "source": [
    "from pyspark.sql import SparkSession\n",
    "from mmtfPyspark.io import mmtfReader\n",
    "from mmtfPyspark.utils import traverseStructureHierarchy\n",
    "from mmtfPyspark import structureViewer"
   ]
  },
  {
   "cell_type": "markdown",
   "metadata": {},
   "source": [
    "#### Configure Spark"
   ]
  },
  {
   "cell_type": "code",
   "execution_count": 2,
   "metadata": {},
   "outputs": [],
   "source": [
    "spark = SparkSession.builder.appName(\"1-MMTF-Datastructure\").getOrCreate()"
   ]
  },
  {
   "cell_type": "markdown",
   "metadata": {},
   "source": [
    "### Download an example structure\n",
    "Here we download an HIV protease structure with a bound ligand (Nelfinavir)."
   ]
  },
  {
   "cell_type": "code",
   "execution_count": 3,
   "metadata": {},
   "outputs": [],
   "source": [
    "pdb = mmtfReader.download_full_mmtf_files([\"1OHR\"])"
   ]
  },
  {
   "cell_type": "markdown",
   "metadata": {},
   "source": [
    "Structures are represented as keyword-value pairs (tuples):\n",
    "* key: structure identifier (e.g., PDB ID)\n",
    "* value: MmtfStructure (structure data)\n",
    "\n",
    "In this case, we only have one structure, so we can use the first() method to extract the data."
   ]
  },
  {
   "cell_type": "code",
   "execution_count": 4,
   "metadata": {},
   "outputs": [],
   "source": [
    "pdb_id = pdb.keys().first()\n",
    "structure = pdb.values().first()"
   ]
  },
  {
   "cell_type": "code",
   "execution_count": 5,
   "metadata": {},
   "outputs": [
    {
     "data": {
      "application/vnd.jupyter.widget-view+json": {
       "model_id": "c500fac2ba2a4beda8fba74225f6e249",
       "version_major": 2,
       "version_minor": 0
      },
      "text/plain": [
       "interactive(children=(IntSlider(value=0, continuous_update=False, description='Structure', max=0), Output()), …"
      ]
     },
     "metadata": {},
     "output_type": "display_data"
    }
   ],
   "source": [
    "structureViewer.view_structure(pdb_id);"
   ]
  },
  {
   "cell_type": "markdown",
   "metadata": {},
   "source": [
    "### Access metadata\n",
    "traverseStructureHierachy provides methods to explore MMTF structures.\n",
    "[See code how to access these data](https://github.com/sbl-sdsc/mmtf-pyspark/blob/master/mmtfPyspark/utils/traverseStructureHierarchy.py#L50-L62)"
   ]
  },
  {
   "cell_type": "code",
   "execution_count": 6,
   "metadata": {
    "scrolled": true
   },
   "outputs": [
    {
     "name": "stdout",
     "output_type": "stream",
     "text": [
      "*** METADATA ***\n",
      "StructureId           : 1OHR\n",
      "Title                 : VIRACEPT (R) (NELFINAVIR MESYLATE, AG1343): A POTENT ORALLY BIOAVAILABLE INHIBITOR OF HIV-1 PROTEASE\n",
      "Deposition date       : 1997-09-27\n",
      "Release date          : 1998-12-09\n",
      "Experimental method(s): [X-RAY DIFFRACTION]\n",
      "Resolution            : 2.0999999046325684\n",
      "Rfree                 : None\n",
      "Rwork                 : 0.20000000298023224\n",
      "\n"
     ]
    }
   ],
   "source": [
    "traverseStructureHierarchy.print_metadata(structure)"
   ]
  },
  {
   "cell_type": "markdown",
   "metadata": {},
   "source": [
    "### Structural data\n",
    "[See code how to accesss these data](https://github.com/sbl-sdsc/mmtf-pyspark/blob/master/mmtfPyspark/utils/traverseStructureHierarchy.py#L87-L96)"
   ]
  },
  {
   "cell_type": "code",
   "execution_count": 7,
   "metadata": {
    "scrolled": false
   },
   "outputs": [
    {
     "name": "stdout",
     "output_type": "stream",
     "text": [
      "*** STRUCTURE DATA ***\n",
      "Number of models : 1\n",
      "Number of chains : 5\n",
      "Number of groups : 250\n",
      "Number of atoms : 1952\n",
      "Number of bonds : 1926\n",
      "\n"
     ]
    }
   ],
   "source": [
    "traverseStructureHierarchy.print_structure_data(structure)"
   ]
  },
  {
   "cell_type": "markdown",
   "metadata": {},
   "source": [
    "### Entity data\n",
    "Entities are the unique molecular components in a structure.\n",
    "\n",
    "This structure has one unique polymer (ASPARTYLPROTEASE), one non-polymer ligand, and water."
   ]
  },
  {
   "cell_type": "code",
   "execution_count": 8,
   "metadata": {
    "scrolled": true
   },
   "outputs": [
    {
     "name": "stdout",
     "output_type": "stream",
     "text": [
      "*** ENTITY DATA ***\n",
      "entity type            : 0 polymer\n",
      "entity description     : 0 ASPARTYLPROTEASE\n",
      "entity sequence        : 0 PQITLWQRPLVTIKIGGQLKEALLDTGADDTVLEEMSLPGRWKPKMIGGIGGFIKVRQYDQILIEICGHKAIGTVLVGPTPVNIIGRNLLTQIGCTLNF\n",
      "entity type            : 1 non-polymer\n",
      "entity description     : 1 2-[2-HYDROXY-3-(3-HYDROXY-2-METHYL-BENZOYLAMINO)-4-PHENYL SULFANYL-BUTYL]-DECAHYDRO-ISOQUINOLINE-3-CARBOXYLIC ACID TERT-BUTYLAMIDE\n",
      "entity sequence        : 1 \n",
      "entity type            : 2 water\n",
      "entity description     : 2 water\n",
      "entity sequence        : 2 \n",
      "\n",
      "\n"
     ]
    }
   ],
   "source": [
    "traverseStructureHierarchy.print_entity_info(structure)"
   ]
  },
  {
   "cell_type": "markdown",
   "metadata": {},
   "source": [
    "### Chain information\n",
    "[See code how to accesss these data](https://github.com/sbl-sdsc/mmtf-pyspark/blob/master/mmtfPyspark/utils/traverseStructureHierarchy.py#L98-L112)\n",
    "\n",
    "Note, the in [PDB file for this structure](https://files.rcsb.org/view/4hhb.pdb) you find chains A and B. These \"PDB\" chains are referred to by chainName in MMTF. Almost all operations in MMTF use the chainNames. \n",
    "\n",
    "However, in the MMTF data structures, chains are split into polymer, non-polymer, and water chains. For this structure, there are 5 chains: 2 protein chains (99 groups each), 1 non-polymer chain (1 ligand group), and two water chains (29, 22 water groups). These 5 chains are refered to by their chainIds (A,B,C,D,E)."
   ]
  },
  {
   "cell_type": "code",
   "execution_count": 9,
   "metadata": {
    "scrolled": true
   },
   "outputs": [
    {
     "name": "stdout",
     "output_type": "stream",
     "text": [
      "*** CHAIN DATA ***\n",
      "Number of chains: 5\n",
      "model: 1\n",
      "chainName: A, chainId: A, groups: 99\n",
      "chainName: B, chainId: B, groups: 99\n",
      "chainName: A, chainId: C, groups: 1\n",
      "chainName: A, chainId: D, groups: 29\n",
      "chainName: B, chainId: E, groups: 22\n",
      "\n"
     ]
    }
   ],
   "source": [
    "traverseStructureHierarchy.print_chain_info(structure)"
   ]
  },
  {
   "cell_type": "markdown",
   "metadata": {},
   "source": [
    "### Chain, entity, group, and atom information\n",
    "[See code how to accesss these data](https://github.com/sbl-sdsc/mmtf-pyspark/blob/master/mmtfPyspark/utils/traverseStructureHierarchy.py#L157-L225)\n",
    "\n",
    "In the data listed below, seq. index is the zero-based index of a specific group (residue) into the one-letter polymer sequence.\n",
    "\n",
    "DSSP secStruct. is the DSSP secondary structure annotation recalculated by BioJava's implementation of the DSSP method.\n",
    "\n",
    "* 5: PI_HELIX\n",
    "* S: BEND\n",
    "* H: ALPHA_HELIX\n",
    "* E: EXTENDED\n",
    "* G: THREE_TEN_HELIX\n",
    "* B: BRIDGE\n",
    "* T: TURN\n",
    "* C: COIL"
   ]
  },
  {
   "cell_type": "code",
   "execution_count": 10,
   "metadata": {},
   "outputs": [
    {
     "ename": "AttributeError",
     "evalue": "'MmtfStructure' object has no attribute 'set_alt_loc_list'",
     "output_type": "error",
     "traceback": [
      "\u001b[0;31m---------------------------------------------------------------------------\u001b[0m",
      "\u001b[0;31mAttributeError\u001b[0m                            Traceback (most recent call last)",
      "\u001b[0;32m<ipython-input-10-1f81e0794c00>\u001b[0m in \u001b[0;36m<module>\u001b[0;34m\u001b[0m\n\u001b[0;32m----> 1\u001b[0;31m \u001b[0mtraverseStructureHierarchy\u001b[0m\u001b[0;34m.\u001b[0m\u001b[0mprint_chain_group_info\u001b[0m\u001b[0;34m(\u001b[0m\u001b[0mstructure\u001b[0m\u001b[0;34m)\u001b[0m\u001b[0;34m\u001b[0m\u001b[0;34m\u001b[0m\u001b[0m\n\u001b[0m",
      "\u001b[0;32m/anaconda3/envs/mmtf-workshop-2018/lib/python3.7/site-packages/mmtfPyspark/utils/traverseStructureHierarchy.py\u001b[0m in \u001b[0;36mprint_chain_group_info\u001b[0;34m(structure)\u001b[0m\n\u001b[1;32m    124\u001b[0m \u001b[0;32mdef\u001b[0m \u001b[0mprint_chain_group_info\u001b[0m\u001b[0;34m(\u001b[0m\u001b[0mstructure\u001b[0m\u001b[0;34m)\u001b[0m\u001b[0;34m:\u001b[0m\u001b[0;34m\u001b[0m\u001b[0;34m\u001b[0m\u001b[0m\n\u001b[1;32m    125\u001b[0m     \u001b[0mstructure\u001b[0m \u001b[0;34m=\u001b[0m \u001b[0m_check_structure_or_tuple\u001b[0m\u001b[0;34m(\u001b[0m\u001b[0mstructure\u001b[0m\u001b[0;34m)\u001b[0m\u001b[0;34m\u001b[0m\u001b[0;34m\u001b[0m\u001b[0m\n\u001b[0;32m--> 126\u001b[0;31m     \u001b[0mstructure\u001b[0m \u001b[0;34m=\u001b[0m \u001b[0mstructure\u001b[0m\u001b[0;34m.\u001b[0m\u001b[0mset_alt_loc_list\u001b[0m\u001b[0;34m(\u001b[0m\u001b[0;34m)\u001b[0m\u001b[0;34m\u001b[0m\u001b[0;34m\u001b[0m\u001b[0m\n\u001b[0m\u001b[1;32m    127\u001b[0m \u001b[0;34m\u001b[0m\u001b[0m\n\u001b[1;32m    128\u001b[0m     \u001b[0mprint\u001b[0m\u001b[0;34m(\u001b[0m\u001b[0;34m\"*** CHAIN AND GROUP DATA ***\"\u001b[0m\u001b[0;34m)\u001b[0m\u001b[0;34m\u001b[0m\u001b[0;34m\u001b[0m\u001b[0m\n",
      "\u001b[0;31mAttributeError\u001b[0m: 'MmtfStructure' object has no attribute 'set_alt_loc_list'"
     ]
    }
   ],
   "source": [
    "traverseStructureHierarchy.print_chain_group_info(structure)"
   ]
  },
  {
   "cell_type": "code",
   "execution_count": null,
   "metadata": {
    "scrolled": false
   },
   "outputs": [],
   "source": [
    "traverseStructureHierarchy.print_chain_entity_group_atom_info(structure)"
   ]
  },
  {
   "cell_type": "markdown",
   "metadata": {},
   "source": [
    "### Crystallographic data"
   ]
  },
  {
   "cell_type": "code",
   "execution_count": null,
   "metadata": {
    "scrolled": true
   },
   "outputs": [],
   "source": [
    "traverseStructureHierarchy.print_crystallographic_data(structure)"
   ]
  },
  {
   "cell_type": "markdown",
   "metadata": {},
   "source": [
    "### Biologial assembly data\n",
    "In this case, the asymmetric unit (content of MMTF structure) corresponds to the biological assembly. The transformation matrix in this csae is the Unit matrix."
   ]
  },
  {
   "cell_type": "code",
   "execution_count": null,
   "metadata": {
    "scrolled": true
   },
   "outputs": [],
   "source": [
    "traverseStructureHierarchy.print_bioassembly_data(structure)"
   ]
  },
  {
   "cell_type": "code",
   "execution_count": null,
   "metadata": {},
   "outputs": [],
   "source": [
    "spark.stop()"
   ]
  }
 ],
 "metadata": {
  "kernelspec": {
   "display_name": "Python 3",
   "language": "python",
   "name": "python3"
  },
  "language_info": {
   "codemirror_mode": {
    "name": "ipython",
    "version": 3
   },
   "file_extension": ".py",
   "mimetype": "text/x-python",
   "name": "python",
   "nbconvert_exporter": "python",
   "pygments_lexer": "ipython3",
   "version": "3.7.3"
  }
 },
 "nbformat": 4,
 "nbformat_minor": 2
}
