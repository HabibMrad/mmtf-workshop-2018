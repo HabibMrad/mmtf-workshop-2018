{
 "cells": [
  {
   "cell_type": "markdown",
   "metadata": {},
   "source": [
    "# Mutations to Structure\n",
    "This tutorial shows how to retrieve the location of mutations on the human genome (grch37), map, and visualize the mutations onto 3D structure."
   ]
  },
  {
   "cell_type": "code",
   "execution_count": null,
   "metadata": {},
   "outputs": [],
   "source": [
    "from pyspark.sql import SparkSession\n",
    "from mmtfPyspark.datasets import g2sDataset, myVariantDataset\n",
    "import py3Dmol"
   ]
  },
  {
   "cell_type": "markdown",
   "metadata": {},
   "source": [
    "#### Configure Spark"
   ]
  },
  {
   "cell_type": "code",
   "execution_count": null,
   "metadata": {},
   "outputs": [],
   "source": [
    "spark = SparkSession.builder.master(\"local[*]\").appName(\"MutationsToStructure\").getOrCreate()"
   ]
  },
  {
   "cell_type": "markdown",
   "metadata": {},
   "source": [
    "## Find missense mutations for BRAF\n",
    "We use the [MyVariant.info web service](https://github.com/sbl-sdsc/mmtf-pyspark/blob/master/mmtfPyspark/datasets/myVariantDataset.py) to retrieve missense mutations that have been annotated as pathogenic in the ClinVar database.\n",
    "\n",
    "Here we retrieve mutations for BRAF using its UniProt ID."
   ]
  },
  {
   "cell_type": "code",
   "execution_count": null,
   "metadata": {
    "scrolled": true
   },
   "outputs": [],
   "source": [
    "uniprotIds = ['P15056']    # BRAF\n",
    "# query = \"clinvar.rcv.clinical_significance:pathogenic OR clinvar.rcv.clinical_significance:likely pathogenic\"\n",
    "\n",
    "query = \"clinvar.rcv.clinical_significance:pathogenic\"\n",
    "variants = myVariantDataset.get_variations(uniprotIds, query).cache()\n",
    "variants.toPandas().head(10)"
   ]
  },
  {
   "cell_type": "markdown",
   "metadata": {},
   "source": [
    "#### Extract list of variant ids from dataset"
   ]
  },
  {
   "cell_type": "code",
   "execution_count": null,
   "metadata": {
    "scrolled": true
   },
   "outputs": [],
   "source": [
    "variant_ids = variants.select(\"variationId\").rdd.flatMap(lambda x: x).collect()"
   ]
  },
  {
   "cell_type": "markdown",
   "metadata": {},
   "source": [
    "## Map variant positions onto 3D structure\n",
    "Here we use the [G2S web service](https://github.com/sbl-sdsc/mmtf-pyspark/blob/master/mmtfPyspark/datasets/g2sDataset.py) to map from genomic location to a position on a PDB structure."
   ]
  },
  {
   "cell_type": "code",
   "execution_count": null,
   "metadata": {},
   "outputs": [],
   "source": [
    "pdb_id = \"3TV4\"\n",
    "chain_id = \"A\"\n",
    "\n",
    "positions = g2sDataset.get_position_dataset(variant_ids, pdb_id, chain_id).cache()\n",
    "positions.toPandas().head(10)"
   ]
  },
  {
   "cell_type": "code",
   "execution_count": null,
   "metadata": {},
   "outputs": [],
   "source": [
    "positions = positions.select(\"structureId\",\"chainId\",\"pdbPosition\",\"pdbAminoAcid\")\\\n",
    "                     .distinct()\\\n",
    "                     .sort(\"pdbPosition\").cache()\n",
    "        \n",
    "positions.toPandas().head(10)"
   ]
  },
  {
   "cell_type": "markdown",
   "metadata": {},
   "source": [
    "#### Extract list of mutated positions"
   ]
  },
  {
   "cell_type": "code",
   "execution_count": null,
   "metadata": {},
   "outputs": [],
   "source": [
    "pdb_positions = positions.select(\"pdbPosition\").rdd.flatMap(lambda x: x).collect()"
   ]
  },
  {
   "cell_type": "markdown",
   "metadata": {},
   "source": [
    "## View location of mutations"
   ]
  },
  {
   "cell_type": "code",
   "execution_count": null,
   "metadata": {},
   "outputs": [],
   "source": [
    "def view_structure_with_mutations(pdb_id, chain_id, group_numbers):\n",
    "    \n",
    "    viewer = py3Dmol.view(query='pdb:' + pdb_id)\n",
    "    viewer.setStyle({})\n",
    "    viewer.setStyle({'chain': chain_id}, {'line': {}})\n",
    "    viewer.setStyle({'chain': chain_id, 'hetflag': True}, {'sphere':{}})\n",
    "    viewer.setStyle({'chain': chain_id, 'resi': group_numbers}, {'stick': {'colorscheme': 'orangeCarbon'}})\n",
    "    viewer.addResLabels({'chain': chain_id, 'resi': group_numbers}, {'fontColor':'black','showBackground': False})\n",
    "    viewer.zoomTo({'chain': chain_id, 'resi': group_numbers})\n",
    "    \n",
    "    return viewer.show()"
   ]
  },
  {
   "cell_type": "code",
   "execution_count": null,
   "metadata": {},
   "outputs": [],
   "source": [
    "view_structure_with_mutations(pdb_id, chain_id, pdb_positions)"
   ]
  },
  {
   "cell_type": "code",
   "execution_count": null,
   "metadata": {},
   "outputs": [],
   "source": [
    "spark.stop()"
   ]
  }
 ],
 "metadata": {
  "kernelspec": {
   "display_name": "Python 3",
   "language": "python",
   "name": "python3"
  },
  "language_info": {
   "codemirror_mode": {
    "name": "ipython",
    "version": 3
   },
   "file_extension": ".py",
   "mimetype": "text/x-python",
   "name": "python",
   "nbconvert_exporter": "python",
   "pygments_lexer": "ipython3",
   "version": "3.6.3"
  }
 },
 "nbformat": 4,
 "nbformat_minor": 2
}
