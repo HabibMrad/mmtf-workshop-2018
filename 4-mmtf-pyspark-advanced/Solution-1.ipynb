{
 "cells": [
  {
   "cell_type": "markdown",
   "metadata": {},
   "source": [
    "# Solution-1\n",
    "This tutorial shows how to identify drug molecules in the PDB by joining two datasets: \n",
    "\n",
    "1. Drug information from DrugBank\n",
    "2. Ligand information from RCSB PDB"
   ]
  },
  {
   "cell_type": "code",
   "execution_count": 1,
   "metadata": {},
   "outputs": [],
   "source": [
    "from pyspark.sql import SparkSession\n",
    "from pyspark.sql.functions import substring_index\n",
    "from mmtfPyspark.datasets import pdbjMineDataset\n",
    "from mmtfPyspark.webfilters import PdbjMineSearch\n",
    "from mmtfPyspark.interactions import InteractionFilter, InteractionFingerprinter\n",
    "from mmtfPyspark.io import mmtfReader\n",
    "from ipywidgets import interact, IntSlider\n",
    "#from IPython.display import Markdown, display\n",
    "import py3Dmol"
   ]
  },
  {
   "cell_type": "markdown",
   "metadata": {},
   "source": [
    "#### Configure Spark"
   ]
  },
  {
   "cell_type": "code",
   "execution_count": 2,
   "metadata": {},
   "outputs": [],
   "source": [
    "spark = SparkSession.builder.master(\"local[4]\").appName(\"2-JoiningDatasets\").getOrCreate()\n",
    "sc = spark.sparkContext"
   ]
  },
  {
   "cell_type": "markdown",
   "metadata": {},
   "source": [
    "##\n",
    "[See examples](https://github.com/sbl-sdsc/mmtf-pyspark/blob/master/demos/datasets/PDBMetaDataDemo.ipynb)\n",
    "[SIFTS demo](https://github.com/sbl-sdsc/mmtf-pyspark/blob/master/demos/datasets/SiftsDataDemo.ipynb)"
   ]
  },
  {
   "cell_type": "markdown",
   "metadata": {},
   "source": [
    "For our first task, we need to run a taxonomy query. To figure out how to query for taxonomy, the command below lists the first 10 entries for the SIFTS taxonomy table. As you can see, we can use the science_name field to query for a specific organism."
   ]
  },
  {
   "cell_type": "code",
   "execution_count": 3,
   "metadata": {},
   "outputs": [
    {
     "name": "stdout",
     "output_type": "stream",
     "text": [
      "+-----+-----+------+--------------------+----------------+\n",
      "|pdbid|chain|tax_id|     scientific_name|structureChainId|\n",
      "+-----+-----+------+--------------------+----------------+\n",
      "| 101M|    A|  9755|               PHYCD|          101M.A|\n",
      "| 101M|    A|  9755|    Physeter catodon|          101M.A|\n",
      "| 101M|    A|  9755|Physeter catodon ...|          101M.A|\n",
      "| 101M|    A|  9755|Physeter catodon ...|          101M.A|\n",
      "| 101M|    A|  9755|Physeter macrocep...|          101M.A|\n",
      "| 101M|    A|  9755|         Sperm whale|          101M.A|\n",
      "| 101M|    A|  9755|         sperm whale|          101M.A|\n",
      "| 102L|    A| 10665|                BPT4|          102L.A|\n",
      "| 102L|    A| 10665|    Bacteriophage T4|          102L.A|\n",
      "| 102L|    A| 10665|Enterobacteria ph...|          102L.A|\n",
      "+-----+-----+------+--------------------+----------------+\n",
      "\n"
     ]
    }
   ],
   "source": [
    "taxonomyQuery = \"SELECT * FROM sifts.pdb_chain_taxonomy LIMIT 10\"\n",
    "taxonomy = pdbjMineDataset.get_dataset(taxonomyQuery)\n",
    "taxonomy.show()"
   ]
  },
  {
   "cell_type": "code",
   "execution_count": 4,
   "metadata": {},
   "outputs": [
    {
     "name": "stdout",
     "output_type": "stream",
     "text": [
      "+-----+-----+------+---------------+----------------+\n",
      "|pdbid|chain|tax_id|scientific_name|structureChainId|\n",
      "+-----+-----+------+---------------+----------------+\n",
      "| 12E8|    H| 10090|   Mus musculus|          12E8.H|\n",
      "| 12E8|    L| 10090|   Mus musculus|          12E8.L|\n",
      "| 12E8|    M| 10090|   Mus musculus|          12E8.M|\n",
      "| 12E8|    P| 10090|   Mus musculus|          12E8.P|\n",
      "| 15C8|    H| 10090|   Mus musculus|          15C8.H|\n",
      "| 15C8|    L| 10090|   Mus musculus|          15C8.L|\n",
      "| 1914|    A| 10090|   Mus musculus|          1914.A|\n",
      "| 1A0Q|    H| 10090|   Mus musculus|          1A0Q.H|\n",
      "| 1A0Q|    L| 10090|   Mus musculus|          1A0Q.L|\n",
      "| 1A14|    H| 10090|   Mus musculus|          1A14.H|\n",
      "+-----+-----+------+---------------+----------------+\n",
      "only showing top 10 rows\n",
      "\n"
     ]
    }
   ],
   "source": [
    "taxonomyQuery = \"SELECT * FROM sifts.pdb_chain_taxonomy WHERE scientific_name = 'Mus musculus'\"\n",
    "taxonomy = pdbjMineDataset.get_dataset(taxonomyQuery)\n",
    "taxonomy.show(10)"
   ]
  },
  {
   "cell_type": "code",
   "execution_count": 5,
   "metadata": {},
   "outputs": [],
   "source": [
    "path = \"../resources/mmtf_full_sample/\"\n",
    "\n",
    "pdb = mmtfReader.read_sequence_file(path, sc, fraction=0.1)"
   ]
  },
  {
   "cell_type": "code",
   "execution_count": 6,
   "metadata": {},
   "outputs": [],
   "source": [
    "pdb = pdb.filter(PdbjMineSearch(taxonomyQuery)).cache()"
   ]
  },
  {
   "cell_type": "code",
   "execution_count": 7,
   "metadata": {},
   "outputs": [],
   "source": [
    "interactionFilter = InteractionFilter(distanceCutoff=4.5, minInteractions=10)\n",
    "\n",
    "interactions = InteractionFingerprinter.get_polymer_interactions(pdb, interactionFilter).cache()"
   ]
  },
  {
   "cell_type": "code",
   "execution_count": 8,
   "metadata": {},
   "outputs": [
    {
     "data": {
      "text/html": [
       "<div>\n",
       "<style scoped>\n",
       "    .dataframe tbody tr th:only-of-type {\n",
       "        vertical-align: middle;\n",
       "    }\n",
       "\n",
       "    .dataframe tbody tr th {\n",
       "        vertical-align: top;\n",
       "    }\n",
       "\n",
       "    .dataframe thead th {\n",
       "        text-align: right;\n",
       "    }\n",
       "</style>\n",
       "<table border=\"1\" class=\"dataframe\">\n",
       "  <thead>\n",
       "    <tr style=\"text-align: right;\">\n",
       "      <th></th>\n",
       "      <th>structureChainId</th>\n",
       "      <th>queryChainId</th>\n",
       "      <th>targetChainId</th>\n",
       "      <th>groupNumbers</th>\n",
       "      <th>sequenceIndices</th>\n",
       "      <th>sequence</th>\n",
       "      <th>structureId</th>\n",
       "    </tr>\n",
       "  </thead>\n",
       "  <tbody>\n",
       "    <tr>\n",
       "      <th>0</th>\n",
       "      <td>4M48.A</td>\n",
       "      <td>H</td>\n",
       "      <td>A</td>\n",
       "      <td>[337, 338, 498, 502, 505, 506, 508, 509, 510, ...</td>\n",
       "      <td>[70, 274, 275, 435, 439, 442, 443, 445, 446, 4...</td>\n",
       "      <td>MNSISDERETWSGKVDFLLSVIGFAVDLANVWRFPYLCYKNGGGAF...</td>\n",
       "      <td>4M48</td>\n",
       "    </tr>\n",
       "    <tr>\n",
       "      <th>1</th>\n",
       "      <td>4M48.H</td>\n",
       "      <td>A</td>\n",
       "      <td>H</td>\n",
       "      <td>[100, 101, 102, 103, 33, 50, 52, 53, 54, 55, 5...</td>\n",
       "      <td>[51, 68, 70, 71, 72, 73, 74, 75, 77, 117, 118,...</td>\n",
       "      <td>MNFGLRLVFLVLILKGVQCEVQLVESGGGLVKPGGSLKLSCAASGF...</td>\n",
       "      <td>4M48</td>\n",
       "    </tr>\n",
       "    <tr>\n",
       "      <th>2</th>\n",
       "      <td>4M48.L</td>\n",
       "      <td>H</td>\n",
       "      <td>L</td>\n",
       "      <td>[117, 119, 120, 122, 124, 125, 128, 132, 134, ...</td>\n",
       "      <td>[53, 54, 56, 58, 60, 64, 65, 66, 68, 71, 72, 1...</td>\n",
       "      <td>MDFQVQIFSFLLISASVAMSRGENVLTQSPAIMSTSPGEKVTMTCR...</td>\n",
       "      <td>4M48</td>\n",
       "    </tr>\n",
       "    <tr>\n",
       "      <th>3</th>\n",
       "      <td>4M48.H</td>\n",
       "      <td>L</td>\n",
       "      <td>H</td>\n",
       "      <td>[102, 103, 104, 105, 106, 107, 109, 110, 128, ...</td>\n",
       "      <td>[55, 57, 61, 62, 63, 64, 65, 68, 77, 79, 80, 1...</td>\n",
       "      <td>MNFGLRLVFLVLILKGVQCEVQLVESGGGLVKPGGSLKLSCAASGF...</td>\n",
       "      <td>4M48</td>\n",
       "    </tr>\n",
       "    <tr>\n",
       "      <th>4</th>\n",
       "      <td>4NN5.A</td>\n",
       "      <td>C</td>\n",
       "      <td>A</td>\n",
       "      <td>[130, 133, 134, 136, 137, 138, 34, 35, 39, 43,...</td>\n",
       "      <td>[14, 15, 19, 23, 31, 32, 33, 34, 35, 36, 37, 3...</td>\n",
       "      <td>YNFSNCNFTSITKIYCNIIFHDLTGDLKGAKFEQIEDCESKPACLL...</td>\n",
       "      <td>4NN5</td>\n",
       "    </tr>\n",
       "    <tr>\n",
       "      <th>5</th>\n",
       "      <td>4NN5.C</td>\n",
       "      <td>A</td>\n",
       "      <td>C</td>\n",
       "      <td>[106, 107, 108, 109, 110, 112, 192, 193, 194, ...</td>\n",
       "      <td>[68, 69, 70, 71, 86, 87, 88, 89, 90, 92, 172, ...</td>\n",
       "      <td>AAAVTSRGDVTVVCHDLETVEVTWGSGPDHHGANLSLEFRYGTGAL...</td>\n",
       "      <td>4NN5</td>\n",
       "    </tr>\n",
       "    <tr>\n",
       "      <th>6</th>\n",
       "      <td>2QDQ.A</td>\n",
       "      <td>B</td>\n",
       "      <td>A</td>\n",
       "      <td>[2497, 2500, 2501, 2504, 2505, 2507, 2508, 251...</td>\n",
       "      <td>[5, 8, 9, 12, 13, 15, 16, 19, 20, 22, 23, 26, ...</td>\n",
       "      <td>GAMVGGIAQIIAAQEEMLRKERELEEARKKLAQIRQQQYKFLPSEL...</td>\n",
       "      <td>2QDQ</td>\n",
       "    </tr>\n",
       "    <tr>\n",
       "      <th>7</th>\n",
       "      <td>2QDQ.B</td>\n",
       "      <td>A</td>\n",
       "      <td>B</td>\n",
       "      <td>[2497, 2500, 2501, 2504, 2505, 2507, 2508, 251...</td>\n",
       "      <td>[5, 8, 9, 12, 13, 15, 16, 19, 20, 22, 23, 26, ...</td>\n",
       "      <td>GAMVGGIAQIIAAQEEMLRKERELEEARKKLAQIRQQQYKFLPSEL...</td>\n",
       "      <td>2QDQ</td>\n",
       "    </tr>\n",
       "    <tr>\n",
       "      <th>8</th>\n",
       "      <td>4P3A.C</td>\n",
       "      <td>D</td>\n",
       "      <td>C</td>\n",
       "      <td>[698, 701, 702, 705, 708, 709, 710, 712, 718, ...</td>\n",
       "      <td>[21, 24, 25, 28, 31, 32, 33, 35, 41, 44, 45, 4...</td>\n",
       "      <td>GANLHLLRQKIEEQAAKYKHSVPKKCCYDGARVNFYETCEERVARV...</td>\n",
       "      <td>4P3A</td>\n",
       "    </tr>\n",
       "    <tr>\n",
       "      <th>9</th>\n",
       "      <td>4P3A.D</td>\n",
       "      <td>C</td>\n",
       "      <td>D</td>\n",
       "      <td>[698, 701, 702, 705, 708, 709, 710, 712, 713, ...</td>\n",
       "      <td>[21, 24, 25, 28, 31, 32, 33, 35, 36, 41, 44, 4...</td>\n",
       "      <td>GANLHLLRQKIEEQAAKYKHSVPKKCCYDGARVNFYETCEERVARV...</td>\n",
       "      <td>4P3A</td>\n",
       "    </tr>\n",
       "  </tbody>\n",
       "</table>\n",
       "</div>"
      ],
      "text/plain": [
       "  structureChainId queryChainId targetChainId  \\\n",
       "0           4M48.A            H             A   \n",
       "1           4M48.H            A             H   \n",
       "2           4M48.L            H             L   \n",
       "3           4M48.H            L             H   \n",
       "4           4NN5.A            C             A   \n",
       "5           4NN5.C            A             C   \n",
       "6           2QDQ.A            B             A   \n",
       "7           2QDQ.B            A             B   \n",
       "8           4P3A.C            D             C   \n",
       "9           4P3A.D            C             D   \n",
       "\n",
       "                                        groupNumbers  \\\n",
       "0  [337, 338, 498, 502, 505, 506, 508, 509, 510, ...   \n",
       "1  [100, 101, 102, 103, 33, 50, 52, 53, 54, 55, 5...   \n",
       "2  [117, 119, 120, 122, 124, 125, 128, 132, 134, ...   \n",
       "3  [102, 103, 104, 105, 106, 107, 109, 110, 128, ...   \n",
       "4  [130, 133, 134, 136, 137, 138, 34, 35, 39, 43,...   \n",
       "5  [106, 107, 108, 109, 110, 112, 192, 193, 194, ...   \n",
       "6  [2497, 2500, 2501, 2504, 2505, 2507, 2508, 251...   \n",
       "7  [2497, 2500, 2501, 2504, 2505, 2507, 2508, 251...   \n",
       "8  [698, 701, 702, 705, 708, 709, 710, 712, 718, ...   \n",
       "9  [698, 701, 702, 705, 708, 709, 710, 712, 713, ...   \n",
       "\n",
       "                                     sequenceIndices  \\\n",
       "0  [70, 274, 275, 435, 439, 442, 443, 445, 446, 4...   \n",
       "1  [51, 68, 70, 71, 72, 73, 74, 75, 77, 117, 118,...   \n",
       "2  [53, 54, 56, 58, 60, 64, 65, 66, 68, 71, 72, 1...   \n",
       "3  [55, 57, 61, 62, 63, 64, 65, 68, 77, 79, 80, 1...   \n",
       "4  [14, 15, 19, 23, 31, 32, 33, 34, 35, 36, 37, 3...   \n",
       "5  [68, 69, 70, 71, 86, 87, 88, 89, 90, 92, 172, ...   \n",
       "6  [5, 8, 9, 12, 13, 15, 16, 19, 20, 22, 23, 26, ...   \n",
       "7  [5, 8, 9, 12, 13, 15, 16, 19, 20, 22, 23, 26, ...   \n",
       "8  [21, 24, 25, 28, 31, 32, 33, 35, 41, 44, 45, 4...   \n",
       "9  [21, 24, 25, 28, 31, 32, 33, 35, 36, 41, 44, 4...   \n",
       "\n",
       "                                            sequence structureId  \n",
       "0  MNSISDERETWSGKVDFLLSVIGFAVDLANVWRFPYLCYKNGGGAF...        4M48  \n",
       "1  MNFGLRLVFLVLILKGVQCEVQLVESGGGLVKPGGSLKLSCAASGF...        4M48  \n",
       "2  MDFQVQIFSFLLISASVAMSRGENVLTQSPAIMSTSPGEKVTMTCR...        4M48  \n",
       "3  MNFGLRLVFLVLILKGVQCEVQLVESGGGLVKPGGSLKLSCAASGF...        4M48  \n",
       "4  YNFSNCNFTSITKIYCNIIFHDLTGDLKGAKFEQIEDCESKPACLL...        4NN5  \n",
       "5  AAAVTSRGDVTVVCHDLETVEVTWGSGPDHHGANLSLEFRYGTGAL...        4NN5  \n",
       "6  GAMVGGIAQIIAAQEEMLRKERELEEARKKLAQIRQQQYKFLPSEL...        2QDQ  \n",
       "7  GAMVGGIAQIIAAQEEMLRKERELEEARKKLAQIRQQQYKFLPSEL...        2QDQ  \n",
       "8  GANLHLLRQKIEEQAAKYKHSVPKKCCYDGARVNFYETCEERVARV...        4P3A  \n",
       "9  GANLHLLRQKIEEQAAKYKHSVPKKCCYDGARVNFYETCEERVARV...        4P3A  "
      ]
     },
     "execution_count": 8,
     "metadata": {},
     "output_type": "execute_result"
    }
   ],
   "source": [
    "interactions = interactions.withColumn(\"structureId\", substring_index(interactions.structureChainId, '.', 1)).cache()\n",
    "interactions.toPandas().head(10)"
   ]
  },
  {
   "cell_type": "markdown",
   "metadata": {},
   "source": [
    "## Visualize drug binding sites"
   ]
  },
  {
   "cell_type": "markdown",
   "metadata": {},
   "source": [
    "#### Extract id columns as lists (required for visualization)"
   ]
  },
  {
   "cell_type": "code",
   "execution_count": 9,
   "metadata": {},
   "outputs": [],
   "source": [
    "structure_ids = interactions.select(\"structureId\").rdd.flatMap(lambda x: x).collect()\n",
    "query_chain_ids = interactions.select(\"queryChainID\").rdd.flatMap(lambda x: x).collect()\n",
    "target_chain_ids = interactions.select(\"targetChainID\").rdd.flatMap(lambda x: x).collect()\n",
    "target_groups = interactions.select(\"groupNumbers\").rdd.flatMap(lambda x: x).collect()\n",
    "#target_groups"
   ]
  },
  {
   "cell_type": "markdown",
   "metadata": {},
   "source": [
    "Disable scrollbar for the visualization below"
   ]
  },
  {
   "cell_type": "code",
   "execution_count": 10,
   "metadata": {},
   "outputs": [
    {
     "data": {
      "application/javascript": [
       "IPython.OutputArea.prototype._should_scroll = function(lines) {return false;}"
      ],
      "text/plain": [
       "<IPython.core.display.Javascript object>"
      ]
     },
     "metadata": {},
     "output_type": "display_data"
    }
   ],
   "source": [
    "%%javascript \n",
    "IPython.OutputArea.prototype._should_scroll = function(lines) {return false;}"
   ]
  },
  {
   "cell_type": "markdown",
   "metadata": {},
   "source": [
    "#### Show protein-protein interactions 4.5 A (query = orange, target = blue)"
   ]
  },
  {
   "cell_type": "code",
   "execution_count": 11,
   "metadata": {},
   "outputs": [],
   "source": [
    "def view_protein_protein_interactions(structure_ids, query_chain_ids, target_chain_ids, target_groups, distance=4.5):\n",
    "    \n",
    "    def view3d(i=0):\n",
    "        \n",
    "        print(f\"PDB: {structure_ids[i]}, query: {query_chain_ids[i]}, target: {target_chain_ids[i]}\")\n",
    "\n",
    "        target = {'chain': target_chain_ids[i], 'resi': target_groups[i]}\n",
    "        query = {'chain': target_chain_ids[i], 'resi': target_groups[i], 'byres': 'true', 'expand': distance}\n",
    "     \n",
    "        viewer = py3Dmol.view(query='pdb:' + structure_ids[i])\n",
    "\n",
    "        viewer.setStyle({'chain': query_chain_ids[i]}, {'line': {'colorscheme': 'orangeCarbon'}})\n",
    "#viewer.setStyle(query, {'sphere': {'colorscheme': 'orangeCarbon'}})\n",
    "        viewer.setStyle({'chain': target_chain_ids[i]}, {'line': {'colorscheme': 'lightblueCarbon'}})\n",
    "        viewer.setStyle(target, {'stick': {'colorscheme': 'lightblueCarbon'}})\n",
    "        viewer.zoomTo(target)\n",
    "\n",
    "        return viewer.show()\n",
    "\n",
    "    s_widget = IntSlider(min=0, max=len(structure_ids)-1, description='Structure', continuous_update=False)\n",
    "    return interact(view3d, i=s_widget)"
   ]
  },
  {
   "cell_type": "code",
   "execution_count": 12,
   "metadata": {
    "scrolled": false
   },
   "outputs": [
    {
     "data": {
      "application/vnd.jupyter.widget-view+json": {
       "model_id": "48ecfa4192964ae287a1baaa38d8adf2",
       "version_major": 2,
       "version_minor": 0
      },
      "text/plain": [
       "interactive(children=(IntSlider(value=0, continuous_update=False, description='Structure', max=43), Output()),…"
      ]
     },
     "metadata": {},
     "output_type": "display_data"
    }
   ],
   "source": [
    "view_protein_protein_interactions(structure_ids, query_chain_ids, target_chain_ids, \\\n",
    "                                  target_groups, distance=4.5);"
   ]
  },
  {
   "cell_type": "code",
   "execution_count": 13,
   "metadata": {},
   "outputs": [],
   "source": [
    "spark.stop()"
   ]
  },
  {
   "cell_type": "code",
   "execution_count": null,
   "metadata": {},
   "outputs": [],
   "source": []
  },
  {
   "cell_type": "code",
   "execution_count": null,
   "metadata": {},
   "outputs": [],
   "source": []
  }
 ],
 "metadata": {
  "kernelspec": {
   "display_name": "Python 3",
   "language": "python",
   "name": "python3"
  },
  "language_info": {
   "codemirror_mode": {
    "name": "ipython",
    "version": 3
   },
   "file_extension": ".py",
   "mimetype": "text/x-python",
   "name": "python",
   "nbconvert_exporter": "python",
   "pygments_lexer": "ipython3",
   "version": "3.6.3"
  }
 },
 "nbformat": 4,
 "nbformat_minor": 2
}
